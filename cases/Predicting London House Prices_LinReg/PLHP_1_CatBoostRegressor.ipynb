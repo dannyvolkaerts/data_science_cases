{
 "cells": [
  {
   "cell_type": "markdown",
   "metadata": {},
   "source": [
    "test, komt later"
   ]
  },
  {
   "cell_type": "code",
   "execution_count": 24,
   "metadata": {},
   "outputs": [],
   "source": [
    "# importeer de benodigde bibliotheken, dan gaat het later sneller \n",
    "import pandas as pd\n",
    "import numpy as np\n",
    "import matplotlib.pyplot as plt\n",
    "import seaborn as sns\n",
    "\n",
    "from kaggle.api.kaggle_api_extended import KaggleApi\n",
    "import os\n",
    "import zipfile\n",
    "from pathlib import Path\n",
    "\n",
    "from sklearn.model_selection import train_test_split, cross_val_score, GridSearchCV, RandomizedSearchCV\n",
    "from sklearn.metrics import mean_absolute_error, mean_squared_error, r2_score\n",
    "from catboost import CatBoostRegressor\n",
    "from tqdm import tqdm_notebook, tqdm\n",
    "\n",
    "import random\n",
    "import warnings\n",
    "\n",
    "\n",
    "# interactieve modus inschakelen en output verbreden\n",
    "%matplotlib inline\n",
    "pd.set_option('display.width', 800)\n",
    "\n",
    "# remove future warnings\n",
    "warnings.simplefilter('ignore')\n",
    "warnings.filterwarnings(\"ignore\")\n",
    "\n",
    "seed = 42\n",
    "\n",
    "api = KaggleApi()\n",
    "api.authenticate()\n",
    "\n",
    "# path settings\n",
    "from pathlib import Path\n",
    "p = Path()\n",
    "download_path = p / 'data'\n",
    "output_path = p / 'output'\n",
    "images_path = p / 'images'\n",
    "\n",
    "# Create the output directory if it does not exist\n",
    "if not os.path.exists(output_path):\n",
    "\t\tos.makedirs(output_path)\n",
    "# Create the images directory if it does not exist\n",
    "if not images_path.exists():\n",
    "\timages_path.mkdir(parents=True, exist_ok=True)\n",
    "\n",
    "# Functie om de output van de gemaakte plots te bewaren\n",
    "def save_fig(fig_name, tight_layout=True, fig_extension=\"png\", resolution=300):\n",
    "    path = images_path / f\"{fig_name}.{fig_extension}\"\n",
    "    if tight_layout:\n",
    "        plt.tight_layout()\n",
    "    plt.savefig(path, format=fig_extension, dpi=resolution)\n"
   ]
  },
  {
   "cell_type": "markdown",
   "metadata": {},
   "source": [
    "## Inlezen dataset"
   ]
  },
  {
   "cell_type": "code",
   "execution_count": 25,
   "metadata": {},
   "outputs": [],
   "source": [
    "train_raw = pd.read_csv('data/train.csv')\n",
    "test = pd.read_csv('data/test.csv')\n",
    "sample_submission = pd.read_csv('data/sample_submission.csv')\n",
    "data = train_raw.copy()"
   ]
  },
  {
   "cell_type": "markdown",
   "metadata": {},
   "source": [
    "## Bestuderen van de data"
   ]
  },
  {
   "cell_type": "code",
   "execution_count": 26,
   "metadata": {},
   "outputs": [
    {
     "name": "stdout",
     "output_type": "stream",
     "text": [
      "<class 'pandas.core.frame.DataFrame'>\n",
      "RangeIndex: 266325 entries, 0 to 266324\n",
      "Data columns (total 17 columns):\n",
      " #   Column               Non-Null Count   Dtype  \n",
      "---  ------               --------------   -----  \n",
      " 0   ID                   266325 non-null  int64  \n",
      " 1   fullAddress          266325 non-null  object \n",
      " 2   postcode             266325 non-null  object \n",
      " 3   country              266325 non-null  object \n",
      " 4   outcode              266325 non-null  object \n",
      " 5   latitude             266325 non-null  float64\n",
      " 6   longitude            266325 non-null  float64\n",
      " 7   bathrooms            217846 non-null  float64\n",
      " 8   bedrooms             241482 non-null  float64\n",
      " 9   floorAreaSqM         252519 non-null  float64\n",
      " 10  livingRooms          229285 non-null  float64\n",
      " 11  tenure               260604 non-null  object \n",
      " 12  propertyType         265817 non-null  object \n",
      " 13  currentEnergyRating  209511 non-null  object \n",
      " 14  sale_month           266325 non-null  int64  \n",
      " 15  sale_year            266325 non-null  int64  \n",
      " 16  price                266325 non-null  int64  \n",
      "dtypes: float64(6), int64(4), object(7)\n",
      "memory usage: 34.5+ MB\n"
     ]
    }
   ],
   "source": [
    "data.info()"
   ]
  },
  {
   "cell_type": "markdown",
   "metadata": {},
   "source": [
    "Functie om NaN-waarden te behandelen     "
   ]
  },
  {
   "cell_type": "code",
   "execution_count": 27,
   "metadata": {},
   "outputs": [],
   "source": [
    "# Functie om NaN-waarden te behandelen\n",
    "\n",
    "# Lijst om kolommen met >50% missende waarden op te slaan\n",
    "cols_to_drop = []\n",
    "\n",
    "def fill_missing_values(df):\n",
    "    for col, missing_count in df.isnull().sum().items():\n",
    "        missing_ratio = missing_count / len(df)\n",
    "        \n",
    "        if 0 < missing_ratio <= 0.5:\n",
    "            if df[col].dtype == object:  # Categorische kolommen\n",
    "                df[col] = df[col].fillna(df[col].mode()[0])\n",
    "            else:  # Numerieke kolommen\n",
    "                df[col] = df[col].fillna(df[col].median())\n",
    "        \n",
    "        elif missing_ratio > 0.5: # meer dan de helft van de waarden ontbreken\n",
    "            cols_to_drop.append(col)\n",
    "\n",
    "# Kolommen met te veel missende waarden verwijderen\n",
    "data = data.drop(columns=cols_to_drop)\n",
    "\n",
    "del cols_to_drop  # Opschoonactie"
   ]
  },
  {
   "cell_type": "markdown",
   "metadata": {},
   "source": [
    "Functie voor het evalueren van een lijst met modellen op basis van statistieken MAE, MSE, RMSE, R² и MAPE.    \n",
    "\n",
    "*Kan ook later ingevoegd worden, maar het is hier waar de magic happens*\n"
   ]
  },
  {
   "cell_type": "code",
   "execution_count": 28,
   "metadata": {},
   "outputs": [],
   "source": [
    "def evaluate_models(models, model_names, X, y) -> pd.DataFrame:\n",
    "\n",
    "    \"\"\"\n",
    "    Functie voor het evalueren van een lijst met modellen op basis van statistieken MAE, MSE, RMSE, R² и MAPE.\n",
    "\n",
    "    Opties:\n",
    "    models (list): Lijst met getrainde modellen\n",
    "    model_names (list): Lijst met genoemde modellen\n",
    "    X (numpy.ndarray): trainingsset, shape (n_samples, n_features)\n",
    "    Y (numpy.ndarray): Target, shape (n_samples,)\n",
    "    \n",
    "    Output:\n",
    "    pandas.DataFrame: Tabel met statistieken voor elk mode\n",
    "    \"\"\"\n",
    "\n",
    "    if len(models) != len(model_names):\n",
    "        raise ValueError(\"Lijsten met modellen en modelnamen moeten dezelfde lengte hebben\")\n",
    "\n",
    "    results = []\n",
    "    for model, name in zip(models, model_names):\n",
    "        y_pred = model.predict(X)\n",
    "        \n",
    "        # Regressiestatistieken berekenen\n",
    "        mae = mean_absolute_error(y, y_pred)\n",
    "        mse = mean_squared_error(y, y_pred)\n",
    "        rmse = np.sqrt(mse)  # root mean squared error\n",
    "        r2 = r2_score(y, y_pred)\n",
    "        \n",
    "        # Gemiddelde absolute procentuele fout (MAPE)\n",
    "        mape = np.mean(np.abs((y - y_pred) / y)) * 100 if np.all(y != 0) else None\n",
    "\n",
    "        results.append({\n",
    "            'Model': name,\n",
    "            'MAE': round(mae, 4),\n",
    "            'MSE': round(mse, 4),\n",
    "            'RMSE': round(rmse, 4),\n",
    "            'R²': round(r2, 4),\n",
    "            'MAPE': round(mape, 4)\n",
    "        }) \n",
    "\n",
    "    results_df = pd.DataFrame(results)\n",
    "\n",
    "    return results_df"
   ]
  },
  {
   "cell_type": "markdown",
   "metadata": {},
   "source": [
    "Om het geheugengebruik te verminderen alle kolommen van een DataFrame doorlopen en besparen waar het kan door het het gegevenstype te wijzigen\n",
    "        "
   ]
  },
  {
   "cell_type": "code",
   "execution_count": 29,
   "metadata": {},
   "outputs": [],
   "source": [
    "def reduce_mem_usage(df: pd.DataFrame) -> pd.DataFrame:\n",
    "    \"\"\" Om het geheugengebruik te verminderen alle kolommen \n",
    "        van een DataFrame doorlopen en besparen waar het kan \n",
    "        door het het gegevenstype te wijzigen\n",
    "    \"\"\"\n",
    "    start_mem = df.memory_usage().sum() / 1024**2\n",
    "    print('Memory usage of dataframe is {:.2f} MB'.format(start_mem))\n",
    "\n",
    "    for col in df.columns:\n",
    "        col_type = df[col].dtype.name\n",
    "\n",
    "\n",
    "        if col_type not in ['object', 'category', 'datetime64[ns, UTC]']:\n",
    "            c_min = df[col].min()\n",
    "            c_max = df[col].max()\n",
    "            if str(col_type)[:3] == 'int':\n",
    "                if c_min > np.iinfo(np.int8).min and c_max < np.iinfo(np.int8).max:\n",
    "                    df[col] = df[col].astype(np.int8)\n",
    "                elif c_min > np.iinfo(np.int16).min and c_max < np.iinfo(np.int16).max:\n",
    "                    df[col] = df[col].astype(np.int16)\n",
    "                elif c_min > np.iinfo(np.int32).min and c_max < np.iinfo(np.int32).max:\n",
    "                    df[col] = df[col].astype(np.int32)\n",
    "                elif c_min > np.iinfo(np.int64).min and c_max < np.iinfo(np.int64).max:\n",
    "                    df[col] = df[col].astype(np.int64)\n",
    "            else:\n",
    "                if c_min > np.finfo(np.float16).min and c_max < np.finfo(np.float16).max:\n",
    "                    df[col] = df[col].astype(np.float16)\n",
    "                elif c_min > np.finfo(np.float32).min and c_max < np.finfo(np.float32).max:\n",
    "                    df[col] = df[col].astype(np.float32)\n",
    "                else:\n",
    "                    df[col] = df[col].astype(np.float64)\n",
    "\n",
    "    end_mem = df.memory_usage().sum() / 1024 ** 2\n",
    "    print('Memory usage after optimization is: {:.2f} MB'.format(end_mem))\n",
    "    print('Decreased by {:.1f}%'.format(100 * (start_mem - end_mem) / start_mem))\n",
    "    return df"
   ]
  },
  {
   "cell_type": "markdown",
   "metadata": {},
   "source": [
    "# Profiling\n",
    "Om een eerste indruk te krijgen over de dataset, maken we gebruik van een profiler.   \n",
    "In het geëxporteerde bestand /output/profiler_1_CBR.html krijg je een mooi overzicht van alle data waaruit deze dataset is opgebouwd.   \n",
    "\n",
    "Belangrijk: dit moet gebeuren vooraleer we de types wijzigen om geheugen te sparen. "
   ]
  },
  {
   "cell_type": "code",
   "execution_count": 30,
   "metadata": {},
   "outputs": [
    {
     "name": "stdout",
     "output_type": "stream",
     "text": [
      "profiler betsaat al. Openen...\n"
     ]
    },
    {
     "data": {
      "text/plain": [
       "True"
      ]
     },
     "execution_count": 30,
     "metadata": {},
     "output_type": "execute_result"
    }
   ],
   "source": [
    "##########################\n",
    "# PROFILER HTML DOCUMENT #\n",
    "##########################\n",
    "\n",
    "from ydata_profiling import ProfileReport\n",
    "import os\n",
    "import webbrowser\n",
    "# controleer of er al een rapport is\n",
    "profiler_file = 'output/profiler_1_CBR.html'\n",
    "if os.path.exists(profiler_file):\n",
    "\tprint(f\"profiler betsaat al. Openen...\")\n",
    "else:\n",
    "\t# Generate the profiling report, kies een goede titel\n",
    "\tprofile = ProfileReport(data, title=\"Baseline London-house-price Report\", explorative=True) # explorative=True om ook de correlaties te zien\n",
    "\n",
    "\t# Create the output directory if it does not exist\n",
    "\toutput_dir = \"output\"\n",
    "\tif not os.path.exists(output_dir):\n",
    "\t\tos.makedirs(output_dir)\n",
    "\n",
    "\t# Save the report as an HTML file\n",
    "\tprofiler_file = \"profiler_1_CBR.html\"\n",
    "\tprofile.to_file(os.path.join(output_dir,profiler_file))\n",
    "\n",
    "\t# Pad naar je bestand\n",
    "\tprofiler_path = os.path.abspath(os.path.join(output_dir, profiler_file))\n",
    "\tprint(f\"profiler gemaakt: {profiler_path}\")\n",
    "\n",
    "# Open het bestand in de standaardbrowser\n",
    "webbrowser.open(f\"file://{profiler_path}\")\n",
    "\n",
    "\n"
   ]
  },
  {
   "cell_type": "markdown",
   "metadata": {},
   "source": [
    "## Hier kan je ook nog een goed beeld krijgen van de data"
   ]
  },
  {
   "cell_type": "code",
   "execution_count": 31,
   "metadata": {},
   "outputs": [
    {
     "name": "stdout",
     "output_type": "stream",
     "text": [
      "Memory usage of dataframe is 34.54 MB\n",
      "Memory usage after optimization is: 20.07 MB\n",
      "Decreased by 41.9%\n",
      "Memory usage of dataframe is 2.02 MB\n",
      "Memory usage after optimization is: 1.18 MB\n",
      "Decreased by 41.4%\n",
      "<class 'pandas.core.frame.DataFrame'>\n",
      "RangeIndex: 266325 entries, 0 to 266324\n",
      "Data columns (total 17 columns):\n",
      " #   Column               Non-Null Count   Dtype  \n",
      "---  ------               --------------   -----  \n",
      " 0   ID                   266325 non-null  int32  \n",
      " 1   fullAddress          266325 non-null  object \n",
      " 2   postcode             266325 non-null  object \n",
      " 3   country              266325 non-null  object \n",
      " 4   outcode              266325 non-null  object \n",
      " 5   latitude             266325 non-null  float16\n",
      " 6   longitude            266325 non-null  float16\n",
      " 7   bathrooms            217846 non-null  float16\n",
      " 8   bedrooms             241482 non-null  float16\n",
      " 9   floorAreaSqM         252519 non-null  float16\n",
      " 10  livingRooms          229285 non-null  float16\n",
      " 11  tenure               260604 non-null  object \n",
      " 12  propertyType         265817 non-null  object \n",
      " 13  currentEnergyRating  209511 non-null  object \n",
      " 14  sale_month           266325 non-null  int8   \n",
      " 15  sale_year            266325 non-null  int16  \n",
      " 16  price                266325 non-null  int32  \n",
      "dtypes: float16(6), int16(1), int32(2), int8(1), object(7)\n",
      "memory usage: 20.1+ MB\n"
     ]
    }
   ],
   "source": [
    "# Uit te voeren als je wat geheugen wilt besparen\n",
    "data = reduce_mem_usage(data)\n",
    "test = reduce_mem_usage(test)\n",
    "data.info() # om te zien wat er gewijzigd werd, let op de int en float types"
   ]
  },
  {
   "cell_type": "code",
   "execution_count": 32,
   "metadata": {},
   "outputs": [
    {
     "data": {
      "text/html": [
       "<div>\n",
       "<style scoped>\n",
       "    .dataframe tbody tr th:only-of-type {\n",
       "        vertical-align: middle;\n",
       "    }\n",
       "\n",
       "    .dataframe tbody tr th {\n",
       "        vertical-align: top;\n",
       "    }\n",
       "\n",
       "    .dataframe thead th {\n",
       "        text-align: right;\n",
       "    }\n",
       "</style>\n",
       "<table border=\"1\" class=\"dataframe\">\n",
       "  <thead>\n",
       "    <tr style=\"text-align: right;\">\n",
       "      <th></th>\n",
       "      <th>ID</th>\n",
       "      <th>latitude</th>\n",
       "      <th>longitude</th>\n",
       "      <th>bathrooms</th>\n",
       "      <th>bedrooms</th>\n",
       "      <th>floorAreaSqM</th>\n",
       "      <th>livingRooms</th>\n",
       "      <th>sale_month</th>\n",
       "      <th>sale_year</th>\n",
       "      <th>price</th>\n",
       "    </tr>\n",
       "  </thead>\n",
       "  <tbody>\n",
       "    <tr>\n",
       "      <th>count</th>\n",
       "      <td>266325.000000</td>\n",
       "      <td>266325.00000</td>\n",
       "      <td>266325.000000</td>\n",
       "      <td>217846.0</td>\n",
       "      <td>241482.0</td>\n",
       "      <td>252519.0</td>\n",
       "      <td>229285.0</td>\n",
       "      <td>266325.000000</td>\n",
       "      <td>266325.000000</td>\n",
       "      <td>2.663250e+05</td>\n",
       "    </tr>\n",
       "    <tr>\n",
       "      <th>mean</th>\n",
       "      <td>133162.000000</td>\n",
       "      <td>NaN</td>\n",
       "      <td>-0.000000</td>\n",
       "      <td>NaN</td>\n",
       "      <td>NaN</td>\n",
       "      <td>NaN</td>\n",
       "      <td>NaN</td>\n",
       "      <td>6.805670</td>\n",
       "      <td>2012.213855</td>\n",
       "      <td>6.161788e+05</td>\n",
       "    </tr>\n",
       "    <tr>\n",
       "      <th>std</th>\n",
       "      <td>76881.549558</td>\n",
       "      <td>0.00000</td>\n",
       "      <td>0.000000</td>\n",
       "      <td>0.0</td>\n",
       "      <td>0.0</td>\n",
       "      <td>NaN</td>\n",
       "      <td>0.0</td>\n",
       "      <td>3.356693</td>\n",
       "      <td>9.143113</td>\n",
       "      <td>1.274105e+06</td>\n",
       "    </tr>\n",
       "    <tr>\n",
       "      <th>min</th>\n",
       "      <td>0.000000</td>\n",
       "      <td>51.37500</td>\n",
       "      <td>-0.347168</td>\n",
       "      <td>1.0</td>\n",
       "      <td>1.0</td>\n",
       "      <td>10.0</td>\n",
       "      <td>1.0</td>\n",
       "      <td>1.000000</td>\n",
       "      <td>1995.000000</td>\n",
       "      <td>1.000000e+04</td>\n",
       "    </tr>\n",
       "    <tr>\n",
       "      <th>25%</th>\n",
       "      <td>66581.000000</td>\n",
       "      <td>51.46875</td>\n",
       "      <td>-0.159180</td>\n",
       "      <td>1.0</td>\n",
       "      <td>2.0</td>\n",
       "      <td>63.0</td>\n",
       "      <td>1.0</td>\n",
       "      <td>4.000000</td>\n",
       "      <td>2004.000000</td>\n",
       "      <td>2.165000e+05</td>\n",
       "    </tr>\n",
       "    <tr>\n",
       "      <th>50%</th>\n",
       "      <td>133162.000000</td>\n",
       "      <td>51.50000</td>\n",
       "      <td>-0.108643</td>\n",
       "      <td>1.0</td>\n",
       "      <td>2.0</td>\n",
       "      <td>85.0</td>\n",
       "      <td>1.0</td>\n",
       "      <td>7.000000</td>\n",
       "      <td>2014.000000</td>\n",
       "      <td>3.850000e+05</td>\n",
       "    </tr>\n",
       "    <tr>\n",
       "      <th>75%</th>\n",
       "      <td>199743.000000</td>\n",
       "      <td>51.56250</td>\n",
       "      <td>-0.049194</td>\n",
       "      <td>2.0</td>\n",
       "      <td>3.0</td>\n",
       "      <td>118.0</td>\n",
       "      <td>1.0</td>\n",
       "      <td>10.000000</td>\n",
       "      <td>2021.000000</td>\n",
       "      <td>6.500000e+05</td>\n",
       "    </tr>\n",
       "    <tr>\n",
       "      <th>max</th>\n",
       "      <td>266324.000000</td>\n",
       "      <td>51.65625</td>\n",
       "      <td>0.139282</td>\n",
       "      <td>9.0</td>\n",
       "      <td>9.0</td>\n",
       "      <td>500.0</td>\n",
       "      <td>9.0</td>\n",
       "      <td>12.000000</td>\n",
       "      <td>2023.000000</td>\n",
       "      <td>1.000000e+08</td>\n",
       "    </tr>\n",
       "  </tbody>\n",
       "</table>\n",
       "</div>"
      ],
      "text/plain": [
       "                  ID      latitude      longitude  bathrooms  bedrooms  floorAreaSqM  livingRooms     sale_month      sale_year         price\n",
       "count  266325.000000  266325.00000  266325.000000   217846.0  241482.0      252519.0     229285.0  266325.000000  266325.000000  2.663250e+05\n",
       "mean   133162.000000           NaN      -0.000000        NaN       NaN           NaN          NaN       6.805670    2012.213855  6.161788e+05\n",
       "std     76881.549558       0.00000       0.000000        0.0       0.0           NaN          0.0       3.356693       9.143113  1.274105e+06\n",
       "min         0.000000      51.37500      -0.347168        1.0       1.0          10.0          1.0       1.000000    1995.000000  1.000000e+04\n",
       "25%     66581.000000      51.46875      -0.159180        1.0       2.0          63.0          1.0       4.000000    2004.000000  2.165000e+05\n",
       "50%    133162.000000      51.50000      -0.108643        1.0       2.0          85.0          1.0       7.000000    2014.000000  3.850000e+05\n",
       "75%    199743.000000      51.56250      -0.049194        2.0       3.0         118.0          1.0      10.000000    2021.000000  6.500000e+05\n",
       "max    266324.000000      51.65625       0.139282        9.0       9.0         500.0          9.0      12.000000    2023.000000  1.000000e+08"
      ]
     },
     "execution_count": 32,
     "metadata": {},
     "output_type": "execute_result"
    }
   ],
   "source": [
    "# Overzicht numerische waarden\n",
    "data.describe()"
   ]
  },
  {
   "cell_type": "code",
   "execution_count": 33,
   "metadata": {},
   "outputs": [
    {
     "data": {
      "text/plain": [
       "ID                         0\n",
       "fullAddress                0\n",
       "postcode                   0\n",
       "country                    0\n",
       "outcode                    0\n",
       "latitude                   0\n",
       "longitude                  0\n",
       "bathrooms              48479\n",
       "bedrooms               24843\n",
       "floorAreaSqM           13806\n",
       "livingRooms            37040\n",
       "tenure                  5721\n",
       "propertyType             508\n",
       "currentEnergyRating    56814\n",
       "sale_month                 0\n",
       "sale_year                  0\n",
       "price                      0\n",
       "dtype: int64"
      ]
     },
     "execution_count": 33,
     "metadata": {},
     "output_type": "execute_result"
    }
   ],
   "source": [
    "# controleren of er nog missende waarden zijn\n",
    "data.isnull().sum() "
   ]
  },
  {
   "cell_type": "code",
   "execution_count": 34,
   "metadata": {},
   "outputs": [
    {
     "data": {
      "text/plain": [
       "ID                        0\n",
       "fullAddress               0\n",
       "postcode                  0\n",
       "country                   0\n",
       "outcode                   0\n",
       "latitude                  0\n",
       "longitude                 0\n",
       "bathrooms              2624\n",
       "bedrooms               1375\n",
       "floorAreaSqM           2006\n",
       "livingRooms            2095\n",
       "tenure                  590\n",
       "propertyType            167\n",
       "currentEnergyRating    1497\n",
       "sale_month                0\n",
       "sale_year                 0\n",
       "dtype: int64"
      ]
     },
     "execution_count": 34,
     "metadata": {},
     "output_type": "execute_result"
    }
   ],
   "source": [
    "# controleren of er nog missende waarden zijn\n",
    "test.isnull().sum()\n"
   ]
  },
  {
   "cell_type": "code",
   "execution_count": 35,
   "metadata": {},
   "outputs": [
    {
     "data": {
      "text/plain": [
       "[('ID', 0),\n",
       " ('fullAddress', 0),\n",
       " ('postcode', 0),\n",
       " ('country', 0),\n",
       " ('outcode', 0),\n",
       " ('latitude', 0),\n",
       " ('longitude', 0),\n",
       " ('bathrooms', 2624),\n",
       " ('bedrooms', 1375),\n",
       " ('floorAreaSqM', 2006),\n",
       " ('livingRooms', 2095),\n",
       " ('tenure', 590),\n",
       " ('propertyType', 167),\n",
       " ('currentEnergyRating', 1497),\n",
       " ('sale_month', 0),\n",
       " ('sale_year', 0)]"
      ]
     },
     "execution_count": 35,
     "metadata": {},
     "output_type": "execute_result"
    }
   ],
   "source": [
    "list(test.isnull().sum().items())"
   ]
  },
  {
   "cell_type": "markdown",
   "metadata": {},
   "source": [
    "## Werk aan de winkel   \n",
    "Zowel voor de **data** als de **test** gaan we de lege waarden als volgt opvullen:     \n",
    "- Als de kolom **categorisch** is: vul de NaN’s met de modale waarde (meest voorkomende waarde).   \n",
    "- Anders (**numeriek**): vul de NaN’s met de mediaan.   \n",
    "\n",
    "Voor kolommen met meer dan helft lege waarden: droppen die handel "
   ]
  },
  {
   "cell_type": "code",
   "execution_count": 36,
   "metadata": {},
   "outputs": [
    {
     "name": "stdout",
     "output_type": "stream",
     "text": [
      "De lege waarden werdenn opgevuld en de kolommen met te veel missende waarden zijn verwijderd\n",
      "De kolommen 'ID' en 'country' zijn verwijderd\n"
     ]
    }
   ],
   "source": [
    "# Missende waarden invullen in test- en train-data en kilommen met te veel lege waarden droppen\n",
    "# alleen uitvoeren indien nog lege waarden\n",
    "if data.isnull().sum().sum() > 0:\n",
    "    fill_missing_values(test)\n",
    "    fill_missing_values(data)\n",
    "    print(f\"De lege waarden werdenn opgevuld en de kolommen met te veel missende waarden zijn verwijderd\")\n",
    "else:\n",
    "    print(\"Er zijn geen missende waarden\")\n",
    "\n",
    "# Onnodige cols schrappen\n",
    "# alleen uitvoeren indien de kolommen nog aanwezig zijn\n",
    "if 'ID' in data.columns:\n",
    "    data = data.drop(columns=['ID', 'country'])\n",
    "    print(f\"De kolommen 'ID' en 'country' zijn verwijderd\")\n",
    "\n"
   ]
  },
  {
   "cell_type": "markdown",
   "metadata": {},
   "source": [
    "## Training time    \n",
    "\n",
    "we kunnen gaan trainen, maar eerst:    \n",
    "Vermits de prijs een extreme skewness heeft, met extreem hoge waarde, ga ik hierop een log-transformatie toepassen "
   ]
  },
  {
   "cell_type": "code",
   "execution_count": 37,
   "metadata": {},
   "outputs": [
    {
     "data": {
      "text/plain": [
       "<Axes: >"
      ]
     },
     "execution_count": 37,
     "metadata": {},
     "output_type": "execute_result"
    },
    {
     "data": {
      "image/png": "[encoded data removed]",
      "text/plain": [
       "<Figure size 640x480 with 1 Axes>"
      ]
     },
     "metadata": {},
     "output_type": "display_data"
    }
   ],
   "source": [
    "data.price = np.log(data.price)\n",
    "data.price.hist()"
   ]
  },
  {
   "cell_type": "code",
   "execution_count": 38,
   "metadata": {},
   "outputs": [],
   "source": [
    "# TRain-Test-Split, let hier op dat we met een validatie set werken (en geen test set)\n",
    "\n",
    "X =  data.drop(columns=['price'])\n",
    "y =  data['price']\n",
    "X_train, X_valid, y_train, y_valid = train_test_split(X, y,\n",
    "    test_size=0.2,\n",
    "    shuffle=True,\n",
    "    random_state=seed\n",
    ")"
   ]
  },
  {
   "cell_type": "markdown",
   "metadata": {},
   "source": [
    "## CatBoostRegressor"
   ]
  },
  {
   "cell_type": "code",
   "execution_count": 39,
   "metadata": {},
   "outputs": [
    {
     "name": "stdout",
     "output_type": "stream",
     "text": [
      "Learning rate set to 0.11816\n",
      "0:\tlearn: 0.8549621\ttest: 0.8510814\tbest: 0.8510814 (0)\ttotal: 691ms\tremaining: 11m 30s\n",
      "100:\tlearn: 0.3653982\ttest: 0.3602122\tbest: 0.3602122 (100)\ttotal: 33.2s\tremaining: 4m 55s\n",
      "200:\tlearn: 0.3513743\ttest: 0.3484890\tbest: 0.3484890 (200)\ttotal: 1m 1s\tremaining: 4m 2s\n",
      "300:\tlearn: 0.3443589\ttest: 0.3437540\tbest: 0.3437540 (300)\ttotal: 1m 28s\tremaining: 3m 24s\n",
      "400:\tlearn: 0.3389735\ttest: 0.3404785\tbest: 0.3404785 (400)\ttotal: 1m 54s\tremaining: 2m 51s\n",
      "500:\tlearn: 0.3349800\ttest: 0.3385307\tbest: 0.3385307 (500)\ttotal: 2m 20s\tremaining: 2m 19s\n",
      "600:\tlearn: 0.3313665\ttest: 0.3367478\tbest: 0.3367478 (600)\ttotal: 2m 46s\tremaining: 1m 50s\n",
      "700:\tlearn: 0.3283464\ttest: 0.3355754\tbest: 0.3355754 (700)\ttotal: 3m 12s\tremaining: 1m 22s\n",
      "800:\tlearn: 0.3255823\ttest: 0.3344802\tbest: 0.3344798 (797)\ttotal: 3m 38s\tremaining: 54.3s\n",
      "900:\tlearn: 0.3231823\ttest: 0.3336236\tbest: 0.3336135 (898)\ttotal: 4m 3s\tremaining: 26.8s\n",
      "999:\tlearn: 0.3208530\ttest: 0.3328406\tbest: 0.3328406 (999)\ttotal: 4m 28s\tremaining: 0us\n",
      "\n",
      "bestTest = 0.3328406282\n",
      "bestIteration = 999\n",
      "\n"
     ]
    },
    {
     "data": {
      "text/plain": [
       "<catboost.core.CatBoostRegressor at 0x2d09b93e9b0>"
      ]
     },
     "execution_count": 39,
     "metadata": {},
     "output_type": "execute_result"
    }
   ],
   "source": [
    "cbr = CatBoostRegressor(\n",
    "    use_best_model=True,\n",
    "    random_state=seed,\n",
    "    verbose=100 # to see the progress, but not all\n",
    ")\n",
    "cbr.fit(\n",
    "    X_train,\n",
    "    y_train,\n",
    "    eval_set=(X_valid, y_valid),\n",
    "    cat_features=['postcode', 'outcode', 'tenure', 'propertyType', 'currentEnergyRating'],\n",
    "    text_features=['fullAddress'],\n",
    "    early_stopping_rounds=128\n",
    ")"
   ]
  },
  {
   "cell_type": "code",
   "execution_count": 40,
   "metadata": {},
   "outputs": [
    {
     "data": {
      "text/html": [
       "<div>\n",
       "<style scoped>\n",
       "    .dataframe tbody tr th:only-of-type {\n",
       "        vertical-align: middle;\n",
       "    }\n",
       "\n",
       "    .dataframe tbody tr th {\n",
       "        vertical-align: top;\n",
       "    }\n",
       "\n",
       "    .dataframe thead th {\n",
       "        text-align: right;\n",
       "    }\n",
       "</style>\n",
       "<table border=\"1\" class=\"dataframe\">\n",
       "  <thead>\n",
       "    <tr style=\"text-align: right;\">\n",
       "      <th></th>\n",
       "      <th>Model</th>\n",
       "      <th>MAE</th>\n",
       "      <th>MSE</th>\n",
       "      <th>RMSE</th>\n",
       "      <th>R²</th>\n",
       "      <th>MAPE</th>\n",
       "    </tr>\n",
       "  </thead>\n",
       "  <tbody>\n",
       "    <tr>\n",
       "      <th>0</th>\n",
       "      <td>CatBoostRegressor</td>\n",
       "      <td>0.1994</td>\n",
       "      <td>0.1108</td>\n",
       "      <td>0.3328</td>\n",
       "      <td>0.8704</td>\n",
       "      <td>1.5739</td>\n",
       "    </tr>\n",
       "  </tbody>\n",
       "</table>\n",
       "</div>"
      ],
      "text/plain": [
       "               Model     MAE     MSE    RMSE      R²    MAPE\n",
       "0  CatBoostRegressor  0.1994  0.1108  0.3328  0.8704  1.5739"
      ]
     },
     "execution_count": 40,
     "metadata": {},
     "output_type": "execute_result"
    }
   ],
   "source": [
    "evaluate_models(\n",
    "    [cbr],\n",
    "    ['CatBoostRegressor'],\n",
    "    X_valid, y_valid\n",
    ")"
   ]
  },
  {
   "cell_type": "markdown",
   "metadata": {},
   "source": [
    "## Als we klaar zijn, kunnen we het resultaat indienen    "
   ]
  },
  {
   "cell_type": "code",
   "execution_count": 41,
   "metadata": {},
   "outputs": [],
   "source": [
    "y_pred_log = cbr.predict(test[X_train.columns.tolist()])\n",
    "y_pred = np.round(np.expm1(y_pred_log),0).astype(int)\n"
   ]
  },
  {
   "cell_type": "code",
   "execution_count": 42,
   "metadata": {},
   "outputs": [
    {
     "data": {
      "text/html": [
       "<div>\n",
       "<style scoped>\n",
       "    .dataframe tbody tr th:only-of-type {\n",
       "        vertical-align: middle;\n",
       "    }\n",
       "\n",
       "    .dataframe tbody tr th {\n",
       "        vertical-align: top;\n",
       "    }\n",
       "\n",
       "    .dataframe thead th {\n",
       "        text-align: right;\n",
       "    }\n",
       "</style>\n",
       "<table border=\"1\" class=\"dataframe\">\n",
       "  <thead>\n",
       "    <tr style=\"text-align: right;\">\n",
       "      <th></th>\n",
       "      <th>ID</th>\n",
       "      <th>price</th>\n",
       "    </tr>\n",
       "  </thead>\n",
       "  <tbody>\n",
       "    <tr>\n",
       "      <th>0</th>\n",
       "      <td>266325</td>\n",
       "      <td>426191</td>\n",
       "    </tr>\n",
       "    <tr>\n",
       "      <th>1</th>\n",
       "      <td>266326</td>\n",
       "      <td>364831</td>\n",
       "    </tr>\n",
       "    <tr>\n",
       "      <th>2</th>\n",
       "      <td>266327</td>\n",
       "      <td>262899</td>\n",
       "    </tr>\n",
       "    <tr>\n",
       "      <th>3</th>\n",
       "      <td>266328</td>\n",
       "      <td>381452</td>\n",
       "    </tr>\n",
       "    <tr>\n",
       "      <th>4</th>\n",
       "      <td>266329</td>\n",
       "      <td>448172</td>\n",
       "    </tr>\n",
       "    <tr>\n",
       "      <th>...</th>\n",
       "      <td>...</td>\n",
       "      <td>...</td>\n",
       "    </tr>\n",
       "    <tr>\n",
       "      <th>16542</th>\n",
       "      <td>282867</td>\n",
       "      <td>302729</td>\n",
       "    </tr>\n",
       "    <tr>\n",
       "      <th>16543</th>\n",
       "      <td>282868</td>\n",
       "      <td>302729</td>\n",
       "    </tr>\n",
       "    <tr>\n",
       "      <th>16544</th>\n",
       "      <td>282869</td>\n",
       "      <td>385624</td>\n",
       "    </tr>\n",
       "    <tr>\n",
       "      <th>16545</th>\n",
       "      <td>282870</td>\n",
       "      <td>875268</td>\n",
       "    </tr>\n",
       "    <tr>\n",
       "      <th>16546</th>\n",
       "      <td>282871</td>\n",
       "      <td>418720</td>\n",
       "    </tr>\n",
       "  </tbody>\n",
       "</table>\n",
       "<p>16547 rows × 2 columns</p>\n",
       "</div>"
      ],
      "text/plain": [
       "           ID   price\n",
       "0      266325  426191\n",
       "1      266326  364831\n",
       "2      266327  262899\n",
       "3      266328  381452\n",
       "4      266329  448172\n",
       "...       ...     ...\n",
       "16542  282867  302729\n",
       "16543  282868  302729\n",
       "16544  282869  385624\n",
       "16545  282870  875268\n",
       "16546  282871  418720\n",
       "\n",
       "[16547 rows x 2 columns]"
      ]
     },
     "execution_count": 42,
     "metadata": {},
     "output_type": "execute_result"
    }
   ],
   "source": [
    "# nodig om het resultaat in te dienen\n",
    "sub = sample_submission.copy()\n",
    "sub['price'] = y_pred\n",
    "sub.to_csv('output/submission_cbr_log.csv', index=False)\n",
    "sub"
   ]
  }
 ],
 "metadata": {
  "kernelspec": {
   "display_name": "homl3",
   "language": "python",
   "name": "python3"
  },
  "language_info": {
   "codemirror_mode": {
    "name": "ipython",
    "version": 3
   },
   "file_extension": ".py",
   "mimetype": "text/x-python",
   "name": "python",
   "nbconvert_exporter": "python",
   "pygments_lexer": "ipython3",
   "version": "3.10.16"
  }
 },
 "nbformat": 4,
 "nbformat_minor": 2
}
