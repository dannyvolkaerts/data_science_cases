{
 "cells": [
  {
   "cell_type": "markdown",
   "id": "15607f37",
   "metadata": {},
   "source": [
    "Aynur Rahimova"
   ]
  },
  {
   "cell_type": "markdown",
   "id": "4140fd16",
   "metadata": {},
   "source": [
    "https://www.kaggle.com/code/santoshraii/spotify-50-songs-prediction"
   ]
  },
  {
   "cell_type": "markdown",
   "metadata": {},
   "source": []
  },
  {
   "cell_type": "code",
   "execution_count": 1,
   "id": "aeb179ef",
   "metadata": {
    "_cell_guid": "b1076dfc-b9ad-4769-8c92-a6c4dae69d19",
    "_uuid": "8f2839f25d086af736a60e9eeb907d3b93b6e0e5",
    "execution": {
     "iopub.execute_input": "2023-12-25T11:45:50.338804Z",
     "iopub.status.busy": "2023-12-25T11:45:50.338304Z",
     "iopub.status.idle": "2023-12-25T11:45:50.848652Z",
     "shell.execute_reply": "2023-12-25T11:45:50.847782Z"
    },
    "papermill": {
     "duration": 0.525253,
     "end_time": "2023-12-25T11:45:50.851317",
     "exception": false,
     "start_time": "2023-12-25T11:45:50.326064",
     "status": "completed"
    },
    "tags": []
   },
   "outputs": [],
   "source": [
    "# This Python 3 environment comes with many helpful analytics libraries installed\n",
    "# It is defined by the kaggle/python Docker image: https://github.com/kaggle/docker-python\n",
    "# For example, here's several helpful packages to load\n",
    "\n",
    "import numpy as np # linear algebra\n",
    "import pandas as pd # data processing, CSV file I/O (e.g. pd.read_csv)\n",
    "\n",
    "# Input data files are available in the read-only \"../input/\" directory\n",
    "# For example, running this (by clicking run or pressing Shift+Enter) will list all files under the input directory\n",
    "\n",
    "import os\n",
    "for dirname, _, filenames in os.walk('/kaggle/input'):\n",
    "    for filename in filenames:\n",
    "        print(os.path.join(dirname, filename))\n",
    "\n",
    "# You can write up to 20GB to the current directory (/kaggle/working/) that gets preserved as output when you create a version using \"Save & Run All\" \n",
    "# You can also write temporary files to /kaggle/temp/, but they won't be saved outside of the current session"
   ]
  },
  {
   "cell_type": "markdown",
   "id": "2ba382e7",
   "metadata": {
    "papermill": {
     "duration": 0.009266,
     "end_time": "2023-12-25T11:45:50.870421",
     "exception": false,
     "start_time": "2023-12-25T11:45:50.861155",
     "status": "completed"
    },
    "tags": []
   },
   "source": [
    "Given data is about the top 50 songs of 2019 .let us try to predict that a song will be more popular or less.\n",
    "\n",
    "we will be using different model for predict "
   ]
  },
  {
   "cell_type": "code",
   "execution_count": 33,
   "id": "925ef577",
   "metadata": {
    "execution": {
     "iopub.execute_input": "2023-12-25T11:45:50.892866Z",
     "iopub.status.busy": "2023-12-25T11:45:50.891756Z",
     "iopub.status.idle": "2023-12-25T11:45:53.536381Z",
     "shell.execute_reply": "2023-12-25T11:45:53.535387Z"
    },
    "papermill": {
     "duration": 2.659133,
     "end_time": "2023-12-25T11:45:53.539238",
     "exception": false,
     "start_time": "2023-12-25T11:45:50.880105",
     "status": "completed"
    },
    "tags": []
   },
   "outputs": [],
   "source": [
    "import plotly.express as px\n",
    "import seaborn as sns           \n",
    "import matplotlib.pyplot as plt \n",
    "\n",
    "from sklearn.preprocessing import StandardScaler\n",
    "from sklearn.model_selection import train_test_split, cross_val_score, KFold\n",
    "\n",
    "from sklearn.linear_model import LogisticRegression\n",
    "from sklearn.neighbors import KNeighborsClassifier\n",
    "from sklearn.tree import DecisionTreeClassifier\n",
    "from sklearn.neural_network import MLPClassifier\n",
    "from sklearn.svm import SVC\n",
    "from sklearn.metrics import f1_score"
   ]
  },
  {
   "cell_type": "code",
   "execution_count": 3,
   "id": "ff80fa81",
   "metadata": {
    "execution": {
     "iopub.execute_input": "2023-12-25T11:45:53.561472Z",
     "iopub.status.busy": "2023-12-25T11:45:53.560427Z",
     "iopub.status.idle": "2023-12-25T11:45:53.591163Z",
     "shell.execute_reply": "2023-12-25T11:45:53.589770Z"
    },
    "papermill": {
     "duration": 0.045195,
     "end_time": "2023-12-25T11:45:53.594202",
     "exception": false,
     "start_time": "2023-12-25T11:45:53.549007",
     "status": "completed"
    },
    "tags": []
   },
   "outputs": [],
   "source": [
    "data = pd.read_csv(\"C:/Users/Cursist/handson-ml3/spot_song_pred/top50.csv\",encoding='latin-1')"
   ]
  },
  {
   "cell_type": "code",
   "execution_count": 4,
   "id": "f43771a6",
   "metadata": {},
   "outputs": [
    {
     "data": {
      "text/html": [
       "<div>\n",
       "<style scoped>\n",
       "    .dataframe tbody tr th:only-of-type {\n",
       "        vertical-align: middle;\n",
       "    }\n",
       "\n",
       "    .dataframe tbody tr th {\n",
       "        vertical-align: top;\n",
       "    }\n",
       "\n",
       "    .dataframe thead th {\n",
       "        text-align: right;\n",
       "    }\n",
       "</style>\n",
       "<table border=\"1\" class=\"dataframe\">\n",
       "  <thead>\n",
       "    <tr style=\"text-align: right;\">\n",
       "      <th></th>\n",
       "      <th>Unnamed: 0</th>\n",
       "      <th>Track.Name</th>\n",
       "      <th>Artist.Name</th>\n",
       "      <th>Genre</th>\n",
       "      <th>Beats.Per.Minute</th>\n",
       "      <th>Energy</th>\n",
       "      <th>Danceability</th>\n",
       "      <th>Loudness..dB..</th>\n",
       "      <th>Liveness</th>\n",
       "      <th>Valence.</th>\n",
       "      <th>Length.</th>\n",
       "      <th>Acousticness..</th>\n",
       "      <th>Speechiness.</th>\n",
       "      <th>Popularity</th>\n",
       "    </tr>\n",
       "  </thead>\n",
       "  <tbody>\n",
       "    <tr>\n",
       "      <th>0</th>\n",
       "      <td>1</td>\n",
       "      <td>Señorita</td>\n",
       "      <td>Shawn Mendes</td>\n",
       "      <td>canadian pop</td>\n",
       "      <td>117</td>\n",
       "      <td>55</td>\n",
       "      <td>76</td>\n",
       "      <td>-6</td>\n",
       "      <td>8</td>\n",
       "      <td>75</td>\n",
       "      <td>191</td>\n",
       "      <td>4</td>\n",
       "      <td>3</td>\n",
       "      <td>79</td>\n",
       "    </tr>\n",
       "    <tr>\n",
       "      <th>1</th>\n",
       "      <td>2</td>\n",
       "      <td>China</td>\n",
       "      <td>Anuel AA</td>\n",
       "      <td>reggaeton flow</td>\n",
       "      <td>105</td>\n",
       "      <td>81</td>\n",
       "      <td>79</td>\n",
       "      <td>-4</td>\n",
       "      <td>8</td>\n",
       "      <td>61</td>\n",
       "      <td>302</td>\n",
       "      <td>8</td>\n",
       "      <td>9</td>\n",
       "      <td>92</td>\n",
       "    </tr>\n",
       "    <tr>\n",
       "      <th>2</th>\n",
       "      <td>3</td>\n",
       "      <td>boyfriend (with Social House)</td>\n",
       "      <td>Ariana Grande</td>\n",
       "      <td>dance pop</td>\n",
       "      <td>190</td>\n",
       "      <td>80</td>\n",
       "      <td>40</td>\n",
       "      <td>-4</td>\n",
       "      <td>16</td>\n",
       "      <td>70</td>\n",
       "      <td>186</td>\n",
       "      <td>12</td>\n",
       "      <td>46</td>\n",
       "      <td>85</td>\n",
       "    </tr>\n",
       "    <tr>\n",
       "      <th>3</th>\n",
       "      <td>4</td>\n",
       "      <td>Beautiful People (feat. Khalid)</td>\n",
       "      <td>Ed Sheeran</td>\n",
       "      <td>pop</td>\n",
       "      <td>93</td>\n",
       "      <td>65</td>\n",
       "      <td>64</td>\n",
       "      <td>-8</td>\n",
       "      <td>8</td>\n",
       "      <td>55</td>\n",
       "      <td>198</td>\n",
       "      <td>12</td>\n",
       "      <td>19</td>\n",
       "      <td>86</td>\n",
       "    </tr>\n",
       "    <tr>\n",
       "      <th>4</th>\n",
       "      <td>5</td>\n",
       "      <td>Goodbyes (Feat. Young Thug)</td>\n",
       "      <td>Post Malone</td>\n",
       "      <td>dfw rap</td>\n",
       "      <td>150</td>\n",
       "      <td>65</td>\n",
       "      <td>58</td>\n",
       "      <td>-4</td>\n",
       "      <td>11</td>\n",
       "      <td>18</td>\n",
       "      <td>175</td>\n",
       "      <td>45</td>\n",
       "      <td>7</td>\n",
       "      <td>94</td>\n",
       "    </tr>\n",
       "  </tbody>\n",
       "</table>\n",
       "</div>"
      ],
      "text/plain": [
       "   Unnamed: 0                       Track.Name    Artist.Name           Genre  \\\n",
       "0           1                         Señorita   Shawn Mendes    canadian pop   \n",
       "1           2                            China       Anuel AA  reggaeton flow   \n",
       "2           3    boyfriend (with Social House)  Ariana Grande       dance pop   \n",
       "3           4  Beautiful People (feat. Khalid)     Ed Sheeran             pop   \n",
       "4           5      Goodbyes (Feat. Young Thug)    Post Malone         dfw rap   \n",
       "\n",
       "   Beats.Per.Minute  Energy  Danceability  Loudness..dB..  Liveness  Valence.  \\\n",
       "0               117      55            76              -6         8        75   \n",
       "1               105      81            79              -4         8        61   \n",
       "2               190      80            40              -4        16        70   \n",
       "3                93      65            64              -8         8        55   \n",
       "4               150      65            58              -4        11        18   \n",
       "\n",
       "   Length.  Acousticness..  Speechiness.  Popularity  \n",
       "0      191               4             3          79  \n",
       "1      302               8             9          92  \n",
       "2      186              12            46          85  \n",
       "3      198              12            19          86  \n",
       "4      175              45             7          94  "
      ]
     },
     "execution_count": 4,
     "metadata": {},
     "output_type": "execute_result"
    }
   ],
   "source": [
    "data.head()"
   ]
  },
  {
   "cell_type": "code",
   "execution_count": 5,
   "id": "589147eb",
   "metadata": {
    "execution": {
     "iopub.execute_input": "2023-12-25T11:45:53.688906Z",
     "iopub.status.busy": "2023-12-25T11:45:53.688429Z",
     "iopub.status.idle": "2023-12-25T11:45:53.718349Z",
     "shell.execute_reply": "2023-12-25T11:45:53.716721Z"
    },
    "papermill": {
     "duration": 0.046569,
     "end_time": "2023-12-25T11:45:53.721501",
     "exception": false,
     "start_time": "2023-12-25T11:45:53.674932",
     "status": "completed"
    },
    "tags": []
   },
   "outputs": [
    {
     "name": "stdout",
     "output_type": "stream",
     "text": [
      "<class 'pandas.core.frame.DataFrame'>\n",
      "RangeIndex: 50 entries, 0 to 49\n",
      "Data columns (total 14 columns):\n",
      " #   Column            Non-Null Count  Dtype \n",
      "---  ------            --------------  ----- \n",
      " 0   Unnamed: 0        50 non-null     int64 \n",
      " 1   Track.Name        50 non-null     object\n",
      " 2   Artist.Name       50 non-null     object\n",
      " 3   Genre             50 non-null     object\n",
      " 4   Beats.Per.Minute  50 non-null     int64 \n",
      " 5   Energy            50 non-null     int64 \n",
      " 6   Danceability      50 non-null     int64 \n",
      " 7   Loudness..dB..    50 non-null     int64 \n",
      " 8   Liveness          50 non-null     int64 \n",
      " 9   Valence.          50 non-null     int64 \n",
      " 10  Length.           50 non-null     int64 \n",
      " 11  Acousticness..    50 non-null     int64 \n",
      " 12  Speechiness.      50 non-null     int64 \n",
      " 13  Popularity        50 non-null     int64 \n",
      "dtypes: int64(11), object(3)\n",
      "memory usage: 5.6+ KB\n"
     ]
    }
   ],
   "source": [
    "data.info()"
   ]
  },
  {
   "cell_type": "markdown",
   "id": "3bfe3f32",
   "metadata": {
    "papermill": {
     "duration": 0.011312,
     "end_time": "2023-12-25T11:45:53.744779",
     "exception": false,
     "start_time": "2023-12-25T11:45:53.733467",
     "status": "completed"
    },
    "tags": []
   },
   "source": [
    "Preprocessing"
   ]
  },
  {
   "cell_type": "code",
   "execution_count": 6,
   "id": "45da1f05",
   "metadata": {},
   "outputs": [
    {
     "name": "stdout",
     "output_type": "stream",
     "text": [
      "Empty DataFrame\n",
      "Columns: [Unnamed: 0, Track.Name, Artist.Name, Genre, Beats.Per.Minute, Energy, Danceability, Loudness..dB.., Liveness, Valence., Length., Acousticness.., Speechiness., Popularity]\n",
      "Index: []\n"
     ]
    }
   ],
   "source": [
    "# me # checking duplicate rows\n",
    "duplicate_rows = data.duplicated()\n",
    "duplicates = data[duplicate_rows]\n",
    "print(duplicates)"
   ]
  },
  {
   "cell_type": "code",
   "execution_count": 7,
   "id": "4cdf30b9",
   "metadata": {
    "execution": {
     "iopub.execute_input": "2023-12-25T11:45:53.770462Z",
     "iopub.status.busy": "2023-12-25T11:45:53.770030Z",
     "iopub.status.idle": "2023-12-25T11:45:53.781311Z",
     "shell.execute_reply": "2023-12-25T11:45:53.779968Z"
    },
    "papermill": {
     "duration": 0.027526,
     "end_time": "2023-12-25T11:45:53.783999",
     "exception": false,
     "start_time": "2023-12-25T11:45:53.756473",
     "status": "completed"
    },
    "tags": []
   },
   "outputs": [],
   "source": [
    "data = data.drop([\"Unnamed: 0\",\"Track.Name\"],axis=1)"
   ]
  },
  {
   "cell_type": "code",
   "execution_count": 8,
   "id": "b924b71c",
   "metadata": {
    "execution": {
     "iopub.execute_input": "2023-12-25T11:45:53.809921Z",
     "iopub.status.busy": "2023-12-25T11:45:53.809467Z",
     "iopub.status.idle": "2023-12-25T11:45:53.840537Z",
     "shell.execute_reply": "2023-12-25T11:45:53.839046Z"
    },
    "papermill": {
     "duration": 0.048506,
     "end_time": "2023-12-25T11:45:53.844379",
     "exception": false,
     "start_time": "2023-12-25T11:45:53.795873",
     "status": "completed"
    },
    "tags": []
   },
   "outputs": [
    {
     "data": {
      "text/html": [
       "<div>\n",
       "<style scoped>\n",
       "    .dataframe tbody tr th:only-of-type {\n",
       "        vertical-align: middle;\n",
       "    }\n",
       "\n",
       "    .dataframe tbody tr th {\n",
       "        vertical-align: top;\n",
       "    }\n",
       "\n",
       "    .dataframe thead th {\n",
       "        text-align: right;\n",
       "    }\n",
       "</style>\n",
       "<table border=\"1\" class=\"dataframe\">\n",
       "  <thead>\n",
       "    <tr style=\"text-align: right;\">\n",
       "      <th></th>\n",
       "      <th>Artist.Name</th>\n",
       "      <th>Genre</th>\n",
       "      <th>Beats.Per.Minute</th>\n",
       "      <th>Energy</th>\n",
       "      <th>Danceability</th>\n",
       "      <th>Loudness..dB..</th>\n",
       "      <th>Liveness</th>\n",
       "      <th>Valence.</th>\n",
       "      <th>Length.</th>\n",
       "      <th>Acousticness..</th>\n",
       "      <th>Speechiness.</th>\n",
       "      <th>Popularity</th>\n",
       "    </tr>\n",
       "  </thead>\n",
       "  <tbody>\n",
       "    <tr>\n",
       "      <th>0</th>\n",
       "      <td>Shawn Mendes</td>\n",
       "      <td>canadian pop</td>\n",
       "      <td>117</td>\n",
       "      <td>55</td>\n",
       "      <td>76</td>\n",
       "      <td>-6</td>\n",
       "      <td>8</td>\n",
       "      <td>75</td>\n",
       "      <td>191</td>\n",
       "      <td>4</td>\n",
       "      <td>3</td>\n",
       "      <td>79</td>\n",
       "    </tr>\n",
       "    <tr>\n",
       "      <th>1</th>\n",
       "      <td>Anuel AA</td>\n",
       "      <td>reggaeton flow</td>\n",
       "      <td>105</td>\n",
       "      <td>81</td>\n",
       "      <td>79</td>\n",
       "      <td>-4</td>\n",
       "      <td>8</td>\n",
       "      <td>61</td>\n",
       "      <td>302</td>\n",
       "      <td>8</td>\n",
       "      <td>9</td>\n",
       "      <td>92</td>\n",
       "    </tr>\n",
       "    <tr>\n",
       "      <th>2</th>\n",
       "      <td>Ariana Grande</td>\n",
       "      <td>dance pop</td>\n",
       "      <td>190</td>\n",
       "      <td>80</td>\n",
       "      <td>40</td>\n",
       "      <td>-4</td>\n",
       "      <td>16</td>\n",
       "      <td>70</td>\n",
       "      <td>186</td>\n",
       "      <td>12</td>\n",
       "      <td>46</td>\n",
       "      <td>85</td>\n",
       "    </tr>\n",
       "    <tr>\n",
       "      <th>3</th>\n",
       "      <td>Ed Sheeran</td>\n",
       "      <td>pop</td>\n",
       "      <td>93</td>\n",
       "      <td>65</td>\n",
       "      <td>64</td>\n",
       "      <td>-8</td>\n",
       "      <td>8</td>\n",
       "      <td>55</td>\n",
       "      <td>198</td>\n",
       "      <td>12</td>\n",
       "      <td>19</td>\n",
       "      <td>86</td>\n",
       "    </tr>\n",
       "    <tr>\n",
       "      <th>4</th>\n",
       "      <td>Post Malone</td>\n",
       "      <td>dfw rap</td>\n",
       "      <td>150</td>\n",
       "      <td>65</td>\n",
       "      <td>58</td>\n",
       "      <td>-4</td>\n",
       "      <td>11</td>\n",
       "      <td>18</td>\n",
       "      <td>175</td>\n",
       "      <td>45</td>\n",
       "      <td>7</td>\n",
       "      <td>94</td>\n",
       "    </tr>\n",
       "  </tbody>\n",
       "</table>\n",
       "</div>"
      ],
      "text/plain": [
       "     Artist.Name           Genre  Beats.Per.Minute  Energy  Danceability  \\\n",
       "0   Shawn Mendes    canadian pop               117      55            76   \n",
       "1       Anuel AA  reggaeton flow               105      81            79   \n",
       "2  Ariana Grande       dance pop               190      80            40   \n",
       "3     Ed Sheeran             pop                93      65            64   \n",
       "4    Post Malone         dfw rap               150      65            58   \n",
       "\n",
       "   Loudness..dB..  Liveness  Valence.  Length.  Acousticness..  Speechiness.  \\\n",
       "0              -6         8        75      191               4             3   \n",
       "1              -4         8        61      302               8             9   \n",
       "2              -4        16        70      186              12            46   \n",
       "3              -8         8        55      198              12            19   \n",
       "4              -4        11        18      175              45             7   \n",
       "\n",
       "   Popularity  \n",
       "0          79  \n",
       "1          92  \n",
       "2          85  \n",
       "3          86  \n",
       "4          94  "
      ]
     },
     "execution_count": 8,
     "metadata": {},
     "output_type": "execute_result"
    }
   ],
   "source": [
    "data.head()"
   ]
  },
  {
   "cell_type": "markdown",
   "id": "784b5fee",
   "metadata": {
    "papermill": {
     "duration": 0.012938,
     "end_time": "2023-12-25T11:45:53.870876",
     "exception": false,
     "start_time": "2023-12-25T11:45:53.857938",
     "status": "completed"
    },
    "tags": []
   },
   "source": [
    ".Now we divide the popularity column into two part using    quantile cut of pandas \n",
    "\n",
    ".Reason we use quantile cut is because it divibe the data   based on the distribution of data rather than just dividing it into two part.\n",
    "\n",
    "Label it as less popular or more popular."
   ]
  },
  {
   "cell_type": "code",
   "execution_count": 9,
   "id": "5a0ca26e",
   "metadata": {},
   "outputs": [
    {
     "data": {
      "text/plain": [
       "Text(0.5, 1.0, 'Correlation Matrix for Data')"
      ]
     },
     "execution_count": 9,
     "metadata": {},
     "output_type": "execute_result"
    },
    {
     "data": {
      "image/png": "[encoded data removed]",
      "text/plain": [
       "<Figure size 640x480 with 2 Axes>"
      ]
     },
     "metadata": {},
     "output_type": "display_data"
    }
   ],
   "source": [
    "# me #correlation matrix\n",
    "num_features = data[[\"Beats.Per.Minute\", \"Energy\", \"Danceability\", \"Loudness..dB..\", \"Liveness\", \"Valence.\", \"Length.\", \"Acousticness..\", \"Speechiness.\", \"Popularity\"]]\n",
    "sns.heatmap(num_features.corr(), annot=True, cmap='coolwarm', fmt=\".2f\")\n",
    "plt.title('Correlation Matrix for Data')"
   ]
  },
  {
   "cell_type": "code",
   "execution_count": 10,
   "id": "d379080d",
   "metadata": {
    "execution": {
     "iopub.execute_input": "2023-12-25T11:45:53.899326Z",
     "iopub.status.busy": "2023-12-25T11:45:53.898875Z",
     "iopub.status.idle": "2023-12-25T11:45:53.910075Z",
     "shell.execute_reply": "2023-12-25T11:45:53.909027Z"
    },
    "papermill": {
     "duration": 0.028182,
     "end_time": "2023-12-25T11:45:53.912305",
     "exception": false,
     "start_time": "2023-12-25T11:45:53.884123",
     "status": "completed"
    },
    "tags": []
   },
   "outputs": [],
   "source": [
    "data[\"Popularity\"] = pd.qcut(data[\"Popularity\"],q=2,labels=[0,1])"
   ]
  },
  {
   "cell_type": "code",
   "execution_count": 11,
   "id": "6625584c",
   "metadata": {
    "execution": {
     "iopub.execute_input": "2023-12-25T11:45:53.941622Z",
     "iopub.status.busy": "2023-12-25T11:45:53.941155Z",
     "iopub.status.idle": "2023-12-25T11:45:53.972062Z",
     "shell.execute_reply": "2023-12-25T11:45:53.970620Z"
    },
    "papermill": {
     "duration": 0.048319,
     "end_time": "2023-12-25T11:45:53.974615",
     "exception": false,
     "start_time": "2023-12-25T11:45:53.926296",
     "status": "completed"
    },
    "tags": []
   },
   "outputs": [
    {
     "data": {
      "text/html": [
       "<div>\n",
       "<style scoped>\n",
       "    .dataframe tbody tr th:only-of-type {\n",
       "        vertical-align: middle;\n",
       "    }\n",
       "\n",
       "    .dataframe tbody tr th {\n",
       "        vertical-align: top;\n",
       "    }\n",
       "\n",
       "    .dataframe thead th {\n",
       "        text-align: right;\n",
       "    }\n",
       "</style>\n",
       "<table border=\"1\" class=\"dataframe\">\n",
       "  <thead>\n",
       "    <tr style=\"text-align: right;\">\n",
       "      <th></th>\n",
       "      <th>Artist.Name</th>\n",
       "      <th>Genre</th>\n",
       "      <th>Beats.Per.Minute</th>\n",
       "      <th>Energy</th>\n",
       "      <th>Danceability</th>\n",
       "      <th>Loudness..dB..</th>\n",
       "      <th>Liveness</th>\n",
       "      <th>Valence.</th>\n",
       "      <th>Length.</th>\n",
       "      <th>Acousticness..</th>\n",
       "      <th>Speechiness.</th>\n",
       "      <th>Popularity</th>\n",
       "    </tr>\n",
       "  </thead>\n",
       "  <tbody>\n",
       "    <tr>\n",
       "      <th>0</th>\n",
       "      <td>Shawn Mendes</td>\n",
       "      <td>canadian pop</td>\n",
       "      <td>117</td>\n",
       "      <td>55</td>\n",
       "      <td>76</td>\n",
       "      <td>-6</td>\n",
       "      <td>8</td>\n",
       "      <td>75</td>\n",
       "      <td>191</td>\n",
       "      <td>4</td>\n",
       "      <td>3</td>\n",
       "      <td>0</td>\n",
       "    </tr>\n",
       "    <tr>\n",
       "      <th>1</th>\n",
       "      <td>Anuel AA</td>\n",
       "      <td>reggaeton flow</td>\n",
       "      <td>105</td>\n",
       "      <td>81</td>\n",
       "      <td>79</td>\n",
       "      <td>-4</td>\n",
       "      <td>8</td>\n",
       "      <td>61</td>\n",
       "      <td>302</td>\n",
       "      <td>8</td>\n",
       "      <td>9</td>\n",
       "      <td>1</td>\n",
       "    </tr>\n",
       "    <tr>\n",
       "      <th>2</th>\n",
       "      <td>Ariana Grande</td>\n",
       "      <td>dance pop</td>\n",
       "      <td>190</td>\n",
       "      <td>80</td>\n",
       "      <td>40</td>\n",
       "      <td>-4</td>\n",
       "      <td>16</td>\n",
       "      <td>70</td>\n",
       "      <td>186</td>\n",
       "      <td>12</td>\n",
       "      <td>46</td>\n",
       "      <td>0</td>\n",
       "    </tr>\n",
       "    <tr>\n",
       "      <th>3</th>\n",
       "      <td>Ed Sheeran</td>\n",
       "      <td>pop</td>\n",
       "      <td>93</td>\n",
       "      <td>65</td>\n",
       "      <td>64</td>\n",
       "      <td>-8</td>\n",
       "      <td>8</td>\n",
       "      <td>55</td>\n",
       "      <td>198</td>\n",
       "      <td>12</td>\n",
       "      <td>19</td>\n",
       "      <td>0</td>\n",
       "    </tr>\n",
       "    <tr>\n",
       "      <th>4</th>\n",
       "      <td>Post Malone</td>\n",
       "      <td>dfw rap</td>\n",
       "      <td>150</td>\n",
       "      <td>65</td>\n",
       "      <td>58</td>\n",
       "      <td>-4</td>\n",
       "      <td>11</td>\n",
       "      <td>18</td>\n",
       "      <td>175</td>\n",
       "      <td>45</td>\n",
       "      <td>7</td>\n",
       "      <td>1</td>\n",
       "    </tr>\n",
       "  </tbody>\n",
       "</table>\n",
       "</div>"
      ],
      "text/plain": [
       "     Artist.Name           Genre  Beats.Per.Minute  Energy  Danceability  \\\n",
       "0   Shawn Mendes    canadian pop               117      55            76   \n",
       "1       Anuel AA  reggaeton flow               105      81            79   \n",
       "2  Ariana Grande       dance pop               190      80            40   \n",
       "3     Ed Sheeran             pop                93      65            64   \n",
       "4    Post Malone         dfw rap               150      65            58   \n",
       "\n",
       "   Loudness..dB..  Liveness  Valence.  Length.  Acousticness..  Speechiness.  \\\n",
       "0              -6         8        75      191               4             3   \n",
       "1              -4         8        61      302               8             9   \n",
       "2              -4        16        70      186              12            46   \n",
       "3              -8         8        55      198              12            19   \n",
       "4              -4        11        18      175              45             7   \n",
       "\n",
       "  Popularity  \n",
       "0          0  \n",
       "1          1  \n",
       "2          0  \n",
       "3          0  \n",
       "4          1  "
      ]
     },
     "execution_count": 11,
     "metadata": {},
     "output_type": "execute_result"
    }
   ],
   "source": [
    "data.head()"
   ]
  },
  {
   "cell_type": "markdown",
   "id": "4093a0c1",
   "metadata": {
    "papermill": {
     "duration": 0.014767,
     "end_time": "2023-12-25T11:45:54.003885",
     "exception": false,
     "start_time": "2023-12-25T11:45:53.989118",
     "status": "completed"
    },
    "tags": []
   },
   "source": [
    "One-Hot Encoding"
   ]
  },
  {
   "cell_type": "code",
   "execution_count": 12,
   "id": "c61397c5",
   "metadata": {
    "execution": {
     "iopub.execute_input": "2023-12-25T11:45:54.035778Z",
     "iopub.status.busy": "2023-12-25T11:45:54.035325Z",
     "iopub.status.idle": "2023-12-25T11:45:54.041902Z",
     "shell.execute_reply": "2023-12-25T11:45:54.040639Z"
    },
    "papermill": {
     "duration": 0.02582,
     "end_time": "2023-12-25T11:45:54.044510",
     "exception": false,
     "start_time": "2023-12-25T11:45:54.018690",
     "status": "completed"
    },
    "tags": []
   },
   "outputs": [],
   "source": [
    "def onehot_encode(df,column,prefix):\n",
    "    df = df.copy()\n",
    "    dummies = pd.get_dummies(df[column],prefix=prefix)\n",
    "    df = pd.concat([df,dummies],axis=1)\n",
    "    df = df.drop(column,axis=1)\n",
    "    return df"
   ]
  },
  {
   "cell_type": "code",
   "execution_count": 13,
   "id": "f710a160",
   "metadata": {
    "execution": {
     "iopub.execute_input": "2023-12-25T11:45:54.076812Z",
     "iopub.status.busy": "2023-12-25T11:45:54.076359Z",
     "iopub.status.idle": "2023-12-25T11:45:54.086937Z",
     "shell.execute_reply": "2023-12-25T11:45:54.086021Z"
    },
    "papermill": {
     "duration": 0.030012,
     "end_time": "2023-12-25T11:45:54.089442",
     "exception": false,
     "start_time": "2023-12-25T11:45:54.059430",
     "status": "completed"
    },
    "tags": []
   },
   "outputs": [],
   "source": [
    "data = onehot_encode(data,\"Genre\",\"genre\")\n",
    "data = onehot_encode(data,\"Artist.Name\",\"artist\")"
   ]
  },
  {
   "cell_type": "code",
   "execution_count": 12,
   "id": "baf9b98b",
   "metadata": {
    "execution": {
     "iopub.execute_input": "2023-12-25T11:45:54.121534Z",
     "iopub.status.busy": "2023-12-25T11:45:54.121083Z",
     "iopub.status.idle": "2023-12-25T11:45:54.174244Z",
     "shell.execute_reply": "2023-12-25T11:45:54.172555Z"
    },
    "papermill": {
     "duration": 0.074676,
     "end_time": "2023-12-25T11:45:54.178743",
     "exception": false,
     "start_time": "2023-12-25T11:45:54.104067",
     "status": "completed"
    },
    "tags": []
   },
   "outputs": [
    {
     "data": {
      "text/html": [
       "<div>\n",
       "<style scoped>\n",
       "    .dataframe tbody tr th:only-of-type {\n",
       "        vertical-align: middle;\n",
       "    }\n",
       "\n",
       "    .dataframe tbody tr th {\n",
       "        vertical-align: top;\n",
       "    }\n",
       "\n",
       "    .dataframe thead th {\n",
       "        text-align: right;\n",
       "    }\n",
       "</style>\n",
       "<table border=\"1\" class=\"dataframe\">\n",
       "  <thead>\n",
       "    <tr style=\"text-align: right;\">\n",
       "      <th></th>\n",
       "      <th>Beats.Per.Minute</th>\n",
       "      <th>Energy</th>\n",
       "      <th>Danceability</th>\n",
       "      <th>Loudness..dB..</th>\n",
       "      <th>Liveness</th>\n",
       "      <th>Valence.</th>\n",
       "      <th>Length.</th>\n",
       "      <th>Acousticness..</th>\n",
       "      <th>Speechiness.</th>\n",
       "      <th>Popularity</th>\n",
       "      <th>...</th>\n",
       "      <th>artist_Post Malone</th>\n",
       "      <th>artist_ROSALÍA</th>\n",
       "      <th>artist_Sam Smith</th>\n",
       "      <th>artist_Sech</th>\n",
       "      <th>artist_Shawn Mendes</th>\n",
       "      <th>artist_Taylor Swift</th>\n",
       "      <th>artist_The Chainsmokers</th>\n",
       "      <th>artist_Tones and I</th>\n",
       "      <th>artist_Y2K</th>\n",
       "      <th>artist_Young Thug</th>\n",
       "    </tr>\n",
       "  </thead>\n",
       "  <tbody>\n",
       "    <tr>\n",
       "      <th>0</th>\n",
       "      <td>117</td>\n",
       "      <td>55</td>\n",
       "      <td>76</td>\n",
       "      <td>-6</td>\n",
       "      <td>8</td>\n",
       "      <td>75</td>\n",
       "      <td>191</td>\n",
       "      <td>4</td>\n",
       "      <td>3</td>\n",
       "      <td>0</td>\n",
       "      <td>...</td>\n",
       "      <td>False</td>\n",
       "      <td>False</td>\n",
       "      <td>False</td>\n",
       "      <td>False</td>\n",
       "      <td>True</td>\n",
       "      <td>False</td>\n",
       "      <td>False</td>\n",
       "      <td>False</td>\n",
       "      <td>False</td>\n",
       "      <td>False</td>\n",
       "    </tr>\n",
       "    <tr>\n",
       "      <th>1</th>\n",
       "      <td>105</td>\n",
       "      <td>81</td>\n",
       "      <td>79</td>\n",
       "      <td>-4</td>\n",
       "      <td>8</td>\n",
       "      <td>61</td>\n",
       "      <td>302</td>\n",
       "      <td>8</td>\n",
       "      <td>9</td>\n",
       "      <td>1</td>\n",
       "      <td>...</td>\n",
       "      <td>False</td>\n",
       "      <td>False</td>\n",
       "      <td>False</td>\n",
       "      <td>False</td>\n",
       "      <td>False</td>\n",
       "      <td>False</td>\n",
       "      <td>False</td>\n",
       "      <td>False</td>\n",
       "      <td>False</td>\n",
       "      <td>False</td>\n",
       "    </tr>\n",
       "    <tr>\n",
       "      <th>2</th>\n",
       "      <td>190</td>\n",
       "      <td>80</td>\n",
       "      <td>40</td>\n",
       "      <td>-4</td>\n",
       "      <td>16</td>\n",
       "      <td>70</td>\n",
       "      <td>186</td>\n",
       "      <td>12</td>\n",
       "      <td>46</td>\n",
       "      <td>0</td>\n",
       "      <td>...</td>\n",
       "      <td>False</td>\n",
       "      <td>False</td>\n",
       "      <td>False</td>\n",
       "      <td>False</td>\n",
       "      <td>False</td>\n",
       "      <td>False</td>\n",
       "      <td>False</td>\n",
       "      <td>False</td>\n",
       "      <td>False</td>\n",
       "      <td>False</td>\n",
       "    </tr>\n",
       "    <tr>\n",
       "      <th>3</th>\n",
       "      <td>93</td>\n",
       "      <td>65</td>\n",
       "      <td>64</td>\n",
       "      <td>-8</td>\n",
       "      <td>8</td>\n",
       "      <td>55</td>\n",
       "      <td>198</td>\n",
       "      <td>12</td>\n",
       "      <td>19</td>\n",
       "      <td>0</td>\n",
       "      <td>...</td>\n",
       "      <td>False</td>\n",
       "      <td>False</td>\n",
       "      <td>False</td>\n",
       "      <td>False</td>\n",
       "      <td>False</td>\n",
       "      <td>False</td>\n",
       "      <td>False</td>\n",
       "      <td>False</td>\n",
       "      <td>False</td>\n",
       "      <td>False</td>\n",
       "    </tr>\n",
       "    <tr>\n",
       "      <th>4</th>\n",
       "      <td>150</td>\n",
       "      <td>65</td>\n",
       "      <td>58</td>\n",
       "      <td>-4</td>\n",
       "      <td>11</td>\n",
       "      <td>18</td>\n",
       "      <td>175</td>\n",
       "      <td>45</td>\n",
       "      <td>7</td>\n",
       "      <td>1</td>\n",
       "      <td>...</td>\n",
       "      <td>True</td>\n",
       "      <td>False</td>\n",
       "      <td>False</td>\n",
       "      <td>False</td>\n",
       "      <td>False</td>\n",
       "      <td>False</td>\n",
       "      <td>False</td>\n",
       "      <td>False</td>\n",
       "      <td>False</td>\n",
       "      <td>False</td>\n",
       "    </tr>\n",
       "    <tr>\n",
       "      <th>5</th>\n",
       "      <td>102</td>\n",
       "      <td>68</td>\n",
       "      <td>80</td>\n",
       "      <td>-5</td>\n",
       "      <td>9</td>\n",
       "      <td>84</td>\n",
       "      <td>220</td>\n",
       "      <td>9</td>\n",
       "      <td>4</td>\n",
       "      <td>0</td>\n",
       "      <td>...</td>\n",
       "      <td>False</td>\n",
       "      <td>False</td>\n",
       "      <td>False</td>\n",
       "      <td>False</td>\n",
       "      <td>False</td>\n",
       "      <td>False</td>\n",
       "      <td>False</td>\n",
       "      <td>False</td>\n",
       "      <td>False</td>\n",
       "      <td>False</td>\n",
       "    </tr>\n",
       "    <tr>\n",
       "      <th>6</th>\n",
       "      <td>180</td>\n",
       "      <td>64</td>\n",
       "      <td>75</td>\n",
       "      <td>-6</td>\n",
       "      <td>7</td>\n",
       "      <td>23</td>\n",
       "      <td>131</td>\n",
       "      <td>2</td>\n",
       "      <td>29</td>\n",
       "      <td>1</td>\n",
       "      <td>...</td>\n",
       "      <td>False</td>\n",
       "      <td>False</td>\n",
       "      <td>False</td>\n",
       "      <td>False</td>\n",
       "      <td>False</td>\n",
       "      <td>False</td>\n",
       "      <td>False</td>\n",
       "      <td>False</td>\n",
       "      <td>False</td>\n",
       "      <td>False</td>\n",
       "    </tr>\n",
       "    <tr>\n",
       "      <th>7</th>\n",
       "      <td>111</td>\n",
       "      <td>68</td>\n",
       "      <td>48</td>\n",
       "      <td>-5</td>\n",
       "      <td>8</td>\n",
       "      <td>35</td>\n",
       "      <td>202</td>\n",
       "      <td>15</td>\n",
       "      <td>9</td>\n",
       "      <td>1</td>\n",
       "      <td>...</td>\n",
       "      <td>False</td>\n",
       "      <td>False</td>\n",
       "      <td>True</td>\n",
       "      <td>False</td>\n",
       "      <td>False</td>\n",
       "      <td>False</td>\n",
       "      <td>False</td>\n",
       "      <td>False</td>\n",
       "      <td>False</td>\n",
       "      <td>False</td>\n",
       "    </tr>\n",
       "    <tr>\n",
       "      <th>8</th>\n",
       "      <td>136</td>\n",
       "      <td>62</td>\n",
       "      <td>88</td>\n",
       "      <td>-6</td>\n",
       "      <td>11</td>\n",
       "      <td>64</td>\n",
       "      <td>157</td>\n",
       "      <td>5</td>\n",
       "      <td>10</td>\n",
       "      <td>0</td>\n",
       "      <td>...</td>\n",
       "      <td>False</td>\n",
       "      <td>False</td>\n",
       "      <td>False</td>\n",
       "      <td>False</td>\n",
       "      <td>False</td>\n",
       "      <td>False</td>\n",
       "      <td>False</td>\n",
       "      <td>False</td>\n",
       "      <td>False</td>\n",
       "      <td>False</td>\n",
       "    </tr>\n",
       "    <tr>\n",
       "      <th>9</th>\n",
       "      <td>135</td>\n",
       "      <td>43</td>\n",
       "      <td>70</td>\n",
       "      <td>-11</td>\n",
       "      <td>10</td>\n",
       "      <td>56</td>\n",
       "      <td>194</td>\n",
       "      <td>33</td>\n",
       "      <td>38</td>\n",
       "      <td>1</td>\n",
       "      <td>...</td>\n",
       "      <td>False</td>\n",
       "      <td>False</td>\n",
       "      <td>False</td>\n",
       "      <td>False</td>\n",
       "      <td>False</td>\n",
       "      <td>False</td>\n",
       "      <td>False</td>\n",
       "      <td>False</td>\n",
       "      <td>False</td>\n",
       "      <td>False</td>\n",
       "    </tr>\n",
       "    <tr>\n",
       "      <th>10</th>\n",
       "      <td>176</td>\n",
       "      <td>62</td>\n",
       "      <td>61</td>\n",
       "      <td>-5</td>\n",
       "      <td>24</td>\n",
       "      <td>24</td>\n",
       "      <td>251</td>\n",
       "      <td>60</td>\n",
       "      <td>31</td>\n",
       "      <td>1</td>\n",
       "      <td>...</td>\n",
       "      <td>False</td>\n",
       "      <td>False</td>\n",
       "      <td>False</td>\n",
       "      <td>False</td>\n",
       "      <td>False</td>\n",
       "      <td>False</td>\n",
       "      <td>False</td>\n",
       "      <td>False</td>\n",
       "      <td>False</td>\n",
       "      <td>False</td>\n",
       "    </tr>\n",
       "    <tr>\n",
       "      <th>11</th>\n",
       "      <td>96</td>\n",
       "      <td>71</td>\n",
       "      <td>82</td>\n",
       "      <td>-4</td>\n",
       "      <td>15</td>\n",
       "      <td>38</td>\n",
       "      <td>185</td>\n",
       "      <td>28</td>\n",
       "      <td>7</td>\n",
       "      <td>0</td>\n",
       "      <td>...</td>\n",
       "      <td>False</td>\n",
       "      <td>False</td>\n",
       "      <td>False</td>\n",
       "      <td>False</td>\n",
       "      <td>False</td>\n",
       "      <td>False</td>\n",
       "      <td>False</td>\n",
       "      <td>False</td>\n",
       "      <td>False</td>\n",
       "      <td>False</td>\n",
       "    </tr>\n",
       "    <tr>\n",
       "      <th>12</th>\n",
       "      <td>110</td>\n",
       "      <td>41</td>\n",
       "      <td>50</td>\n",
       "      <td>-6</td>\n",
       "      <td>11</td>\n",
       "      <td>45</td>\n",
       "      <td>182</td>\n",
       "      <td>75</td>\n",
       "      <td>3</td>\n",
       "      <td>0</td>\n",
       "      <td>...</td>\n",
       "      <td>False</td>\n",
       "      <td>False</td>\n",
       "      <td>False</td>\n",
       "      <td>False</td>\n",
       "      <td>False</td>\n",
       "      <td>False</td>\n",
       "      <td>False</td>\n",
       "      <td>False</td>\n",
       "      <td>False</td>\n",
       "      <td>False</td>\n",
       "    </tr>\n",
       "    <tr>\n",
       "      <th>13</th>\n",
       "      <td>176</td>\n",
       "      <td>79</td>\n",
       "      <td>73</td>\n",
       "      <td>-2</td>\n",
       "      <td>6</td>\n",
       "      <td>76</td>\n",
       "      <td>288</td>\n",
       "      <td>7</td>\n",
       "      <td>20</td>\n",
       "      <td>0</td>\n",
       "      <td>...</td>\n",
       "      <td>False</td>\n",
       "      <td>False</td>\n",
       "      <td>False</td>\n",
       "      <td>True</td>\n",
       "      <td>False</td>\n",
       "      <td>False</td>\n",
       "      <td>False</td>\n",
       "      <td>False</td>\n",
       "      <td>False</td>\n",
       "      <td>False</td>\n",
       "    </tr>\n",
       "    <tr>\n",
       "      <th>14</th>\n",
       "      <td>101</td>\n",
       "      <td>50</td>\n",
       "      <td>83</td>\n",
       "      <td>-4</td>\n",
       "      <td>12</td>\n",
       "      <td>10</td>\n",
       "      <td>205</td>\n",
       "      <td>10</td>\n",
       "      <td>5</td>\n",
       "      <td>1</td>\n",
       "      <td>...</td>\n",
       "      <td>False</td>\n",
       "      <td>False</td>\n",
       "      <td>False</td>\n",
       "      <td>False</td>\n",
       "      <td>False</td>\n",
       "      <td>False</td>\n",
       "      <td>False</td>\n",
       "      <td>False</td>\n",
       "      <td>False</td>\n",
       "      <td>False</td>\n",
       "    </tr>\n",
       "    <tr>\n",
       "      <th>15</th>\n",
       "      <td>93</td>\n",
       "      <td>45</td>\n",
       "      <td>70</td>\n",
       "      <td>-7</td>\n",
       "      <td>16</td>\n",
       "      <td>14</td>\n",
       "      <td>261</td>\n",
       "      <td>12</td>\n",
       "      <td>15</td>\n",
       "      <td>0</td>\n",
       "      <td>...</td>\n",
       "      <td>False</td>\n",
       "      <td>False</td>\n",
       "      <td>False</td>\n",
       "      <td>False</td>\n",
       "      <td>False</td>\n",
       "      <td>False</td>\n",
       "      <td>False</td>\n",
       "      <td>False</td>\n",
       "      <td>False</td>\n",
       "      <td>False</td>\n",
       "    </tr>\n",
       "    <tr>\n",
       "      <th>16</th>\n",
       "      <td>176</td>\n",
       "      <td>65</td>\n",
       "      <td>75</td>\n",
       "      <td>-6</td>\n",
       "      <td>11</td>\n",
       "      <td>43</td>\n",
       "      <td>243</td>\n",
       "      <td>15</td>\n",
       "      <td>32</td>\n",
       "      <td>1</td>\n",
       "      <td>...</td>\n",
       "      <td>False</td>\n",
       "      <td>False</td>\n",
       "      <td>False</td>\n",
       "      <td>False</td>\n",
       "      <td>False</td>\n",
       "      <td>False</td>\n",
       "      <td>False</td>\n",
       "      <td>False</td>\n",
       "      <td>False</td>\n",
       "      <td>False</td>\n",
       "    </tr>\n",
       "    <tr>\n",
       "      <th>17</th>\n",
       "      <td>90</td>\n",
       "      <td>48</td>\n",
       "      <td>76</td>\n",
       "      <td>-6</td>\n",
       "      <td>7</td>\n",
       "      <td>91</td>\n",
       "      <td>158</td>\n",
       "      <td>56</td>\n",
       "      <td>5</td>\n",
       "      <td>1</td>\n",
       "      <td>...</td>\n",
       "      <td>True</td>\n",
       "      <td>False</td>\n",
       "      <td>False</td>\n",
       "      <td>False</td>\n",
       "      <td>False</td>\n",
       "      <td>False</td>\n",
       "      <td>False</td>\n",
       "      <td>False</td>\n",
       "      <td>False</td>\n",
       "      <td>False</td>\n",
       "    </tr>\n",
       "    <tr>\n",
       "      <th>18</th>\n",
       "      <td>130</td>\n",
       "      <td>39</td>\n",
       "      <td>84</td>\n",
       "      <td>-8</td>\n",
       "      <td>14</td>\n",
       "      <td>50</td>\n",
       "      <td>161</td>\n",
       "      <td>18</td>\n",
       "      <td>8</td>\n",
       "      <td>0</td>\n",
       "      <td>...</td>\n",
       "      <td>False</td>\n",
       "      <td>False</td>\n",
       "      <td>False</td>\n",
       "      <td>False</td>\n",
       "      <td>False</td>\n",
       "      <td>False</td>\n",
       "      <td>False</td>\n",
       "      <td>False</td>\n",
       "      <td>True</td>\n",
       "      <td>False</td>\n",
       "    </tr>\n",
       "    <tr>\n",
       "      <th>19</th>\n",
       "      <td>158</td>\n",
       "      <td>62</td>\n",
       "      <td>72</td>\n",
       "      <td>-3</td>\n",
       "      <td>12</td>\n",
       "      <td>41</td>\n",
       "      <td>173</td>\n",
       "      <td>11</td>\n",
       "      <td>11</td>\n",
       "      <td>1</td>\n",
       "      <td>...</td>\n",
       "      <td>False</td>\n",
       "      <td>False</td>\n",
       "      <td>False</td>\n",
       "      <td>False</td>\n",
       "      <td>False</td>\n",
       "      <td>False</td>\n",
       "      <td>False</td>\n",
       "      <td>False</td>\n",
       "      <td>False</td>\n",
       "      <td>False</td>\n",
       "    </tr>\n",
       "    <tr>\n",
       "      <th>20</th>\n",
       "      <td>124</td>\n",
       "      <td>74</td>\n",
       "      <td>68</td>\n",
       "      <td>-7</td>\n",
       "      <td>7</td>\n",
       "      <td>63</td>\n",
       "      <td>153</td>\n",
       "      <td>4</td>\n",
       "      <td>3</td>\n",
       "      <td>1</td>\n",
       "      <td>...</td>\n",
       "      <td>False</td>\n",
       "      <td>False</td>\n",
       "      <td>False</td>\n",
       "      <td>False</td>\n",
       "      <td>False</td>\n",
       "      <td>False</td>\n",
       "      <td>False</td>\n",
       "      <td>False</td>\n",
       "      <td>False</td>\n",
       "      <td>False</td>\n",
       "    </tr>\n",
       "    <tr>\n",
       "      <th>21</th>\n",
       "      <td>154</td>\n",
       "      <td>59</td>\n",
       "      <td>70</td>\n",
       "      <td>-6</td>\n",
       "      <td>12</td>\n",
       "      <td>48</td>\n",
       "      <td>115</td>\n",
       "      <td>34</td>\n",
       "      <td>8</td>\n",
       "      <td>1</td>\n",
       "      <td>...</td>\n",
       "      <td>False</td>\n",
       "      <td>False</td>\n",
       "      <td>False</td>\n",
       "      <td>False</td>\n",
       "      <td>False</td>\n",
       "      <td>False</td>\n",
       "      <td>False</td>\n",
       "      <td>False</td>\n",
       "      <td>False</td>\n",
       "      <td>False</td>\n",
       "    </tr>\n",
       "    <tr>\n",
       "      <th>22</th>\n",
       "      <td>92</td>\n",
       "      <td>79</td>\n",
       "      <td>81</td>\n",
       "      <td>-4</td>\n",
       "      <td>9</td>\n",
       "      <td>58</td>\n",
       "      <td>309</td>\n",
       "      <td>14</td>\n",
       "      <td>7</td>\n",
       "      <td>0</td>\n",
       "      <td>...</td>\n",
       "      <td>False</td>\n",
       "      <td>False</td>\n",
       "      <td>False</td>\n",
       "      <td>False</td>\n",
       "      <td>False</td>\n",
       "      <td>False</td>\n",
       "      <td>False</td>\n",
       "      <td>False</td>\n",
       "      <td>False</td>\n",
       "      <td>False</td>\n",
       "    </tr>\n",
       "    <tr>\n",
       "      <th>23</th>\n",
       "      <td>92</td>\n",
       "      <td>78</td>\n",
       "      <td>80</td>\n",
       "      <td>-4</td>\n",
       "      <td>44</td>\n",
       "      <td>80</td>\n",
       "      <td>266</td>\n",
       "      <td>36</td>\n",
       "      <td>4</td>\n",
       "      <td>1</td>\n",
       "      <td>...</td>\n",
       "      <td>False</td>\n",
       "      <td>False</td>\n",
       "      <td>False</td>\n",
       "      <td>False</td>\n",
       "      <td>False</td>\n",
       "      <td>False</td>\n",
       "      <td>False</td>\n",
       "      <td>False</td>\n",
       "      <td>False</td>\n",
       "      <td>False</td>\n",
       "    </tr>\n",
       "    <tr>\n",
       "      <th>24</th>\n",
       "      <td>135</td>\n",
       "      <td>45</td>\n",
       "      <td>67</td>\n",
       "      <td>-11</td>\n",
       "      <td>12</td>\n",
       "      <td>68</td>\n",
       "      <td>195</td>\n",
       "      <td>25</td>\n",
       "      <td>30</td>\n",
       "      <td>1</td>\n",
       "      <td>...</td>\n",
       "      <td>False</td>\n",
       "      <td>False</td>\n",
       "      <td>False</td>\n",
       "      <td>False</td>\n",
       "      <td>False</td>\n",
       "      <td>False</td>\n",
       "      <td>False</td>\n",
       "      <td>False</td>\n",
       "      <td>False</td>\n",
       "      <td>False</td>\n",
       "    </tr>\n",
       "    <tr>\n",
       "      <th>25</th>\n",
       "      <td>124</td>\n",
       "      <td>82</td>\n",
       "      <td>69</td>\n",
       "      <td>-4</td>\n",
       "      <td>13</td>\n",
       "      <td>87</td>\n",
       "      <td>191</td>\n",
       "      <td>49</td>\n",
       "      <td>6</td>\n",
       "      <td>0</td>\n",
       "      <td>...</td>\n",
       "      <td>False</td>\n",
       "      <td>False</td>\n",
       "      <td>False</td>\n",
       "      <td>False</td>\n",
       "      <td>True</td>\n",
       "      <td>False</td>\n",
       "      <td>False</td>\n",
       "      <td>False</td>\n",
       "      <td>False</td>\n",
       "      <td>False</td>\n",
       "    </tr>\n",
       "    <tr>\n",
       "      <th>26</th>\n",
       "      <td>98</td>\n",
       "      <td>59</td>\n",
       "      <td>82</td>\n",
       "      <td>-6</td>\n",
       "      <td>18</td>\n",
       "      <td>54</td>\n",
       "      <td>210</td>\n",
       "      <td>69</td>\n",
       "      <td>10</td>\n",
       "      <td>0</td>\n",
       "      <td>...</td>\n",
       "      <td>False</td>\n",
       "      <td>False</td>\n",
       "      <td>False</td>\n",
       "      <td>False</td>\n",
       "      <td>False</td>\n",
       "      <td>False</td>\n",
       "      <td>False</td>\n",
       "      <td>True</td>\n",
       "      <td>False</td>\n",
       "      <td>False</td>\n",
       "    </tr>\n",
       "    <tr>\n",
       "      <th>27</th>\n",
       "      <td>96</td>\n",
       "      <td>46</td>\n",
       "      <td>73</td>\n",
       "      <td>-7</td>\n",
       "      <td>19</td>\n",
       "      <td>40</td>\n",
       "      <td>213</td>\n",
       "      <td>37</td>\n",
       "      <td>3</td>\n",
       "      <td>1</td>\n",
       "      <td>...</td>\n",
       "      <td>False</td>\n",
       "      <td>False</td>\n",
       "      <td>False</td>\n",
       "      <td>False</td>\n",
       "      <td>False</td>\n",
       "      <td>False</td>\n",
       "      <td>False</td>\n",
       "      <td>False</td>\n",
       "      <td>False</td>\n",
       "      <td>False</td>\n",
       "    </tr>\n",
       "    <tr>\n",
       "      <th>28</th>\n",
       "      <td>94</td>\n",
       "      <td>86</td>\n",
       "      <td>74</td>\n",
       "      <td>-3</td>\n",
       "      <td>6</td>\n",
       "      <td>66</td>\n",
       "      <td>193</td>\n",
       "      <td>11</td>\n",
       "      <td>6</td>\n",
       "      <td>1</td>\n",
       "      <td>...</td>\n",
       "      <td>False</td>\n",
       "      <td>False</td>\n",
       "      <td>False</td>\n",
       "      <td>False</td>\n",
       "      <td>False</td>\n",
       "      <td>False</td>\n",
       "      <td>False</td>\n",
       "      <td>False</td>\n",
       "      <td>False</td>\n",
       "      <td>False</td>\n",
       "    </tr>\n",
       "    <tr>\n",
       "      <th>29</th>\n",
       "      <td>93</td>\n",
       "      <td>79</td>\n",
       "      <td>64</td>\n",
       "      <td>-4</td>\n",
       "      <td>36</td>\n",
       "      <td>94</td>\n",
       "      <td>222</td>\n",
       "      <td>3</td>\n",
       "      <td>25</td>\n",
       "      <td>1</td>\n",
       "      <td>...</td>\n",
       "      <td>False</td>\n",
       "      <td>False</td>\n",
       "      <td>False</td>\n",
       "      <td>False</td>\n",
       "      <td>False</td>\n",
       "      <td>False</td>\n",
       "      <td>False</td>\n",
       "      <td>False</td>\n",
       "      <td>False</td>\n",
       "      <td>False</td>\n",
       "    </tr>\n",
       "    <tr>\n",
       "      <th>30</th>\n",
       "      <td>85</td>\n",
       "      <td>51</td>\n",
       "      <td>29</td>\n",
       "      <td>-8</td>\n",
       "      <td>10</td>\n",
       "      <td>36</td>\n",
       "      <td>210</td>\n",
       "      <td>12</td>\n",
       "      <td>4</td>\n",
       "      <td>0</td>\n",
       "      <td>...</td>\n",
       "      <td>False</td>\n",
       "      <td>False</td>\n",
       "      <td>False</td>\n",
       "      <td>False</td>\n",
       "      <td>False</td>\n",
       "      <td>False</td>\n",
       "      <td>True</td>\n",
       "      <td>False</td>\n",
       "      <td>False</td>\n",
       "      <td>False</td>\n",
       "    </tr>\n",
       "    <tr>\n",
       "      <th>31</th>\n",
       "      <td>140</td>\n",
       "      <td>32</td>\n",
       "      <td>78</td>\n",
       "      <td>-11</td>\n",
       "      <td>9</td>\n",
       "      <td>33</td>\n",
       "      <td>179</td>\n",
       "      <td>59</td>\n",
       "      <td>33</td>\n",
       "      <td>1</td>\n",
       "      <td>...</td>\n",
       "      <td>False</td>\n",
       "      <td>False</td>\n",
       "      <td>False</td>\n",
       "      <td>False</td>\n",
       "      <td>False</td>\n",
       "      <td>False</td>\n",
       "      <td>False</td>\n",
       "      <td>False</td>\n",
       "      <td>False</td>\n",
       "      <td>False</td>\n",
       "    </tr>\n",
       "    <tr>\n",
       "      <th>32</th>\n",
       "      <td>96</td>\n",
       "      <td>71</td>\n",
       "      <td>78</td>\n",
       "      <td>-5</td>\n",
       "      <td>9</td>\n",
       "      <td>68</td>\n",
       "      <td>176</td>\n",
       "      <td>22</td>\n",
       "      <td>28</td>\n",
       "      <td>1</td>\n",
       "      <td>...</td>\n",
       "      <td>False</td>\n",
       "      <td>False</td>\n",
       "      <td>False</td>\n",
       "      <td>False</td>\n",
       "      <td>False</td>\n",
       "      <td>False</td>\n",
       "      <td>False</td>\n",
       "      <td>False</td>\n",
       "      <td>False</td>\n",
       "      <td>False</td>\n",
       "    </tr>\n",
       "    <tr>\n",
       "      <th>33</th>\n",
       "      <td>98</td>\n",
       "      <td>59</td>\n",
       "      <td>80</td>\n",
       "      <td>-7</td>\n",
       "      <td>13</td>\n",
       "      <td>18</td>\n",
       "      <td>200</td>\n",
       "      <td>2</td>\n",
       "      <td>15</td>\n",
       "      <td>1</td>\n",
       "      <td>...</td>\n",
       "      <td>False</td>\n",
       "      <td>False</td>\n",
       "      <td>False</td>\n",
       "      <td>False</td>\n",
       "      <td>False</td>\n",
       "      <td>False</td>\n",
       "      <td>False</td>\n",
       "      <td>False</td>\n",
       "      <td>False</td>\n",
       "      <td>True</td>\n",
       "    </tr>\n",
       "    <tr>\n",
       "      <th>34</th>\n",
       "      <td>100</td>\n",
       "      <td>88</td>\n",
       "      <td>77</td>\n",
       "      <td>-5</td>\n",
       "      <td>32</td>\n",
       "      <td>39</td>\n",
       "      <td>224</td>\n",
       "      <td>19</td>\n",
       "      <td>6</td>\n",
       "      <td>1</td>\n",
       "      <td>...</td>\n",
       "      <td>False</td>\n",
       "      <td>False</td>\n",
       "      <td>False</td>\n",
       "      <td>False</td>\n",
       "      <td>False</td>\n",
       "      <td>False</td>\n",
       "      <td>False</td>\n",
       "      <td>False</td>\n",
       "      <td>False</td>\n",
       "      <td>False</td>\n",
       "    </tr>\n",
       "    <tr>\n",
       "      <th>35</th>\n",
       "      <td>114</td>\n",
       "      <td>72</td>\n",
       "      <td>66</td>\n",
       "      <td>-7</td>\n",
       "      <td>14</td>\n",
       "      <td>32</td>\n",
       "      <td>164</td>\n",
       "      <td>18</td>\n",
       "      <td>6</td>\n",
       "      <td>1</td>\n",
       "      <td>...</td>\n",
       "      <td>False</td>\n",
       "      <td>False</td>\n",
       "      <td>False</td>\n",
       "      <td>False</td>\n",
       "      <td>False</td>\n",
       "      <td>False</td>\n",
       "      <td>False</td>\n",
       "      <td>False</td>\n",
       "      <td>False</td>\n",
       "      <td>False</td>\n",
       "    </tr>\n",
       "    <tr>\n",
       "      <th>36</th>\n",
       "      <td>176</td>\n",
       "      <td>70</td>\n",
       "      <td>75</td>\n",
       "      <td>-5</td>\n",
       "      <td>11</td>\n",
       "      <td>62</td>\n",
       "      <td>226</td>\n",
       "      <td>14</td>\n",
       "      <td>34</td>\n",
       "      <td>1</td>\n",
       "      <td>...</td>\n",
       "      <td>False</td>\n",
       "      <td>False</td>\n",
       "      <td>False</td>\n",
       "      <td>True</td>\n",
       "      <td>False</td>\n",
       "      <td>False</td>\n",
       "      <td>False</td>\n",
       "      <td>False</td>\n",
       "      <td>False</td>\n",
       "      <td>False</td>\n",
       "    </tr>\n",
       "    <tr>\n",
       "      <th>37</th>\n",
       "      <td>152</td>\n",
       "      <td>82</td>\n",
       "      <td>72</td>\n",
       "      <td>-5</td>\n",
       "      <td>36</td>\n",
       "      <td>91</td>\n",
       "      <td>162</td>\n",
       "      <td>13</td>\n",
       "      <td>5</td>\n",
       "      <td>0</td>\n",
       "      <td>...</td>\n",
       "      <td>False</td>\n",
       "      <td>False</td>\n",
       "      <td>False</td>\n",
       "      <td>False</td>\n",
       "      <td>False</td>\n",
       "      <td>False</td>\n",
       "      <td>False</td>\n",
       "      <td>False</td>\n",
       "      <td>False</td>\n",
       "      <td>False</td>\n",
       "    </tr>\n",
       "    <tr>\n",
       "      <th>38</th>\n",
       "      <td>138</td>\n",
       "      <td>73</td>\n",
       "      <td>84</td>\n",
       "      <td>-5</td>\n",
       "      <td>11</td>\n",
       "      <td>95</td>\n",
       "      <td>181</td>\n",
       "      <td>4</td>\n",
       "      <td>6</td>\n",
       "      <td>0</td>\n",
       "      <td>...</td>\n",
       "      <td>False</td>\n",
       "      <td>False</td>\n",
       "      <td>False</td>\n",
       "      <td>False</td>\n",
       "      <td>False</td>\n",
       "      <td>False</td>\n",
       "      <td>False</td>\n",
       "      <td>False</td>\n",
       "      <td>False</td>\n",
       "      <td>False</td>\n",
       "    </tr>\n",
       "    <tr>\n",
       "      <th>39</th>\n",
       "      <td>95</td>\n",
       "      <td>56</td>\n",
       "      <td>81</td>\n",
       "      <td>-6</td>\n",
       "      <td>6</td>\n",
       "      <td>68</td>\n",
       "      <td>199</td>\n",
       "      <td>48</td>\n",
       "      <td>7</td>\n",
       "      <td>0</td>\n",
       "      <td>...</td>\n",
       "      <td>False</td>\n",
       "      <td>False</td>\n",
       "      <td>False</td>\n",
       "      <td>False</td>\n",
       "      <td>False</td>\n",
       "      <td>False</td>\n",
       "      <td>False</td>\n",
       "      <td>False</td>\n",
       "      <td>False</td>\n",
       "      <td>False</td>\n",
       "    </tr>\n",
       "    <tr>\n",
       "      <th>40</th>\n",
       "      <td>104</td>\n",
       "      <td>68</td>\n",
       "      <td>69</td>\n",
       "      <td>-7</td>\n",
       "      <td>10</td>\n",
       "      <td>40</td>\n",
       "      <td>228</td>\n",
       "      <td>2</td>\n",
       "      <td>3</td>\n",
       "      <td>0</td>\n",
       "      <td>...</td>\n",
       "      <td>False</td>\n",
       "      <td>False</td>\n",
       "      <td>False</td>\n",
       "      <td>False</td>\n",
       "      <td>False</td>\n",
       "      <td>False</td>\n",
       "      <td>False</td>\n",
       "      <td>False</td>\n",
       "      <td>False</td>\n",
       "      <td>False</td>\n",
       "    </tr>\n",
       "    <tr>\n",
       "      <th>41</th>\n",
       "      <td>85</td>\n",
       "      <td>68</td>\n",
       "      <td>77</td>\n",
       "      <td>-6</td>\n",
       "      <td>7</td>\n",
       "      <td>73</td>\n",
       "      <td>171</td>\n",
       "      <td>1</td>\n",
       "      <td>5</td>\n",
       "      <td>1</td>\n",
       "      <td>...</td>\n",
       "      <td>False</td>\n",
       "      <td>False</td>\n",
       "      <td>False</td>\n",
       "      <td>False</td>\n",
       "      <td>False</td>\n",
       "      <td>True</td>\n",
       "      <td>False</td>\n",
       "      <td>False</td>\n",
       "      <td>False</td>\n",
       "      <td>False</td>\n",
       "    </tr>\n",
       "    <tr>\n",
       "      <th>42</th>\n",
       "      <td>96</td>\n",
       "      <td>39</td>\n",
       "      <td>57</td>\n",
       "      <td>-6</td>\n",
       "      <td>23</td>\n",
       "      <td>32</td>\n",
       "      <td>216</td>\n",
       "      <td>37</td>\n",
       "      <td>3</td>\n",
       "      <td>0</td>\n",
       "      <td>...</td>\n",
       "      <td>False</td>\n",
       "      <td>False</td>\n",
       "      <td>False</td>\n",
       "      <td>False</td>\n",
       "      <td>False</td>\n",
       "      <td>False</td>\n",
       "      <td>False</td>\n",
       "      <td>False</td>\n",
       "      <td>False</td>\n",
       "      <td>False</td>\n",
       "    </tr>\n",
       "    <tr>\n",
       "      <th>43</th>\n",
       "      <td>136</td>\n",
       "      <td>40</td>\n",
       "      <td>90</td>\n",
       "      <td>-9</td>\n",
       "      <td>6</td>\n",
       "      <td>35</td>\n",
       "      <td>198</td>\n",
       "      <td>5</td>\n",
       "      <td>13</td>\n",
       "      <td>0</td>\n",
       "      <td>...</td>\n",
       "      <td>False</td>\n",
       "      <td>False</td>\n",
       "      <td>False</td>\n",
       "      <td>False</td>\n",
       "      <td>False</td>\n",
       "      <td>False</td>\n",
       "      <td>False</td>\n",
       "      <td>False</td>\n",
       "      <td>False</td>\n",
       "      <td>False</td>\n",
       "    </tr>\n",
       "    <tr>\n",
       "      <th>44</th>\n",
       "      <td>98</td>\n",
       "      <td>69</td>\n",
       "      <td>88</td>\n",
       "      <td>-4</td>\n",
       "      <td>5</td>\n",
       "      <td>75</td>\n",
       "      <td>162</td>\n",
       "      <td>39</td>\n",
       "      <td>12</td>\n",
       "      <td>0</td>\n",
       "      <td>...</td>\n",
       "      <td>False</td>\n",
       "      <td>True</td>\n",
       "      <td>False</td>\n",
       "      <td>False</td>\n",
       "      <td>False</td>\n",
       "      <td>False</td>\n",
       "      <td>False</td>\n",
       "      <td>False</td>\n",
       "      <td>False</td>\n",
       "      <td>False</td>\n",
       "    </tr>\n",
       "    <tr>\n",
       "      <th>45</th>\n",
       "      <td>88</td>\n",
       "      <td>62</td>\n",
       "      <td>66</td>\n",
       "      <td>-2</td>\n",
       "      <td>58</td>\n",
       "      <td>44</td>\n",
       "      <td>182</td>\n",
       "      <td>7</td>\n",
       "      <td>5</td>\n",
       "      <td>0</td>\n",
       "      <td>...</td>\n",
       "      <td>False</td>\n",
       "      <td>False</td>\n",
       "      <td>False</td>\n",
       "      <td>False</td>\n",
       "      <td>False</td>\n",
       "      <td>False</td>\n",
       "      <td>False</td>\n",
       "      <td>False</td>\n",
       "      <td>False</td>\n",
       "      <td>False</td>\n",
       "    </tr>\n",
       "    <tr>\n",
       "      <th>46</th>\n",
       "      <td>176</td>\n",
       "      <td>75</td>\n",
       "      <td>67</td>\n",
       "      <td>-4</td>\n",
       "      <td>8</td>\n",
       "      <td>80</td>\n",
       "      <td>202</td>\n",
       "      <td>24</td>\n",
       "      <td>6</td>\n",
       "      <td>0</td>\n",
       "      <td>...</td>\n",
       "      <td>False</td>\n",
       "      <td>False</td>\n",
       "      <td>False</td>\n",
       "      <td>False</td>\n",
       "      <td>False</td>\n",
       "      <td>False</td>\n",
       "      <td>False</td>\n",
       "      <td>False</td>\n",
       "      <td>False</td>\n",
       "      <td>False</td>\n",
       "    </tr>\n",
       "    <tr>\n",
       "      <th>47</th>\n",
       "      <td>100</td>\n",
       "      <td>79</td>\n",
       "      <td>69</td>\n",
       "      <td>-3</td>\n",
       "      <td>17</td>\n",
       "      <td>67</td>\n",
       "      <td>214</td>\n",
       "      <td>19</td>\n",
       "      <td>5</td>\n",
       "      <td>0</td>\n",
       "      <td>...</td>\n",
       "      <td>False</td>\n",
       "      <td>False</td>\n",
       "      <td>False</td>\n",
       "      <td>False</td>\n",
       "      <td>False</td>\n",
       "      <td>False</td>\n",
       "      <td>False</td>\n",
       "      <td>False</td>\n",
       "      <td>False</td>\n",
       "      <td>False</td>\n",
       "    </tr>\n",
       "    <tr>\n",
       "      <th>48</th>\n",
       "      <td>104</td>\n",
       "      <td>70</td>\n",
       "      <td>59</td>\n",
       "      <td>-6</td>\n",
       "      <td>41</td>\n",
       "      <td>50</td>\n",
       "      <td>218</td>\n",
       "      <td>23</td>\n",
       "      <td>3</td>\n",
       "      <td>0</td>\n",
       "      <td>...</td>\n",
       "      <td>False</td>\n",
       "      <td>False</td>\n",
       "      <td>False</td>\n",
       "      <td>False</td>\n",
       "      <td>False</td>\n",
       "      <td>False</td>\n",
       "      <td>True</td>\n",
       "      <td>False</td>\n",
       "      <td>False</td>\n",
       "      <td>False</td>\n",
       "    </tr>\n",
       "    <tr>\n",
       "      <th>49</th>\n",
       "      <td>95</td>\n",
       "      <td>79</td>\n",
       "      <td>75</td>\n",
       "      <td>-6</td>\n",
       "      <td>7</td>\n",
       "      <td>61</td>\n",
       "      <td>206</td>\n",
       "      <td>21</td>\n",
       "      <td>12</td>\n",
       "      <td>0</td>\n",
       "      <td>...</td>\n",
       "      <td>False</td>\n",
       "      <td>False</td>\n",
       "      <td>False</td>\n",
       "      <td>False</td>\n",
       "      <td>False</td>\n",
       "      <td>False</td>\n",
       "      <td>False</td>\n",
       "      <td>False</td>\n",
       "      <td>False</td>\n",
       "      <td>False</td>\n",
       "    </tr>\n",
       "  </tbody>\n",
       "</table>\n",
       "<p>50 rows × 69 columns</p>\n",
       "</div>"
      ],
      "text/plain": [
       "    Beats.Per.Minute  Energy  Danceability  Loudness..dB..  Liveness  \\\n",
       "0                117      55            76              -6         8   \n",
       "1                105      81            79              -4         8   \n",
       "2                190      80            40              -4        16   \n",
       "3                 93      65            64              -8         8   \n",
       "4                150      65            58              -4        11   \n",
       "5                102      68            80              -5         9   \n",
       "6                180      64            75              -6         7   \n",
       "7                111      68            48              -5         8   \n",
       "8                136      62            88              -6        11   \n",
       "9                135      43            70             -11        10   \n",
       "10               176      62            61              -5        24   \n",
       "11                96      71            82              -4        15   \n",
       "12               110      41            50              -6        11   \n",
       "13               176      79            73              -2         6   \n",
       "14               101      50            83              -4        12   \n",
       "15                93      45            70              -7        16   \n",
       "16               176      65            75              -6        11   \n",
       "17                90      48            76              -6         7   \n",
       "18               130      39            84              -8        14   \n",
       "19               158      62            72              -3        12   \n",
       "20               124      74            68              -7         7   \n",
       "21               154      59            70              -6        12   \n",
       "22                92      79            81              -4         9   \n",
       "23                92      78            80              -4        44   \n",
       "24               135      45            67             -11        12   \n",
       "25               124      82            69              -4        13   \n",
       "26                98      59            82              -6        18   \n",
       "27                96      46            73              -7        19   \n",
       "28                94      86            74              -3         6   \n",
       "29                93      79            64              -4        36   \n",
       "30                85      51            29              -8        10   \n",
       "31               140      32            78             -11         9   \n",
       "32                96      71            78              -5         9   \n",
       "33                98      59            80              -7        13   \n",
       "34               100      88            77              -5        32   \n",
       "35               114      72            66              -7        14   \n",
       "36               176      70            75              -5        11   \n",
       "37               152      82            72              -5        36   \n",
       "38               138      73            84              -5        11   \n",
       "39                95      56            81              -6         6   \n",
       "40               104      68            69              -7        10   \n",
       "41                85      68            77              -6         7   \n",
       "42                96      39            57              -6        23   \n",
       "43               136      40            90              -9         6   \n",
       "44                98      69            88              -4         5   \n",
       "45                88      62            66              -2        58   \n",
       "46               176      75            67              -4         8   \n",
       "47               100      79            69              -3        17   \n",
       "48               104      70            59              -6        41   \n",
       "49                95      79            75              -6         7   \n",
       "\n",
       "    Valence.  Length.  Acousticness..  Speechiness. Popularity  ...  \\\n",
       "0         75      191               4             3          0  ...   \n",
       "1         61      302               8             9          1  ...   \n",
       "2         70      186              12            46          0  ...   \n",
       "3         55      198              12            19          0  ...   \n",
       "4         18      175              45             7          1  ...   \n",
       "5         84      220               9             4          0  ...   \n",
       "6         23      131               2            29          1  ...   \n",
       "7         35      202              15             9          1  ...   \n",
       "8         64      157               5            10          0  ...   \n",
       "9         56      194              33            38          1  ...   \n",
       "10        24      251              60            31          1  ...   \n",
       "11        38      185              28             7          0  ...   \n",
       "12        45      182              75             3          0  ...   \n",
       "13        76      288               7            20          0  ...   \n",
       "14        10      205              10             5          1  ...   \n",
       "15        14      261              12            15          0  ...   \n",
       "16        43      243              15            32          1  ...   \n",
       "17        91      158              56             5          1  ...   \n",
       "18        50      161              18             8          0  ...   \n",
       "19        41      173              11            11          1  ...   \n",
       "20        63      153               4             3          1  ...   \n",
       "21        48      115              34             8          1  ...   \n",
       "22        58      309              14             7          0  ...   \n",
       "23        80      266              36             4          1  ...   \n",
       "24        68      195              25            30          1  ...   \n",
       "25        87      191              49             6          0  ...   \n",
       "26        54      210              69            10          0  ...   \n",
       "27        40      213              37             3          1  ...   \n",
       "28        66      193              11             6          1  ...   \n",
       "29        94      222               3            25          1  ...   \n",
       "30        36      210              12             4          0  ...   \n",
       "31        33      179              59            33          1  ...   \n",
       "32        68      176              22            28          1  ...   \n",
       "33        18      200               2            15          1  ...   \n",
       "34        39      224              19             6          1  ...   \n",
       "35        32      164              18             6          1  ...   \n",
       "36        62      226              14            34          1  ...   \n",
       "37        91      162              13             5          0  ...   \n",
       "38        95      181               4             6          0  ...   \n",
       "39        68      199              48             7          0  ...   \n",
       "40        40      228               2             3          0  ...   \n",
       "41        73      171               1             5          1  ...   \n",
       "42        32      216              37             3          0  ...   \n",
       "43        35      198               5            13          0  ...   \n",
       "44        75      162              39            12          0  ...   \n",
       "45        44      182               7             5          0  ...   \n",
       "46        80      202              24             6          0  ...   \n",
       "47        67      214              19             5          0  ...   \n",
       "48        50      218              23             3          0  ...   \n",
       "49        61      206              21            12          0  ...   \n",
       "\n",
       "    artist_Post Malone  artist_ROSALÍA  artist_Sam Smith  artist_Sech  \\\n",
       "0                False           False             False        False   \n",
       "1                False           False             False        False   \n",
       "2                False           False             False        False   \n",
       "3                False           False             False        False   \n",
       "4                 True           False             False        False   \n",
       "5                False           False             False        False   \n",
       "6                False           False             False        False   \n",
       "7                False           False              True        False   \n",
       "8                False           False             False        False   \n",
       "9                False           False             False        False   \n",
       "10               False           False             False        False   \n",
       "11               False           False             False        False   \n",
       "12               False           False             False        False   \n",
       "13               False           False             False         True   \n",
       "14               False           False             False        False   \n",
       "15               False           False             False        False   \n",
       "16               False           False             False        False   \n",
       "17                True           False             False        False   \n",
       "18               False           False             False        False   \n",
       "19               False           False             False        False   \n",
       "20               False           False             False        False   \n",
       "21               False           False             False        False   \n",
       "22               False           False             False        False   \n",
       "23               False           False             False        False   \n",
       "24               False           False             False        False   \n",
       "25               False           False             False        False   \n",
       "26               False           False             False        False   \n",
       "27               False           False             False        False   \n",
       "28               False           False             False        False   \n",
       "29               False           False             False        False   \n",
       "30               False           False             False        False   \n",
       "31               False           False             False        False   \n",
       "32               False           False             False        False   \n",
       "33               False           False             False        False   \n",
       "34               False           False             False        False   \n",
       "35               False           False             False        False   \n",
       "36               False           False             False         True   \n",
       "37               False           False             False        False   \n",
       "38               False           False             False        False   \n",
       "39               False           False             False        False   \n",
       "40               False           False             False        False   \n",
       "41               False           False             False        False   \n",
       "42               False           False             False        False   \n",
       "43               False           False             False        False   \n",
       "44               False            True             False        False   \n",
       "45               False           False             False        False   \n",
       "46               False           False             False        False   \n",
       "47               False           False             False        False   \n",
       "48               False           False             False        False   \n",
       "49               False           False             False        False   \n",
       "\n",
       "    artist_Shawn Mendes  artist_Taylor Swift  artist_The Chainsmokers  \\\n",
       "0                  True                False                    False   \n",
       "1                 False                False                    False   \n",
       "2                 False                False                    False   \n",
       "3                 False                False                    False   \n",
       "4                 False                False                    False   \n",
       "5                 False                False                    False   \n",
       "6                 False                False                    False   \n",
       "7                 False                False                    False   \n",
       "8                 False                False                    False   \n",
       "9                 False                False                    False   \n",
       "10                False                False                    False   \n",
       "11                False                False                    False   \n",
       "12                False                False                    False   \n",
       "13                False                False                    False   \n",
       "14                False                False                    False   \n",
       "15                False                False                    False   \n",
       "16                False                False                    False   \n",
       "17                False                False                    False   \n",
       "18                False                False                    False   \n",
       "19                False                False                    False   \n",
       "20                False                False                    False   \n",
       "21                False                False                    False   \n",
       "22                False                False                    False   \n",
       "23                False                False                    False   \n",
       "24                False                False                    False   \n",
       "25                 True                False                    False   \n",
       "26                False                False                    False   \n",
       "27                False                False                    False   \n",
       "28                False                False                    False   \n",
       "29                False                False                    False   \n",
       "30                False                False                     True   \n",
       "31                False                False                    False   \n",
       "32                False                False                    False   \n",
       "33                False                False                    False   \n",
       "34                False                False                    False   \n",
       "35                False                False                    False   \n",
       "36                False                False                    False   \n",
       "37                False                False                    False   \n",
       "38                False                False                    False   \n",
       "39                False                False                    False   \n",
       "40                False                False                    False   \n",
       "41                False                 True                    False   \n",
       "42                False                False                    False   \n",
       "43                False                False                    False   \n",
       "44                False                False                    False   \n",
       "45                False                False                    False   \n",
       "46                False                False                    False   \n",
       "47                False                False                    False   \n",
       "48                False                False                     True   \n",
       "49                False                False                    False   \n",
       "\n",
       "    artist_Tones and I  artist_Y2K  artist_Young Thug  \n",
       "0                False       False              False  \n",
       "1                False       False              False  \n",
       "2                False       False              False  \n",
       "3                False       False              False  \n",
       "4                False       False              False  \n",
       "5                False       False              False  \n",
       "6                False       False              False  \n",
       "7                False       False              False  \n",
       "8                False       False              False  \n",
       "9                False       False              False  \n",
       "10               False       False              False  \n",
       "11               False       False              False  \n",
       "12               False       False              False  \n",
       "13               False       False              False  \n",
       "14               False       False              False  \n",
       "15               False       False              False  \n",
       "16               False       False              False  \n",
       "17               False       False              False  \n",
       "18               False        True              False  \n",
       "19               False       False              False  \n",
       "20               False       False              False  \n",
       "21               False       False              False  \n",
       "22               False       False              False  \n",
       "23               False       False              False  \n",
       "24               False       False              False  \n",
       "25               False       False              False  \n",
       "26                True       False              False  \n",
       "27               False       False              False  \n",
       "28               False       False              False  \n",
       "29               False       False              False  \n",
       "30               False       False              False  \n",
       "31               False       False              False  \n",
       "32               False       False              False  \n",
       "33               False       False               True  \n",
       "34               False       False              False  \n",
       "35               False       False              False  \n",
       "36               False       False              False  \n",
       "37               False       False              False  \n",
       "38               False       False              False  \n",
       "39               False       False              False  \n",
       "40               False       False              False  \n",
       "41               False       False              False  \n",
       "42               False       False              False  \n",
       "43               False       False              False  \n",
       "44               False       False              False  \n",
       "45               False       False              False  \n",
       "46               False       False              False  \n",
       "47               False       False              False  \n",
       "48               False       False              False  \n",
       "49               False       False              False  \n",
       "\n",
       "[50 rows x 69 columns]"
      ]
     },
     "execution_count": 12,
     "metadata": {},
     "output_type": "execute_result"
    }
   ],
   "source": [
    "data"
   ]
  },
  {
   "cell_type": "code",
   "execution_count": 14,
   "id": "74ae14bc",
   "metadata": {
    "execution": {
     "iopub.execute_input": "2023-12-25T11:45:54.215531Z",
     "iopub.status.busy": "2023-12-25T11:45:54.215057Z",
     "iopub.status.idle": "2023-12-25T11:45:54.222427Z",
     "shell.execute_reply": "2023-12-25T11:45:54.220788Z"
    },
    "papermill": {
     "duration": 0.029472,
     "end_time": "2023-12-25T11:45:54.225298",
     "exception": false,
     "start_time": "2023-12-25T11:45:54.195826",
     "status": "completed"
    },
    "tags": []
   },
   "outputs": [],
   "source": [
    "data = data.astype(int)"
   ]
  },
  {
   "cell_type": "code",
   "execution_count": 14,
   "id": "1b73aba1",
   "metadata": {
    "execution": {
     "iopub.execute_input": "2023-12-25T11:45:54.262345Z",
     "iopub.status.busy": "2023-12-25T11:45:54.261867Z",
     "iopub.status.idle": "2023-12-25T11:45:54.304392Z",
     "shell.execute_reply": "2023-12-25T11:45:54.302978Z"
    },
    "papermill": {
     "duration": 0.064638,
     "end_time": "2023-12-25T11:45:54.307608",
     "exception": false,
     "start_time": "2023-12-25T11:45:54.242970",
     "status": "completed"
    },
    "tags": []
   },
   "outputs": [
    {
     "data": {
      "text/html": [
       "<div>\n",
       "<style scoped>\n",
       "    .dataframe tbody tr th:only-of-type {\n",
       "        vertical-align: middle;\n",
       "    }\n",
       "\n",
       "    .dataframe tbody tr th {\n",
       "        vertical-align: top;\n",
       "    }\n",
       "\n",
       "    .dataframe thead th {\n",
       "        text-align: right;\n",
       "    }\n",
       "</style>\n",
       "<table border=\"1\" class=\"dataframe\">\n",
       "  <thead>\n",
       "    <tr style=\"text-align: right;\">\n",
       "      <th></th>\n",
       "      <th>Beats.Per.Minute</th>\n",
       "      <th>Energy</th>\n",
       "      <th>Danceability</th>\n",
       "      <th>Loudness..dB..</th>\n",
       "      <th>Liveness</th>\n",
       "      <th>Valence.</th>\n",
       "      <th>Length.</th>\n",
       "      <th>Acousticness..</th>\n",
       "      <th>Speechiness.</th>\n",
       "      <th>Popularity</th>\n",
       "      <th>...</th>\n",
       "      <th>artist_Post Malone</th>\n",
       "      <th>artist_ROSALÍA</th>\n",
       "      <th>artist_Sam Smith</th>\n",
       "      <th>artist_Sech</th>\n",
       "      <th>artist_Shawn Mendes</th>\n",
       "      <th>artist_Taylor Swift</th>\n",
       "      <th>artist_The Chainsmokers</th>\n",
       "      <th>artist_Tones and I</th>\n",
       "      <th>artist_Y2K</th>\n",
       "      <th>artist_Young Thug</th>\n",
       "    </tr>\n",
       "  </thead>\n",
       "  <tbody>\n",
       "    <tr>\n",
       "      <th>0</th>\n",
       "      <td>117</td>\n",
       "      <td>55</td>\n",
       "      <td>76</td>\n",
       "      <td>-6</td>\n",
       "      <td>8</td>\n",
       "      <td>75</td>\n",
       "      <td>191</td>\n",
       "      <td>4</td>\n",
       "      <td>3</td>\n",
       "      <td>0</td>\n",
       "      <td>...</td>\n",
       "      <td>0</td>\n",
       "      <td>0</td>\n",
       "      <td>0</td>\n",
       "      <td>0</td>\n",
       "      <td>1</td>\n",
       "      <td>0</td>\n",
       "      <td>0</td>\n",
       "      <td>0</td>\n",
       "      <td>0</td>\n",
       "      <td>0</td>\n",
       "    </tr>\n",
       "    <tr>\n",
       "      <th>1</th>\n",
       "      <td>105</td>\n",
       "      <td>81</td>\n",
       "      <td>79</td>\n",
       "      <td>-4</td>\n",
       "      <td>8</td>\n",
       "      <td>61</td>\n",
       "      <td>302</td>\n",
       "      <td>8</td>\n",
       "      <td>9</td>\n",
       "      <td>1</td>\n",
       "      <td>...</td>\n",
       "      <td>0</td>\n",
       "      <td>0</td>\n",
       "      <td>0</td>\n",
       "      <td>0</td>\n",
       "      <td>0</td>\n",
       "      <td>0</td>\n",
       "      <td>0</td>\n",
       "      <td>0</td>\n",
       "      <td>0</td>\n",
       "      <td>0</td>\n",
       "    </tr>\n",
       "    <tr>\n",
       "      <th>2</th>\n",
       "      <td>190</td>\n",
       "      <td>80</td>\n",
       "      <td>40</td>\n",
       "      <td>-4</td>\n",
       "      <td>16</td>\n",
       "      <td>70</td>\n",
       "      <td>186</td>\n",
       "      <td>12</td>\n",
       "      <td>46</td>\n",
       "      <td>0</td>\n",
       "      <td>...</td>\n",
       "      <td>0</td>\n",
       "      <td>0</td>\n",
       "      <td>0</td>\n",
       "      <td>0</td>\n",
       "      <td>0</td>\n",
       "      <td>0</td>\n",
       "      <td>0</td>\n",
       "      <td>0</td>\n",
       "      <td>0</td>\n",
       "      <td>0</td>\n",
       "    </tr>\n",
       "    <tr>\n",
       "      <th>3</th>\n",
       "      <td>93</td>\n",
       "      <td>65</td>\n",
       "      <td>64</td>\n",
       "      <td>-8</td>\n",
       "      <td>8</td>\n",
       "      <td>55</td>\n",
       "      <td>198</td>\n",
       "      <td>12</td>\n",
       "      <td>19</td>\n",
       "      <td>0</td>\n",
       "      <td>...</td>\n",
       "      <td>0</td>\n",
       "      <td>0</td>\n",
       "      <td>0</td>\n",
       "      <td>0</td>\n",
       "      <td>0</td>\n",
       "      <td>0</td>\n",
       "      <td>0</td>\n",
       "      <td>0</td>\n",
       "      <td>0</td>\n",
       "      <td>0</td>\n",
       "    </tr>\n",
       "    <tr>\n",
       "      <th>4</th>\n",
       "      <td>150</td>\n",
       "      <td>65</td>\n",
       "      <td>58</td>\n",
       "      <td>-4</td>\n",
       "      <td>11</td>\n",
       "      <td>18</td>\n",
       "      <td>175</td>\n",
       "      <td>45</td>\n",
       "      <td>7</td>\n",
       "      <td>1</td>\n",
       "      <td>...</td>\n",
       "      <td>1</td>\n",
       "      <td>0</td>\n",
       "      <td>0</td>\n",
       "      <td>0</td>\n",
       "      <td>0</td>\n",
       "      <td>0</td>\n",
       "      <td>0</td>\n",
       "      <td>0</td>\n",
       "      <td>0</td>\n",
       "      <td>0</td>\n",
       "    </tr>\n",
       "    <tr>\n",
       "      <th>5</th>\n",
       "      <td>102</td>\n",
       "      <td>68</td>\n",
       "      <td>80</td>\n",
       "      <td>-5</td>\n",
       "      <td>9</td>\n",
       "      <td>84</td>\n",
       "      <td>220</td>\n",
       "      <td>9</td>\n",
       "      <td>4</td>\n",
       "      <td>0</td>\n",
       "      <td>...</td>\n",
       "      <td>0</td>\n",
       "      <td>0</td>\n",
       "      <td>0</td>\n",
       "      <td>0</td>\n",
       "      <td>0</td>\n",
       "      <td>0</td>\n",
       "      <td>0</td>\n",
       "      <td>0</td>\n",
       "      <td>0</td>\n",
       "      <td>0</td>\n",
       "    </tr>\n",
       "    <tr>\n",
       "      <th>6</th>\n",
       "      <td>180</td>\n",
       "      <td>64</td>\n",
       "      <td>75</td>\n",
       "      <td>-6</td>\n",
       "      <td>7</td>\n",
       "      <td>23</td>\n",
       "      <td>131</td>\n",
       "      <td>2</td>\n",
       "      <td>29</td>\n",
       "      <td>1</td>\n",
       "      <td>...</td>\n",
       "      <td>0</td>\n",
       "      <td>0</td>\n",
       "      <td>0</td>\n",
       "      <td>0</td>\n",
       "      <td>0</td>\n",
       "      <td>0</td>\n",
       "      <td>0</td>\n",
       "      <td>0</td>\n",
       "      <td>0</td>\n",
       "      <td>0</td>\n",
       "    </tr>\n",
       "    <tr>\n",
       "      <th>7</th>\n",
       "      <td>111</td>\n",
       "      <td>68</td>\n",
       "      <td>48</td>\n",
       "      <td>-5</td>\n",
       "      <td>8</td>\n",
       "      <td>35</td>\n",
       "      <td>202</td>\n",
       "      <td>15</td>\n",
       "      <td>9</td>\n",
       "      <td>1</td>\n",
       "      <td>...</td>\n",
       "      <td>0</td>\n",
       "      <td>0</td>\n",
       "      <td>1</td>\n",
       "      <td>0</td>\n",
       "      <td>0</td>\n",
       "      <td>0</td>\n",
       "      <td>0</td>\n",
       "      <td>0</td>\n",
       "      <td>0</td>\n",
       "      <td>0</td>\n",
       "    </tr>\n",
       "    <tr>\n",
       "      <th>8</th>\n",
       "      <td>136</td>\n",
       "      <td>62</td>\n",
       "      <td>88</td>\n",
       "      <td>-6</td>\n",
       "      <td>11</td>\n",
       "      <td>64</td>\n",
       "      <td>157</td>\n",
       "      <td>5</td>\n",
       "      <td>10</td>\n",
       "      <td>0</td>\n",
       "      <td>...</td>\n",
       "      <td>0</td>\n",
       "      <td>0</td>\n",
       "      <td>0</td>\n",
       "      <td>0</td>\n",
       "      <td>0</td>\n",
       "      <td>0</td>\n",
       "      <td>0</td>\n",
       "      <td>0</td>\n",
       "      <td>0</td>\n",
       "      <td>0</td>\n",
       "    </tr>\n",
       "    <tr>\n",
       "      <th>9</th>\n",
       "      <td>135</td>\n",
       "      <td>43</td>\n",
       "      <td>70</td>\n",
       "      <td>-11</td>\n",
       "      <td>10</td>\n",
       "      <td>56</td>\n",
       "      <td>194</td>\n",
       "      <td>33</td>\n",
       "      <td>38</td>\n",
       "      <td>1</td>\n",
       "      <td>...</td>\n",
       "      <td>0</td>\n",
       "      <td>0</td>\n",
       "      <td>0</td>\n",
       "      <td>0</td>\n",
       "      <td>0</td>\n",
       "      <td>0</td>\n",
       "      <td>0</td>\n",
       "      <td>0</td>\n",
       "      <td>0</td>\n",
       "      <td>0</td>\n",
       "    </tr>\n",
       "    <tr>\n",
       "      <th>10</th>\n",
       "      <td>176</td>\n",
       "      <td>62</td>\n",
       "      <td>61</td>\n",
       "      <td>-5</td>\n",
       "      <td>24</td>\n",
       "      <td>24</td>\n",
       "      <td>251</td>\n",
       "      <td>60</td>\n",
       "      <td>31</td>\n",
       "      <td>1</td>\n",
       "      <td>...</td>\n",
       "      <td>0</td>\n",
       "      <td>0</td>\n",
       "      <td>0</td>\n",
       "      <td>0</td>\n",
       "      <td>0</td>\n",
       "      <td>0</td>\n",
       "      <td>0</td>\n",
       "      <td>0</td>\n",
       "      <td>0</td>\n",
       "      <td>0</td>\n",
       "    </tr>\n",
       "    <tr>\n",
       "      <th>11</th>\n",
       "      <td>96</td>\n",
       "      <td>71</td>\n",
       "      <td>82</td>\n",
       "      <td>-4</td>\n",
       "      <td>15</td>\n",
       "      <td>38</td>\n",
       "      <td>185</td>\n",
       "      <td>28</td>\n",
       "      <td>7</td>\n",
       "      <td>0</td>\n",
       "      <td>...</td>\n",
       "      <td>0</td>\n",
       "      <td>0</td>\n",
       "      <td>0</td>\n",
       "      <td>0</td>\n",
       "      <td>0</td>\n",
       "      <td>0</td>\n",
       "      <td>0</td>\n",
       "      <td>0</td>\n",
       "      <td>0</td>\n",
       "      <td>0</td>\n",
       "    </tr>\n",
       "    <tr>\n",
       "      <th>12</th>\n",
       "      <td>110</td>\n",
       "      <td>41</td>\n",
       "      <td>50</td>\n",
       "      <td>-6</td>\n",
       "      <td>11</td>\n",
       "      <td>45</td>\n",
       "      <td>182</td>\n",
       "      <td>75</td>\n",
       "      <td>3</td>\n",
       "      <td>0</td>\n",
       "      <td>...</td>\n",
       "      <td>0</td>\n",
       "      <td>0</td>\n",
       "      <td>0</td>\n",
       "      <td>0</td>\n",
       "      <td>0</td>\n",
       "      <td>0</td>\n",
       "      <td>0</td>\n",
       "      <td>0</td>\n",
       "      <td>0</td>\n",
       "      <td>0</td>\n",
       "    </tr>\n",
       "    <tr>\n",
       "      <th>13</th>\n",
       "      <td>176</td>\n",
       "      <td>79</td>\n",
       "      <td>73</td>\n",
       "      <td>-2</td>\n",
       "      <td>6</td>\n",
       "      <td>76</td>\n",
       "      <td>288</td>\n",
       "      <td>7</td>\n",
       "      <td>20</td>\n",
       "      <td>0</td>\n",
       "      <td>...</td>\n",
       "      <td>0</td>\n",
       "      <td>0</td>\n",
       "      <td>0</td>\n",
       "      <td>1</td>\n",
       "      <td>0</td>\n",
       "      <td>0</td>\n",
       "      <td>0</td>\n",
       "      <td>0</td>\n",
       "      <td>0</td>\n",
       "      <td>0</td>\n",
       "    </tr>\n",
       "    <tr>\n",
       "      <th>14</th>\n",
       "      <td>101</td>\n",
       "      <td>50</td>\n",
       "      <td>83</td>\n",
       "      <td>-4</td>\n",
       "      <td>12</td>\n",
       "      <td>10</td>\n",
       "      <td>205</td>\n",
       "      <td>10</td>\n",
       "      <td>5</td>\n",
       "      <td>1</td>\n",
       "      <td>...</td>\n",
       "      <td>0</td>\n",
       "      <td>0</td>\n",
       "      <td>0</td>\n",
       "      <td>0</td>\n",
       "      <td>0</td>\n",
       "      <td>0</td>\n",
       "      <td>0</td>\n",
       "      <td>0</td>\n",
       "      <td>0</td>\n",
       "      <td>0</td>\n",
       "    </tr>\n",
       "    <tr>\n",
       "      <th>15</th>\n",
       "      <td>93</td>\n",
       "      <td>45</td>\n",
       "      <td>70</td>\n",
       "      <td>-7</td>\n",
       "      <td>16</td>\n",
       "      <td>14</td>\n",
       "      <td>261</td>\n",
       "      <td>12</td>\n",
       "      <td>15</td>\n",
       "      <td>0</td>\n",
       "      <td>...</td>\n",
       "      <td>0</td>\n",
       "      <td>0</td>\n",
       "      <td>0</td>\n",
       "      <td>0</td>\n",
       "      <td>0</td>\n",
       "      <td>0</td>\n",
       "      <td>0</td>\n",
       "      <td>0</td>\n",
       "      <td>0</td>\n",
       "      <td>0</td>\n",
       "    </tr>\n",
       "    <tr>\n",
       "      <th>16</th>\n",
       "      <td>176</td>\n",
       "      <td>65</td>\n",
       "      <td>75</td>\n",
       "      <td>-6</td>\n",
       "      <td>11</td>\n",
       "      <td>43</td>\n",
       "      <td>243</td>\n",
       "      <td>15</td>\n",
       "      <td>32</td>\n",
       "      <td>1</td>\n",
       "      <td>...</td>\n",
       "      <td>0</td>\n",
       "      <td>0</td>\n",
       "      <td>0</td>\n",
       "      <td>0</td>\n",
       "      <td>0</td>\n",
       "      <td>0</td>\n",
       "      <td>0</td>\n",
       "      <td>0</td>\n",
       "      <td>0</td>\n",
       "      <td>0</td>\n",
       "    </tr>\n",
       "    <tr>\n",
       "      <th>17</th>\n",
       "      <td>90</td>\n",
       "      <td>48</td>\n",
       "      <td>76</td>\n",
       "      <td>-6</td>\n",
       "      <td>7</td>\n",
       "      <td>91</td>\n",
       "      <td>158</td>\n",
       "      <td>56</td>\n",
       "      <td>5</td>\n",
       "      <td>1</td>\n",
       "      <td>...</td>\n",
       "      <td>1</td>\n",
       "      <td>0</td>\n",
       "      <td>0</td>\n",
       "      <td>0</td>\n",
       "      <td>0</td>\n",
       "      <td>0</td>\n",
       "      <td>0</td>\n",
       "      <td>0</td>\n",
       "      <td>0</td>\n",
       "      <td>0</td>\n",
       "    </tr>\n",
       "    <tr>\n",
       "      <th>18</th>\n",
       "      <td>130</td>\n",
       "      <td>39</td>\n",
       "      <td>84</td>\n",
       "      <td>-8</td>\n",
       "      <td>14</td>\n",
       "      <td>50</td>\n",
       "      <td>161</td>\n",
       "      <td>18</td>\n",
       "      <td>8</td>\n",
       "      <td>0</td>\n",
       "      <td>...</td>\n",
       "      <td>0</td>\n",
       "      <td>0</td>\n",
       "      <td>0</td>\n",
       "      <td>0</td>\n",
       "      <td>0</td>\n",
       "      <td>0</td>\n",
       "      <td>0</td>\n",
       "      <td>0</td>\n",
       "      <td>1</td>\n",
       "      <td>0</td>\n",
       "    </tr>\n",
       "    <tr>\n",
       "      <th>19</th>\n",
       "      <td>158</td>\n",
       "      <td>62</td>\n",
       "      <td>72</td>\n",
       "      <td>-3</td>\n",
       "      <td>12</td>\n",
       "      <td>41</td>\n",
       "      <td>173</td>\n",
       "      <td>11</td>\n",
       "      <td>11</td>\n",
       "      <td>1</td>\n",
       "      <td>...</td>\n",
       "      <td>0</td>\n",
       "      <td>0</td>\n",
       "      <td>0</td>\n",
       "      <td>0</td>\n",
       "      <td>0</td>\n",
       "      <td>0</td>\n",
       "      <td>0</td>\n",
       "      <td>0</td>\n",
       "      <td>0</td>\n",
       "      <td>0</td>\n",
       "    </tr>\n",
       "    <tr>\n",
       "      <th>20</th>\n",
       "      <td>124</td>\n",
       "      <td>74</td>\n",
       "      <td>68</td>\n",
       "      <td>-7</td>\n",
       "      <td>7</td>\n",
       "      <td>63</td>\n",
       "      <td>153</td>\n",
       "      <td>4</td>\n",
       "      <td>3</td>\n",
       "      <td>1</td>\n",
       "      <td>...</td>\n",
       "      <td>0</td>\n",
       "      <td>0</td>\n",
       "      <td>0</td>\n",
       "      <td>0</td>\n",
       "      <td>0</td>\n",
       "      <td>0</td>\n",
       "      <td>0</td>\n",
       "      <td>0</td>\n",
       "      <td>0</td>\n",
       "      <td>0</td>\n",
       "    </tr>\n",
       "    <tr>\n",
       "      <th>21</th>\n",
       "      <td>154</td>\n",
       "      <td>59</td>\n",
       "      <td>70</td>\n",
       "      <td>-6</td>\n",
       "      <td>12</td>\n",
       "      <td>48</td>\n",
       "      <td>115</td>\n",
       "      <td>34</td>\n",
       "      <td>8</td>\n",
       "      <td>1</td>\n",
       "      <td>...</td>\n",
       "      <td>0</td>\n",
       "      <td>0</td>\n",
       "      <td>0</td>\n",
       "      <td>0</td>\n",
       "      <td>0</td>\n",
       "      <td>0</td>\n",
       "      <td>0</td>\n",
       "      <td>0</td>\n",
       "      <td>0</td>\n",
       "      <td>0</td>\n",
       "    </tr>\n",
       "    <tr>\n",
       "      <th>22</th>\n",
       "      <td>92</td>\n",
       "      <td>79</td>\n",
       "      <td>81</td>\n",
       "      <td>-4</td>\n",
       "      <td>9</td>\n",
       "      <td>58</td>\n",
       "      <td>309</td>\n",
       "      <td>14</td>\n",
       "      <td>7</td>\n",
       "      <td>0</td>\n",
       "      <td>...</td>\n",
       "      <td>0</td>\n",
       "      <td>0</td>\n",
       "      <td>0</td>\n",
       "      <td>0</td>\n",
       "      <td>0</td>\n",
       "      <td>0</td>\n",
       "      <td>0</td>\n",
       "      <td>0</td>\n",
       "      <td>0</td>\n",
       "      <td>0</td>\n",
       "    </tr>\n",
       "    <tr>\n",
       "      <th>23</th>\n",
       "      <td>92</td>\n",
       "      <td>78</td>\n",
       "      <td>80</td>\n",
       "      <td>-4</td>\n",
       "      <td>44</td>\n",
       "      <td>80</td>\n",
       "      <td>266</td>\n",
       "      <td>36</td>\n",
       "      <td>4</td>\n",
       "      <td>1</td>\n",
       "      <td>...</td>\n",
       "      <td>0</td>\n",
       "      <td>0</td>\n",
       "      <td>0</td>\n",
       "      <td>0</td>\n",
       "      <td>0</td>\n",
       "      <td>0</td>\n",
       "      <td>0</td>\n",
       "      <td>0</td>\n",
       "      <td>0</td>\n",
       "      <td>0</td>\n",
       "    </tr>\n",
       "    <tr>\n",
       "      <th>24</th>\n",
       "      <td>135</td>\n",
       "      <td>45</td>\n",
       "      <td>67</td>\n",
       "      <td>-11</td>\n",
       "      <td>12</td>\n",
       "      <td>68</td>\n",
       "      <td>195</td>\n",
       "      <td>25</td>\n",
       "      <td>30</td>\n",
       "      <td>1</td>\n",
       "      <td>...</td>\n",
       "      <td>0</td>\n",
       "      <td>0</td>\n",
       "      <td>0</td>\n",
       "      <td>0</td>\n",
       "      <td>0</td>\n",
       "      <td>0</td>\n",
       "      <td>0</td>\n",
       "      <td>0</td>\n",
       "      <td>0</td>\n",
       "      <td>0</td>\n",
       "    </tr>\n",
       "    <tr>\n",
       "      <th>25</th>\n",
       "      <td>124</td>\n",
       "      <td>82</td>\n",
       "      <td>69</td>\n",
       "      <td>-4</td>\n",
       "      <td>13</td>\n",
       "      <td>87</td>\n",
       "      <td>191</td>\n",
       "      <td>49</td>\n",
       "      <td>6</td>\n",
       "      <td>0</td>\n",
       "      <td>...</td>\n",
       "      <td>0</td>\n",
       "      <td>0</td>\n",
       "      <td>0</td>\n",
       "      <td>0</td>\n",
       "      <td>1</td>\n",
       "      <td>0</td>\n",
       "      <td>0</td>\n",
       "      <td>0</td>\n",
       "      <td>0</td>\n",
       "      <td>0</td>\n",
       "    </tr>\n",
       "    <tr>\n",
       "      <th>26</th>\n",
       "      <td>98</td>\n",
       "      <td>59</td>\n",
       "      <td>82</td>\n",
       "      <td>-6</td>\n",
       "      <td>18</td>\n",
       "      <td>54</td>\n",
       "      <td>210</td>\n",
       "      <td>69</td>\n",
       "      <td>10</td>\n",
       "      <td>0</td>\n",
       "      <td>...</td>\n",
       "      <td>0</td>\n",
       "      <td>0</td>\n",
       "      <td>0</td>\n",
       "      <td>0</td>\n",
       "      <td>0</td>\n",
       "      <td>0</td>\n",
       "      <td>0</td>\n",
       "      <td>1</td>\n",
       "      <td>0</td>\n",
       "      <td>0</td>\n",
       "    </tr>\n",
       "    <tr>\n",
       "      <th>27</th>\n",
       "      <td>96</td>\n",
       "      <td>46</td>\n",
       "      <td>73</td>\n",
       "      <td>-7</td>\n",
       "      <td>19</td>\n",
       "      <td>40</td>\n",
       "      <td>213</td>\n",
       "      <td>37</td>\n",
       "      <td>3</td>\n",
       "      <td>1</td>\n",
       "      <td>...</td>\n",
       "      <td>0</td>\n",
       "      <td>0</td>\n",
       "      <td>0</td>\n",
       "      <td>0</td>\n",
       "      <td>0</td>\n",
       "      <td>0</td>\n",
       "      <td>0</td>\n",
       "      <td>0</td>\n",
       "      <td>0</td>\n",
       "      <td>0</td>\n",
       "    </tr>\n",
       "    <tr>\n",
       "      <th>28</th>\n",
       "      <td>94</td>\n",
       "      <td>86</td>\n",
       "      <td>74</td>\n",
       "      <td>-3</td>\n",
       "      <td>6</td>\n",
       "      <td>66</td>\n",
       "      <td>193</td>\n",
       "      <td>11</td>\n",
       "      <td>6</td>\n",
       "      <td>1</td>\n",
       "      <td>...</td>\n",
       "      <td>0</td>\n",
       "      <td>0</td>\n",
       "      <td>0</td>\n",
       "      <td>0</td>\n",
       "      <td>0</td>\n",
       "      <td>0</td>\n",
       "      <td>0</td>\n",
       "      <td>0</td>\n",
       "      <td>0</td>\n",
       "      <td>0</td>\n",
       "    </tr>\n",
       "    <tr>\n",
       "      <th>29</th>\n",
       "      <td>93</td>\n",
       "      <td>79</td>\n",
       "      <td>64</td>\n",
       "      <td>-4</td>\n",
       "      <td>36</td>\n",
       "      <td>94</td>\n",
       "      <td>222</td>\n",
       "      <td>3</td>\n",
       "      <td>25</td>\n",
       "      <td>1</td>\n",
       "      <td>...</td>\n",
       "      <td>0</td>\n",
       "      <td>0</td>\n",
       "      <td>0</td>\n",
       "      <td>0</td>\n",
       "      <td>0</td>\n",
       "      <td>0</td>\n",
       "      <td>0</td>\n",
       "      <td>0</td>\n",
       "      <td>0</td>\n",
       "      <td>0</td>\n",
       "    </tr>\n",
       "    <tr>\n",
       "      <th>30</th>\n",
       "      <td>85</td>\n",
       "      <td>51</td>\n",
       "      <td>29</td>\n",
       "      <td>-8</td>\n",
       "      <td>10</td>\n",
       "      <td>36</td>\n",
       "      <td>210</td>\n",
       "      <td>12</td>\n",
       "      <td>4</td>\n",
       "      <td>0</td>\n",
       "      <td>...</td>\n",
       "      <td>0</td>\n",
       "      <td>0</td>\n",
       "      <td>0</td>\n",
       "      <td>0</td>\n",
       "      <td>0</td>\n",
       "      <td>0</td>\n",
       "      <td>1</td>\n",
       "      <td>0</td>\n",
       "      <td>0</td>\n",
       "      <td>0</td>\n",
       "    </tr>\n",
       "    <tr>\n",
       "      <th>31</th>\n",
       "      <td>140</td>\n",
       "      <td>32</td>\n",
       "      <td>78</td>\n",
       "      <td>-11</td>\n",
       "      <td>9</td>\n",
       "      <td>33</td>\n",
       "      <td>179</td>\n",
       "      <td>59</td>\n",
       "      <td>33</td>\n",
       "      <td>1</td>\n",
       "      <td>...</td>\n",
       "      <td>0</td>\n",
       "      <td>0</td>\n",
       "      <td>0</td>\n",
       "      <td>0</td>\n",
       "      <td>0</td>\n",
       "      <td>0</td>\n",
       "      <td>0</td>\n",
       "      <td>0</td>\n",
       "      <td>0</td>\n",
       "      <td>0</td>\n",
       "    </tr>\n",
       "    <tr>\n",
       "      <th>32</th>\n",
       "      <td>96</td>\n",
       "      <td>71</td>\n",
       "      <td>78</td>\n",
       "      <td>-5</td>\n",
       "      <td>9</td>\n",
       "      <td>68</td>\n",
       "      <td>176</td>\n",
       "      <td>22</td>\n",
       "      <td>28</td>\n",
       "      <td>1</td>\n",
       "      <td>...</td>\n",
       "      <td>0</td>\n",
       "      <td>0</td>\n",
       "      <td>0</td>\n",
       "      <td>0</td>\n",
       "      <td>0</td>\n",
       "      <td>0</td>\n",
       "      <td>0</td>\n",
       "      <td>0</td>\n",
       "      <td>0</td>\n",
       "      <td>0</td>\n",
       "    </tr>\n",
       "    <tr>\n",
       "      <th>33</th>\n",
       "      <td>98</td>\n",
       "      <td>59</td>\n",
       "      <td>80</td>\n",
       "      <td>-7</td>\n",
       "      <td>13</td>\n",
       "      <td>18</td>\n",
       "      <td>200</td>\n",
       "      <td>2</td>\n",
       "      <td>15</td>\n",
       "      <td>1</td>\n",
       "      <td>...</td>\n",
       "      <td>0</td>\n",
       "      <td>0</td>\n",
       "      <td>0</td>\n",
       "      <td>0</td>\n",
       "      <td>0</td>\n",
       "      <td>0</td>\n",
       "      <td>0</td>\n",
       "      <td>0</td>\n",
       "      <td>0</td>\n",
       "      <td>1</td>\n",
       "    </tr>\n",
       "    <tr>\n",
       "      <th>34</th>\n",
       "      <td>100</td>\n",
       "      <td>88</td>\n",
       "      <td>77</td>\n",
       "      <td>-5</td>\n",
       "      <td>32</td>\n",
       "      <td>39</td>\n",
       "      <td>224</td>\n",
       "      <td>19</td>\n",
       "      <td>6</td>\n",
       "      <td>1</td>\n",
       "      <td>...</td>\n",
       "      <td>0</td>\n",
       "      <td>0</td>\n",
       "      <td>0</td>\n",
       "      <td>0</td>\n",
       "      <td>0</td>\n",
       "      <td>0</td>\n",
       "      <td>0</td>\n",
       "      <td>0</td>\n",
       "      <td>0</td>\n",
       "      <td>0</td>\n",
       "    </tr>\n",
       "    <tr>\n",
       "      <th>35</th>\n",
       "      <td>114</td>\n",
       "      <td>72</td>\n",
       "      <td>66</td>\n",
       "      <td>-7</td>\n",
       "      <td>14</td>\n",
       "      <td>32</td>\n",
       "      <td>164</td>\n",
       "      <td>18</td>\n",
       "      <td>6</td>\n",
       "      <td>1</td>\n",
       "      <td>...</td>\n",
       "      <td>0</td>\n",
       "      <td>0</td>\n",
       "      <td>0</td>\n",
       "      <td>0</td>\n",
       "      <td>0</td>\n",
       "      <td>0</td>\n",
       "      <td>0</td>\n",
       "      <td>0</td>\n",
       "      <td>0</td>\n",
       "      <td>0</td>\n",
       "    </tr>\n",
       "    <tr>\n",
       "      <th>36</th>\n",
       "      <td>176</td>\n",
       "      <td>70</td>\n",
       "      <td>75</td>\n",
       "      <td>-5</td>\n",
       "      <td>11</td>\n",
       "      <td>62</td>\n",
       "      <td>226</td>\n",
       "      <td>14</td>\n",
       "      <td>34</td>\n",
       "      <td>1</td>\n",
       "      <td>...</td>\n",
       "      <td>0</td>\n",
       "      <td>0</td>\n",
       "      <td>0</td>\n",
       "      <td>1</td>\n",
       "      <td>0</td>\n",
       "      <td>0</td>\n",
       "      <td>0</td>\n",
       "      <td>0</td>\n",
       "      <td>0</td>\n",
       "      <td>0</td>\n",
       "    </tr>\n",
       "    <tr>\n",
       "      <th>37</th>\n",
       "      <td>152</td>\n",
       "      <td>82</td>\n",
       "      <td>72</td>\n",
       "      <td>-5</td>\n",
       "      <td>36</td>\n",
       "      <td>91</td>\n",
       "      <td>162</td>\n",
       "      <td>13</td>\n",
       "      <td>5</td>\n",
       "      <td>0</td>\n",
       "      <td>...</td>\n",
       "      <td>0</td>\n",
       "      <td>0</td>\n",
       "      <td>0</td>\n",
       "      <td>0</td>\n",
       "      <td>0</td>\n",
       "      <td>0</td>\n",
       "      <td>0</td>\n",
       "      <td>0</td>\n",
       "      <td>0</td>\n",
       "      <td>0</td>\n",
       "    </tr>\n",
       "    <tr>\n",
       "      <th>38</th>\n",
       "      <td>138</td>\n",
       "      <td>73</td>\n",
       "      <td>84</td>\n",
       "      <td>-5</td>\n",
       "      <td>11</td>\n",
       "      <td>95</td>\n",
       "      <td>181</td>\n",
       "      <td>4</td>\n",
       "      <td>6</td>\n",
       "      <td>0</td>\n",
       "      <td>...</td>\n",
       "      <td>0</td>\n",
       "      <td>0</td>\n",
       "      <td>0</td>\n",
       "      <td>0</td>\n",
       "      <td>0</td>\n",
       "      <td>0</td>\n",
       "      <td>0</td>\n",
       "      <td>0</td>\n",
       "      <td>0</td>\n",
       "      <td>0</td>\n",
       "    </tr>\n",
       "    <tr>\n",
       "      <th>39</th>\n",
       "      <td>95</td>\n",
       "      <td>56</td>\n",
       "      <td>81</td>\n",
       "      <td>-6</td>\n",
       "      <td>6</td>\n",
       "      <td>68</td>\n",
       "      <td>199</td>\n",
       "      <td>48</td>\n",
       "      <td>7</td>\n",
       "      <td>0</td>\n",
       "      <td>...</td>\n",
       "      <td>0</td>\n",
       "      <td>0</td>\n",
       "      <td>0</td>\n",
       "      <td>0</td>\n",
       "      <td>0</td>\n",
       "      <td>0</td>\n",
       "      <td>0</td>\n",
       "      <td>0</td>\n",
       "      <td>0</td>\n",
       "      <td>0</td>\n",
       "    </tr>\n",
       "    <tr>\n",
       "      <th>40</th>\n",
       "      <td>104</td>\n",
       "      <td>68</td>\n",
       "      <td>69</td>\n",
       "      <td>-7</td>\n",
       "      <td>10</td>\n",
       "      <td>40</td>\n",
       "      <td>228</td>\n",
       "      <td>2</td>\n",
       "      <td>3</td>\n",
       "      <td>0</td>\n",
       "      <td>...</td>\n",
       "      <td>0</td>\n",
       "      <td>0</td>\n",
       "      <td>0</td>\n",
       "      <td>0</td>\n",
       "      <td>0</td>\n",
       "      <td>0</td>\n",
       "      <td>0</td>\n",
       "      <td>0</td>\n",
       "      <td>0</td>\n",
       "      <td>0</td>\n",
       "    </tr>\n",
       "    <tr>\n",
       "      <th>41</th>\n",
       "      <td>85</td>\n",
       "      <td>68</td>\n",
       "      <td>77</td>\n",
       "      <td>-6</td>\n",
       "      <td>7</td>\n",
       "      <td>73</td>\n",
       "      <td>171</td>\n",
       "      <td>1</td>\n",
       "      <td>5</td>\n",
       "      <td>1</td>\n",
       "      <td>...</td>\n",
       "      <td>0</td>\n",
       "      <td>0</td>\n",
       "      <td>0</td>\n",
       "      <td>0</td>\n",
       "      <td>0</td>\n",
       "      <td>1</td>\n",
       "      <td>0</td>\n",
       "      <td>0</td>\n",
       "      <td>0</td>\n",
       "      <td>0</td>\n",
       "    </tr>\n",
       "    <tr>\n",
       "      <th>42</th>\n",
       "      <td>96</td>\n",
       "      <td>39</td>\n",
       "      <td>57</td>\n",
       "      <td>-6</td>\n",
       "      <td>23</td>\n",
       "      <td>32</td>\n",
       "      <td>216</td>\n",
       "      <td>37</td>\n",
       "      <td>3</td>\n",
       "      <td>0</td>\n",
       "      <td>...</td>\n",
       "      <td>0</td>\n",
       "      <td>0</td>\n",
       "      <td>0</td>\n",
       "      <td>0</td>\n",
       "      <td>0</td>\n",
       "      <td>0</td>\n",
       "      <td>0</td>\n",
       "      <td>0</td>\n",
       "      <td>0</td>\n",
       "      <td>0</td>\n",
       "    </tr>\n",
       "    <tr>\n",
       "      <th>43</th>\n",
       "      <td>136</td>\n",
       "      <td>40</td>\n",
       "      <td>90</td>\n",
       "      <td>-9</td>\n",
       "      <td>6</td>\n",
       "      <td>35</td>\n",
       "      <td>198</td>\n",
       "      <td>5</td>\n",
       "      <td>13</td>\n",
       "      <td>0</td>\n",
       "      <td>...</td>\n",
       "      <td>0</td>\n",
       "      <td>0</td>\n",
       "      <td>0</td>\n",
       "      <td>0</td>\n",
       "      <td>0</td>\n",
       "      <td>0</td>\n",
       "      <td>0</td>\n",
       "      <td>0</td>\n",
       "      <td>0</td>\n",
       "      <td>0</td>\n",
       "    </tr>\n",
       "    <tr>\n",
       "      <th>44</th>\n",
       "      <td>98</td>\n",
       "      <td>69</td>\n",
       "      <td>88</td>\n",
       "      <td>-4</td>\n",
       "      <td>5</td>\n",
       "      <td>75</td>\n",
       "      <td>162</td>\n",
       "      <td>39</td>\n",
       "      <td>12</td>\n",
       "      <td>0</td>\n",
       "      <td>...</td>\n",
       "      <td>0</td>\n",
       "      <td>1</td>\n",
       "      <td>0</td>\n",
       "      <td>0</td>\n",
       "      <td>0</td>\n",
       "      <td>0</td>\n",
       "      <td>0</td>\n",
       "      <td>0</td>\n",
       "      <td>0</td>\n",
       "      <td>0</td>\n",
       "    </tr>\n",
       "    <tr>\n",
       "      <th>45</th>\n",
       "      <td>88</td>\n",
       "      <td>62</td>\n",
       "      <td>66</td>\n",
       "      <td>-2</td>\n",
       "      <td>58</td>\n",
       "      <td>44</td>\n",
       "      <td>182</td>\n",
       "      <td>7</td>\n",
       "      <td>5</td>\n",
       "      <td>0</td>\n",
       "      <td>...</td>\n",
       "      <td>0</td>\n",
       "      <td>0</td>\n",
       "      <td>0</td>\n",
       "      <td>0</td>\n",
       "      <td>0</td>\n",
       "      <td>0</td>\n",
       "      <td>0</td>\n",
       "      <td>0</td>\n",
       "      <td>0</td>\n",
       "      <td>0</td>\n",
       "    </tr>\n",
       "    <tr>\n",
       "      <th>46</th>\n",
       "      <td>176</td>\n",
       "      <td>75</td>\n",
       "      <td>67</td>\n",
       "      <td>-4</td>\n",
       "      <td>8</td>\n",
       "      <td>80</td>\n",
       "      <td>202</td>\n",
       "      <td>24</td>\n",
       "      <td>6</td>\n",
       "      <td>0</td>\n",
       "      <td>...</td>\n",
       "      <td>0</td>\n",
       "      <td>0</td>\n",
       "      <td>0</td>\n",
       "      <td>0</td>\n",
       "      <td>0</td>\n",
       "      <td>0</td>\n",
       "      <td>0</td>\n",
       "      <td>0</td>\n",
       "      <td>0</td>\n",
       "      <td>0</td>\n",
       "    </tr>\n",
       "    <tr>\n",
       "      <th>47</th>\n",
       "      <td>100</td>\n",
       "      <td>79</td>\n",
       "      <td>69</td>\n",
       "      <td>-3</td>\n",
       "      <td>17</td>\n",
       "      <td>67</td>\n",
       "      <td>214</td>\n",
       "      <td>19</td>\n",
       "      <td>5</td>\n",
       "      <td>0</td>\n",
       "      <td>...</td>\n",
       "      <td>0</td>\n",
       "      <td>0</td>\n",
       "      <td>0</td>\n",
       "      <td>0</td>\n",
       "      <td>0</td>\n",
       "      <td>0</td>\n",
       "      <td>0</td>\n",
       "      <td>0</td>\n",
       "      <td>0</td>\n",
       "      <td>0</td>\n",
       "    </tr>\n",
       "    <tr>\n",
       "      <th>48</th>\n",
       "      <td>104</td>\n",
       "      <td>70</td>\n",
       "      <td>59</td>\n",
       "      <td>-6</td>\n",
       "      <td>41</td>\n",
       "      <td>50</td>\n",
       "      <td>218</td>\n",
       "      <td>23</td>\n",
       "      <td>3</td>\n",
       "      <td>0</td>\n",
       "      <td>...</td>\n",
       "      <td>0</td>\n",
       "      <td>0</td>\n",
       "      <td>0</td>\n",
       "      <td>0</td>\n",
       "      <td>0</td>\n",
       "      <td>0</td>\n",
       "      <td>1</td>\n",
       "      <td>0</td>\n",
       "      <td>0</td>\n",
       "      <td>0</td>\n",
       "    </tr>\n",
       "    <tr>\n",
       "      <th>49</th>\n",
       "      <td>95</td>\n",
       "      <td>79</td>\n",
       "      <td>75</td>\n",
       "      <td>-6</td>\n",
       "      <td>7</td>\n",
       "      <td>61</td>\n",
       "      <td>206</td>\n",
       "      <td>21</td>\n",
       "      <td>12</td>\n",
       "      <td>0</td>\n",
       "      <td>...</td>\n",
       "      <td>0</td>\n",
       "      <td>0</td>\n",
       "      <td>0</td>\n",
       "      <td>0</td>\n",
       "      <td>0</td>\n",
       "      <td>0</td>\n",
       "      <td>0</td>\n",
       "      <td>0</td>\n",
       "      <td>0</td>\n",
       "      <td>0</td>\n",
       "    </tr>\n",
       "  </tbody>\n",
       "</table>\n",
       "<p>50 rows × 69 columns</p>\n",
       "</div>"
      ],
      "text/plain": [
       "    Beats.Per.Minute  Energy  Danceability  Loudness..dB..  Liveness  \\\n",
       "0                117      55            76              -6         8   \n",
       "1                105      81            79              -4         8   \n",
       "2                190      80            40              -4        16   \n",
       "3                 93      65            64              -8         8   \n",
       "4                150      65            58              -4        11   \n",
       "5                102      68            80              -5         9   \n",
       "6                180      64            75              -6         7   \n",
       "7                111      68            48              -5         8   \n",
       "8                136      62            88              -6        11   \n",
       "9                135      43            70             -11        10   \n",
       "10               176      62            61              -5        24   \n",
       "11                96      71            82              -4        15   \n",
       "12               110      41            50              -6        11   \n",
       "13               176      79            73              -2         6   \n",
       "14               101      50            83              -4        12   \n",
       "15                93      45            70              -7        16   \n",
       "16               176      65            75              -6        11   \n",
       "17                90      48            76              -6         7   \n",
       "18               130      39            84              -8        14   \n",
       "19               158      62            72              -3        12   \n",
       "20               124      74            68              -7         7   \n",
       "21               154      59            70              -6        12   \n",
       "22                92      79            81              -4         9   \n",
       "23                92      78            80              -4        44   \n",
       "24               135      45            67             -11        12   \n",
       "25               124      82            69              -4        13   \n",
       "26                98      59            82              -6        18   \n",
       "27                96      46            73              -7        19   \n",
       "28                94      86            74              -3         6   \n",
       "29                93      79            64              -4        36   \n",
       "30                85      51            29              -8        10   \n",
       "31               140      32            78             -11         9   \n",
       "32                96      71            78              -5         9   \n",
       "33                98      59            80              -7        13   \n",
       "34               100      88            77              -5        32   \n",
       "35               114      72            66              -7        14   \n",
       "36               176      70            75              -5        11   \n",
       "37               152      82            72              -5        36   \n",
       "38               138      73            84              -5        11   \n",
       "39                95      56            81              -6         6   \n",
       "40               104      68            69              -7        10   \n",
       "41                85      68            77              -6         7   \n",
       "42                96      39            57              -6        23   \n",
       "43               136      40            90              -9         6   \n",
       "44                98      69            88              -4         5   \n",
       "45                88      62            66              -2        58   \n",
       "46               176      75            67              -4         8   \n",
       "47               100      79            69              -3        17   \n",
       "48               104      70            59              -6        41   \n",
       "49                95      79            75              -6         7   \n",
       "\n",
       "    Valence.  Length.  Acousticness..  Speechiness.  Popularity  ...  \\\n",
       "0         75      191               4             3           0  ...   \n",
       "1         61      302               8             9           1  ...   \n",
       "2         70      186              12            46           0  ...   \n",
       "3         55      198              12            19           0  ...   \n",
       "4         18      175              45             7           1  ...   \n",
       "5         84      220               9             4           0  ...   \n",
       "6         23      131               2            29           1  ...   \n",
       "7         35      202              15             9           1  ...   \n",
       "8         64      157               5            10           0  ...   \n",
       "9         56      194              33            38           1  ...   \n",
       "10        24      251              60            31           1  ...   \n",
       "11        38      185              28             7           0  ...   \n",
       "12        45      182              75             3           0  ...   \n",
       "13        76      288               7            20           0  ...   \n",
       "14        10      205              10             5           1  ...   \n",
       "15        14      261              12            15           0  ...   \n",
       "16        43      243              15            32           1  ...   \n",
       "17        91      158              56             5           1  ...   \n",
       "18        50      161              18             8           0  ...   \n",
       "19        41      173              11            11           1  ...   \n",
       "20        63      153               4             3           1  ...   \n",
       "21        48      115              34             8           1  ...   \n",
       "22        58      309              14             7           0  ...   \n",
       "23        80      266              36             4           1  ...   \n",
       "24        68      195              25            30           1  ...   \n",
       "25        87      191              49             6           0  ...   \n",
       "26        54      210              69            10           0  ...   \n",
       "27        40      213              37             3           1  ...   \n",
       "28        66      193              11             6           1  ...   \n",
       "29        94      222               3            25           1  ...   \n",
       "30        36      210              12             4           0  ...   \n",
       "31        33      179              59            33           1  ...   \n",
       "32        68      176              22            28           1  ...   \n",
       "33        18      200               2            15           1  ...   \n",
       "34        39      224              19             6           1  ...   \n",
       "35        32      164              18             6           1  ...   \n",
       "36        62      226              14            34           1  ...   \n",
       "37        91      162              13             5           0  ...   \n",
       "38        95      181               4             6           0  ...   \n",
       "39        68      199              48             7           0  ...   \n",
       "40        40      228               2             3           0  ...   \n",
       "41        73      171               1             5           1  ...   \n",
       "42        32      216              37             3           0  ...   \n",
       "43        35      198               5            13           0  ...   \n",
       "44        75      162              39            12           0  ...   \n",
       "45        44      182               7             5           0  ...   \n",
       "46        80      202              24             6           0  ...   \n",
       "47        67      214              19             5           0  ...   \n",
       "48        50      218              23             3           0  ...   \n",
       "49        61      206              21            12           0  ...   \n",
       "\n",
       "    artist_Post Malone  artist_ROSALÍA  artist_Sam Smith  artist_Sech  \\\n",
       "0                    0               0                 0            0   \n",
       "1                    0               0                 0            0   \n",
       "2                    0               0                 0            0   \n",
       "3                    0               0                 0            0   \n",
       "4                    1               0                 0            0   \n",
       "5                    0               0                 0            0   \n",
       "6                    0               0                 0            0   \n",
       "7                    0               0                 1            0   \n",
       "8                    0               0                 0            0   \n",
       "9                    0               0                 0            0   \n",
       "10                   0               0                 0            0   \n",
       "11                   0               0                 0            0   \n",
       "12                   0               0                 0            0   \n",
       "13                   0               0                 0            1   \n",
       "14                   0               0                 0            0   \n",
       "15                   0               0                 0            0   \n",
       "16                   0               0                 0            0   \n",
       "17                   1               0                 0            0   \n",
       "18                   0               0                 0            0   \n",
       "19                   0               0                 0            0   \n",
       "20                   0               0                 0            0   \n",
       "21                   0               0                 0            0   \n",
       "22                   0               0                 0            0   \n",
       "23                   0               0                 0            0   \n",
       "24                   0               0                 0            0   \n",
       "25                   0               0                 0            0   \n",
       "26                   0               0                 0            0   \n",
       "27                   0               0                 0            0   \n",
       "28                   0               0                 0            0   \n",
       "29                   0               0                 0            0   \n",
       "30                   0               0                 0            0   \n",
       "31                   0               0                 0            0   \n",
       "32                   0               0                 0            0   \n",
       "33                   0               0                 0            0   \n",
       "34                   0               0                 0            0   \n",
       "35                   0               0                 0            0   \n",
       "36                   0               0                 0            1   \n",
       "37                   0               0                 0            0   \n",
       "38                   0               0                 0            0   \n",
       "39                   0               0                 0            0   \n",
       "40                   0               0                 0            0   \n",
       "41                   0               0                 0            0   \n",
       "42                   0               0                 0            0   \n",
       "43                   0               0                 0            0   \n",
       "44                   0               1                 0            0   \n",
       "45                   0               0                 0            0   \n",
       "46                   0               0                 0            0   \n",
       "47                   0               0                 0            0   \n",
       "48                   0               0                 0            0   \n",
       "49                   0               0                 0            0   \n",
       "\n",
       "    artist_Shawn Mendes  artist_Taylor Swift  artist_The Chainsmokers  \\\n",
       "0                     1                    0                        0   \n",
       "1                     0                    0                        0   \n",
       "2                     0                    0                        0   \n",
       "3                     0                    0                        0   \n",
       "4                     0                    0                        0   \n",
       "5                     0                    0                        0   \n",
       "6                     0                    0                        0   \n",
       "7                     0                    0                        0   \n",
       "8                     0                    0                        0   \n",
       "9                     0                    0                        0   \n",
       "10                    0                    0                        0   \n",
       "11                    0                    0                        0   \n",
       "12                    0                    0                        0   \n",
       "13                    0                    0                        0   \n",
       "14                    0                    0                        0   \n",
       "15                    0                    0                        0   \n",
       "16                    0                    0                        0   \n",
       "17                    0                    0                        0   \n",
       "18                    0                    0                        0   \n",
       "19                    0                    0                        0   \n",
       "20                    0                    0                        0   \n",
       "21                    0                    0                        0   \n",
       "22                    0                    0                        0   \n",
       "23                    0                    0                        0   \n",
       "24                    0                    0                        0   \n",
       "25                    1                    0                        0   \n",
       "26                    0                    0                        0   \n",
       "27                    0                    0                        0   \n",
       "28                    0                    0                        0   \n",
       "29                    0                    0                        0   \n",
       "30                    0                    0                        1   \n",
       "31                    0                    0                        0   \n",
       "32                    0                    0                        0   \n",
       "33                    0                    0                        0   \n",
       "34                    0                    0                        0   \n",
       "35                    0                    0                        0   \n",
       "36                    0                    0                        0   \n",
       "37                    0                    0                        0   \n",
       "38                    0                    0                        0   \n",
       "39                    0                    0                        0   \n",
       "40                    0                    0                        0   \n",
       "41                    0                    1                        0   \n",
       "42                    0                    0                        0   \n",
       "43                    0                    0                        0   \n",
       "44                    0                    0                        0   \n",
       "45                    0                    0                        0   \n",
       "46                    0                    0                        0   \n",
       "47                    0                    0                        0   \n",
       "48                    0                    0                        1   \n",
       "49                    0                    0                        0   \n",
       "\n",
       "    artist_Tones and I  artist_Y2K  artist_Young Thug  \n",
       "0                    0           0                  0  \n",
       "1                    0           0                  0  \n",
       "2                    0           0                  0  \n",
       "3                    0           0                  0  \n",
       "4                    0           0                  0  \n",
       "5                    0           0                  0  \n",
       "6                    0           0                  0  \n",
       "7                    0           0                  0  \n",
       "8                    0           0                  0  \n",
       "9                    0           0                  0  \n",
       "10                   0           0                  0  \n",
       "11                   0           0                  0  \n",
       "12                   0           0                  0  \n",
       "13                   0           0                  0  \n",
       "14                   0           0                  0  \n",
       "15                   0           0                  0  \n",
       "16                   0           0                  0  \n",
       "17                   0           0                  0  \n",
       "18                   0           1                  0  \n",
       "19                   0           0                  0  \n",
       "20                   0           0                  0  \n",
       "21                   0           0                  0  \n",
       "22                   0           0                  0  \n",
       "23                   0           0                  0  \n",
       "24                   0           0                  0  \n",
       "25                   0           0                  0  \n",
       "26                   1           0                  0  \n",
       "27                   0           0                  0  \n",
       "28                   0           0                  0  \n",
       "29                   0           0                  0  \n",
       "30                   0           0                  0  \n",
       "31                   0           0                  0  \n",
       "32                   0           0                  0  \n",
       "33                   0           0                  1  \n",
       "34                   0           0                  0  \n",
       "35                   0           0                  0  \n",
       "36                   0           0                  0  \n",
       "37                   0           0                  0  \n",
       "38                   0           0                  0  \n",
       "39                   0           0                  0  \n",
       "40                   0           0                  0  \n",
       "41                   0           0                  0  \n",
       "42                   0           0                  0  \n",
       "43                   0           0                  0  \n",
       "44                   0           0                  0  \n",
       "45                   0           0                  0  \n",
       "46                   0           0                  0  \n",
       "47                   0           0                  0  \n",
       "48                   0           0                  0  \n",
       "49                   0           0                  0  \n",
       "\n",
       "[50 rows x 69 columns]"
      ]
     },
     "execution_count": 14,
     "metadata": {},
     "output_type": "execute_result"
    }
   ],
   "source": [
    "data"
   ]
  },
  {
   "cell_type": "code",
   "execution_count": null,
   "id": "23cd97d2",
   "metadata": {},
   "outputs": [],
   "source": [
    "#model_features = [\"Valence.\", \"Length.\", \"Liveness\", \"Energy\", \"Speechiness.\"]"
   ]
  },
  {
   "cell_type": "markdown",
   "id": "4307a58c",
   "metadata": {
    "papermill": {
     "duration": 0.018453,
     "end_time": "2023-12-25T11:45:54.344779",
     "exception": false,
     "start_time": "2023-12-25T11:45:54.326326",
     "status": "completed"
    },
    "tags": []
   },
   "source": [
    "spliting and scaling"
   ]
  },
  {
   "cell_type": "code",
   "execution_count": 15,
   "id": "3e25e3fa",
   "metadata": {},
   "outputs": [],
   "source": [
    "# me # assigning approximately high correlated features to x (model_features from above)\n",
    "x = data.drop([\"Beats.Per.Minute\", \"Danceability\", \"Loudness..dB..\", \"Acousticness..\", \"Popularity\"], axis=1)\n",
    "y = data[\"Popularity\"]\n"
   ]
  },
  {
   "cell_type": "code",
   "execution_count": 16,
   "id": "a62a5ec3",
   "metadata": {},
   "outputs": [
    {
     "data": {
      "text/plain": [
       "Popularity\n",
       "0    26\n",
       "1    24\n",
       "Name: count, dtype: int64"
      ]
     },
     "execution_count": 16,
     "metadata": {},
     "output_type": "execute_result"
    }
   ],
   "source": [
    "# me # to check is target balanced or imbalanced\n",
    "y.value_counts()"
   ]
  },
  {
   "cell_type": "code",
   "execution_count": null,
   "id": "4dac381d",
   "metadata": {
    "execution": {
     "iopub.execute_input": "2023-12-25T11:45:54.383885Z",
     "iopub.status.busy": "2023-12-25T11:45:54.383400Z",
     "iopub.status.idle": "2023-12-25T11:45:54.391154Z",
     "shell.execute_reply": "2023-12-25T11:45:54.389924Z"
    },
    "papermill": {
     "duration": 0.030429,
     "end_time": "2023-12-25T11:45:54.393818",
     "exception": false,
     "start_time": "2023-12-25T11:45:54.363389",
     "status": "completed"
    },
    "tags": []
   },
   "outputs": [],
   "source": [
    "# original\n",
    "#y = data.loc[:,\"Popularity\"]\n",
    "#x = data.drop(\"Popularity\", axis=1)"
   ]
  },
  {
   "cell_type": "code",
   "execution_count": 17,
   "id": "1fd64984",
   "metadata": {},
   "outputs": [],
   "source": [
    "# me #log1 transformation\n",
    "x[[\"Length.\", \"Liveness\", \"Speechiness.\"]] = np.log1p(x[[\"Length.\", \"Liveness\", \"Speechiness.\"]])"
   ]
  },
  {
   "cell_type": "code",
   "execution_count": null,
   "id": "62080aa8",
   "metadata": {},
   "outputs": [
    {
     "data": {
      "text/plain": [
       "array([[<Axes: title={'center': 'Length.'}>,\n",
       "        <Axes: title={'center': 'Liveness'}>],\n",
       "       [<Axes: title={'center': 'Speechiness.'}>, <Axes: >]], dtype=object)"
      ]
     },
     "execution_count": 18,
     "metadata": {},
     "output_type": "execute_result"
    },
    {
     "data": {
      "image/png": "[encoded data removed]",
      "text/plain": [
       "<Figure size 1000x600 with 4 Axes>"
      ]
     },
     "metadata": {},
     "output_type": "display_data"
    }
   ],
   "source": [
    "# me # histogram for log1 transformed features\n",
    "x[[\"Length.\", \"Liveness\", \"Speechiness.\"]].hist(bins= 35, figsize= (10,6))"
   ]
  },
  {
   "cell_type": "code",
   "execution_count": 19,
   "id": "03ebda36",
   "metadata": {
    "execution": {
     "iopub.execute_input": "2023-12-25T11:45:54.434584Z",
     "iopub.status.busy": "2023-12-25T11:45:54.434133Z",
     "iopub.status.idle": "2023-12-25T11:45:54.447411Z",
     "shell.execute_reply": "2023-12-25T11:45:54.446099Z"
    },
    "papermill": {
     "duration": 0.037378,
     "end_time": "2023-12-25T11:45:54.450141",
     "exception": false,
     "start_time": "2023-12-25T11:45:54.412763",
     "status": "completed"
    },
    "tags": []
   },
   "outputs": [],
   "source": [
    "# original\n",
    "scaler = StandardScaler()\n",
    "x = scaler.fit_transform(x)"
   ]
  },
  {
   "cell_type": "code",
   "execution_count": 20,
   "id": "8bf2eced",
   "metadata": {
    "execution": {
     "iopub.execute_input": "2023-12-25T11:45:54.490806Z",
     "iopub.status.busy": "2023-12-25T11:45:54.489447Z",
     "iopub.status.idle": "2023-12-25T11:45:54.498014Z",
     "shell.execute_reply": "2023-12-25T11:45:54.496591Z"
    },
    "papermill": {
     "duration": 0.031526,
     "end_time": "2023-12-25T11:45:54.500579",
     "exception": false,
     "start_time": "2023-12-25T11:45:54.469053",
     "status": "completed"
    },
    "tags": []
   },
   "outputs": [],
   "source": [
    "# original\n",
    "x_train,x_test,y_train,y_test = train_test_split(x,y,test_size = 0.3,random_state = 20)"
   ]
  },
  {
   "cell_type": "markdown",
   "id": "0c0481e0",
   "metadata": {
    "papermill": {
     "duration": 0.019127,
     "end_time": "2023-12-25T11:45:54.539130",
     "exception": false,
     "start_time": "2023-12-25T11:45:54.520003",
     "status": "completed"
    },
    "tags": []
   },
   "source": [
    "Modeling and Training.\n",
    "we will use 5 different model for training"
   ]
  },
  {
   "cell_type": "code",
   "execution_count": 21,
   "id": "249191bc",
   "metadata": {
    "execution": {
     "iopub.execute_input": "2023-12-25T11:45:54.579102Z",
     "iopub.status.busy": "2023-12-25T11:45:54.578651Z",
     "iopub.status.idle": "2023-12-25T11:45:54.584117Z",
     "shell.execute_reply": "2023-12-25T11:45:54.582975Z"
    },
    "papermill": {
     "duration": 0.028966,
     "end_time": "2023-12-25T11:45:54.587165",
     "exception": false,
     "start_time": "2023-12-25T11:45:54.558199",
     "status": "completed"
    },
    "tags": []
   },
   "outputs": [],
   "source": [
    "# original\n",
    "log_model1 =LogisticRegression()\n",
    "knn_model2 =KNeighborsClassifier()\n",
    "dt_model3 =DecisionTreeClassifier()\n",
    "mlp_model4 =MLPClassifier()\n",
    "svm_model5 =SVC()"
   ]
  },
  {
   "cell_type": "code",
   "execution_count": 22,
   "id": "82c68edb",
   "metadata": {
    "execution": {
     "iopub.execute_input": "2023-12-25T11:45:54.628065Z",
     "iopub.status.busy": "2023-12-25T11:45:54.627265Z",
     "iopub.status.idle": "2023-12-25T11:45:54.786927Z",
     "shell.execute_reply": "2023-12-25T11:45:54.785793Z"
    },
    "papermill": {
     "duration": 0.18351,
     "end_time": "2023-12-25T11:45:54.790283",
     "exception": false,
     "start_time": "2023-12-25T11:45:54.606773",
     "status": "completed"
    },
    "tags": []
   },
   "outputs": [
    {
     "name": "stderr",
     "output_type": "stream",
     "text": [
      "c:\\Users\\Cursist\\anaconda3\\envs\\homl3\\lib\\site-packages\\sklearn\\neural_network\\_multilayer_perceptron.py:691: ConvergenceWarning: Stochastic Optimizer: Maximum iterations (200) reached and the optimization hasn't converged yet.\n",
      "  warnings.warn(\n"
     ]
    },
    {
     "data": {
      "text/html": [
       "<style>#sk-container-id-1 {color: black;}#sk-container-id-1 pre{padding: 0;}#sk-container-id-1 div.sk-toggleable {background-color: white;}#sk-container-id-1 label.sk-toggleable__label {cursor: pointer;display: block;width: 100%;margin-bottom: 0;padding: 0.3em;box-sizing: border-box;text-align: center;}#sk-container-id-1 label.sk-toggleable__label-arrow:before {content: \"▸\";float: left;margin-right: 0.25em;color: #696969;}#sk-container-id-1 label.sk-toggleable__label-arrow:hover:before {color: black;}#sk-container-id-1 div.sk-estimator:hover label.sk-toggleable__label-arrow:before {color: black;}#sk-container-id-1 div.sk-toggleable__content {max-height: 0;max-width: 0;overflow: hidden;text-align: left;background-color: #f0f8ff;}#sk-container-id-1 div.sk-toggleable__content pre {margin: 0.2em;color: black;border-radius: 0.25em;background-color: #f0f8ff;}#sk-container-id-1 input.sk-toggleable__control:checked~div.sk-toggleable__content {max-height: 200px;max-width: 100%;overflow: auto;}#sk-container-id-1 input.sk-toggleable__control:checked~label.sk-toggleable__label-arrow:before {content: \"▾\";}#sk-container-id-1 div.sk-estimator input.sk-toggleable__control:checked~label.sk-toggleable__label {background-color: #d4ebff;}#sk-container-id-1 div.sk-label input.sk-toggleable__control:checked~label.sk-toggleable__label {background-color: #d4ebff;}#sk-container-id-1 input.sk-hidden--visually {border: 0;clip: rect(1px 1px 1px 1px);clip: rect(1px, 1px, 1px, 1px);height: 1px;margin: -1px;overflow: hidden;padding: 0;position: absolute;width: 1px;}#sk-container-id-1 div.sk-estimator {font-family: monospace;background-color: #f0f8ff;border: 1px dotted black;border-radius: 0.25em;box-sizing: border-box;margin-bottom: 0.5em;}#sk-container-id-1 div.sk-estimator:hover {background-color: #d4ebff;}#sk-container-id-1 div.sk-parallel-item::after {content: \"\";width: 100%;border-bottom: 1px solid gray;flex-grow: 1;}#sk-container-id-1 div.sk-label:hover label.sk-toggleable__label {background-color: #d4ebff;}#sk-container-id-1 div.sk-serial::before {content: \"\";position: absolute;border-left: 1px solid gray;box-sizing: border-box;top: 0;bottom: 0;left: 50%;z-index: 0;}#sk-container-id-1 div.sk-serial {display: flex;flex-direction: column;align-items: center;background-color: white;padding-right: 0.2em;padding-left: 0.2em;position: relative;}#sk-container-id-1 div.sk-item {position: relative;z-index: 1;}#sk-container-id-1 div.sk-parallel {display: flex;align-items: stretch;justify-content: center;background-color: white;position: relative;}#sk-container-id-1 div.sk-item::before, #sk-container-id-1 div.sk-parallel-item::before {content: \"\";position: absolute;border-left: 1px solid gray;box-sizing: border-box;top: 0;bottom: 0;left: 50%;z-index: -1;}#sk-container-id-1 div.sk-parallel-item {display: flex;flex-direction: column;z-index: 1;position: relative;background-color: white;}#sk-container-id-1 div.sk-parallel-item:first-child::after {align-self: flex-end;width: 50%;}#sk-container-id-1 div.sk-parallel-item:last-child::after {align-self: flex-start;width: 50%;}#sk-container-id-1 div.sk-parallel-item:only-child::after {width: 0;}#sk-container-id-1 div.sk-dashed-wrapped {border: 1px dashed gray;margin: 0 0.4em 0.5em 0.4em;box-sizing: border-box;padding-bottom: 0.4em;background-color: white;}#sk-container-id-1 div.sk-label label {font-family: monospace;font-weight: bold;display: inline-block;line-height: 1.2em;}#sk-container-id-1 div.sk-label-container {text-align: center;}#sk-container-id-1 div.sk-container {/* jupyter's `normalize.less` sets `[hidden] { display: none; }` but bootstrap.min.css set `[hidden] { display: none !important; }` so we also need the `!important` here to be able to override the default hidden behavior on the sphinx rendered scikit-learn.org. See: https://github.com/scikit-learn/scikit-learn/issues/21755 */display: inline-block !important;position: relative;}#sk-container-id-1 div.sk-text-repr-fallback {display: none;}</style><div id=\"sk-container-id-1\" class=\"sk-top-container\"><div class=\"sk-text-repr-fallback\"><pre>SVC()</pre><b>In a Jupyter environment, please rerun this cell to show the HTML representation or trust the notebook. <br />On GitHub, the HTML representation is unable to render, please try loading this page with nbviewer.org.</b></div><div class=\"sk-container\" hidden><div class=\"sk-item\"><div class=\"sk-estimator sk-toggleable\"><input class=\"sk-toggleable__control sk-hidden--visually\" id=\"sk-estimator-id-1\" type=\"checkbox\" checked><label for=\"sk-estimator-id-1\" class=\"sk-toggleable__label sk-toggleable__label-arrow\">SVC</label><div class=\"sk-toggleable__content\"><pre>SVC()</pre></div></div></div></div></div>"
      ],
      "text/plain": [
       "SVC()"
      ]
     },
     "execution_count": 22,
     "metadata": {},
     "output_type": "execute_result"
    }
   ],
   "source": [
    "# original\n",
    "log_model1.fit(x_train,y_train)\n",
    "knn_model2.fit(x_train,y_train)\n",
    "dt_model3.fit(x_train,y_train)\n",
    "mlp_model4.fit(x_train,y_train)\n",
    "svm_model5.fit(x_train,y_train)"
   ]
  },
  {
   "cell_type": "code",
   "execution_count": 23,
   "id": "abd2272e",
   "metadata": {
    "execution": {
     "iopub.execute_input": "2023-12-25T11:45:54.831986Z",
     "iopub.status.busy": "2023-12-25T11:45:54.831565Z",
     "iopub.status.idle": "2023-12-25T11:45:54.899413Z",
     "shell.execute_reply": "2023-12-25T11:45:54.898487Z"
    },
    "papermill": {
     "duration": 0.091745,
     "end_time": "2023-12-25T11:45:54.902715",
     "exception": false,
     "start_time": "2023-12-25T11:45:54.810970",
     "status": "completed"
    },
    "tags": []
   },
   "outputs": [],
   "source": [
    "# original\n",
    "log_acc = log_model1.score(x_test,y_test)\n",
    "knn_acc = knn_model2.score(x_test,y_test)\n",
    "dt_acc = dt_model3.score(x_test,y_test)\n",
    "mlp_acc = mlp_model4.score(x_test,y_test)\n",
    "svm_acc = svm_model5.score(x_test,y_test)"
   ]
  },
  {
   "cell_type": "code",
   "execution_count": 24,
   "id": "48988f74",
   "metadata": {
    "execution": {
     "iopub.execute_input": "2023-12-25T11:45:54.946004Z",
     "iopub.status.busy": "2023-12-25T11:45:54.944607Z",
     "iopub.status.idle": "2023-12-25T11:45:54.951907Z",
     "shell.execute_reply": "2023-12-25T11:45:54.950394Z"
    },
    "papermill": {
     "duration": 0.031114,
     "end_time": "2023-12-25T11:45:54.954533",
     "exception": false,
     "start_time": "2023-12-25T11:45:54.923419",
     "status": "completed"
    },
    "tags": []
   },
   "outputs": [
    {
     "name": "stdout",
     "output_type": "stream",
     "text": [
      "Logistic Accuracy : 0.6\n",
      "KNN Accuracy : 0.5333333333333333\n",
      "Decision Tree Accuracy: 0.5333333333333333\n",
      "MLP Accuracy : 0.4666666666666667\n",
      "svm Accuracy : 0.7333333333333333\n"
     ]
    }
   ],
   "source": [
    "# original\n",
    "print(\"Logistic Accuracy :\",log_acc)\n",
    "print(\"KNN Accuracy :\",knn_acc)\n",
    "print(\"Decision Tree Accuracy:\",dt_acc)\n",
    "print(\"MLP Accuracy :\",mlp_acc)\n",
    "print(\"svm Accuracy :\",svm_acc)"
   ]
  },
  {
   "cell_type": "code",
   "execution_count": 25,
   "id": "6933073a",
   "metadata": {},
   "outputs": [],
   "source": [
    "# me \n",
    "models = {\n",
    "    \"log_model1\": LogisticRegression(\n",
    "        random_state=42,       \n",
    "        max_iter=500,         \n",
    "        solver='liblinear'    \n",
    "    ),\n",
    "    \"knn_model2\": KNeighborsClassifier(\n",
    "        n_neighbors=5,          \n",
    "        weights='uniform',      \n",
    "        algorithm='auto'        \n",
    "    ),\n",
    "    \"dt_model3\": DecisionTreeClassifier(\n",
    "        random_state=42,      \n",
    "        max_depth=None,       \n",
    "        min_samples_split=2,   \n",
    "        min_samples_leaf=1    \n",
    "    ),\n",
    "    \"mlp_model4\": MLPClassifier(\n",
    "        random_state=42,       \n",
    "        hidden_layer_sizes=(100,), \n",
    "        activation='relu',       \n",
    "        solver='adam',          \n",
    "        max_iter=200            \n",
    "    ),\n",
    "    \"svm_model5\": SVC(\n",
    "        random_state=42,       \n",
    "        C=1.0,                 \n",
    "        kernel='rbf',           \n",
    "        gamma='scale'          \n",
    "    )\n",
    "}"
   ]
  },
  {
   "cell_type": "code",
   "execution_count": 26,
   "id": "101240e2",
   "metadata": {},
   "outputs": [
    {
     "name": "stdout",
     "output_type": "stream",
     "text": [
      "log_model1 - F1_score: 0.6667\n",
      "log_model1 - Score_train: 1.0000, Score_test: 0.6667 \n",
      "\n",
      "knn_model2 - F1_score: 0.5333\n",
      "knn_model2 - Score_train: 0.5143, Score_test: 0.5333 \n",
      "\n",
      "dt_model3 - F1_score: 0.5333\n",
      "dt_model3 - Score_train: 1.0000, Score_test: 0.5333 \n",
      "\n",
      "mlp_model4 - F1_score: 0.7333\n",
      "mlp_model4 - Score_train: 1.0000, Score_test: 0.7333 \n",
      "\n",
      "svm_model5 - F1_score: 0.7333\n",
      "svm_model5 - Score_train: 1.0000, Score_test: 0.7333 \n",
      "\n"
     ]
    },
    {
     "name": "stderr",
     "output_type": "stream",
     "text": [
      "c:\\Users\\Cursist\\anaconda3\\envs\\homl3\\lib\\site-packages\\sklearn\\neural_network\\_multilayer_perceptron.py:691: ConvergenceWarning: Stochastic Optimizer: Maximum iterations (200) reached and the optimization hasn't converged yet.\n",
      "  warnings.warn(\n"
     ]
    }
   ],
   "source": [
    "# me # calculating accuracy and f1_score\n",
    "model_names = []\n",
    "F1_scores = []\n",
    "for name, model in models.items():\n",
    "    \n",
    "    model.fit(x_train, y_train)\n",
    "\n",
    "    score_train = model.score(x_train, y_train)\n",
    "    score_test = model.score(x_test, y_test)\n",
    "\n",
    "    y_pred = model.predict(x_test)\n",
    "    \n",
    "    # evaluating\n",
    "    f1 = f1_score(y_test, y_pred, average='micro')    # due to the fact that y is not imbalanced i use average= \"macro\"\n",
    "\n",
    "    model_names.append(name)  # i will use to plot results\n",
    "    F1_scores.append(f1)      # the same reason\n",
    "            \n",
    "    print(f\"{name} - F1_score: {f1:.4f}\"\n",
    "          f\"\\n{name} - Score_train: {score_train:.4f}, Score_test: {score_test:.4f} \\n\")"
   ]
  },
  {
   "cell_type": "code",
   "execution_count": 60,
   "id": "9219a5e7",
   "metadata": {},
   "outputs": [],
   "source": [
    "# original results\n",
    "\n",
    "# Logistic Accuracy : 0.7333333333333333    \n",
    "# KNN Accuracy : 0.5333333333333333\n",
    "# Decision Tree Accuracy: 0.4\n",
    "# MLP Accuracy : 0.6\n",
    "# svm Accuracy : 0.7333333333333333"
   ]
  },
  {
   "cell_type": "code",
   "execution_count": 28,
   "id": "20903d8a",
   "metadata": {},
   "outputs": [],
   "source": [
    "log_acc_orig = 0.7333333333333333\n",
    "knn_acc_orig = 0.5333333333333333\n",
    "dt_acc_orig = 0.4\n",
    "mlp_acc_orig = 0.6\n",
    "svm_acc_orig = 0.7333333333333333"
   ]
  },
  {
   "cell_type": "code",
   "execution_count": 29,
   "id": "39b5c868",
   "metadata": {},
   "outputs": [
    {
     "data": {
      "application/vnd.plotly.v1+json": {
       "config": {
        "plotlyServerURL": "https://plot.ly"
       },
       "data": [
        {
         "alignmentgroup": "True",
         "hovertemplate": "Result Set=My results<br>Model=%{x}<br>Accuracy=%{y}<extra></extra>",
         "legendgroup": "My results",
         "marker": {
          "color": "#636efa",
          "pattern": {
           "shape": ""
          }
         },
         "name": "My results",
         "offsetgroup": "My results",
         "orientation": "v",
         "showlegend": true,
         "textposition": "auto",
         "type": "bar",
         "x": [
          "Logistic Regression",
          "K-Nearest Neighbor",
          "Decision Tree",
          "Neural Network",
          "SVM"
         ],
         "xaxis": "x",
         "y": [
          0.6,
          0.5333333333333333,
          0.5333333333333333,
          0.4666666666666667,
          0.7333333333333333
         ],
         "yaxis": "y"
        },
        {
         "alignmentgroup": "True",
         "hovertemplate": "Result Set=Original results<br>Model=%{x}<br>Accuracy=%{y}<extra></extra>",
         "legendgroup": "Original results",
         "marker": {
          "color": "#EF553B",
          "pattern": {
           "shape": ""
          }
         },
         "name": "Original results",
         "offsetgroup": "Original results",
         "orientation": "v",
         "showlegend": true,
         "textposition": "auto",
         "type": "bar",
         "x": [
          "Logistic Regression",
          "K-Nearest Neighbor",
          "Decision Tree",
          "Neural Network",
          "SVM"
         ],
         "xaxis": "x",
         "y": [
          0.7333333333333333,
          0.5333333333333333,
          0.4,
          0.6,
          0.7333333333333333
         ],
         "yaxis": "y"
        }
       ],
       "layout": {
        "barmode": "group",
        "legend": {
         "title": {
          "text": "Result Set"
         },
         "tracegroupgap": 0
        },
        "template": {
         "data": {
          "bar": [
           {
            "error_x": {
             "color": "#2a3f5f"
            },
            "error_y": {
             "color": "#2a3f5f"
            },
            "marker": {
             "line": {
              "color": "#E5ECF6",
              "width": 0.5
             },
             "pattern": {
              "fillmode": "overlay",
              "size": 10,
              "solidity": 0.2
             }
            },
            "type": "bar"
           }
          ],
          "barpolar": [
           {
            "marker": {
             "line": {
              "color": "#E5ECF6",
              "width": 0.5
             },
             "pattern": {
              "fillmode": "overlay",
              "size": 10,
              "solidity": 0.2
             }
            },
            "type": "barpolar"
           }
          ],
          "carpet": [
           {
            "aaxis": {
             "endlinecolor": "#2a3f5f",
             "gridcolor": "white",
             "linecolor": "white",
             "minorgridcolor": "white",
             "startlinecolor": "#2a3f5f"
            },
            "baxis": {
             "endlinecolor": "#2a3f5f",
             "gridcolor": "white",
             "linecolor": "white",
             "minorgridcolor": "white",
             "startlinecolor": "#2a3f5f"
            },
            "type": "carpet"
           }
          ],
          "choropleth": [
           {
            "colorbar": {
             "outlinewidth": 0,
             "ticks": ""
            },
            "type": "choropleth"
           }
          ],
          "contour": [
           {
            "colorbar": {
             "outlinewidth": 0,
             "ticks": ""
            },
            "colorscale": [
             [
              0,
              "#0d0887"
             ],
             [
              0.1111111111111111,
              "#46039f"
             ],
             [
              0.2222222222222222,
              "#7201a8"
             ],
             [
              0.3333333333333333,
              "#9c179e"
             ],
             [
              0.4444444444444444,
              "#bd3786"
             ],
             [
              0.5555555555555556,
              "#d8576b"
             ],
             [
              0.6666666666666666,
              "#ed7953"
             ],
             [
              0.7777777777777778,
              "#fb9f3a"
             ],
             [
              0.8888888888888888,
              "#fdca26"
             ],
             [
              1,
              "#f0f921"
             ]
            ],
            "type": "contour"
           }
          ],
          "contourcarpet": [
           {
            "colorbar": {
             "outlinewidth": 0,
             "ticks": ""
            },
            "type": "contourcarpet"
           }
          ],
          "heatmap": [
           {
            "colorbar": {
             "outlinewidth": 0,
             "ticks": ""
            },
            "colorscale": [
             [
              0,
              "#0d0887"
             ],
             [
              0.1111111111111111,
              "#46039f"
             ],
             [
              0.2222222222222222,
              "#7201a8"
             ],
             [
              0.3333333333333333,
              "#9c179e"
             ],
             [
              0.4444444444444444,
              "#bd3786"
             ],
             [
              0.5555555555555556,
              "#d8576b"
             ],
             [
              0.6666666666666666,
              "#ed7953"
             ],
             [
              0.7777777777777778,
              "#fb9f3a"
             ],
             [
              0.8888888888888888,
              "#fdca26"
             ],
             [
              1,
              "#f0f921"
             ]
            ],
            "type": "heatmap"
           }
          ],
          "heatmapgl": [
           {
            "colorbar": {
             "outlinewidth": 0,
             "ticks": ""
            },
            "colorscale": [
             [
              0,
              "#0d0887"
             ],
             [
              0.1111111111111111,
              "#46039f"
             ],
             [
              0.2222222222222222,
              "#7201a8"
             ],
             [
              0.3333333333333333,
              "#9c179e"
             ],
             [
              0.4444444444444444,
              "#bd3786"
             ],
             [
              0.5555555555555556,
              "#d8576b"
             ],
             [
              0.6666666666666666,
              "#ed7953"
             ],
             [
              0.7777777777777778,
              "#fb9f3a"
             ],
             [
              0.8888888888888888,
              "#fdca26"
             ],
             [
              1,
              "#f0f921"
             ]
            ],
            "type": "heatmapgl"
           }
          ],
          "histogram": [
           {
            "marker": {
             "pattern": {
              "fillmode": "overlay",
              "size": 10,
              "solidity": 0.2
             }
            },
            "type": "histogram"
           }
          ],
          "histogram2d": [
           {
            "colorbar": {
             "outlinewidth": 0,
             "ticks": ""
            },
            "colorscale": [
             [
              0,
              "#0d0887"
             ],
             [
              0.1111111111111111,
              "#46039f"
             ],
             [
              0.2222222222222222,
              "#7201a8"
             ],
             [
              0.3333333333333333,
              "#9c179e"
             ],
             [
              0.4444444444444444,
              "#bd3786"
             ],
             [
              0.5555555555555556,
              "#d8576b"
             ],
             [
              0.6666666666666666,
              "#ed7953"
             ],
             [
              0.7777777777777778,
              "#fb9f3a"
             ],
             [
              0.8888888888888888,
              "#fdca26"
             ],
             [
              1,
              "#f0f921"
             ]
            ],
            "type": "histogram2d"
           }
          ],
          "histogram2dcontour": [
           {
            "colorbar": {
             "outlinewidth": 0,
             "ticks": ""
            },
            "colorscale": [
             [
              0,
              "#0d0887"
             ],
             [
              0.1111111111111111,
              "#46039f"
             ],
             [
              0.2222222222222222,
              "#7201a8"
             ],
             [
              0.3333333333333333,
              "#9c179e"
             ],
             [
              0.4444444444444444,
              "#bd3786"
             ],
             [
              0.5555555555555556,
              "#d8576b"
             ],
             [
              0.6666666666666666,
              "#ed7953"
             ],
             [
              0.7777777777777778,
              "#fb9f3a"
             ],
             [
              0.8888888888888888,
              "#fdca26"
             ],
             [
              1,
              "#f0f921"
             ]
            ],
            "type": "histogram2dcontour"
           }
          ],
          "mesh3d": [
           {
            "colorbar": {
             "outlinewidth": 0,
             "ticks": ""
            },
            "type": "mesh3d"
           }
          ],
          "parcoords": [
           {
            "line": {
             "colorbar": {
              "outlinewidth": 0,
              "ticks": ""
             }
            },
            "type": "parcoords"
           }
          ],
          "pie": [
           {
            "automargin": true,
            "type": "pie"
           }
          ],
          "scatter": [
           {
            "fillpattern": {
             "fillmode": "overlay",
             "size": 10,
             "solidity": 0.2
            },
            "type": "scatter"
           }
          ],
          "scatter3d": [
           {
            "line": {
             "colorbar": {
              "outlinewidth": 0,
              "ticks": ""
             }
            },
            "marker": {
             "colorbar": {
              "outlinewidth": 0,
              "ticks": ""
             }
            },
            "type": "scatter3d"
           }
          ],
          "scattercarpet": [
           {
            "marker": {
             "colorbar": {
              "outlinewidth": 0,
              "ticks": ""
             }
            },
            "type": "scattercarpet"
           }
          ],
          "scattergeo": [
           {
            "marker": {
             "colorbar": {
              "outlinewidth": 0,
              "ticks": ""
             }
            },
            "type": "scattergeo"
           }
          ],
          "scattergl": [
           {
            "marker": {
             "colorbar": {
              "outlinewidth": 0,
              "ticks": ""
             }
            },
            "type": "scattergl"
           }
          ],
          "scattermapbox": [
           {
            "marker": {
             "colorbar": {
              "outlinewidth": 0,
              "ticks": ""
             }
            },
            "type": "scattermapbox"
           }
          ],
          "scatterpolar": [
           {
            "marker": {
             "colorbar": {
              "outlinewidth": 0,
              "ticks": ""
             }
            },
            "type": "scatterpolar"
           }
          ],
          "scatterpolargl": [
           {
            "marker": {
             "colorbar": {
              "outlinewidth": 0,
              "ticks": ""
             }
            },
            "type": "scatterpolargl"
           }
          ],
          "scatterternary": [
           {
            "marker": {
             "colorbar": {
              "outlinewidth": 0,
              "ticks": ""
             }
            },
            "type": "scatterternary"
           }
          ],
          "surface": [
           {
            "colorbar": {
             "outlinewidth": 0,
             "ticks": ""
            },
            "colorscale": [
             [
              0,
              "#0d0887"
             ],
             [
              0.1111111111111111,
              "#46039f"
             ],
             [
              0.2222222222222222,
              "#7201a8"
             ],
             [
              0.3333333333333333,
              "#9c179e"
             ],
             [
              0.4444444444444444,
              "#bd3786"
             ],
             [
              0.5555555555555556,
              "#d8576b"
             ],
             [
              0.6666666666666666,
              "#ed7953"
             ],
             [
              0.7777777777777778,
              "#fb9f3a"
             ],
             [
              0.8888888888888888,
              "#fdca26"
             ],
             [
              1,
              "#f0f921"
             ]
            ],
            "type": "surface"
           }
          ],
          "table": [
           {
            "cells": {
             "fill": {
              "color": "#EBF0F8"
             },
             "line": {
              "color": "white"
             }
            },
            "header": {
             "fill": {
              "color": "#C8D4E3"
             },
             "line": {
              "color": "white"
             }
            },
            "type": "table"
           }
          ]
         },
         "layout": {
          "annotationdefaults": {
           "arrowcolor": "#2a3f5f",
           "arrowhead": 0,
           "arrowwidth": 1
          },
          "autotypenumbers": "strict",
          "coloraxis": {
           "colorbar": {
            "outlinewidth": 0,
            "ticks": ""
           }
          },
          "colorscale": {
           "diverging": [
            [
             0,
             "#8e0152"
            ],
            [
             0.1,
             "#c51b7d"
            ],
            [
             0.2,
             "#de77ae"
            ],
            [
             0.3,
             "#f1b6da"
            ],
            [
             0.4,
             "#fde0ef"
            ],
            [
             0.5,
             "#f7f7f7"
            ],
            [
             0.6,
             "#e6f5d0"
            ],
            [
             0.7,
             "#b8e186"
            ],
            [
             0.8,
             "#7fbc41"
            ],
            [
             0.9,
             "#4d9221"
            ],
            [
             1,
             "#276419"
            ]
           ],
           "sequential": [
            [
             0,
             "#0d0887"
            ],
            [
             0.1111111111111111,
             "#46039f"
            ],
            [
             0.2222222222222222,
             "#7201a8"
            ],
            [
             0.3333333333333333,
             "#9c179e"
            ],
            [
             0.4444444444444444,
             "#bd3786"
            ],
            [
             0.5555555555555556,
             "#d8576b"
            ],
            [
             0.6666666666666666,
             "#ed7953"
            ],
            [
             0.7777777777777778,
             "#fb9f3a"
            ],
            [
             0.8888888888888888,
             "#fdca26"
            ],
            [
             1,
             "#f0f921"
            ]
           ],
           "sequentialminus": [
            [
             0,
             "#0d0887"
            ],
            [
             0.1111111111111111,
             "#46039f"
            ],
            [
             0.2222222222222222,
             "#7201a8"
            ],
            [
             0.3333333333333333,
             "#9c179e"
            ],
            [
             0.4444444444444444,
             "#bd3786"
            ],
            [
             0.5555555555555556,
             "#d8576b"
            ],
            [
             0.6666666666666666,
             "#ed7953"
            ],
            [
             0.7777777777777778,
             "#fb9f3a"
            ],
            [
             0.8888888888888888,
             "#fdca26"
            ],
            [
             1,
             "#f0f921"
            ]
           ]
          },
          "colorway": [
           "#636efa",
           "#EF553B",
           "#00cc96",
           "#ab63fa",
           "#FFA15A",
           "#19d3f3",
           "#FF6692",
           "#B6E880",
           "#FF97FF",
           "#FECB52"
          ],
          "font": {
           "color": "#2a3f5f"
          },
          "geo": {
           "bgcolor": "white",
           "lakecolor": "white",
           "landcolor": "#E5ECF6",
           "showlakes": true,
           "showland": true,
           "subunitcolor": "white"
          },
          "hoverlabel": {
           "align": "left"
          },
          "hovermode": "closest",
          "mapbox": {
           "style": "light"
          },
          "paper_bgcolor": "white",
          "plot_bgcolor": "#E5ECF6",
          "polar": {
           "angularaxis": {
            "gridcolor": "white",
            "linecolor": "white",
            "ticks": ""
           },
           "bgcolor": "#E5ECF6",
           "radialaxis": {
            "gridcolor": "white",
            "linecolor": "white",
            "ticks": ""
           }
          },
          "scene": {
           "xaxis": {
            "backgroundcolor": "#E5ECF6",
            "gridcolor": "white",
            "gridwidth": 2,
            "linecolor": "white",
            "showbackground": true,
            "ticks": "",
            "zerolinecolor": "white"
           },
           "yaxis": {
            "backgroundcolor": "#E5ECF6",
            "gridcolor": "white",
            "gridwidth": 2,
            "linecolor": "white",
            "showbackground": true,
            "ticks": "",
            "zerolinecolor": "white"
           },
           "zaxis": {
            "backgroundcolor": "#E5ECF6",
            "gridcolor": "white",
            "gridwidth": 2,
            "linecolor": "white",
            "showbackground": true,
            "ticks": "",
            "zerolinecolor": "white"
           }
          },
          "shapedefaults": {
           "line": {
            "color": "#2a3f5f"
           }
          },
          "ternary": {
           "aaxis": {
            "gridcolor": "white",
            "linecolor": "white",
            "ticks": ""
           },
           "baxis": {
            "gridcolor": "white",
            "linecolor": "white",
            "ticks": ""
           },
           "bgcolor": "#E5ECF6",
           "caxis": {
            "gridcolor": "white",
            "linecolor": "white",
            "ticks": ""
           }
          },
          "title": {
           "x": 0.05
          },
          "xaxis": {
           "automargin": true,
           "gridcolor": "white",
           "linecolor": "white",
           "ticks": "",
           "title": {
            "standoff": 15
           },
           "zerolinecolor": "white",
           "zerolinewidth": 2
          },
          "yaxis": {
           "automargin": true,
           "gridcolor": "white",
           "linecolor": "white",
           "ticks": "",
           "title": {
            "standoff": 15
           },
           "zerolinecolor": "white",
           "zerolinewidth": 2
          }
         }
        },
        "title": {
         "text": "Model Accuracy Comparison"
        },
        "xaxis": {
         "anchor": "y",
         "domain": [
          0,
          1
         ],
         "title": {
          "text": "Model"
         }
        },
        "yaxis": {
         "anchor": "x",
         "domain": [
          0,
          1
         ],
         "title": {
          "text": "Accuracy"
         }
        }
       }
      }
     },
     "metadata": {},
     "output_type": "display_data"
    }
   ],
   "source": [
    "# me # comparison of original and my results\n",
    "models_list = [\"Logistic Regression\", \"K-Nearest Neighbor\", \"Decision Tree\", \"Neural Network\", \"SVM\"]\n",
    "result1 = [log_acc, knn_acc, dt_acc, mlp_acc, svm_acc]                                             # my results\n",
    "result2 = [log_acc_orig, knn_acc_orig, dt_acc_orig, mlp_acc_orig, svm_acc_orig]                    # original results\n",
    "\n",
    "data = {\n",
    "    \"Model\": models_list * 2,  \n",
    "    \"Accuracy\": result1 + result2,  \n",
    "    \"Result Set\": [\"My results\"] * len(models_list) + [\"Original results\"] * len(models_list)\n",
    "}\n",
    "\n",
    "fig = px.bar(\n",
    "    data,\n",
    "    x=\"Model\",\n",
    "    y=\"Accuracy\",\n",
    "    color=\"Result Set\",\n",
    "    barmode=\"group\", \n",
    "    labels={\"x\": \"Model\", \"y\": \"Accuracy\"},\n",
    "    title=\"Model Accuracy Comparison\"\n",
    ")\n",
    "\n",
    "fig.show()"
   ]
  },
  {
   "cell_type": "code",
   "execution_count": 30,
   "id": "f82a3849",
   "metadata": {},
   "outputs": [
    {
     "data": {
      "application/vnd.plotly.v1+json": {
       "config": {
        "plotlyServerURL": "https://plot.ly"
       },
       "data": [
        {
         "alignmentgroup": "True",
         "hovertemplate": "color=log_model1<br>Model=%{x}<br>F1 Score=%{y}<extra></extra>",
         "legendgroup": "log_model1",
         "marker": {
          "color": "#636efa",
          "pattern": {
           "shape": ""
          }
         },
         "name": "log_model1",
         "offsetgroup": "log_model1",
         "orientation": "v",
         "showlegend": true,
         "textposition": "auto",
         "type": "bar",
         "x": [
          "log_model1"
         ],
         "xaxis": "x",
         "y": [
          0.6666666666666666
         ],
         "yaxis": "y"
        },
        {
         "alignmentgroup": "True",
         "hovertemplate": "color=knn_model2<br>Model=%{x}<br>F1 Score=%{y}<extra></extra>",
         "legendgroup": "knn_model2",
         "marker": {
          "color": "#EF553B",
          "pattern": {
           "shape": ""
          }
         },
         "name": "knn_model2",
         "offsetgroup": "knn_model2",
         "orientation": "v",
         "showlegend": true,
         "textposition": "auto",
         "type": "bar",
         "x": [
          "knn_model2"
         ],
         "xaxis": "x",
         "y": [
          0.5333333333333333
         ],
         "yaxis": "y"
        },
        {
         "alignmentgroup": "True",
         "hovertemplate": "color=dt_model3<br>Model=%{x}<br>F1 Score=%{y}<extra></extra>",
         "legendgroup": "dt_model3",
         "marker": {
          "color": "#00cc96",
          "pattern": {
           "shape": ""
          }
         },
         "name": "dt_model3",
         "offsetgroup": "dt_model3",
         "orientation": "v",
         "showlegend": true,
         "textposition": "auto",
         "type": "bar",
         "x": [
          "dt_model3"
         ],
         "xaxis": "x",
         "y": [
          0.5333333333333333
         ],
         "yaxis": "y"
        },
        {
         "alignmentgroup": "True",
         "hovertemplate": "color=mlp_model4<br>Model=%{x}<br>F1 Score=%{y}<extra></extra>",
         "legendgroup": "mlp_model4",
         "marker": {
          "color": "#ab63fa",
          "pattern": {
           "shape": ""
          }
         },
         "name": "mlp_model4",
         "offsetgroup": "mlp_model4",
         "orientation": "v",
         "showlegend": true,
         "textposition": "auto",
         "type": "bar",
         "x": [
          "mlp_model4"
         ],
         "xaxis": "x",
         "y": [
          0.7333333333333333
         ],
         "yaxis": "y"
        },
        {
         "alignmentgroup": "True",
         "hovertemplate": "color=svm_model5<br>Model=%{x}<br>F1 Score=%{y}<extra></extra>",
         "legendgroup": "svm_model5",
         "marker": {
          "color": "#FFA15A",
          "pattern": {
           "shape": ""
          }
         },
         "name": "svm_model5",
         "offsetgroup": "svm_model5",
         "orientation": "v",
         "showlegend": true,
         "textposition": "auto",
         "type": "bar",
         "x": [
          "svm_model5"
         ],
         "xaxis": "x",
         "y": [
          0.7333333333333333
         ],
         "yaxis": "y"
        }
       ],
       "layout": {
        "barmode": "relative",
        "legend": {
         "title": {
          "text": "color"
         },
         "tracegroupgap": 0
        },
        "template": {
         "data": {
          "bar": [
           {
            "error_x": {
             "color": "#2a3f5f"
            },
            "error_y": {
             "color": "#2a3f5f"
            },
            "marker": {
             "line": {
              "color": "#E5ECF6",
              "width": 0.5
             },
             "pattern": {
              "fillmode": "overlay",
              "size": 10,
              "solidity": 0.2
             }
            },
            "type": "bar"
           }
          ],
          "barpolar": [
           {
            "marker": {
             "line": {
              "color": "#E5ECF6",
              "width": 0.5
             },
             "pattern": {
              "fillmode": "overlay",
              "size": 10,
              "solidity": 0.2
             }
            },
            "type": "barpolar"
           }
          ],
          "carpet": [
           {
            "aaxis": {
             "endlinecolor": "#2a3f5f",
             "gridcolor": "white",
             "linecolor": "white",
             "minorgridcolor": "white",
             "startlinecolor": "#2a3f5f"
            },
            "baxis": {
             "endlinecolor": "#2a3f5f",
             "gridcolor": "white",
             "linecolor": "white",
             "minorgridcolor": "white",
             "startlinecolor": "#2a3f5f"
            },
            "type": "carpet"
           }
          ],
          "choropleth": [
           {
            "colorbar": {
             "outlinewidth": 0,
             "ticks": ""
            },
            "type": "choropleth"
           }
          ],
          "contour": [
           {
            "colorbar": {
             "outlinewidth": 0,
             "ticks": ""
            },
            "colorscale": [
             [
              0,
              "#0d0887"
             ],
             [
              0.1111111111111111,
              "#46039f"
             ],
             [
              0.2222222222222222,
              "#7201a8"
             ],
             [
              0.3333333333333333,
              "#9c179e"
             ],
             [
              0.4444444444444444,
              "#bd3786"
             ],
             [
              0.5555555555555556,
              "#d8576b"
             ],
             [
              0.6666666666666666,
              "#ed7953"
             ],
             [
              0.7777777777777778,
              "#fb9f3a"
             ],
             [
              0.8888888888888888,
              "#fdca26"
             ],
             [
              1,
              "#f0f921"
             ]
            ],
            "type": "contour"
           }
          ],
          "contourcarpet": [
           {
            "colorbar": {
             "outlinewidth": 0,
             "ticks": ""
            },
            "type": "contourcarpet"
           }
          ],
          "heatmap": [
           {
            "colorbar": {
             "outlinewidth": 0,
             "ticks": ""
            },
            "colorscale": [
             [
              0,
              "#0d0887"
             ],
             [
              0.1111111111111111,
              "#46039f"
             ],
             [
              0.2222222222222222,
              "#7201a8"
             ],
             [
              0.3333333333333333,
              "#9c179e"
             ],
             [
              0.4444444444444444,
              "#bd3786"
             ],
             [
              0.5555555555555556,
              "#d8576b"
             ],
             [
              0.6666666666666666,
              "#ed7953"
             ],
             [
              0.7777777777777778,
              "#fb9f3a"
             ],
             [
              0.8888888888888888,
              "#fdca26"
             ],
             [
              1,
              "#f0f921"
             ]
            ],
            "type": "heatmap"
           }
          ],
          "heatmapgl": [
           {
            "colorbar": {
             "outlinewidth": 0,
             "ticks": ""
            },
            "colorscale": [
             [
              0,
              "#0d0887"
             ],
             [
              0.1111111111111111,
              "#46039f"
             ],
             [
              0.2222222222222222,
              "#7201a8"
             ],
             [
              0.3333333333333333,
              "#9c179e"
             ],
             [
              0.4444444444444444,
              "#bd3786"
             ],
             [
              0.5555555555555556,
              "#d8576b"
             ],
             [
              0.6666666666666666,
              "#ed7953"
             ],
             [
              0.7777777777777778,
              "#fb9f3a"
             ],
             [
              0.8888888888888888,
              "#fdca26"
             ],
             [
              1,
              "#f0f921"
             ]
            ],
            "type": "heatmapgl"
           }
          ],
          "histogram": [
           {
            "marker": {
             "pattern": {
              "fillmode": "overlay",
              "size": 10,
              "solidity": 0.2
             }
            },
            "type": "histogram"
           }
          ],
          "histogram2d": [
           {
            "colorbar": {
             "outlinewidth": 0,
             "ticks": ""
            },
            "colorscale": [
             [
              0,
              "#0d0887"
             ],
             [
              0.1111111111111111,
              "#46039f"
             ],
             [
              0.2222222222222222,
              "#7201a8"
             ],
             [
              0.3333333333333333,
              "#9c179e"
             ],
             [
              0.4444444444444444,
              "#bd3786"
             ],
             [
              0.5555555555555556,
              "#d8576b"
             ],
             [
              0.6666666666666666,
              "#ed7953"
             ],
             [
              0.7777777777777778,
              "#fb9f3a"
             ],
             [
              0.8888888888888888,
              "#fdca26"
             ],
             [
              1,
              "#f0f921"
             ]
            ],
            "type": "histogram2d"
           }
          ],
          "histogram2dcontour": [
           {
            "colorbar": {
             "outlinewidth": 0,
             "ticks": ""
            },
            "colorscale": [
             [
              0,
              "#0d0887"
             ],
             [
              0.1111111111111111,
              "#46039f"
             ],
             [
              0.2222222222222222,
              "#7201a8"
             ],
             [
              0.3333333333333333,
              "#9c179e"
             ],
             [
              0.4444444444444444,
              "#bd3786"
             ],
             [
              0.5555555555555556,
              "#d8576b"
             ],
             [
              0.6666666666666666,
              "#ed7953"
             ],
             [
              0.7777777777777778,
              "#fb9f3a"
             ],
             [
              0.8888888888888888,
              "#fdca26"
             ],
             [
              1,
              "#f0f921"
             ]
            ],
            "type": "histogram2dcontour"
           }
          ],
          "mesh3d": [
           {
            "colorbar": {
             "outlinewidth": 0,
             "ticks": ""
            },
            "type": "mesh3d"
           }
          ],
          "parcoords": [
           {
            "line": {
             "colorbar": {
              "outlinewidth": 0,
              "ticks": ""
             }
            },
            "type": "parcoords"
           }
          ],
          "pie": [
           {
            "automargin": true,
            "type": "pie"
           }
          ],
          "scatter": [
           {
            "fillpattern": {
             "fillmode": "overlay",
             "size": 10,
             "solidity": 0.2
            },
            "type": "scatter"
           }
          ],
          "scatter3d": [
           {
            "line": {
             "colorbar": {
              "outlinewidth": 0,
              "ticks": ""
             }
            },
            "marker": {
             "colorbar": {
              "outlinewidth": 0,
              "ticks": ""
             }
            },
            "type": "scatter3d"
           }
          ],
          "scattercarpet": [
           {
            "marker": {
             "colorbar": {
              "outlinewidth": 0,
              "ticks": ""
             }
            },
            "type": "scattercarpet"
           }
          ],
          "scattergeo": [
           {
            "marker": {
             "colorbar": {
              "outlinewidth": 0,
              "ticks": ""
             }
            },
            "type": "scattergeo"
           }
          ],
          "scattergl": [
           {
            "marker": {
             "colorbar": {
              "outlinewidth": 0,
              "ticks": ""
             }
            },
            "type": "scattergl"
           }
          ],
          "scattermapbox": [
           {
            "marker": {
             "colorbar": {
              "outlinewidth": 0,
              "ticks": ""
             }
            },
            "type": "scattermapbox"
           }
          ],
          "scatterpolar": [
           {
            "marker": {
             "colorbar": {
              "outlinewidth": 0,
              "ticks": ""
             }
            },
            "type": "scatterpolar"
           }
          ],
          "scatterpolargl": [
           {
            "marker": {
             "colorbar": {
              "outlinewidth": 0,
              "ticks": ""
             }
            },
            "type": "scatterpolargl"
           }
          ],
          "scatterternary": [
           {
            "marker": {
             "colorbar": {
              "outlinewidth": 0,
              "ticks": ""
             }
            },
            "type": "scatterternary"
           }
          ],
          "surface": [
           {
            "colorbar": {
             "outlinewidth": 0,
             "ticks": ""
            },
            "colorscale": [
             [
              0,
              "#0d0887"
             ],
             [
              0.1111111111111111,
              "#46039f"
             ],
             [
              0.2222222222222222,
              "#7201a8"
             ],
             [
              0.3333333333333333,
              "#9c179e"
             ],
             [
              0.4444444444444444,
              "#bd3786"
             ],
             [
              0.5555555555555556,
              "#d8576b"
             ],
             [
              0.6666666666666666,
              "#ed7953"
             ],
             [
              0.7777777777777778,
              "#fb9f3a"
             ],
             [
              0.8888888888888888,
              "#fdca26"
             ],
             [
              1,
              "#f0f921"
             ]
            ],
            "type": "surface"
           }
          ],
          "table": [
           {
            "cells": {
             "fill": {
              "color": "#EBF0F8"
             },
             "line": {
              "color": "white"
             }
            },
            "header": {
             "fill": {
              "color": "#C8D4E3"
             },
             "line": {
              "color": "white"
             }
            },
            "type": "table"
           }
          ]
         },
         "layout": {
          "annotationdefaults": {
           "arrowcolor": "#2a3f5f",
           "arrowhead": 0,
           "arrowwidth": 1
          },
          "autotypenumbers": "strict",
          "coloraxis": {
           "colorbar": {
            "outlinewidth": 0,
            "ticks": ""
           }
          },
          "colorscale": {
           "diverging": [
            [
             0,
             "#8e0152"
            ],
            [
             0.1,
             "#c51b7d"
            ],
            [
             0.2,
             "#de77ae"
            ],
            [
             0.3,
             "#f1b6da"
            ],
            [
             0.4,
             "#fde0ef"
            ],
            [
             0.5,
             "#f7f7f7"
            ],
            [
             0.6,
             "#e6f5d0"
            ],
            [
             0.7,
             "#b8e186"
            ],
            [
             0.8,
             "#7fbc41"
            ],
            [
             0.9,
             "#4d9221"
            ],
            [
             1,
             "#276419"
            ]
           ],
           "sequential": [
            [
             0,
             "#0d0887"
            ],
            [
             0.1111111111111111,
             "#46039f"
            ],
            [
             0.2222222222222222,
             "#7201a8"
            ],
            [
             0.3333333333333333,
             "#9c179e"
            ],
            [
             0.4444444444444444,
             "#bd3786"
            ],
            [
             0.5555555555555556,
             "#d8576b"
            ],
            [
             0.6666666666666666,
             "#ed7953"
            ],
            [
             0.7777777777777778,
             "#fb9f3a"
            ],
            [
             0.8888888888888888,
             "#fdca26"
            ],
            [
             1,
             "#f0f921"
            ]
           ],
           "sequentialminus": [
            [
             0,
             "#0d0887"
            ],
            [
             0.1111111111111111,
             "#46039f"
            ],
            [
             0.2222222222222222,
             "#7201a8"
            ],
            [
             0.3333333333333333,
             "#9c179e"
            ],
            [
             0.4444444444444444,
             "#bd3786"
            ],
            [
             0.5555555555555556,
             "#d8576b"
            ],
            [
             0.6666666666666666,
             "#ed7953"
            ],
            [
             0.7777777777777778,
             "#fb9f3a"
            ],
            [
             0.8888888888888888,
             "#fdca26"
            ],
            [
             1,
             "#f0f921"
            ]
           ]
          },
          "colorway": [
           "#636efa",
           "#EF553B",
           "#00cc96",
           "#ab63fa",
           "#FFA15A",
           "#19d3f3",
           "#FF6692",
           "#B6E880",
           "#FF97FF",
           "#FECB52"
          ],
          "font": {
           "color": "#2a3f5f"
          },
          "geo": {
           "bgcolor": "white",
           "lakecolor": "white",
           "landcolor": "#E5ECF6",
           "showlakes": true,
           "showland": true,
           "subunitcolor": "white"
          },
          "hoverlabel": {
           "align": "left"
          },
          "hovermode": "closest",
          "mapbox": {
           "style": "light"
          },
          "paper_bgcolor": "white",
          "plot_bgcolor": "#E5ECF6",
          "polar": {
           "angularaxis": {
            "gridcolor": "white",
            "linecolor": "white",
            "ticks": ""
           },
           "bgcolor": "#E5ECF6",
           "radialaxis": {
            "gridcolor": "white",
            "linecolor": "white",
            "ticks": ""
           }
          },
          "scene": {
           "xaxis": {
            "backgroundcolor": "#E5ECF6",
            "gridcolor": "white",
            "gridwidth": 2,
            "linecolor": "white",
            "showbackground": true,
            "ticks": "",
            "zerolinecolor": "white"
           },
           "yaxis": {
            "backgroundcolor": "#E5ECF6",
            "gridcolor": "white",
            "gridwidth": 2,
            "linecolor": "white",
            "showbackground": true,
            "ticks": "",
            "zerolinecolor": "white"
           },
           "zaxis": {
            "backgroundcolor": "#E5ECF6",
            "gridcolor": "white",
            "gridwidth": 2,
            "linecolor": "white",
            "showbackground": true,
            "ticks": "",
            "zerolinecolor": "white"
           }
          },
          "shapedefaults": {
           "line": {
            "color": "#2a3f5f"
           }
          },
          "ternary": {
           "aaxis": {
            "gridcolor": "white",
            "linecolor": "white",
            "ticks": ""
           },
           "baxis": {
            "gridcolor": "white",
            "linecolor": "white",
            "ticks": ""
           },
           "bgcolor": "#E5ECF6",
           "caxis": {
            "gridcolor": "white",
            "linecolor": "white",
            "ticks": ""
           }
          },
          "title": {
           "x": 0.05
          },
          "xaxis": {
           "automargin": true,
           "gridcolor": "white",
           "linecolor": "white",
           "ticks": "",
           "title": {
            "standoff": 15
           },
           "zerolinecolor": "white",
           "zerolinewidth": 2
          },
          "yaxis": {
           "automargin": true,
           "gridcolor": "white",
           "linecolor": "white",
           "ticks": "",
           "title": {
            "standoff": 15
           },
           "zerolinecolor": "white",
           "zerolinewidth": 2
          }
         }
        },
        "title": {
         "text": "Model F1 Score Comparison"
        },
        "xaxis": {
         "anchor": "y",
         "domain": [
          0,
          1
         ],
         "title": {
          "text": "Model"
         }
        },
        "yaxis": {
         "anchor": "x",
         "domain": [
          0,
          1
         ],
         "title": {
          "text": "F1 Score"
         }
        }
       }
      }
     },
     "metadata": {},
     "output_type": "display_data"
    }
   ],
   "source": [
    "# me \n",
    "fig = px.bar(\n",
    "    x=model_names, \n",
    "    y=F1_scores,    \n",
    "    color=model_names,  \n",
    "    labels={\"x\": \"Model\", \"y\": \"F1 Score\"},  \n",
    "    title=\"Model F1 Score Comparison\" \n",
    ")\n",
    "\n",
    "fig.show()"
   ]
  },
  {
   "cell_type": "code",
   "execution_count": 31,
   "id": "9b5f1885",
   "metadata": {},
   "outputs": [
    {
     "name": "stdout",
     "output_type": "stream",
     "text": [
      "log_model1 Cross-Validation Results:\n",
      " F1 score_cr: 0.6000\n",
      "knn_model2 Cross-Validation Results:\n",
      " F1 score_cr: 0.5200\n",
      "dt_model3 Cross-Validation Results:\n",
      " F1 score_cr: 0.4800\n"
     ]
    },
    {
     "name": "stderr",
     "output_type": "stream",
     "text": [
      "c:\\Users\\Cursist\\anaconda3\\envs\\homl3\\lib\\site-packages\\sklearn\\neural_network\\_multilayer_perceptron.py:691: ConvergenceWarning:\n",
      "\n",
      "Stochastic Optimizer: Maximum iterations (200) reached and the optimization hasn't converged yet.\n",
      "\n",
      "c:\\Users\\Cursist\\anaconda3\\envs\\homl3\\lib\\site-packages\\sklearn\\neural_network\\_multilayer_perceptron.py:691: ConvergenceWarning:\n",
      "\n",
      "Stochastic Optimizer: Maximum iterations (200) reached and the optimization hasn't converged yet.\n",
      "\n",
      "c:\\Users\\Cursist\\anaconda3\\envs\\homl3\\lib\\site-packages\\sklearn\\neural_network\\_multilayer_perceptron.py:691: ConvergenceWarning:\n",
      "\n",
      "Stochastic Optimizer: Maximum iterations (200) reached and the optimization hasn't converged yet.\n",
      "\n",
      "c:\\Users\\Cursist\\anaconda3\\envs\\homl3\\lib\\site-packages\\sklearn\\neural_network\\_multilayer_perceptron.py:691: ConvergenceWarning:\n",
      "\n",
      "Stochastic Optimizer: Maximum iterations (200) reached and the optimization hasn't converged yet.\n",
      "\n",
      "c:\\Users\\Cursist\\anaconda3\\envs\\homl3\\lib\\site-packages\\sklearn\\neural_network\\_multilayer_perceptron.py:691: ConvergenceWarning:\n",
      "\n",
      "Stochastic Optimizer: Maximum iterations (200) reached and the optimization hasn't converged yet.\n",
      "\n",
      "c:\\Users\\Cursist\\anaconda3\\envs\\homl3\\lib\\site-packages\\sklearn\\neural_network\\_multilayer_perceptron.py:691: ConvergenceWarning:\n",
      "\n",
      "Stochastic Optimizer: Maximum iterations (200) reached and the optimization hasn't converged yet.\n",
      "\n",
      "c:\\Users\\Cursist\\anaconda3\\envs\\homl3\\lib\\site-packages\\sklearn\\neural_network\\_multilayer_perceptron.py:691: ConvergenceWarning:\n",
      "\n",
      "Stochastic Optimizer: Maximum iterations (200) reached and the optimization hasn't converged yet.\n",
      "\n",
      "c:\\Users\\Cursist\\anaconda3\\envs\\homl3\\lib\\site-packages\\sklearn\\neural_network\\_multilayer_perceptron.py:691: ConvergenceWarning:\n",
      "\n",
      "Stochastic Optimizer: Maximum iterations (200) reached and the optimization hasn't converged yet.\n",
      "\n"
     ]
    },
    {
     "name": "stdout",
     "output_type": "stream",
     "text": [
      "mlp_model4 Cross-Validation Results:\n",
      " F1 score_cr: 0.5600\n",
      "svm_model5 Cross-Validation Results:\n",
      " F1 score_cr: 0.6200\n"
     ]
    },
    {
     "name": "stderr",
     "output_type": "stream",
     "text": [
      "c:\\Users\\Cursist\\anaconda3\\envs\\homl3\\lib\\site-packages\\sklearn\\neural_network\\_multilayer_perceptron.py:691: ConvergenceWarning:\n",
      "\n",
      "Stochastic Optimizer: Maximum iterations (200) reached and the optimization hasn't converged yet.\n",
      "\n"
     ]
    }
   ],
   "source": [
    "# me # cross validation\n",
    "cv_folds = 10\n",
    "model_names = []\n",
    "F1_scores_cr = []\n",
    "for name, model in models.items():\n",
    "    model.fit(x_train, y_train)\n",
    "\n",
    "    score_train = model.score(x_train, y_train)\n",
    "    score_test = model.score(x_test, y_test)\n",
    "\n",
    "    pred_y_train = model.predict(x_train)\n",
    "    pred_y_test = model.predict(x_test)\n",
    "\n",
    "    # cross-validation for F1_score\n",
    "    f1_cr = cross_val_score(model, x, y, cv=cv_folds, scoring= \"f1_micro\")\n",
    "\n",
    "    model_names.append(name)  # i will use to plot results\n",
    "    F1_scores_cr.append(f1_cr.mean())      # the same reason\n",
    "    \n",
    "    print(f\"{name} Cross-Validation Results:\")\n",
    "    print(f\" F1 score_cr: {f1_cr.mean():.4f}\")\n",
    "   \n",
    "   \n",
    "   "
   ]
  },
  {
   "cell_type": "code",
   "execution_count": null,
   "id": "fccf6127",
   "metadata": {},
   "outputs": [
    {
     "data": {
      "application/vnd.plotly.v1+json": {
       "config": {
        "plotlyServerURL": "https://plot.ly"
       },
       "data": [
        {
         "alignmentgroup": "True",
         "hovertemplate": "Result Set=F1 score without cross_val<br>Model=%{x}<br>F1 score=%{y}<extra></extra>",
         "legendgroup": "F1 score without cross_val",
         "marker": {
          "color": "#636efa",
          "pattern": {
           "shape": ""
          }
         },
         "name": "F1 score without cross_val",
         "offsetgroup": "F1 score without cross_val",
         "orientation": "v",
         "showlegend": true,
         "textposition": "auto",
         "type": "bar",
         "x": [
          "Logistic Regression",
          "K-Nearest Neighbor",
          "Decision Tree",
          "Neural Network",
          "SVM"
         ],
         "xaxis": "x",
         "y": [
          0.6666666666666666,
          0.5333333333333333,
          0.5333333333333333,
          0.7333333333333333,
          0.7333333333333333
         ],
         "yaxis": "y"
        },
        {
         "alignmentgroup": "True",
         "hovertemplate": "Result Set=F1 score cross_val<br>Model=%{x}<br>F1 score=%{y}<extra></extra>",
         "legendgroup": "F1 score cross_val",
         "marker": {
          "color": "#EF553B",
          "pattern": {
           "shape": ""
          }
         },
         "name": "F1 score cross_val",
         "offsetgroup": "F1 score cross_val",
         "orientation": "v",
         "showlegend": true,
         "textposition": "auto",
         "type": "bar",
         "x": [
          "Logistic Regression",
          "K-Nearest Neighbor",
          "Decision Tree",
          "Neural Network",
          "SVM"
         ],
         "xaxis": "x",
         "y": [
          0.6,
          0.5200000000000001,
          0.4800000000000001,
          0.56,
          0.6199999999999999
         ],
         "yaxis": "y"
        }
       ],
       "layout": {
        "barmode": "group",
        "legend": {
         "title": {
          "text": "Result Set"
         },
         "tracegroupgap": 0
        },
        "template": {
         "data": {
          "bar": [
           {
            "error_x": {
             "color": "#2a3f5f"
            },
            "error_y": {
             "color": "#2a3f5f"
            },
            "marker": {
             "line": {
              "color": "#E5ECF6",
              "width": 0.5
             },
             "pattern": {
              "fillmode": "overlay",
              "size": 10,
              "solidity": 0.2
             }
            },
            "type": "bar"
           }
          ],
          "barpolar": [
           {
            "marker": {
             "line": {
              "color": "#E5ECF6",
              "width": 0.5
             },
             "pattern": {
              "fillmode": "overlay",
              "size": 10,
              "solidity": 0.2
             }
            },
            "type": "barpolar"
           }
          ],
          "carpet": [
           {
            "aaxis": {
             "endlinecolor": "#2a3f5f",
             "gridcolor": "white",
             "linecolor": "white",
             "minorgridcolor": "white",
             "startlinecolor": "#2a3f5f"
            },
            "baxis": {
             "endlinecolor": "#2a3f5f",
             "gridcolor": "white",
             "linecolor": "white",
             "minorgridcolor": "white",
             "startlinecolor": "#2a3f5f"
            },
            "type": "carpet"
           }
          ],
          "choropleth": [
           {
            "colorbar": {
             "outlinewidth": 0,
             "ticks": ""
            },
            "type": "choropleth"
           }
          ],
          "contour": [
           {
            "colorbar": {
             "outlinewidth": 0,
             "ticks": ""
            },
            "colorscale": [
             [
              0,
              "#0d0887"
             ],
             [
              0.1111111111111111,
              "#46039f"
             ],
             [
              0.2222222222222222,
              "#7201a8"
             ],
             [
              0.3333333333333333,
              "#9c179e"
             ],
             [
              0.4444444444444444,
              "#bd3786"
             ],
             [
              0.5555555555555556,
              "#d8576b"
             ],
             [
              0.6666666666666666,
              "#ed7953"
             ],
             [
              0.7777777777777778,
              "#fb9f3a"
             ],
             [
              0.8888888888888888,
              "#fdca26"
             ],
             [
              1,
              "#f0f921"
             ]
            ],
            "type": "contour"
           }
          ],
          "contourcarpet": [
           {
            "colorbar": {
             "outlinewidth": 0,
             "ticks": ""
            },
            "type": "contourcarpet"
           }
          ],
          "heatmap": [
           {
            "colorbar": {
             "outlinewidth": 0,
             "ticks": ""
            },
            "colorscale": [
             [
              0,
              "#0d0887"
             ],
             [
              0.1111111111111111,
              "#46039f"
             ],
             [
              0.2222222222222222,
              "#7201a8"
             ],
             [
              0.3333333333333333,
              "#9c179e"
             ],
             [
              0.4444444444444444,
              "#bd3786"
             ],
             [
              0.5555555555555556,
              "#d8576b"
             ],
             [
              0.6666666666666666,
              "#ed7953"
             ],
             [
              0.7777777777777778,
              "#fb9f3a"
             ],
             [
              0.8888888888888888,
              "#fdca26"
             ],
             [
              1,
              "#f0f921"
             ]
            ],
            "type": "heatmap"
           }
          ],
          "heatmapgl": [
           {
            "colorbar": {
             "outlinewidth": 0,
             "ticks": ""
            },
            "colorscale": [
             [
              0,
              "#0d0887"
             ],
             [
              0.1111111111111111,
              "#46039f"
             ],
             [
              0.2222222222222222,
              "#7201a8"
             ],
             [
              0.3333333333333333,
              "#9c179e"
             ],
             [
              0.4444444444444444,
              "#bd3786"
             ],
             [
              0.5555555555555556,
              "#d8576b"
             ],
             [
              0.6666666666666666,
              "#ed7953"
             ],
             [
              0.7777777777777778,
              "#fb9f3a"
             ],
             [
              0.8888888888888888,
              "#fdca26"
             ],
             [
              1,
              "#f0f921"
             ]
            ],
            "type": "heatmapgl"
           }
          ],
          "histogram": [
           {
            "marker": {
             "pattern": {
              "fillmode": "overlay",
              "size": 10,
              "solidity": 0.2
             }
            },
            "type": "histogram"
           }
          ],
          "histogram2d": [
           {
            "colorbar": {
             "outlinewidth": 0,
             "ticks": ""
            },
            "colorscale": [
             [
              0,
              "#0d0887"
             ],
             [
              0.1111111111111111,
              "#46039f"
             ],
             [
              0.2222222222222222,
              "#7201a8"
             ],
             [
              0.3333333333333333,
              "#9c179e"
             ],
             [
              0.4444444444444444,
              "#bd3786"
             ],
             [
              0.5555555555555556,
              "#d8576b"
             ],
             [
              0.6666666666666666,
              "#ed7953"
             ],
             [
              0.7777777777777778,
              "#fb9f3a"
             ],
             [
              0.8888888888888888,
              "#fdca26"
             ],
             [
              1,
              "#f0f921"
             ]
            ],
            "type": "histogram2d"
           }
          ],
          "histogram2dcontour": [
           {
            "colorbar": {
             "outlinewidth": 0,
             "ticks": ""
            },
            "colorscale": [
             [
              0,
              "#0d0887"
             ],
             [
              0.1111111111111111,
              "#46039f"
             ],
             [
              0.2222222222222222,
              "#7201a8"
             ],
             [
              0.3333333333333333,
              "#9c179e"
             ],
             [
              0.4444444444444444,
              "#bd3786"
             ],
             [
              0.5555555555555556,
              "#d8576b"
             ],
             [
              0.6666666666666666,
              "#ed7953"
             ],
             [
              0.7777777777777778,
              "#fb9f3a"
             ],
             [
              0.8888888888888888,
              "#fdca26"
             ],
             [
              1,
              "#f0f921"
             ]
            ],
            "type": "histogram2dcontour"
           }
          ],
          "mesh3d": [
           {
            "colorbar": {
             "outlinewidth": 0,
             "ticks": ""
            },
            "type": "mesh3d"
           }
          ],
          "parcoords": [
           {
            "line": {
             "colorbar": {
              "outlinewidth": 0,
              "ticks": ""
             }
            },
            "type": "parcoords"
           }
          ],
          "pie": [
           {
            "automargin": true,
            "type": "pie"
           }
          ],
          "scatter": [
           {
            "fillpattern": {
             "fillmode": "overlay",
             "size": 10,
             "solidity": 0.2
            },
            "type": "scatter"
           }
          ],
          "scatter3d": [
           {
            "line": {
             "colorbar": {
              "outlinewidth": 0,
              "ticks": ""
             }
            },
            "marker": {
             "colorbar": {
              "outlinewidth": 0,
              "ticks": ""
             }
            },
            "type": "scatter3d"
           }
          ],
          "scattercarpet": [
           {
            "marker": {
             "colorbar": {
              "outlinewidth": 0,
              "ticks": ""
             }
            },
            "type": "scattercarpet"
           }
          ],
          "scattergeo": [
           {
            "marker": {
             "colorbar": {
              "outlinewidth": 0,
              "ticks": ""
             }
            },
            "type": "scattergeo"
           }
          ],
          "scattergl": [
           {
            "marker": {
             "colorbar": {
              "outlinewidth": 0,
              "ticks": ""
             }
            },
            "type": "scattergl"
           }
          ],
          "scattermapbox": [
           {
            "marker": {
             "colorbar": {
              "outlinewidth": 0,
              "ticks": ""
             }
            },
            "type": "scattermapbox"
           }
          ],
          "scatterpolar": [
           {
            "marker": {
             "colorbar": {
              "outlinewidth": 0,
              "ticks": ""
             }
            },
            "type": "scatterpolar"
           }
          ],
          "scatterpolargl": [
           {
            "marker": {
             "colorbar": {
              "outlinewidth": 0,
              "ticks": ""
             }
            },
            "type": "scatterpolargl"
           }
          ],
          "scatterternary": [
           {
            "marker": {
             "colorbar": {
              "outlinewidth": 0,
              "ticks": ""
             }
            },
            "type": "scatterternary"
           }
          ],
          "surface": [
           {
            "colorbar": {
             "outlinewidth": 0,
             "ticks": ""
            },
            "colorscale": [
             [
              0,
              "#0d0887"
             ],
             [
              0.1111111111111111,
              "#46039f"
             ],
             [
              0.2222222222222222,
              "#7201a8"
             ],
             [
              0.3333333333333333,
              "#9c179e"
             ],
             [
              0.4444444444444444,
              "#bd3786"
             ],
             [
              0.5555555555555556,
              "#d8576b"
             ],
             [
              0.6666666666666666,
              "#ed7953"
             ],
             [
              0.7777777777777778,
              "#fb9f3a"
             ],
             [
              0.8888888888888888,
              "#fdca26"
             ],
             [
              1,
              "#f0f921"
             ]
            ],
            "type": "surface"
           }
          ],
          "table": [
           {
            "cells": {
             "fill": {
              "color": "#EBF0F8"
             },
             "line": {
              "color": "white"
             }
            },
            "header": {
             "fill": {
              "color": "#C8D4E3"
             },
             "line": {
              "color": "white"
             }
            },
            "type": "table"
           }
          ]
         },
         "layout": {
          "annotationdefaults": {
           "arrowcolor": "#2a3f5f",
           "arrowhead": 0,
           "arrowwidth": 1
          },
          "autotypenumbers": "strict",
          "coloraxis": {
           "colorbar": {
            "outlinewidth": 0,
            "ticks": ""
           }
          },
          "colorscale": {
           "diverging": [
            [
             0,
             "#8e0152"
            ],
            [
             0.1,
             "#c51b7d"
            ],
            [
             0.2,
             "#de77ae"
            ],
            [
             0.3,
             "#f1b6da"
            ],
            [
             0.4,
             "#fde0ef"
            ],
            [
             0.5,
             "#f7f7f7"
            ],
            [
             0.6,
             "#e6f5d0"
            ],
            [
             0.7,
             "#b8e186"
            ],
            [
             0.8,
             "#7fbc41"
            ],
            [
             0.9,
             "#4d9221"
            ],
            [
             1,
             "#276419"
            ]
           ],
           "sequential": [
            [
             0,
             "#0d0887"
            ],
            [
             0.1111111111111111,
             "#46039f"
            ],
            [
             0.2222222222222222,
             "#7201a8"
            ],
            [
             0.3333333333333333,
             "#9c179e"
            ],
            [
             0.4444444444444444,
             "#bd3786"
            ],
            [
             0.5555555555555556,
             "#d8576b"
            ],
            [
             0.6666666666666666,
             "#ed7953"
            ],
            [
             0.7777777777777778,
             "#fb9f3a"
            ],
            [
             0.8888888888888888,
             "#fdca26"
            ],
            [
             1,
             "#f0f921"
            ]
           ],
           "sequentialminus": [
            [
             0,
             "#0d0887"
            ],
            [
             0.1111111111111111,
             "#46039f"
            ],
            [
             0.2222222222222222,
             "#7201a8"
            ],
            [
             0.3333333333333333,
             "#9c179e"
            ],
            [
             0.4444444444444444,
             "#bd3786"
            ],
            [
             0.5555555555555556,
             "#d8576b"
            ],
            [
             0.6666666666666666,
             "#ed7953"
            ],
            [
             0.7777777777777778,
             "#fb9f3a"
            ],
            [
             0.8888888888888888,
             "#fdca26"
            ],
            [
             1,
             "#f0f921"
            ]
           ]
          },
          "colorway": [
           "#636efa",
           "#EF553B",
           "#00cc96",
           "#ab63fa",
           "#FFA15A",
           "#19d3f3",
           "#FF6692",
           "#B6E880",
           "#FF97FF",
           "#FECB52"
          ],
          "font": {
           "color": "#2a3f5f"
          },
          "geo": {
           "bgcolor": "white",
           "lakecolor": "white",
           "landcolor": "#E5ECF6",
           "showlakes": true,
           "showland": true,
           "subunitcolor": "white"
          },
          "hoverlabel": {
           "align": "left"
          },
          "hovermode": "closest",
          "mapbox": {
           "style": "light"
          },
          "paper_bgcolor": "white",
          "plot_bgcolor": "#E5ECF6",
          "polar": {
           "angularaxis": {
            "gridcolor": "white",
            "linecolor": "white",
            "ticks": ""
           },
           "bgcolor": "#E5ECF6",
           "radialaxis": {
            "gridcolor": "white",
            "linecolor": "white",
            "ticks": ""
           }
          },
          "scene": {
           "xaxis": {
            "backgroundcolor": "#E5ECF6",
            "gridcolor": "white",
            "gridwidth": 2,
            "linecolor": "white",
            "showbackground": true,
            "ticks": "",
            "zerolinecolor": "white"
           },
           "yaxis": {
            "backgroundcolor": "#E5ECF6",
            "gridcolor": "white",
            "gridwidth": 2,
            "linecolor": "white",
            "showbackground": true,
            "ticks": "",
            "zerolinecolor": "white"
           },
           "zaxis": {
            "backgroundcolor": "#E5ECF6",
            "gridcolor": "white",
            "gridwidth": 2,
            "linecolor": "white",
            "showbackground": true,
            "ticks": "",
            "zerolinecolor": "white"
           }
          },
          "shapedefaults": {
           "line": {
            "color": "#2a3f5f"
           }
          },
          "ternary": {
           "aaxis": {
            "gridcolor": "white",
            "linecolor": "white",
            "ticks": ""
           },
           "baxis": {
            "gridcolor": "white",
            "linecolor": "white",
            "ticks": ""
           },
           "bgcolor": "#E5ECF6",
           "caxis": {
            "gridcolor": "white",
            "linecolor": "white",
            "ticks": ""
           }
          },
          "title": {
           "x": 0.05
          },
          "xaxis": {
           "automargin": true,
           "gridcolor": "white",
           "linecolor": "white",
           "ticks": "",
           "title": {
            "standoff": 15
           },
           "zerolinecolor": "white",
           "zerolinewidth": 2
          },
          "yaxis": {
           "automargin": true,
           "gridcolor": "white",
           "linecolor": "white",
           "ticks": "",
           "title": {
            "standoff": 15
           },
           "zerolinecolor": "white",
           "zerolinewidth": 2
          }
         }
        },
        "title": {
         "text": "Model f1 score Comparison with and without cross validation"
        },
        "xaxis": {
         "anchor": "y",
         "domain": [
          0,
          1
         ],
         "title": {
          "text": "Model"
         }
        },
        "yaxis": {
         "anchor": "x",
         "domain": [
          0,
          1
         ],
         "title": {
          "text": "F1 score"
         }
        }
       }
      }
     },
     "metadata": {},
     "output_type": "display_data"
    }
   ],
   "source": [
    "# me # comparison of F1 scores with and without cross validation\n",
    "result1 = F1_scores                                           \n",
    "result2 = F1_scores_cr     \n",
    "\n",
    "data = {\n",
    "    \"Model\": models_list * 2,  \n",
    "    \"F1 score\": result1 + result2,  \n",
    "    \"Result Set\": [\"F1 score without cross_val\"] * len(models_list) + [\"F1 score cross_val\"] * len(models_list)\n",
    "}\n",
    "\n",
    "fig = px.bar(\n",
    "    data,\n",
    "    x=\"Model\",\n",
    "    y=\"F1 score\",\n",
    "    color=\"Result Set\",\n",
    "    barmode=\"group\", \n",
    "    labels={\"x\": \"Model\", \"y\": \"F1 score\"},\n",
    "    title=\"Model f1 score Comparison with and without cross validation\"\n",
    ")\n",
    "\n",
    "fig.show()"
   ]
  }
 ],
 "metadata": {
  "kaggle": {
   "accelerator": "none",
   "dataSources": [
    {
     "datasetId": 293841,
     "sourceId": 602591,
     "sourceType": "datasetVersion"
    }
   ],
   "dockerImageVersionId": 30626,
   "isGpuEnabled": false,
   "isInternetEnabled": true,
   "language": "python",
   "sourceType": "notebook"
  },
  "kernelspec": {
   "display_name": "homl3",
   "language": "python",
   "name": "python3"
  },
  "language_info": {
   "codemirror_mode": {
    "name": "ipython",
    "version": 3
   },
   "file_extension": ".py",
   "mimetype": "text/x-python",
   "name": "python",
   "nbconvert_exporter": "python",
   "pygments_lexer": "ipython3",
   "version": "3.10.16"
  },
  "papermill": {
   "default_parameters": {},
   "duration": 11.782767,
   "end_time": "2023-12-25T11:45:58.412472",
   "environment_variables": {},
   "exception": null,
   "input_path": "__notebook__.ipynb",
   "output_path": "__notebook__.ipynb",
   "parameters": {},
   "start_time": "2023-12-25T11:45:46.629705",
   "version": "2.4.0"
  }
 },
 "nbformat": 4,
 "nbformat_minor": 5
}
