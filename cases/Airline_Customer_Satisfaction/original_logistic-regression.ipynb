{
 "cells": [
  {
   "cell_type": "code",
   "execution_count": 1,
   "id": "21ff4128",
   "metadata": {
    "_cell_guid": "b1076dfc-b9ad-4769-8c92-a6c4dae69d19",
    "_uuid": "8f2839f25d086af736a60e9eeb907d3b93b6e0e5",
    "execution": {
     "iopub.execute_input": "2024-07-31T09:19:27.384641Z",
     "iopub.status.busy": "2024-07-31T09:19:27.383807Z",
     "iopub.status.idle": "2024-07-31T09:19:28.410785Z",
     "shell.execute_reply": "2024-07-31T09:19:28.409252Z"
    },
    "papermill": {
     "duration": 1.053069,
     "end_time": "2024-07-31T09:19:28.413505",
     "exception": false,
     "start_time": "2024-07-31T09:19:27.360436",
     "status": "completed"
    },
    "tags": []
   },
   "outputs": [
    {
     "name": "stdout",
     "output_type": "stream",
     "text": [
      "/kaggle/input/airline-customer-satisfaction/Airline_customer_satisfaction.csv\n"
     ]
    }
   ],
   "source": [
    "# This Python 3 environment comes with many helpful analytics libraries installed\n",
    "# It is defined by the kaggle/python Docker image: https://github.com/kaggle/docker-python\n",
    "# For example, here's several helpful packages to load\n",
    "\n",
    "import numpy as np # linear algebra\n",
    "import pandas as pd # data processing, CSV file I/O (e.g. pd.read_csv)\n",
    "\n",
    "# Input data files are available in the read-only \"../input/\" directory\n",
    "# For example, running this (by clicking run or pressing Shift+Enter) will list all files under the input directory\n",
    "\n",
    "import os\n",
    "for dirname, _, filenames in os.walk('/kaggle/input'):\n",
    "    for filename in filenames:\n",
    "        print(os.path.join(dirname, filename))\n",
    "\n",
    "# You can write up to 20GB to the current directory (/kaggle/working/) that gets preserved as output when you create a version using \"Save & Run All\" \n",
    "# You can also write temporary files to /kaggle/temp/, but they won't be saved outside of the current session"
   ]
  },
  {
   "cell_type": "code",
   "execution_count": 2,
   "id": "b8a3c0e5",
   "metadata": {
    "execution": {
     "iopub.execute_input": "2024-07-31T09:19:28.461393Z",
     "iopub.status.busy": "2024-07-31T09:19:28.460177Z",
     "iopub.status.idle": "2024-07-31T09:19:30.414396Z",
     "shell.execute_reply": "2024-07-31T09:19:30.413106Z"
    },
    "papermill": {
     "duration": 1.979996,
     "end_time": "2024-07-31T09:19:30.417320",
     "exception": false,
     "start_time": "2024-07-31T09:19:28.437324",
     "status": "completed"
    },
    "tags": []
   },
   "outputs": [],
   "source": [
    "\n",
    "import numpy as np\n",
    "import pandas as pd\n",
    "\n",
    "from sklearn.preprocessing import OneHotEncoder\n",
    "from sklearn.model_selection import train_test_split\n",
    "from sklearn.linear_model import LogisticRegression\n",
    "import sklearn.metrics as metrics\n",
    "\n",
    "import matplotlib.pyplot as plt\n",
    "import seaborn as sns\n",
    "\n",
    "pd.options.display.max_columns=100\n",
    "pd.options.display.max_rows=100"
   ]
  },
  {
   "cell_type": "code",
   "execution_count": 3,
   "id": "76154642",
   "metadata": {
    "execution": {
     "iopub.execute_input": "2024-07-31T09:19:30.465414Z",
     "iopub.status.busy": "2024-07-31T09:19:30.464939Z",
     "iopub.status.idle": "2024-07-31T09:19:31.002085Z",
     "shell.execute_reply": "2024-07-31T09:19:31.000620Z"
    },
    "papermill": {
     "duration": 0.563535,
     "end_time": "2024-07-31T09:19:31.005411",
     "exception": false,
     "start_time": "2024-07-31T09:19:30.441876",
     "status": "completed"
    },
    "tags": []
   },
   "outputs": [],
   "source": [
    "df = pd.read_csv('/kaggle/input/airline-customer-satisfaction/Airline_customer_satisfaction.csv')"
   ]
  },
  {
   "cell_type": "markdown",
   "id": "a02ea91d",
   "metadata": {
    "papermill": {
     "duration": 0.021981,
     "end_time": "2024-07-31T09:19:31.050083",
     "exception": false,
     "start_time": "2024-07-31T09:19:31.028102",
     "status": "completed"
    },
    "tags": []
   },
   "source": [
    "*  **DATA EXPLORATION**"
   ]
  },
  {
   "cell_type": "code",
   "execution_count": 4,
   "id": "2c9b4256",
   "metadata": {
    "execution": {
     "iopub.execute_input": "2024-07-31T09:19:31.096564Z",
     "iopub.status.busy": "2024-07-31T09:19:31.096040Z",
     "iopub.status.idle": "2024-07-31T09:19:31.136356Z",
     "shell.execute_reply": "2024-07-31T09:19:31.135155Z"
    },
    "papermill": {
     "duration": 0.067498,
     "end_time": "2024-07-31T09:19:31.139761",
     "exception": false,
     "start_time": "2024-07-31T09:19:31.072263",
     "status": "completed"
    },
    "tags": []
   },
   "outputs": [
    {
     "data": {
      "text/html": [
       "<div>\n",
       "<style scoped>\n",
       "    .dataframe tbody tr th:only-of-type {\n",
       "        vertical-align: middle;\n",
       "    }\n",
       "\n",
       "    .dataframe tbody tr th {\n",
       "        vertical-align: top;\n",
       "    }\n",
       "\n",
       "    .dataframe thead th {\n",
       "        text-align: right;\n",
       "    }\n",
       "</style>\n",
       "<table border=\"1\" class=\"dataframe\">\n",
       "  <thead>\n",
       "    <tr style=\"text-align: right;\">\n",
       "      <th></th>\n",
       "      <th>satisfaction</th>\n",
       "      <th>Customer Type</th>\n",
       "      <th>Age</th>\n",
       "      <th>Type of Travel</th>\n",
       "      <th>Class</th>\n",
       "      <th>Flight Distance</th>\n",
       "      <th>Seat comfort</th>\n",
       "      <th>Departure/Arrival time convenient</th>\n",
       "      <th>Food and drink</th>\n",
       "      <th>Gate location</th>\n",
       "      <th>Inflight wifi service</th>\n",
       "      <th>Inflight entertainment</th>\n",
       "      <th>Online support</th>\n",
       "      <th>Ease of Online booking</th>\n",
       "      <th>On-board service</th>\n",
       "      <th>Leg room service</th>\n",
       "      <th>Baggage handling</th>\n",
       "      <th>Checkin service</th>\n",
       "      <th>Cleanliness</th>\n",
       "      <th>Online boarding</th>\n",
       "      <th>Departure Delay in Minutes</th>\n",
       "      <th>Arrival Delay in Minutes</th>\n",
       "    </tr>\n",
       "  </thead>\n",
       "  <tbody>\n",
       "    <tr>\n",
       "      <th>0</th>\n",
       "      <td>satisfied</td>\n",
       "      <td>Loyal Customer</td>\n",
       "      <td>65</td>\n",
       "      <td>Personal Travel</td>\n",
       "      <td>Eco</td>\n",
       "      <td>265</td>\n",
       "      <td>0</td>\n",
       "      <td>0</td>\n",
       "      <td>0</td>\n",
       "      <td>2</td>\n",
       "      <td>2</td>\n",
       "      <td>4</td>\n",
       "      <td>2</td>\n",
       "      <td>3</td>\n",
       "      <td>3</td>\n",
       "      <td>0</td>\n",
       "      <td>3</td>\n",
       "      <td>5</td>\n",
       "      <td>3</td>\n",
       "      <td>2</td>\n",
       "      <td>0</td>\n",
       "      <td>0.0</td>\n",
       "    </tr>\n",
       "    <tr>\n",
       "      <th>1</th>\n",
       "      <td>satisfied</td>\n",
       "      <td>Loyal Customer</td>\n",
       "      <td>47</td>\n",
       "      <td>Personal Travel</td>\n",
       "      <td>Business</td>\n",
       "      <td>2464</td>\n",
       "      <td>0</td>\n",
       "      <td>0</td>\n",
       "      <td>0</td>\n",
       "      <td>3</td>\n",
       "      <td>0</td>\n",
       "      <td>2</td>\n",
       "      <td>2</td>\n",
       "      <td>3</td>\n",
       "      <td>4</td>\n",
       "      <td>4</td>\n",
       "      <td>4</td>\n",
       "      <td>2</td>\n",
       "      <td>3</td>\n",
       "      <td>2</td>\n",
       "      <td>310</td>\n",
       "      <td>305.0</td>\n",
       "    </tr>\n",
       "    <tr>\n",
       "      <th>2</th>\n",
       "      <td>satisfied</td>\n",
       "      <td>Loyal Customer</td>\n",
       "      <td>15</td>\n",
       "      <td>Personal Travel</td>\n",
       "      <td>Eco</td>\n",
       "      <td>2138</td>\n",
       "      <td>0</td>\n",
       "      <td>0</td>\n",
       "      <td>0</td>\n",
       "      <td>3</td>\n",
       "      <td>2</td>\n",
       "      <td>0</td>\n",
       "      <td>2</td>\n",
       "      <td>2</td>\n",
       "      <td>3</td>\n",
       "      <td>3</td>\n",
       "      <td>4</td>\n",
       "      <td>4</td>\n",
       "      <td>4</td>\n",
       "      <td>2</td>\n",
       "      <td>0</td>\n",
       "      <td>0.0</td>\n",
       "    </tr>\n",
       "    <tr>\n",
       "      <th>3</th>\n",
       "      <td>satisfied</td>\n",
       "      <td>Loyal Customer</td>\n",
       "      <td>60</td>\n",
       "      <td>Personal Travel</td>\n",
       "      <td>Eco</td>\n",
       "      <td>623</td>\n",
       "      <td>0</td>\n",
       "      <td>0</td>\n",
       "      <td>0</td>\n",
       "      <td>3</td>\n",
       "      <td>3</td>\n",
       "      <td>4</td>\n",
       "      <td>3</td>\n",
       "      <td>1</td>\n",
       "      <td>1</td>\n",
       "      <td>0</td>\n",
       "      <td>1</td>\n",
       "      <td>4</td>\n",
       "      <td>1</td>\n",
       "      <td>3</td>\n",
       "      <td>0</td>\n",
       "      <td>0.0</td>\n",
       "    </tr>\n",
       "    <tr>\n",
       "      <th>4</th>\n",
       "      <td>satisfied</td>\n",
       "      <td>Loyal Customer</td>\n",
       "      <td>70</td>\n",
       "      <td>Personal Travel</td>\n",
       "      <td>Eco</td>\n",
       "      <td>354</td>\n",
       "      <td>0</td>\n",
       "      <td>0</td>\n",
       "      <td>0</td>\n",
       "      <td>3</td>\n",
       "      <td>4</td>\n",
       "      <td>3</td>\n",
       "      <td>4</td>\n",
       "      <td>2</td>\n",
       "      <td>2</td>\n",
       "      <td>0</td>\n",
       "      <td>2</td>\n",
       "      <td>4</td>\n",
       "      <td>2</td>\n",
       "      <td>5</td>\n",
       "      <td>0</td>\n",
       "      <td>0.0</td>\n",
       "    </tr>\n",
       "  </tbody>\n",
       "</table>\n",
       "</div>"
      ],
      "text/plain": [
       "  satisfaction   Customer Type  Age   Type of Travel     Class  \\\n",
       "0    satisfied  Loyal Customer   65  Personal Travel       Eco   \n",
       "1    satisfied  Loyal Customer   47  Personal Travel  Business   \n",
       "2    satisfied  Loyal Customer   15  Personal Travel       Eco   \n",
       "3    satisfied  Loyal Customer   60  Personal Travel       Eco   \n",
       "4    satisfied  Loyal Customer   70  Personal Travel       Eco   \n",
       "\n",
       "   Flight Distance  Seat comfort  Departure/Arrival time convenient  \\\n",
       "0              265             0                                  0   \n",
       "1             2464             0                                  0   \n",
       "2             2138             0                                  0   \n",
       "3              623             0                                  0   \n",
       "4              354             0                                  0   \n",
       "\n",
       "   Food and drink  Gate location  Inflight wifi service  \\\n",
       "0               0              2                      2   \n",
       "1               0              3                      0   \n",
       "2               0              3                      2   \n",
       "3               0              3                      3   \n",
       "4               0              3                      4   \n",
       "\n",
       "   Inflight entertainment  Online support  Ease of Online booking  \\\n",
       "0                       4               2                       3   \n",
       "1                       2               2                       3   \n",
       "2                       0               2                       2   \n",
       "3                       4               3                       1   \n",
       "4                       3               4                       2   \n",
       "\n",
       "   On-board service  Leg room service  Baggage handling  Checkin service  \\\n",
       "0                 3                 0                 3                5   \n",
       "1                 4                 4                 4                2   \n",
       "2                 3                 3                 4                4   \n",
       "3                 1                 0                 1                4   \n",
       "4                 2                 0                 2                4   \n",
       "\n",
       "   Cleanliness  Online boarding  Departure Delay in Minutes  \\\n",
       "0            3                2                           0   \n",
       "1            3                2                         310   \n",
       "2            4                2                           0   \n",
       "3            1                3                           0   \n",
       "4            2                5                           0   \n",
       "\n",
       "   Arrival Delay in Minutes  \n",
       "0                       0.0  \n",
       "1                     305.0  \n",
       "2                       0.0  \n",
       "3                       0.0  \n",
       "4                       0.0  "
      ]
     },
     "execution_count": 4,
     "metadata": {},
     "output_type": "execute_result"
    }
   ],
   "source": [
    "df.head()"
   ]
  },
  {
   "cell_type": "code",
   "execution_count": 5,
   "id": "b2fd9cc4",
   "metadata": {
    "execution": {
     "iopub.execute_input": "2024-07-31T09:19:31.195391Z",
     "iopub.status.busy": "2024-07-31T09:19:31.194532Z",
     "iopub.status.idle": "2024-07-31T09:19:31.218777Z",
     "shell.execute_reply": "2024-07-31T09:19:31.217527Z"
    },
    "papermill": {
     "duration": 0.05689,
     "end_time": "2024-07-31T09:19:31.222233",
     "exception": false,
     "start_time": "2024-07-31T09:19:31.165343",
     "status": "completed"
    },
    "tags": []
   },
   "outputs": [
    {
     "data": {
      "text/html": [
       "<div>\n",
       "<style scoped>\n",
       "    .dataframe tbody tr th:only-of-type {\n",
       "        vertical-align: middle;\n",
       "    }\n",
       "\n",
       "    .dataframe tbody tr th {\n",
       "        vertical-align: top;\n",
       "    }\n",
       "\n",
       "    .dataframe thead th {\n",
       "        text-align: right;\n",
       "    }\n",
       "</style>\n",
       "<table border=\"1\" class=\"dataframe\">\n",
       "  <thead>\n",
       "    <tr style=\"text-align: right;\">\n",
       "      <th></th>\n",
       "      <th>satisfaction</th>\n",
       "      <th>Customer Type</th>\n",
       "      <th>Age</th>\n",
       "      <th>Type of Travel</th>\n",
       "      <th>Class</th>\n",
       "      <th>Flight Distance</th>\n",
       "      <th>Seat comfort</th>\n",
       "      <th>Departure/Arrival time convenient</th>\n",
       "      <th>Food and drink</th>\n",
       "      <th>Gate location</th>\n",
       "      <th>Inflight wifi service</th>\n",
       "      <th>Inflight entertainment</th>\n",
       "      <th>Online support</th>\n",
       "      <th>Ease of Online booking</th>\n",
       "      <th>On-board service</th>\n",
       "      <th>Leg room service</th>\n",
       "      <th>Baggage handling</th>\n",
       "      <th>Checkin service</th>\n",
       "      <th>Cleanliness</th>\n",
       "      <th>Online boarding</th>\n",
       "      <th>Departure Delay in Minutes</th>\n",
       "      <th>Arrival Delay in Minutes</th>\n",
       "    </tr>\n",
       "  </thead>\n",
       "  <tbody>\n",
       "    <tr>\n",
       "      <th>129875</th>\n",
       "      <td>satisfied</td>\n",
       "      <td>disloyal Customer</td>\n",
       "      <td>29</td>\n",
       "      <td>Personal Travel</td>\n",
       "      <td>Eco</td>\n",
       "      <td>1731</td>\n",
       "      <td>5</td>\n",
       "      <td>5</td>\n",
       "      <td>5</td>\n",
       "      <td>3</td>\n",
       "      <td>2</td>\n",
       "      <td>5</td>\n",
       "      <td>2</td>\n",
       "      <td>2</td>\n",
       "      <td>3</td>\n",
       "      <td>3</td>\n",
       "      <td>4</td>\n",
       "      <td>4</td>\n",
       "      <td>4</td>\n",
       "      <td>2</td>\n",
       "      <td>0</td>\n",
       "      <td>0.0</td>\n",
       "    </tr>\n",
       "    <tr>\n",
       "      <th>129876</th>\n",
       "      <td>dissatisfied</td>\n",
       "      <td>disloyal Customer</td>\n",
       "      <td>63</td>\n",
       "      <td>Personal Travel</td>\n",
       "      <td>Business</td>\n",
       "      <td>2087</td>\n",
       "      <td>2</td>\n",
       "      <td>3</td>\n",
       "      <td>2</td>\n",
       "      <td>4</td>\n",
       "      <td>2</td>\n",
       "      <td>1</td>\n",
       "      <td>1</td>\n",
       "      <td>3</td>\n",
       "      <td>2</td>\n",
       "      <td>3</td>\n",
       "      <td>3</td>\n",
       "      <td>1</td>\n",
       "      <td>2</td>\n",
       "      <td>1</td>\n",
       "      <td>174</td>\n",
       "      <td>172.0</td>\n",
       "    </tr>\n",
       "    <tr>\n",
       "      <th>129877</th>\n",
       "      <td>dissatisfied</td>\n",
       "      <td>disloyal Customer</td>\n",
       "      <td>69</td>\n",
       "      <td>Personal Travel</td>\n",
       "      <td>Eco</td>\n",
       "      <td>2320</td>\n",
       "      <td>3</td>\n",
       "      <td>0</td>\n",
       "      <td>3</td>\n",
       "      <td>3</td>\n",
       "      <td>3</td>\n",
       "      <td>2</td>\n",
       "      <td>2</td>\n",
       "      <td>4</td>\n",
       "      <td>4</td>\n",
       "      <td>3</td>\n",
       "      <td>4</td>\n",
       "      <td>2</td>\n",
       "      <td>3</td>\n",
       "      <td>2</td>\n",
       "      <td>155</td>\n",
       "      <td>163.0</td>\n",
       "    </tr>\n",
       "    <tr>\n",
       "      <th>129878</th>\n",
       "      <td>dissatisfied</td>\n",
       "      <td>disloyal Customer</td>\n",
       "      <td>66</td>\n",
       "      <td>Personal Travel</td>\n",
       "      <td>Eco</td>\n",
       "      <td>2450</td>\n",
       "      <td>3</td>\n",
       "      <td>2</td>\n",
       "      <td>3</td>\n",
       "      <td>2</td>\n",
       "      <td>3</td>\n",
       "      <td>2</td>\n",
       "      <td>2</td>\n",
       "      <td>3</td>\n",
       "      <td>3</td>\n",
       "      <td>2</td>\n",
       "      <td>3</td>\n",
       "      <td>2</td>\n",
       "      <td>1</td>\n",
       "      <td>2</td>\n",
       "      <td>193</td>\n",
       "      <td>205.0</td>\n",
       "    </tr>\n",
       "    <tr>\n",
       "      <th>129879</th>\n",
       "      <td>dissatisfied</td>\n",
       "      <td>disloyal Customer</td>\n",
       "      <td>38</td>\n",
       "      <td>Personal Travel</td>\n",
       "      <td>Eco</td>\n",
       "      <td>4307</td>\n",
       "      <td>3</td>\n",
       "      <td>4</td>\n",
       "      <td>3</td>\n",
       "      <td>3</td>\n",
       "      <td>3</td>\n",
       "      <td>3</td>\n",
       "      <td>3</td>\n",
       "      <td>4</td>\n",
       "      <td>5</td>\n",
       "      <td>5</td>\n",
       "      <td>5</td>\n",
       "      <td>3</td>\n",
       "      <td>3</td>\n",
       "      <td>3</td>\n",
       "      <td>185</td>\n",
       "      <td>186.0</td>\n",
       "    </tr>\n",
       "  </tbody>\n",
       "</table>\n",
       "</div>"
      ],
      "text/plain": [
       "        satisfaction      Customer Type  Age   Type of Travel     Class  \\\n",
       "129875     satisfied  disloyal Customer   29  Personal Travel       Eco   \n",
       "129876  dissatisfied  disloyal Customer   63  Personal Travel  Business   \n",
       "129877  dissatisfied  disloyal Customer   69  Personal Travel       Eco   \n",
       "129878  dissatisfied  disloyal Customer   66  Personal Travel       Eco   \n",
       "129879  dissatisfied  disloyal Customer   38  Personal Travel       Eco   \n",
       "\n",
       "        Flight Distance  Seat comfort  Departure/Arrival time convenient  \\\n",
       "129875             1731             5                                  5   \n",
       "129876             2087             2                                  3   \n",
       "129877             2320             3                                  0   \n",
       "129878             2450             3                                  2   \n",
       "129879             4307             3                                  4   \n",
       "\n",
       "        Food and drink  Gate location  Inflight wifi service  \\\n",
       "129875               5              3                      2   \n",
       "129876               2              4                      2   \n",
       "129877               3              3                      3   \n",
       "129878               3              2                      3   \n",
       "129879               3              3                      3   \n",
       "\n",
       "        Inflight entertainment  Online support  Ease of Online booking  \\\n",
       "129875                       5               2                       2   \n",
       "129876                       1               1                       3   \n",
       "129877                       2               2                       4   \n",
       "129878                       2               2                       3   \n",
       "129879                       3               3                       4   \n",
       "\n",
       "        On-board service  Leg room service  Baggage handling  Checkin service  \\\n",
       "129875                 3                 3                 4                4   \n",
       "129876                 2                 3                 3                1   \n",
       "129877                 4                 3                 4                2   \n",
       "129878                 3                 2                 3                2   \n",
       "129879                 5                 5                 5                3   \n",
       "\n",
       "        Cleanliness  Online boarding  Departure Delay in Minutes  \\\n",
       "129875            4                2                           0   \n",
       "129876            2                1                         174   \n",
       "129877            3                2                         155   \n",
       "129878            1                2                         193   \n",
       "129879            3                3                         185   \n",
       "\n",
       "        Arrival Delay in Minutes  \n",
       "129875                       0.0  \n",
       "129876                     172.0  \n",
       "129877                     163.0  \n",
       "129878                     205.0  \n",
       "129879                     186.0  "
      ]
     },
     "execution_count": 5,
     "metadata": {},
     "output_type": "execute_result"
    }
   ],
   "source": [
    "df.tail()"
   ]
  },
  {
   "cell_type": "code",
   "execution_count": 6,
   "id": "e5d20e8d",
   "metadata": {
    "execution": {
     "iopub.execute_input": "2024-07-31T09:19:31.273230Z",
     "iopub.status.busy": "2024-07-31T09:19:31.271963Z",
     "iopub.status.idle": "2024-07-31T09:19:31.363409Z",
     "shell.execute_reply": "2024-07-31T09:19:31.360736Z"
    },
    "papermill": {
     "duration": 0.118907,
     "end_time": "2024-07-31T09:19:31.366654",
     "exception": false,
     "start_time": "2024-07-31T09:19:31.247747",
     "status": "completed"
    },
    "tags": []
   },
   "outputs": [
    {
     "name": "stdout",
     "output_type": "stream",
     "text": [
      "<class 'pandas.core.frame.DataFrame'>\n",
      "RangeIndex: 129880 entries, 0 to 129879\n",
      "Data columns (total 22 columns):\n",
      " #   Column                             Non-Null Count   Dtype  \n",
      "---  ------                             --------------   -----  \n",
      " 0   satisfaction                       129880 non-null  object \n",
      " 1   Customer Type                      129880 non-null  object \n",
      " 2   Age                                129880 non-null  int64  \n",
      " 3   Type of Travel                     129880 non-null  object \n",
      " 4   Class                              129880 non-null  object \n",
      " 5   Flight Distance                    129880 non-null  int64  \n",
      " 6   Seat comfort                       129880 non-null  int64  \n",
      " 7   Departure/Arrival time convenient  129880 non-null  int64  \n",
      " 8   Food and drink                     129880 non-null  int64  \n",
      " 9   Gate location                      129880 non-null  int64  \n",
      " 10  Inflight wifi service              129880 non-null  int64  \n",
      " 11  Inflight entertainment             129880 non-null  int64  \n",
      " 12  Online support                     129880 non-null  int64  \n",
      " 13  Ease of Online booking             129880 non-null  int64  \n",
      " 14  On-board service                   129880 non-null  int64  \n",
      " 15  Leg room service                   129880 non-null  int64  \n",
      " 16  Baggage handling                   129880 non-null  int64  \n",
      " 17  Checkin service                    129880 non-null  int64  \n",
      " 18  Cleanliness                        129880 non-null  int64  \n",
      " 19  Online boarding                    129880 non-null  int64  \n",
      " 20  Departure Delay in Minutes         129880 non-null  int64  \n",
      " 21  Arrival Delay in Minutes           129487 non-null  float64\n",
      "dtypes: float64(1), int64(17), object(4)\n",
      "memory usage: 21.8+ MB\n"
     ]
    }
   ],
   "source": [
    "df.info()"
   ]
  },
  {
   "cell_type": "code",
   "execution_count": 7,
   "id": "2c365487",
   "metadata": {
    "execution": {
     "iopub.execute_input": "2024-07-31T09:19:31.415055Z",
     "iopub.status.busy": "2024-07-31T09:19:31.414236Z",
     "iopub.status.idle": "2024-07-31T09:19:31.421604Z",
     "shell.execute_reply": "2024-07-31T09:19:31.420420Z"
    },
    "papermill": {
     "duration": 0.034424,
     "end_time": "2024-07-31T09:19:31.424288",
     "exception": false,
     "start_time": "2024-07-31T09:19:31.389864",
     "status": "completed"
    },
    "tags": []
   },
   "outputs": [
    {
     "data": {
      "text/plain": [
       "(129880, 22)"
      ]
     },
     "execution_count": 7,
     "metadata": {},
     "output_type": "execute_result"
    }
   ],
   "source": [
    "df.shape"
   ]
  },
  {
   "cell_type": "markdown",
   "id": "8766c6c0",
   "metadata": {
    "papermill": {
     "duration": 0.02305,
     "end_time": "2024-07-31T09:19:31.478510",
     "exception": false,
     "start_time": "2024-07-31T09:19:31.455460",
     "status": "completed"
    },
    "tags": []
   },
   "source": [
    "*   **Checking the number of satisfied customers**"
   ]
  },
  {
   "cell_type": "code",
   "execution_count": 8,
   "id": "296c22aa",
   "metadata": {
    "execution": {
     "iopub.execute_input": "2024-07-31T09:19:31.526542Z",
     "iopub.status.busy": "2024-07-31T09:19:31.526106Z",
     "iopub.status.idle": "2024-07-31T09:19:31.545510Z",
     "shell.execute_reply": "2024-07-31T09:19:31.544357Z"
    },
    "papermill": {
     "duration": 0.046115,
     "end_time": "2024-07-31T09:19:31.547855",
     "exception": false,
     "start_time": "2024-07-31T09:19:31.501740",
     "status": "completed"
    },
    "tags": []
   },
   "outputs": [
    {
     "data": {
      "text/plain": [
       "satisfaction\n",
       "satisfied       71087\n",
       "dissatisfied    58793\n",
       "Name: count, dtype: int64"
      ]
     },
     "execution_count": 8,
     "metadata": {},
     "output_type": "execute_result"
    }
   ],
   "source": [
    "value_counts = df['satisfaction'].value_counts(dropna=False)\n",
    "value_counts"
   ]
  },
  {
   "cell_type": "code",
   "execution_count": 9,
   "id": "1756db85",
   "metadata": {
    "execution": {
     "iopub.execute_input": "2024-07-31T09:19:31.595707Z",
     "iopub.status.busy": "2024-07-31T09:19:31.595294Z",
     "iopub.status.idle": "2024-07-31T09:19:31.892728Z",
     "shell.execute_reply": "2024-07-31T09:19:31.891323Z"
    },
    "papermill": {
     "duration": 0.324449,
     "end_time": "2024-07-31T09:19:31.895544",
     "exception": false,
     "start_time": "2024-07-31T09:19:31.571095",
     "status": "completed"
    },
    "tags": []
   },
   "outputs": [
    {
     "data": {
      "image/png": "[encoded data removed]",
      "text/plain": [
       "<Figure size 640x480 with 1 Axes>"
      ]
     },
     "metadata": {},
     "output_type": "display_data"
    }
   ],
   "source": [
    "# Plotting the counts\n",
    "plt.bar(value_counts.index, value_counts.values)\n",
    "plt.xlabel('Satisfaction Levels')\n",
    "plt.ylabel('Count')\n",
    "plt.title('Count of Satisfaction Levels')\n",
    "plt.show()"
   ]
  },
  {
   "cell_type": "markdown",
   "id": "623be8e1",
   "metadata": {
    "papermill": {
     "duration": 0.024027,
     "end_time": "2024-07-31T09:19:31.943852",
     "exception": false,
     "start_time": "2024-07-31T09:19:31.919825",
     "status": "completed"
    },
    "tags": []
   },
   "source": [
    "* **Checking for missing values**"
   ]
  },
  {
   "cell_type": "code",
   "execution_count": 10,
   "id": "c8d890d7",
   "metadata": {
    "execution": {
     "iopub.execute_input": "2024-07-31T09:19:31.993268Z",
     "iopub.status.busy": "2024-07-31T09:19:31.992745Z",
     "iopub.status.idle": "2024-07-31T09:19:32.067532Z",
     "shell.execute_reply": "2024-07-31T09:19:32.066026Z"
    },
    "papermill": {
     "duration": 0.102276,
     "end_time": "2024-07-31T09:19:32.070021",
     "exception": false,
     "start_time": "2024-07-31T09:19:31.967745",
     "status": "completed"
    },
    "tags": []
   },
   "outputs": [
    {
     "data": {
      "text/plain": [
       "Arrival Delay in Minutes             393\n",
       "Customer Type                          0\n",
       "Departure Delay in Minutes             0\n",
       "Online boarding                        0\n",
       "Cleanliness                            0\n",
       "Checkin service                        0\n",
       "Baggage handling                       0\n",
       "Leg room service                       0\n",
       "On-board service                       0\n",
       "Ease of Online booking                 0\n",
       "Online support                         0\n",
       "satisfaction                           0\n",
       "Inflight wifi service                  0\n",
       "Gate location                          0\n",
       "Food and drink                         0\n",
       "Departure/Arrival time convenient      0\n",
       "Seat comfort                           0\n",
       "Flight Distance                        0\n",
       "Class                                  0\n",
       "Type of Travel                         0\n",
       "Age                                    0\n",
       "Inflight entertainment                 0\n",
       "dtype: int64"
      ]
     },
     "execution_count": 10,
     "metadata": {},
     "output_type": "execute_result"
    }
   ],
   "source": [
    "df.isna().sum().sort_values(ascending=False)"
   ]
  },
  {
   "cell_type": "code",
   "execution_count": 11,
   "id": "70cda2d5",
   "metadata": {
    "execution": {
     "iopub.execute_input": "2024-07-31T09:19:32.119197Z",
     "iopub.status.busy": "2024-07-31T09:19:32.118311Z",
     "iopub.status.idle": "2024-07-31T09:19:32.217316Z",
     "shell.execute_reply": "2024-07-31T09:19:32.215930Z"
    },
    "papermill": {
     "duration": 0.126674,
     "end_time": "2024-07-31T09:19:32.220208",
     "exception": false,
     "start_time": "2024-07-31T09:19:32.093534",
     "status": "completed"
    },
    "tags": []
   },
   "outputs": [],
   "source": [
    "df1 = df.dropna(axis=0).reset_index(drop = True)"
   ]
  },
  {
   "cell_type": "code",
   "execution_count": 12,
   "id": "bffacd70",
   "metadata": {
    "execution": {
     "iopub.execute_input": "2024-07-31T09:19:32.269370Z",
     "iopub.status.busy": "2024-07-31T09:19:32.268903Z",
     "iopub.status.idle": "2024-07-31T09:19:32.348000Z",
     "shell.execute_reply": "2024-07-31T09:19:32.346822Z"
    },
    "papermill": {
     "duration": 0.106877,
     "end_time": "2024-07-31T09:19:32.350813",
     "exception": false,
     "start_time": "2024-07-31T09:19:32.243936",
     "status": "completed"
    },
    "tags": []
   },
   "outputs": [],
   "source": [
    "df1['satisfaction'] = OneHotEncoder(drop='first').fit_transform(df1[['satisfaction']]).toarray()"
   ]
  },
  {
   "cell_type": "markdown",
   "id": "575c6b7d",
   "metadata": {
    "papermill": {
     "duration": 0.025528,
     "end_time": "2024-07-31T09:19:32.400067",
     "exception": false,
     "start_time": "2024-07-31T09:19:32.374539",
     "status": "completed"
    },
    "tags": []
   },
   "source": [
    "# **ON-BOARD SERVICE**"
   ]
  },
  {
   "cell_type": "code",
   "execution_count": 13,
   "id": "5393e6a8",
   "metadata": {
    "execution": {
     "iopub.execute_input": "2024-07-31T09:19:32.462852Z",
     "iopub.status.busy": "2024-07-31T09:19:32.462437Z",
     "iopub.status.idle": "2024-07-31T09:19:32.482668Z",
     "shell.execute_reply": "2024-07-31T09:19:32.481340Z"
    },
    "papermill": {
     "duration": 0.054194,
     "end_time": "2024-07-31T09:19:32.485474",
     "exception": false,
     "start_time": "2024-07-31T09:19:32.431280",
     "status": "completed"
    },
    "tags": []
   },
   "outputs": [],
   "source": [
    "df1 = df1.astype({\"On-board service\": float})"
   ]
  },
  {
   "cell_type": "code",
   "execution_count": 14,
   "id": "98035610",
   "metadata": {
    "execution": {
     "iopub.execute_input": "2024-07-31T09:19:32.535677Z",
     "iopub.status.busy": "2024-07-31T09:19:32.534336Z",
     "iopub.status.idle": "2024-07-31T09:19:32.563598Z",
     "shell.execute_reply": "2024-07-31T09:19:32.562465Z"
    },
    "papermill": {
     "duration": 0.057727,
     "end_time": "2024-07-31T09:19:32.566623",
     "exception": false,
     "start_time": "2024-07-31T09:19:32.508896",
     "status": "completed"
    },
    "tags": []
   },
   "outputs": [
    {
     "data": {
      "text/html": [
       "<div>\n",
       "<style scoped>\n",
       "    .dataframe tbody tr th:only-of-type {\n",
       "        vertical-align: middle;\n",
       "    }\n",
       "\n",
       "    .dataframe tbody tr th {\n",
       "        vertical-align: top;\n",
       "    }\n",
       "\n",
       "    .dataframe thead th {\n",
       "        text-align: right;\n",
       "    }\n",
       "</style>\n",
       "<table border=\"1\" class=\"dataframe\">\n",
       "  <thead>\n",
       "    <tr style=\"text-align: right;\">\n",
       "      <th></th>\n",
       "      <th>satisfaction</th>\n",
       "      <th>Customer Type</th>\n",
       "      <th>Age</th>\n",
       "      <th>Type of Travel</th>\n",
       "      <th>Class</th>\n",
       "      <th>Flight Distance</th>\n",
       "      <th>Seat comfort</th>\n",
       "      <th>Departure/Arrival time convenient</th>\n",
       "      <th>Food and drink</th>\n",
       "      <th>Gate location</th>\n",
       "      <th>Inflight wifi service</th>\n",
       "      <th>Inflight entertainment</th>\n",
       "      <th>Online support</th>\n",
       "      <th>Ease of Online booking</th>\n",
       "      <th>On-board service</th>\n",
       "      <th>Leg room service</th>\n",
       "      <th>Baggage handling</th>\n",
       "      <th>Checkin service</th>\n",
       "      <th>Cleanliness</th>\n",
       "      <th>Online boarding</th>\n",
       "      <th>Departure Delay in Minutes</th>\n",
       "      <th>Arrival Delay in Minutes</th>\n",
       "    </tr>\n",
       "  </thead>\n",
       "  <tbody>\n",
       "    <tr>\n",
       "      <th>0</th>\n",
       "      <td>1.0</td>\n",
       "      <td>Loyal Customer</td>\n",
       "      <td>65</td>\n",
       "      <td>Personal Travel</td>\n",
       "      <td>Eco</td>\n",
       "      <td>265</td>\n",
       "      <td>0</td>\n",
       "      <td>0</td>\n",
       "      <td>0</td>\n",
       "      <td>2</td>\n",
       "      <td>2</td>\n",
       "      <td>4</td>\n",
       "      <td>2</td>\n",
       "      <td>3</td>\n",
       "      <td>3.0</td>\n",
       "      <td>0</td>\n",
       "      <td>3</td>\n",
       "      <td>5</td>\n",
       "      <td>3</td>\n",
       "      <td>2</td>\n",
       "      <td>0</td>\n",
       "      <td>0.0</td>\n",
       "    </tr>\n",
       "    <tr>\n",
       "      <th>1</th>\n",
       "      <td>1.0</td>\n",
       "      <td>Loyal Customer</td>\n",
       "      <td>47</td>\n",
       "      <td>Personal Travel</td>\n",
       "      <td>Business</td>\n",
       "      <td>2464</td>\n",
       "      <td>0</td>\n",
       "      <td>0</td>\n",
       "      <td>0</td>\n",
       "      <td>3</td>\n",
       "      <td>0</td>\n",
       "      <td>2</td>\n",
       "      <td>2</td>\n",
       "      <td>3</td>\n",
       "      <td>4.0</td>\n",
       "      <td>4</td>\n",
       "      <td>4</td>\n",
       "      <td>2</td>\n",
       "      <td>3</td>\n",
       "      <td>2</td>\n",
       "      <td>310</td>\n",
       "      <td>305.0</td>\n",
       "    </tr>\n",
       "    <tr>\n",
       "      <th>2</th>\n",
       "      <td>1.0</td>\n",
       "      <td>Loyal Customer</td>\n",
       "      <td>15</td>\n",
       "      <td>Personal Travel</td>\n",
       "      <td>Eco</td>\n",
       "      <td>2138</td>\n",
       "      <td>0</td>\n",
       "      <td>0</td>\n",
       "      <td>0</td>\n",
       "      <td>3</td>\n",
       "      <td>2</td>\n",
       "      <td>0</td>\n",
       "      <td>2</td>\n",
       "      <td>2</td>\n",
       "      <td>3.0</td>\n",
       "      <td>3</td>\n",
       "      <td>4</td>\n",
       "      <td>4</td>\n",
       "      <td>4</td>\n",
       "      <td>2</td>\n",
       "      <td>0</td>\n",
       "      <td>0.0</td>\n",
       "    </tr>\n",
       "    <tr>\n",
       "      <th>3</th>\n",
       "      <td>1.0</td>\n",
       "      <td>Loyal Customer</td>\n",
       "      <td>60</td>\n",
       "      <td>Personal Travel</td>\n",
       "      <td>Eco</td>\n",
       "      <td>623</td>\n",
       "      <td>0</td>\n",
       "      <td>0</td>\n",
       "      <td>0</td>\n",
       "      <td>3</td>\n",
       "      <td>3</td>\n",
       "      <td>4</td>\n",
       "      <td>3</td>\n",
       "      <td>1</td>\n",
       "      <td>1.0</td>\n",
       "      <td>0</td>\n",
       "      <td>1</td>\n",
       "      <td>4</td>\n",
       "      <td>1</td>\n",
       "      <td>3</td>\n",
       "      <td>0</td>\n",
       "      <td>0.0</td>\n",
       "    </tr>\n",
       "    <tr>\n",
       "      <th>4</th>\n",
       "      <td>1.0</td>\n",
       "      <td>Loyal Customer</td>\n",
       "      <td>70</td>\n",
       "      <td>Personal Travel</td>\n",
       "      <td>Eco</td>\n",
       "      <td>354</td>\n",
       "      <td>0</td>\n",
       "      <td>0</td>\n",
       "      <td>0</td>\n",
       "      <td>3</td>\n",
       "      <td>4</td>\n",
       "      <td>3</td>\n",
       "      <td>4</td>\n",
       "      <td>2</td>\n",
       "      <td>2.0</td>\n",
       "      <td>0</td>\n",
       "      <td>2</td>\n",
       "      <td>4</td>\n",
       "      <td>2</td>\n",
       "      <td>5</td>\n",
       "      <td>0</td>\n",
       "      <td>0.0</td>\n",
       "    </tr>\n",
       "  </tbody>\n",
       "</table>\n",
       "</div>"
      ],
      "text/plain": [
       "   satisfaction   Customer Type  Age   Type of Travel     Class  \\\n",
       "0           1.0  Loyal Customer   65  Personal Travel       Eco   \n",
       "1           1.0  Loyal Customer   47  Personal Travel  Business   \n",
       "2           1.0  Loyal Customer   15  Personal Travel       Eco   \n",
       "3           1.0  Loyal Customer   60  Personal Travel       Eco   \n",
       "4           1.0  Loyal Customer   70  Personal Travel       Eco   \n",
       "\n",
       "   Flight Distance  Seat comfort  Departure/Arrival time convenient  \\\n",
       "0              265             0                                  0   \n",
       "1             2464             0                                  0   \n",
       "2             2138             0                                  0   \n",
       "3              623             0                                  0   \n",
       "4              354             0                                  0   \n",
       "\n",
       "   Food and drink  Gate location  Inflight wifi service  \\\n",
       "0               0              2                      2   \n",
       "1               0              3                      0   \n",
       "2               0              3                      2   \n",
       "3               0              3                      3   \n",
       "4               0              3                      4   \n",
       "\n",
       "   Inflight entertainment  Online support  Ease of Online booking  \\\n",
       "0                       4               2                       3   \n",
       "1                       2               2                       3   \n",
       "2                       0               2                       2   \n",
       "3                       4               3                       1   \n",
       "4                       3               4                       2   \n",
       "\n",
       "   On-board service  Leg room service  Baggage handling  Checkin service  \\\n",
       "0               3.0                 0                 3                5   \n",
       "1               4.0                 4                 4                2   \n",
       "2               3.0                 3                 4                4   \n",
       "3               1.0                 0                 1                4   \n",
       "4               2.0                 0                 2                4   \n",
       "\n",
       "   Cleanliness  Online boarding  Departure Delay in Minutes  \\\n",
       "0            3                2                           0   \n",
       "1            3                2                         310   \n",
       "2            4                2                           0   \n",
       "3            1                3                           0   \n",
       "4            2                5                           0   \n",
       "\n",
       "   Arrival Delay in Minutes  \n",
       "0                       0.0  \n",
       "1                     305.0  \n",
       "2                       0.0  \n",
       "3                       0.0  \n",
       "4                       0.0  "
      ]
     },
     "execution_count": 14,
     "metadata": {},
     "output_type": "execute_result"
    }
   ],
   "source": [
    "df1.head()"
   ]
  },
  {
   "cell_type": "markdown",
   "id": "5f8b3cd1",
   "metadata": {
    "papermill": {
     "duration": 0.035465,
     "end_time": "2024-07-31T09:19:32.635053",
     "exception": false,
     "start_time": "2024-07-31T09:19:32.599588",
     "status": "completed"
    },
    "tags": []
   },
   "source": [
    "* **Creating the training and testing data**"
   ]
  },
  {
   "cell_type": "code",
   "execution_count": 15,
   "id": "87e3ffb9",
   "metadata": {
    "execution": {
     "iopub.execute_input": "2024-07-31T09:19:32.756756Z",
     "iopub.status.busy": "2024-07-31T09:19:32.755769Z",
     "iopub.status.idle": "2024-07-31T09:19:32.779873Z",
     "shell.execute_reply": "2024-07-31T09:19:32.778456Z"
    },
    "papermill": {
     "duration": 0.056852,
     "end_time": "2024-07-31T09:19:32.783258",
     "exception": false,
     "start_time": "2024-07-31T09:19:32.726406",
     "status": "completed"
    },
    "tags": []
   },
   "outputs": [],
   "source": [
    "X = df1[[\"On-board service\"]]\n",
    "y = df1[\"satisfaction\"]\n",
    "\n",
    "X_train, X_test, y_train, y_test = train_test_split(X,y, test_size=0.3, random_state=42)"
   ]
  },
  {
   "cell_type": "markdown",
   "id": "0adc5bc1",
   "metadata": {
    "papermill": {
     "duration": 0.026204,
     "end_time": "2024-07-31T09:19:32.836866",
     "exception": false,
     "start_time": "2024-07-31T09:19:32.810662",
     "status": "completed"
    },
    "tags": []
   },
   "source": [
    "* **Fitting the logistic model**"
   ]
  },
  {
   "cell_type": "code",
   "execution_count": 16,
   "id": "6590ee48",
   "metadata": {
    "execution": {
     "iopub.execute_input": "2024-07-31T09:19:32.888744Z",
     "iopub.status.busy": "2024-07-31T09:19:32.887937Z",
     "iopub.status.idle": "2024-07-31T09:19:33.034775Z",
     "shell.execute_reply": "2024-07-31T09:19:33.032598Z"
    },
    "papermill": {
     "duration": 0.177133,
     "end_time": "2024-07-31T09:19:33.039092",
     "exception": false,
     "start_time": "2024-07-31T09:19:32.861959",
     "status": "completed"
    },
    "tags": []
   },
   "outputs": [],
   "source": [
    "clf = LogisticRegression().fit(X_train,y_train)"
   ]
  },
  {
   "cell_type": "markdown",
   "id": "0816d77a",
   "metadata": {
    "papermill": {
     "duration": 0.050681,
     "end_time": "2024-07-31T09:19:33.143485",
     "exception": false,
     "start_time": "2024-07-31T09:19:33.092804",
     "status": "completed"
    },
    "tags": []
   },
   "source": [
    "* **Obtaining parameter estimates**"
   ]
  },
  {
   "cell_type": "code",
   "execution_count": 17,
   "id": "0c2b81cd",
   "metadata": {
    "execution": {
     "iopub.execute_input": "2024-07-31T09:19:33.200314Z",
     "iopub.status.busy": "2024-07-31T09:19:33.198897Z",
     "iopub.status.idle": "2024-07-31T09:19:33.207611Z",
     "shell.execute_reply": "2024-07-31T09:19:33.206476Z"
    },
    "papermill": {
     "duration": 0.037864,
     "end_time": "2024-07-31T09:19:33.210927",
     "exception": false,
     "start_time": "2024-07-31T09:19:33.173063",
     "status": "completed"
    },
    "tags": []
   },
   "outputs": [
    {
     "data": {
      "text/plain": [
       "array([[0.60626847]])"
      ]
     },
     "execution_count": 17,
     "metadata": {},
     "output_type": "execute_result"
    }
   ],
   "source": [
    "clf.coef_"
   ]
  },
  {
   "cell_type": "code",
   "execution_count": 18,
   "id": "366c728e",
   "metadata": {
    "execution": {
     "iopub.execute_input": "2024-07-31T09:19:33.263100Z",
     "iopub.status.busy": "2024-07-31T09:19:33.261863Z",
     "iopub.status.idle": "2024-07-31T09:19:33.270130Z",
     "shell.execute_reply": "2024-07-31T09:19:33.269006Z"
    },
    "papermill": {
     "duration": 0.036652,
     "end_time": "2024-07-31T09:19:33.272601",
     "exception": false,
     "start_time": "2024-07-31T09:19:33.235949",
     "status": "completed"
    },
    "tags": []
   },
   "outputs": [
    {
     "data": {
      "text/plain": [
       "array([-1.89769772])"
      ]
     },
     "execution_count": 18,
     "metadata": {},
     "output_type": "execute_result"
    }
   ],
   "source": [
    "clf.intercept_"
   ]
  },
  {
   "cell_type": "markdown",
   "id": "f7b37728",
   "metadata": {
    "papermill": {
     "duration": 0.024683,
     "end_time": "2024-07-31T09:19:33.321767",
     "exception": false,
     "start_time": "2024-07-31T09:19:33.297084",
     "status": "completed"
    },
    "tags": []
   },
   "source": [
    "* **Plotting**"
   ]
  },
  {
   "cell_type": "code",
   "execution_count": 19,
   "id": "a85786b5",
   "metadata": {
    "execution": {
     "iopub.execute_input": "2024-07-31T09:19:33.375073Z",
     "iopub.status.busy": "2024-07-31T09:19:33.374634Z",
     "iopub.status.idle": "2024-07-31T09:19:34.876871Z",
     "shell.execute_reply": "2024-07-31T09:19:34.875526Z"
    },
    "papermill": {
     "duration": 1.532164,
     "end_time": "2024-07-31T09:19:34.879670",
     "exception": false,
     "start_time": "2024-07-31T09:19:33.347506",
     "status": "completed"
    },
    "tags": []
   },
   "outputs": [
    {
     "data": {
      "text/plain": [
       "<Axes: xlabel='On-board service', ylabel='satisfaction'>"
      ]
     },
     "execution_count": 19,
     "metadata": {},
     "output_type": "execute_result"
    },
    {
     "data": {
      "image/png": "[encoded data removed]",
      "text/plain": [
       "<Figure size 640x480 with 1 Axes>"
      ]
     },
     "metadata": {},
     "output_type": "display_data"
    }
   ],
   "source": [
    "sns.regplot(x=\"On-board service\", y=\"satisfaction\", data=df1, logistic=True, ci=None)"
   ]
  },
  {
   "cell_type": "markdown",
   "id": "f8ae650a",
   "metadata": {
    "papermill": {
     "duration": 0.024742,
     "end_time": "2024-07-31T09:19:34.929606",
     "exception": false,
     "start_time": "2024-07-31T09:19:34.904864",
     "status": "completed"
    },
    "tags": []
   },
   "source": [
    "* **Predicting the outcome**"
   ]
  },
  {
   "cell_type": "code",
   "execution_count": 20,
   "id": "1ebfba41",
   "metadata": {
    "execution": {
     "iopub.execute_input": "2024-07-31T09:19:34.983132Z",
     "iopub.status.busy": "2024-07-31T09:19:34.981862Z",
     "iopub.status.idle": "2024-07-31T09:19:34.989738Z",
     "shell.execute_reply": "2024-07-31T09:19:34.988428Z"
    },
    "papermill": {
     "duration": 0.03703,
     "end_time": "2024-07-31T09:19:34.992381",
     "exception": false,
     "start_time": "2024-07-31T09:19:34.955351",
     "status": "completed"
    },
    "tags": []
   },
   "outputs": [],
   "source": [
    "y_pred = clf.predict(X_test)"
   ]
  },
  {
   "cell_type": "code",
   "execution_count": 21,
   "id": "fa78722e",
   "metadata": {
    "execution": {
     "iopub.execute_input": "2024-07-31T09:19:35.044894Z",
     "iopub.status.busy": "2024-07-31T09:19:35.044467Z",
     "iopub.status.idle": "2024-07-31T09:19:35.051252Z",
     "shell.execute_reply": "2024-07-31T09:19:35.050034Z"
    },
    "papermill": {
     "duration": 0.036552,
     "end_time": "2024-07-31T09:19:35.054231",
     "exception": false,
     "start_time": "2024-07-31T09:19:35.017679",
     "status": "completed"
    },
    "tags": []
   },
   "outputs": [
    {
     "name": "stdout",
     "output_type": "stream",
     "text": [
      "[1. 0. 0. ... 1. 1. 1.]\n"
     ]
    }
   ],
   "source": [
    "print(y_pred)"
   ]
  },
  {
   "cell_type": "code",
   "execution_count": 22,
   "id": "fa19d539",
   "metadata": {
    "execution": {
     "iopub.execute_input": "2024-07-31T09:19:35.106529Z",
     "iopub.status.busy": "2024-07-31T09:19:35.106098Z",
     "iopub.status.idle": "2024-07-31T09:19:35.116211Z",
     "shell.execute_reply": "2024-07-31T09:19:35.115043Z"
    },
    "papermill": {
     "duration": 0.039218,
     "end_time": "2024-07-31T09:19:35.118782",
     "exception": false,
     "start_time": "2024-07-31T09:19:35.079564",
     "status": "completed"
    },
    "tags": []
   },
   "outputs": [
    {
     "data": {
      "text/plain": [
       "array([[0.37112906, 0.62887094],\n",
       "       [0.51971285, 0.48028715],\n",
       "       [0.78438901, 0.21561099],\n",
       "       ...,\n",
       "       [0.37112906, 0.62887094],\n",
       "       [0.37112906, 0.62887094],\n",
       "       [0.37112906, 0.62887094]])"
      ]
     },
     "execution_count": 22,
     "metadata": {},
     "output_type": "execute_result"
    }
   ],
   "source": [
    "clf.predict_proba(X_test)"
   ]
  },
  {
   "cell_type": "code",
   "execution_count": 23,
   "id": "822c070d",
   "metadata": {
    "execution": {
     "iopub.execute_input": "2024-07-31T09:19:35.171566Z",
     "iopub.status.busy": "2024-07-31T09:19:35.171130Z",
     "iopub.status.idle": "2024-07-31T09:19:35.181022Z",
     "shell.execute_reply": "2024-07-31T09:19:35.179875Z"
    },
    "papermill": {
     "duration": 0.039309,
     "end_time": "2024-07-31T09:19:35.183423",
     "exception": false,
     "start_time": "2024-07-31T09:19:35.144114",
     "status": "completed"
    },
    "tags": []
   },
   "outputs": [
    {
     "data": {
      "text/plain": [
       "array([1., 0., 0., ..., 1., 1., 1.])"
      ]
     },
     "execution_count": 23,
     "metadata": {},
     "output_type": "execute_result"
    }
   ],
   "source": [
    "clf.predict(X_test)"
   ]
  },
  {
   "cell_type": "markdown",
   "id": "885d64f4",
   "metadata": {
    "papermill": {
     "duration": 0.025167,
     "end_time": "2024-07-31T09:19:35.233953",
     "exception": false,
     "start_time": "2024-07-31T09:19:35.208786",
     "status": "completed"
    },
    "tags": []
   },
   "source": [
    "* **Analyse the results**"
   ]
  },
  {
   "cell_type": "code",
   "execution_count": 24,
   "id": "08abf381",
   "metadata": {
    "execution": {
     "iopub.execute_input": "2024-07-31T09:19:35.287308Z",
     "iopub.status.busy": "2024-07-31T09:19:35.286141Z",
     "iopub.status.idle": "2024-07-31T09:19:35.373510Z",
     "shell.execute_reply": "2024-07-31T09:19:35.372284Z"
    },
    "papermill": {
     "duration": 0.1169,
     "end_time": "2024-07-31T09:19:35.376342",
     "exception": false,
     "start_time": "2024-07-31T09:19:35.259442",
     "status": "completed"
    },
    "tags": []
   },
   "outputs": [
    {
     "name": "stdout",
     "output_type": "stream",
     "text": [
      "Accuracy: 0.672793\n",
      "Precision: 0.695774\n",
      "Recall: 0.711948\n",
      "F1 Score: 0.703768\n"
     ]
    }
   ],
   "source": [
    "print(\"Accuracy:\", \"%.6f\" % metrics.accuracy_score(y_test, y_pred))\n",
    "print(\"Precision:\", \"%.6f\" % metrics.precision_score(y_test, y_pred))\n",
    "print(\"Recall:\", \"%.6f\" % metrics.recall_score(y_test, y_pred))\n",
    "print(\"F1 Score:\", \"%.6f\" % metrics.f1_score(y_test, y_pred))"
   ]
  },
  {
   "cell_type": "markdown",
   "id": "0695de4b",
   "metadata": {
    "papermill": {
     "duration": 0.025142,
     "end_time": "2024-07-31T09:19:35.426927",
     "exception": false,
     "start_time": "2024-07-31T09:19:35.401785",
     "status": "completed"
    },
    "tags": []
   },
   "source": [
    "The model is 67.2 percent accurate\n"
   ]
  },
  {
   "cell_type": "markdown",
   "id": "38ac98f6",
   "metadata": {
    "papermill": {
     "duration": 0.02601,
     "end_time": "2024-07-31T09:19:35.481617",
     "exception": false,
     "start_time": "2024-07-31T09:19:35.455607",
     "status": "completed"
    },
    "tags": []
   },
   "source": [
    "* **Confusion matrix**"
   ]
  },
  {
   "cell_type": "code",
   "execution_count": 25,
   "id": "80b10f7b",
   "metadata": {
    "execution": {
     "iopub.execute_input": "2024-07-31T09:19:35.535855Z",
     "iopub.status.busy": "2024-07-31T09:19:35.535033Z",
     "iopub.status.idle": "2024-07-31T09:19:35.817982Z",
     "shell.execute_reply": "2024-07-31T09:19:35.816350Z"
    },
    "papermill": {
     "duration": 0.313212,
     "end_time": "2024-07-31T09:19:35.820780",
     "exception": false,
     "start_time": "2024-07-31T09:19:35.507568",
     "status": "completed"
    },
    "tags": []
   },
   "outputs": [
    {
     "data": {
      "image/png": "[encoded data removed]",
      "text/plain": [
       "<Figure size 640x480 with 2 Axes>"
      ]
     },
     "metadata": {},
     "output_type": "display_data"
    }
   ],
   "source": [
    "cm = metrics.confusion_matrix(y_test, y_pred, labels = clf.classes_)\n",
    "disp = metrics.ConfusionMatrixDisplay(confusion_matrix = cm,display_labels = clf.classes_)\n",
    "disp.plot()\n",
    "plt.show()"
   ]
  },
  {
   "cell_type": "markdown",
   "id": "ba24bd28",
   "metadata": {
    "papermill": {
     "duration": 0.026654,
     "end_time": "2024-07-31T09:19:35.873402",
     "exception": false,
     "start_time": "2024-07-31T09:19:35.846748",
     "status": "completed"
    },
    "tags": []
   },
   "source": [
    "# **Ease of Online booking**"
   ]
  },
  {
   "cell_type": "code",
   "execution_count": 26,
   "id": "441ae2a4",
   "metadata": {
    "execution": {
     "iopub.execute_input": "2024-07-31T09:19:35.928665Z",
     "iopub.status.busy": "2024-07-31T09:19:35.928263Z",
     "iopub.status.idle": "2024-07-31T09:19:35.957161Z",
     "shell.execute_reply": "2024-07-31T09:19:35.956117Z"
    },
    "papermill": {
     "duration": 0.059727,
     "end_time": "2024-07-31T09:19:35.959962",
     "exception": false,
     "start_time": "2024-07-31T09:19:35.900235",
     "status": "completed"
    },
    "tags": []
   },
   "outputs": [],
   "source": [
    "df1 = df1.astype({\"Ease of Online booking\": float})"
   ]
  },
  {
   "cell_type": "code",
   "execution_count": 27,
   "id": "f94b6361",
   "metadata": {
    "execution": {
     "iopub.execute_input": "2024-07-31T09:19:36.014214Z",
     "iopub.status.busy": "2024-07-31T09:19:36.013741Z",
     "iopub.status.idle": "2024-07-31T09:19:36.038182Z",
     "shell.execute_reply": "2024-07-31T09:19:36.037085Z"
    },
    "papermill": {
     "duration": 0.054881,
     "end_time": "2024-07-31T09:19:36.040889",
     "exception": false,
     "start_time": "2024-07-31T09:19:35.986008",
     "status": "completed"
    },
    "tags": []
   },
   "outputs": [
    {
     "data": {
      "text/html": [
       "<div>\n",
       "<style scoped>\n",
       "    .dataframe tbody tr th:only-of-type {\n",
       "        vertical-align: middle;\n",
       "    }\n",
       "\n",
       "    .dataframe tbody tr th {\n",
       "        vertical-align: top;\n",
       "    }\n",
       "\n",
       "    .dataframe thead th {\n",
       "        text-align: right;\n",
       "    }\n",
       "</style>\n",
       "<table border=\"1\" class=\"dataframe\">\n",
       "  <thead>\n",
       "    <tr style=\"text-align: right;\">\n",
       "      <th></th>\n",
       "      <th>satisfaction</th>\n",
       "      <th>Customer Type</th>\n",
       "      <th>Age</th>\n",
       "      <th>Type of Travel</th>\n",
       "      <th>Class</th>\n",
       "      <th>Flight Distance</th>\n",
       "      <th>Seat comfort</th>\n",
       "      <th>Departure/Arrival time convenient</th>\n",
       "      <th>Food and drink</th>\n",
       "      <th>Gate location</th>\n",
       "      <th>Inflight wifi service</th>\n",
       "      <th>Inflight entertainment</th>\n",
       "      <th>Online support</th>\n",
       "      <th>Ease of Online booking</th>\n",
       "      <th>On-board service</th>\n",
       "      <th>Leg room service</th>\n",
       "      <th>Baggage handling</th>\n",
       "      <th>Checkin service</th>\n",
       "      <th>Cleanliness</th>\n",
       "      <th>Online boarding</th>\n",
       "      <th>Departure Delay in Minutes</th>\n",
       "      <th>Arrival Delay in Minutes</th>\n",
       "    </tr>\n",
       "  </thead>\n",
       "  <tbody>\n",
       "    <tr>\n",
       "      <th>0</th>\n",
       "      <td>1.0</td>\n",
       "      <td>Loyal Customer</td>\n",
       "      <td>65</td>\n",
       "      <td>Personal Travel</td>\n",
       "      <td>Eco</td>\n",
       "      <td>265</td>\n",
       "      <td>0</td>\n",
       "      <td>0</td>\n",
       "      <td>0</td>\n",
       "      <td>2</td>\n",
       "      <td>2</td>\n",
       "      <td>4</td>\n",
       "      <td>2</td>\n",
       "      <td>3.0</td>\n",
       "      <td>3.0</td>\n",
       "      <td>0</td>\n",
       "      <td>3</td>\n",
       "      <td>5</td>\n",
       "      <td>3</td>\n",
       "      <td>2</td>\n",
       "      <td>0</td>\n",
       "      <td>0.0</td>\n",
       "    </tr>\n",
       "    <tr>\n",
       "      <th>1</th>\n",
       "      <td>1.0</td>\n",
       "      <td>Loyal Customer</td>\n",
       "      <td>47</td>\n",
       "      <td>Personal Travel</td>\n",
       "      <td>Business</td>\n",
       "      <td>2464</td>\n",
       "      <td>0</td>\n",
       "      <td>0</td>\n",
       "      <td>0</td>\n",
       "      <td>3</td>\n",
       "      <td>0</td>\n",
       "      <td>2</td>\n",
       "      <td>2</td>\n",
       "      <td>3.0</td>\n",
       "      <td>4.0</td>\n",
       "      <td>4</td>\n",
       "      <td>4</td>\n",
       "      <td>2</td>\n",
       "      <td>3</td>\n",
       "      <td>2</td>\n",
       "      <td>310</td>\n",
       "      <td>305.0</td>\n",
       "    </tr>\n",
       "    <tr>\n",
       "      <th>2</th>\n",
       "      <td>1.0</td>\n",
       "      <td>Loyal Customer</td>\n",
       "      <td>15</td>\n",
       "      <td>Personal Travel</td>\n",
       "      <td>Eco</td>\n",
       "      <td>2138</td>\n",
       "      <td>0</td>\n",
       "      <td>0</td>\n",
       "      <td>0</td>\n",
       "      <td>3</td>\n",
       "      <td>2</td>\n",
       "      <td>0</td>\n",
       "      <td>2</td>\n",
       "      <td>2.0</td>\n",
       "      <td>3.0</td>\n",
       "      <td>3</td>\n",
       "      <td>4</td>\n",
       "      <td>4</td>\n",
       "      <td>4</td>\n",
       "      <td>2</td>\n",
       "      <td>0</td>\n",
       "      <td>0.0</td>\n",
       "    </tr>\n",
       "    <tr>\n",
       "      <th>3</th>\n",
       "      <td>1.0</td>\n",
       "      <td>Loyal Customer</td>\n",
       "      <td>60</td>\n",
       "      <td>Personal Travel</td>\n",
       "      <td>Eco</td>\n",
       "      <td>623</td>\n",
       "      <td>0</td>\n",
       "      <td>0</td>\n",
       "      <td>0</td>\n",
       "      <td>3</td>\n",
       "      <td>3</td>\n",
       "      <td>4</td>\n",
       "      <td>3</td>\n",
       "      <td>1.0</td>\n",
       "      <td>1.0</td>\n",
       "      <td>0</td>\n",
       "      <td>1</td>\n",
       "      <td>4</td>\n",
       "      <td>1</td>\n",
       "      <td>3</td>\n",
       "      <td>0</td>\n",
       "      <td>0.0</td>\n",
       "    </tr>\n",
       "    <tr>\n",
       "      <th>4</th>\n",
       "      <td>1.0</td>\n",
       "      <td>Loyal Customer</td>\n",
       "      <td>70</td>\n",
       "      <td>Personal Travel</td>\n",
       "      <td>Eco</td>\n",
       "      <td>354</td>\n",
       "      <td>0</td>\n",
       "      <td>0</td>\n",
       "      <td>0</td>\n",
       "      <td>3</td>\n",
       "      <td>4</td>\n",
       "      <td>3</td>\n",
       "      <td>4</td>\n",
       "      <td>2.0</td>\n",
       "      <td>2.0</td>\n",
       "      <td>0</td>\n",
       "      <td>2</td>\n",
       "      <td>4</td>\n",
       "      <td>2</td>\n",
       "      <td>5</td>\n",
       "      <td>0</td>\n",
       "      <td>0.0</td>\n",
       "    </tr>\n",
       "  </tbody>\n",
       "</table>\n",
       "</div>"
      ],
      "text/plain": [
       "   satisfaction   Customer Type  Age   Type of Travel     Class  \\\n",
       "0           1.0  Loyal Customer   65  Personal Travel       Eco   \n",
       "1           1.0  Loyal Customer   47  Personal Travel  Business   \n",
       "2           1.0  Loyal Customer   15  Personal Travel       Eco   \n",
       "3           1.0  Loyal Customer   60  Personal Travel       Eco   \n",
       "4           1.0  Loyal Customer   70  Personal Travel       Eco   \n",
       "\n",
       "   Flight Distance  Seat comfort  Departure/Arrival time convenient  \\\n",
       "0              265             0                                  0   \n",
       "1             2464             0                                  0   \n",
       "2             2138             0                                  0   \n",
       "3              623             0                                  0   \n",
       "4              354             0                                  0   \n",
       "\n",
       "   Food and drink  Gate location  Inflight wifi service  \\\n",
       "0               0              2                      2   \n",
       "1               0              3                      0   \n",
       "2               0              3                      2   \n",
       "3               0              3                      3   \n",
       "4               0              3                      4   \n",
       "\n",
       "   Inflight entertainment  Online support  Ease of Online booking  \\\n",
       "0                       4               2                     3.0   \n",
       "1                       2               2                     3.0   \n",
       "2                       0               2                     2.0   \n",
       "3                       4               3                     1.0   \n",
       "4                       3               4                     2.0   \n",
       "\n",
       "   On-board service  Leg room service  Baggage handling  Checkin service  \\\n",
       "0               3.0                 0                 3                5   \n",
       "1               4.0                 4                 4                2   \n",
       "2               3.0                 3                 4                4   \n",
       "3               1.0                 0                 1                4   \n",
       "4               2.0                 0                 2                4   \n",
       "\n",
       "   Cleanliness  Online boarding  Departure Delay in Minutes  \\\n",
       "0            3                2                           0   \n",
       "1            3                2                         310   \n",
       "2            4                2                           0   \n",
       "3            1                3                           0   \n",
       "4            2                5                           0   \n",
       "\n",
       "   Arrival Delay in Minutes  \n",
       "0                       0.0  \n",
       "1                     305.0  \n",
       "2                       0.0  \n",
       "3                       0.0  \n",
       "4                       0.0  "
      ]
     },
     "execution_count": 27,
     "metadata": {},
     "output_type": "execute_result"
    }
   ],
   "source": [
    "df1.head()"
   ]
  },
  {
   "cell_type": "markdown",
   "id": "fdd068b9",
   "metadata": {
    "papermill": {
     "duration": 0.026997,
     "end_time": "2024-07-31T09:19:36.094821",
     "exception": false,
     "start_time": "2024-07-31T09:19:36.067824",
     "status": "completed"
    },
    "tags": []
   },
   "source": [
    "* **Creating training and testing data**"
   ]
  },
  {
   "cell_type": "code",
   "execution_count": 28,
   "id": "95e6bc93",
   "metadata": {
    "execution": {
     "iopub.execute_input": "2024-07-31T09:19:36.152004Z",
     "iopub.status.busy": "2024-07-31T09:19:36.151554Z",
     "iopub.status.idle": "2024-07-31T09:19:36.169435Z",
     "shell.execute_reply": "2024-07-31T09:19:36.168282Z"
    },
    "papermill": {
     "duration": 0.049151,
     "end_time": "2024-07-31T09:19:36.172324",
     "exception": false,
     "start_time": "2024-07-31T09:19:36.123173",
     "status": "completed"
    },
    "tags": []
   },
   "outputs": [],
   "source": [
    "X = df1[[\"Ease of Online booking\"]]\n",
    "y = df1[\"satisfaction\"]\n",
    "\n",
    "X_train, X_test, y_train, y_test = train_test_split(X,y, test_size=0.3, random_state=42)"
   ]
  },
  {
   "cell_type": "markdown",
   "id": "0f696c69",
   "metadata": {
    "papermill": {
     "duration": 0.026341,
     "end_time": "2024-07-31T09:19:36.225224",
     "exception": false,
     "start_time": "2024-07-31T09:19:36.198883",
     "status": "completed"
    },
    "tags": []
   },
   "source": [
    "* **Fitting a logistic model**"
   ]
  },
  {
   "cell_type": "code",
   "execution_count": 29,
   "id": "ceb48752",
   "metadata": {
    "execution": {
     "iopub.execute_input": "2024-07-31T09:19:36.280743Z",
     "iopub.status.busy": "2024-07-31T09:19:36.279602Z",
     "iopub.status.idle": "2024-07-31T09:19:36.422874Z",
     "shell.execute_reply": "2024-07-31T09:19:36.421355Z"
    },
    "papermill": {
     "duration": 0.175523,
     "end_time": "2024-07-31T09:19:36.427210",
     "exception": false,
     "start_time": "2024-07-31T09:19:36.251687",
     "status": "completed"
    },
    "tags": []
   },
   "outputs": [],
   "source": [
    "clf = LogisticRegression().fit(X_train,y_train)"
   ]
  },
  {
   "cell_type": "markdown",
   "id": "daff4e61",
   "metadata": {
    "papermill": {
     "duration": 0.054195,
     "end_time": "2024-07-31T09:19:36.540264",
     "exception": false,
     "start_time": "2024-07-31T09:19:36.486069",
     "status": "completed"
    },
    "tags": []
   },
   "source": [
    "* **Obtaining parameter estimates**"
   ]
  },
  {
   "cell_type": "code",
   "execution_count": 30,
   "id": "eda14f5f",
   "metadata": {
    "execution": {
     "iopub.execute_input": "2024-07-31T09:19:36.594687Z",
     "iopub.status.busy": "2024-07-31T09:19:36.594288Z",
     "iopub.status.idle": "2024-07-31T09:19:36.601516Z",
     "shell.execute_reply": "2024-07-31T09:19:36.600428Z"
    },
    "papermill": {
     "duration": 0.037026,
     "end_time": "2024-07-31T09:19:36.603798",
     "exception": false,
     "start_time": "2024-07-31T09:19:36.566772",
     "status": "completed"
    },
    "tags": []
   },
   "outputs": [
    {
     "data": {
      "text/plain": [
       "array([[0.75734089]])"
      ]
     },
     "execution_count": 30,
     "metadata": {},
     "output_type": "execute_result"
    }
   ],
   "source": [
    "clf.coef_"
   ]
  },
  {
   "cell_type": "code",
   "execution_count": 31,
   "id": "28886e4c",
   "metadata": {
    "execution": {
     "iopub.execute_input": "2024-07-31T09:19:36.658560Z",
     "iopub.status.busy": "2024-07-31T09:19:36.658154Z",
     "iopub.status.idle": "2024-07-31T09:19:36.665613Z",
     "shell.execute_reply": "2024-07-31T09:19:36.664455Z"
    },
    "papermill": {
     "duration": 0.037809,
     "end_time": "2024-07-31T09:19:36.668174",
     "exception": false,
     "start_time": "2024-07-31T09:19:36.630365",
     "status": "completed"
    },
    "tags": []
   },
   "outputs": [
    {
     "data": {
      "text/plain": [
       "array([-2.42729294])"
      ]
     },
     "execution_count": 31,
     "metadata": {},
     "output_type": "execute_result"
    }
   ],
   "source": [
    "clf.intercept_"
   ]
  },
  {
   "cell_type": "markdown",
   "id": "c77a96e3",
   "metadata": {
    "papermill": {
     "duration": 0.02729,
     "end_time": "2024-07-31T09:19:36.723758",
     "exception": false,
     "start_time": "2024-07-31T09:19:36.696468",
     "status": "completed"
    },
    "tags": []
   },
   "source": [
    "* **Plotting**"
   ]
  },
  {
   "cell_type": "code",
   "execution_count": 32,
   "id": "242292c3",
   "metadata": {
    "execution": {
     "iopub.execute_input": "2024-07-31T09:19:36.780607Z",
     "iopub.status.busy": "2024-07-31T09:19:36.780163Z",
     "iopub.status.idle": "2024-07-31T09:19:38.013441Z",
     "shell.execute_reply": "2024-07-31T09:19:38.012291Z"
    },
    "papermill": {
     "duration": 1.264274,
     "end_time": "2024-07-31T09:19:38.016128",
     "exception": false,
     "start_time": "2024-07-31T09:19:36.751854",
     "status": "completed"
    },
    "tags": []
   },
   "outputs": [
    {
     "data": {
      "text/plain": [
       "<Axes: xlabel='Ease of Online booking', ylabel='satisfaction'>"
      ]
     },
     "execution_count": 32,
     "metadata": {},
     "output_type": "execute_result"
    },
    {
     "data": {
      "image/png": "[encoded data removed]",
      "text/plain": [
       "<Figure size 640x480 with 1 Axes>"
      ]
     },
     "metadata": {},
     "output_type": "display_data"
    }
   ],
   "source": [
    "sns.regplot(x=\"Ease of Online booking\", y=\"satisfaction\", data=df1, logistic=True, ci=None)"
   ]
  },
  {
   "cell_type": "markdown",
   "id": "5e13ae94",
   "metadata": {
    "papermill": {
     "duration": 0.02711,
     "end_time": "2024-07-31T09:19:38.071492",
     "exception": false,
     "start_time": "2024-07-31T09:19:38.044382",
     "status": "completed"
    },
    "tags": []
   },
   "source": [
    "* **Predicting the outcome**"
   ]
  },
  {
   "cell_type": "code",
   "execution_count": 33,
   "id": "ce3e700b",
   "metadata": {
    "execution": {
     "iopub.execute_input": "2024-07-31T09:19:38.129440Z",
     "iopub.status.busy": "2024-07-31T09:19:38.129045Z",
     "iopub.status.idle": "2024-07-31T09:19:38.137745Z",
     "shell.execute_reply": "2024-07-31T09:19:38.136538Z"
    },
    "papermill": {
     "duration": 0.040723,
     "end_time": "2024-07-31T09:19:38.140404",
     "exception": false,
     "start_time": "2024-07-31T09:19:38.099681",
     "status": "completed"
    },
    "tags": []
   },
   "outputs": [],
   "source": [
    "y_pred = clf.predict(X_test)"
   ]
  },
  {
   "cell_type": "code",
   "execution_count": 34,
   "id": "d414ce8b",
   "metadata": {
    "execution": {
     "iopub.execute_input": "2024-07-31T09:19:38.201643Z",
     "iopub.status.busy": "2024-07-31T09:19:38.201205Z",
     "iopub.status.idle": "2024-07-31T09:19:38.207839Z",
     "shell.execute_reply": "2024-07-31T09:19:38.206595Z"
    },
    "papermill": {
     "duration": 0.039631,
     "end_time": "2024-07-31T09:19:38.210461",
     "exception": false,
     "start_time": "2024-07-31T09:19:38.170830",
     "status": "completed"
    },
    "tags": []
   },
   "outputs": [
    {
     "name": "stdout",
     "output_type": "stream",
     "text": [
      "[1. 1. 0. ... 0. 1. 1.]\n"
     ]
    }
   ],
   "source": [
    "print(y_pred)"
   ]
  },
  {
   "cell_type": "code",
   "execution_count": 35,
   "id": "420285ac",
   "metadata": {
    "execution": {
     "iopub.execute_input": "2024-07-31T09:19:38.268885Z",
     "iopub.status.busy": "2024-07-31T09:19:38.267830Z",
     "iopub.status.idle": "2024-07-31T09:19:38.278306Z",
     "shell.execute_reply": "2024-07-31T09:19:38.277205Z"
    },
    "papermill": {
     "duration": 0.042138,
     "end_time": "2024-07-31T09:19:38.281075",
     "exception": false,
     "start_time": "2024-07-31T09:19:38.238937",
     "status": "completed"
    },
    "tags": []
   },
   "outputs": [
    {
     "data": {
      "text/plain": [
       "array([[0.35387011, 0.64612989],\n",
       "       [0.20433596, 0.79566404],\n",
       "       [0.71353419, 0.28646581],\n",
       "       ...,\n",
       "       [0.84156943, 0.15843057],\n",
       "       [0.20433596, 0.79566404],\n",
       "       [0.35387011, 0.64612989]])"
      ]
     },
     "execution_count": 35,
     "metadata": {},
     "output_type": "execute_result"
    }
   ],
   "source": [
    "clf.predict_proba(X_test)"
   ]
  },
  {
   "cell_type": "code",
   "execution_count": 36,
   "id": "426ac757",
   "metadata": {
    "execution": {
     "iopub.execute_input": "2024-07-31T09:19:38.339722Z",
     "iopub.status.busy": "2024-07-31T09:19:38.338845Z",
     "iopub.status.idle": "2024-07-31T09:19:38.348460Z",
     "shell.execute_reply": "2024-07-31T09:19:38.347350Z"
    },
    "papermill": {
     "duration": 0.041286,
     "end_time": "2024-07-31T09:19:38.351127",
     "exception": false,
     "start_time": "2024-07-31T09:19:38.309841",
     "status": "completed"
    },
    "tags": []
   },
   "outputs": [
    {
     "data": {
      "text/plain": [
       "array([1., 1., 0., ..., 0., 1., 1.])"
      ]
     },
     "execution_count": 36,
     "metadata": {},
     "output_type": "execute_result"
    }
   ],
   "source": [
    "clf.predict(X_test)"
   ]
  },
  {
   "cell_type": "markdown",
   "id": "4dec0f64",
   "metadata": {
    "papermill": {
     "duration": 0.028093,
     "end_time": "2024-07-31T09:19:38.408431",
     "exception": false,
     "start_time": "2024-07-31T09:19:38.380338",
     "status": "completed"
    },
    "tags": []
   },
   "source": [
    "* **Analyse the results**"
   ]
  },
  {
   "cell_type": "code",
   "execution_count": 37,
   "id": "c220ecd1",
   "metadata": {
    "execution": {
     "iopub.execute_input": "2024-07-31T09:19:38.466982Z",
     "iopub.status.busy": "2024-07-31T09:19:38.465860Z",
     "iopub.status.idle": "2024-07-31T09:19:38.553787Z",
     "shell.execute_reply": "2024-07-31T09:19:38.552463Z"
    },
    "papermill": {
     "duration": 0.119995,
     "end_time": "2024-07-31T09:19:38.556291",
     "exception": false,
     "start_time": "2024-07-31T09:19:38.436296",
     "status": "completed"
    },
    "tags": []
   },
   "outputs": [
    {
     "name": "stdout",
     "output_type": "stream",
     "text": [
      "Accuracy: 0.725384\n",
      "Precision: 0.738138\n",
      "Recall: 0.770228\n",
      "F1 Score: 0.753842\n"
     ]
    }
   ],
   "source": [
    "print(\"Accuracy:\", \"%.6f\" % metrics.accuracy_score(y_test, y_pred))\n",
    "print(\"Precision:\", \"%.6f\" % metrics.precision_score(y_test, y_pred))\n",
    "print(\"Recall:\", \"%.6f\" % metrics.recall_score(y_test, y_pred))\n",
    "print(\"F1 Score:\", \"%.6f\" % metrics.f1_score(y_test, y_pred))"
   ]
  },
  {
   "cell_type": "markdown",
   "id": "ec8592c2",
   "metadata": {
    "papermill": {
     "duration": 0.028464,
     "end_time": "2024-07-31T09:19:38.612746",
     "exception": false,
     "start_time": "2024-07-31T09:19:38.584282",
     "status": "completed"
    },
    "tags": []
   },
   "source": [
    "The model is 72.5 percent accurate"
   ]
  },
  {
   "cell_type": "markdown",
   "id": "38ef3099",
   "metadata": {
    "papermill": {
     "duration": 0.027665,
     "end_time": "2024-07-31T09:19:38.668514",
     "exception": false,
     "start_time": "2024-07-31T09:19:38.640849",
     "status": "completed"
    },
    "tags": []
   },
   "source": [
    "* **Confusion matrix**"
   ]
  },
  {
   "cell_type": "code",
   "execution_count": 38,
   "id": "ab28a090",
   "metadata": {
    "execution": {
     "iopub.execute_input": "2024-07-31T09:19:38.728034Z",
     "iopub.status.busy": "2024-07-31T09:19:38.727561Z",
     "iopub.status.idle": "2024-07-31T09:19:39.051866Z",
     "shell.execute_reply": "2024-07-31T09:19:39.050533Z"
    },
    "papermill": {
     "duration": 0.357641,
     "end_time": "2024-07-31T09:19:39.054576",
     "exception": false,
     "start_time": "2024-07-31T09:19:38.696935",
     "status": "completed"
    },
    "tags": []
   },
   "outputs": [
    {
     "data": {
      "image/png": "[encoded data removed]",
      "text/plain": [
       "<Figure size 640x480 with 2 Axes>"
      ]
     },
     "metadata": {},
     "output_type": "display_data"
    }
   ],
   "source": [
    "cm = metrics.confusion_matrix(y_test, y_pred, labels = clf.classes_)\n",
    "disp = metrics.ConfusionMatrixDisplay(confusion_matrix = cm,display_labels = clf.classes_)\n",
    "disp.plot()\n",
    "plt.show()"
   ]
  },
  {
   "cell_type": "markdown",
   "id": "73ba9b79",
   "metadata": {
    "papermill": {
     "duration": 0.02796,
     "end_time": "2024-07-31T09:19:39.111029",
     "exception": false,
     "start_time": "2024-07-31T09:19:39.083069",
     "status": "completed"
    },
    "tags": []
   },
   "source": [
    "# Checkin service"
   ]
  },
  {
   "cell_type": "code",
   "execution_count": 39,
   "id": "c94401b4",
   "metadata": {
    "execution": {
     "iopub.execute_input": "2024-07-31T09:19:39.171041Z",
     "iopub.status.busy": "2024-07-31T09:19:39.170628Z",
     "iopub.status.idle": "2024-07-31T09:19:39.199954Z",
     "shell.execute_reply": "2024-07-31T09:19:39.198680Z"
    },
    "papermill": {
     "duration": 0.062986,
     "end_time": "2024-07-31T09:19:39.202868",
     "exception": false,
     "start_time": "2024-07-31T09:19:39.139882",
     "status": "completed"
    },
    "tags": []
   },
   "outputs": [],
   "source": [
    "df1 = df1.astype({\"Checkin service\": float})"
   ]
  },
  {
   "cell_type": "code",
   "execution_count": 40,
   "id": "1e2c1a28",
   "metadata": {
    "execution": {
     "iopub.execute_input": "2024-07-31T09:19:39.261579Z",
     "iopub.status.busy": "2024-07-31T09:19:39.261142Z",
     "iopub.status.idle": "2024-07-31T09:19:39.286395Z",
     "shell.execute_reply": "2024-07-31T09:19:39.285215Z"
    },
    "papermill": {
     "duration": 0.057877,
     "end_time": "2024-07-31T09:19:39.289222",
     "exception": false,
     "start_time": "2024-07-31T09:19:39.231345",
     "status": "completed"
    },
    "tags": []
   },
   "outputs": [
    {
     "data": {
      "text/html": [
       "<div>\n",
       "<style scoped>\n",
       "    .dataframe tbody tr th:only-of-type {\n",
       "        vertical-align: middle;\n",
       "    }\n",
       "\n",
       "    .dataframe tbody tr th {\n",
       "        vertical-align: top;\n",
       "    }\n",
       "\n",
       "    .dataframe thead th {\n",
       "        text-align: right;\n",
       "    }\n",
       "</style>\n",
       "<table border=\"1\" class=\"dataframe\">\n",
       "  <thead>\n",
       "    <tr style=\"text-align: right;\">\n",
       "      <th></th>\n",
       "      <th>satisfaction</th>\n",
       "      <th>Customer Type</th>\n",
       "      <th>Age</th>\n",
       "      <th>Type of Travel</th>\n",
       "      <th>Class</th>\n",
       "      <th>Flight Distance</th>\n",
       "      <th>Seat comfort</th>\n",
       "      <th>Departure/Arrival time convenient</th>\n",
       "      <th>Food and drink</th>\n",
       "      <th>Gate location</th>\n",
       "      <th>Inflight wifi service</th>\n",
       "      <th>Inflight entertainment</th>\n",
       "      <th>Online support</th>\n",
       "      <th>Ease of Online booking</th>\n",
       "      <th>On-board service</th>\n",
       "      <th>Leg room service</th>\n",
       "      <th>Baggage handling</th>\n",
       "      <th>Checkin service</th>\n",
       "      <th>Cleanliness</th>\n",
       "      <th>Online boarding</th>\n",
       "      <th>Departure Delay in Minutes</th>\n",
       "      <th>Arrival Delay in Minutes</th>\n",
       "    </tr>\n",
       "  </thead>\n",
       "  <tbody>\n",
       "    <tr>\n",
       "      <th>0</th>\n",
       "      <td>1.0</td>\n",
       "      <td>Loyal Customer</td>\n",
       "      <td>65</td>\n",
       "      <td>Personal Travel</td>\n",
       "      <td>Eco</td>\n",
       "      <td>265</td>\n",
       "      <td>0</td>\n",
       "      <td>0</td>\n",
       "      <td>0</td>\n",
       "      <td>2</td>\n",
       "      <td>2</td>\n",
       "      <td>4</td>\n",
       "      <td>2</td>\n",
       "      <td>3.0</td>\n",
       "      <td>3.0</td>\n",
       "      <td>0</td>\n",
       "      <td>3</td>\n",
       "      <td>5.0</td>\n",
       "      <td>3</td>\n",
       "      <td>2</td>\n",
       "      <td>0</td>\n",
       "      <td>0.0</td>\n",
       "    </tr>\n",
       "    <tr>\n",
       "      <th>1</th>\n",
       "      <td>1.0</td>\n",
       "      <td>Loyal Customer</td>\n",
       "      <td>47</td>\n",
       "      <td>Personal Travel</td>\n",
       "      <td>Business</td>\n",
       "      <td>2464</td>\n",
       "      <td>0</td>\n",
       "      <td>0</td>\n",
       "      <td>0</td>\n",
       "      <td>3</td>\n",
       "      <td>0</td>\n",
       "      <td>2</td>\n",
       "      <td>2</td>\n",
       "      <td>3.0</td>\n",
       "      <td>4.0</td>\n",
       "      <td>4</td>\n",
       "      <td>4</td>\n",
       "      <td>2.0</td>\n",
       "      <td>3</td>\n",
       "      <td>2</td>\n",
       "      <td>310</td>\n",
       "      <td>305.0</td>\n",
       "    </tr>\n",
       "    <tr>\n",
       "      <th>2</th>\n",
       "      <td>1.0</td>\n",
       "      <td>Loyal Customer</td>\n",
       "      <td>15</td>\n",
       "      <td>Personal Travel</td>\n",
       "      <td>Eco</td>\n",
       "      <td>2138</td>\n",
       "      <td>0</td>\n",
       "      <td>0</td>\n",
       "      <td>0</td>\n",
       "      <td>3</td>\n",
       "      <td>2</td>\n",
       "      <td>0</td>\n",
       "      <td>2</td>\n",
       "      <td>2.0</td>\n",
       "      <td>3.0</td>\n",
       "      <td>3</td>\n",
       "      <td>4</td>\n",
       "      <td>4.0</td>\n",
       "      <td>4</td>\n",
       "      <td>2</td>\n",
       "      <td>0</td>\n",
       "      <td>0.0</td>\n",
       "    </tr>\n",
       "    <tr>\n",
       "      <th>3</th>\n",
       "      <td>1.0</td>\n",
       "      <td>Loyal Customer</td>\n",
       "      <td>60</td>\n",
       "      <td>Personal Travel</td>\n",
       "      <td>Eco</td>\n",
       "      <td>623</td>\n",
       "      <td>0</td>\n",
       "      <td>0</td>\n",
       "      <td>0</td>\n",
       "      <td>3</td>\n",
       "      <td>3</td>\n",
       "      <td>4</td>\n",
       "      <td>3</td>\n",
       "      <td>1.0</td>\n",
       "      <td>1.0</td>\n",
       "      <td>0</td>\n",
       "      <td>1</td>\n",
       "      <td>4.0</td>\n",
       "      <td>1</td>\n",
       "      <td>3</td>\n",
       "      <td>0</td>\n",
       "      <td>0.0</td>\n",
       "    </tr>\n",
       "    <tr>\n",
       "      <th>4</th>\n",
       "      <td>1.0</td>\n",
       "      <td>Loyal Customer</td>\n",
       "      <td>70</td>\n",
       "      <td>Personal Travel</td>\n",
       "      <td>Eco</td>\n",
       "      <td>354</td>\n",
       "      <td>0</td>\n",
       "      <td>0</td>\n",
       "      <td>0</td>\n",
       "      <td>3</td>\n",
       "      <td>4</td>\n",
       "      <td>3</td>\n",
       "      <td>4</td>\n",
       "      <td>2.0</td>\n",
       "      <td>2.0</td>\n",
       "      <td>0</td>\n",
       "      <td>2</td>\n",
       "      <td>4.0</td>\n",
       "      <td>2</td>\n",
       "      <td>5</td>\n",
       "      <td>0</td>\n",
       "      <td>0.0</td>\n",
       "    </tr>\n",
       "  </tbody>\n",
       "</table>\n",
       "</div>"
      ],
      "text/plain": [
       "   satisfaction   Customer Type  Age   Type of Travel     Class  \\\n",
       "0           1.0  Loyal Customer   65  Personal Travel       Eco   \n",
       "1           1.0  Loyal Customer   47  Personal Travel  Business   \n",
       "2           1.0  Loyal Customer   15  Personal Travel       Eco   \n",
       "3           1.0  Loyal Customer   60  Personal Travel       Eco   \n",
       "4           1.0  Loyal Customer   70  Personal Travel       Eco   \n",
       "\n",
       "   Flight Distance  Seat comfort  Departure/Arrival time convenient  \\\n",
       "0              265             0                                  0   \n",
       "1             2464             0                                  0   \n",
       "2             2138             0                                  0   \n",
       "3              623             0                                  0   \n",
       "4              354             0                                  0   \n",
       "\n",
       "   Food and drink  Gate location  Inflight wifi service  \\\n",
       "0               0              2                      2   \n",
       "1               0              3                      0   \n",
       "2               0              3                      2   \n",
       "3               0              3                      3   \n",
       "4               0              3                      4   \n",
       "\n",
       "   Inflight entertainment  Online support  Ease of Online booking  \\\n",
       "0                       4               2                     3.0   \n",
       "1                       2               2                     3.0   \n",
       "2                       0               2                     2.0   \n",
       "3                       4               3                     1.0   \n",
       "4                       3               4                     2.0   \n",
       "\n",
       "   On-board service  Leg room service  Baggage handling  Checkin service  \\\n",
       "0               3.0                 0                 3              5.0   \n",
       "1               4.0                 4                 4              2.0   \n",
       "2               3.0                 3                 4              4.0   \n",
       "3               1.0                 0                 1              4.0   \n",
       "4               2.0                 0                 2              4.0   \n",
       "\n",
       "   Cleanliness  Online boarding  Departure Delay in Minutes  \\\n",
       "0            3                2                           0   \n",
       "1            3                2                         310   \n",
       "2            4                2                           0   \n",
       "3            1                3                           0   \n",
       "4            2                5                           0   \n",
       "\n",
       "   Arrival Delay in Minutes  \n",
       "0                       0.0  \n",
       "1                     305.0  \n",
       "2                       0.0  \n",
       "3                       0.0  \n",
       "4                       0.0  "
      ]
     },
     "execution_count": 40,
     "metadata": {},
     "output_type": "execute_result"
    }
   ],
   "source": [
    "df1.head()"
   ]
  },
  {
   "cell_type": "markdown",
   "id": "b4f0c4fb",
   "metadata": {
    "papermill": {
     "duration": 0.028531,
     "end_time": "2024-07-31T09:19:39.346786",
     "exception": false,
     "start_time": "2024-07-31T09:19:39.318255",
     "status": "completed"
    },
    "tags": []
   },
   "source": [
    "* **Creating the training and testing data**"
   ]
  },
  {
   "cell_type": "code",
   "execution_count": 41,
   "id": "0fb5004a",
   "metadata": {
    "execution": {
     "iopub.execute_input": "2024-07-31T09:19:39.407895Z",
     "iopub.status.busy": "2024-07-31T09:19:39.407463Z",
     "iopub.status.idle": "2024-07-31T09:19:39.425984Z",
     "shell.execute_reply": "2024-07-31T09:19:39.424774Z"
    },
    "papermill": {
     "duration": 0.052053,
     "end_time": "2024-07-31T09:19:39.428931",
     "exception": false,
     "start_time": "2024-07-31T09:19:39.376878",
     "status": "completed"
    },
    "tags": []
   },
   "outputs": [],
   "source": [
    "X = df1[[\"Checkin service\"]]\n",
    "y = df1[\"satisfaction\"]\n",
    "\n",
    "X_train, X_test, y_train, y_test = train_test_split(X,y, test_size=0.3, random_state=42)"
   ]
  },
  {
   "cell_type": "markdown",
   "id": "07387251",
   "metadata": {
    "papermill": {
     "duration": 0.030095,
     "end_time": "2024-07-31T09:19:39.488414",
     "exception": false,
     "start_time": "2024-07-31T09:19:39.458319",
     "status": "completed"
    },
    "tags": []
   },
   "source": [
    "* **Fitting a logistic model**"
   ]
  },
  {
   "cell_type": "code",
   "execution_count": 42,
   "id": "943cb59c",
   "metadata": {
    "execution": {
     "iopub.execute_input": "2024-07-31T09:19:39.548784Z",
     "iopub.status.busy": "2024-07-31T09:19:39.548386Z",
     "iopub.status.idle": "2024-07-31T09:19:39.663275Z",
     "shell.execute_reply": "2024-07-31T09:19:39.661575Z"
    },
    "papermill": {
     "duration": 0.150306,
     "end_time": "2024-07-31T09:19:39.667974",
     "exception": false,
     "start_time": "2024-07-31T09:19:39.517668",
     "status": "completed"
    },
    "tags": []
   },
   "outputs": [],
   "source": [
    "clf = LogisticRegression().fit(X_train,y_train)"
   ]
  },
  {
   "cell_type": "markdown",
   "id": "05a28828",
   "metadata": {
    "papermill": {
     "duration": 0.055775,
     "end_time": "2024-07-31T09:19:39.786667",
     "exception": false,
     "start_time": "2024-07-31T09:19:39.730892",
     "status": "completed"
    },
    "tags": []
   },
   "source": [
    "* **Obtaining parameter estimates**"
   ]
  },
  {
   "cell_type": "code",
   "execution_count": 43,
   "id": "73a87ea9",
   "metadata": {
    "execution": {
     "iopub.execute_input": "2024-07-31T09:19:39.849027Z",
     "iopub.status.busy": "2024-07-31T09:19:39.848584Z",
     "iopub.status.idle": "2024-07-31T09:19:39.856723Z",
     "shell.execute_reply": "2024-07-31T09:19:39.855482Z"
    },
    "papermill": {
     "duration": 0.041104,
     "end_time": "2024-07-31T09:19:39.859297",
     "exception": false,
     "start_time": "2024-07-31T09:19:39.818193",
     "status": "completed"
    },
    "tags": []
   },
   "outputs": [
    {
     "data": {
      "text/plain": [
       "array([[0.44932605]])"
      ]
     },
     "execution_count": 43,
     "metadata": {},
     "output_type": "execute_result"
    }
   ],
   "source": [
    "clf.coef_"
   ]
  },
  {
   "cell_type": "code",
   "execution_count": 44,
   "id": "59001c19",
   "metadata": {
    "execution": {
     "iopub.execute_input": "2024-07-31T09:19:39.920127Z",
     "iopub.status.busy": "2024-07-31T09:19:39.918780Z",
     "iopub.status.idle": "2024-07-31T09:19:39.927261Z",
     "shell.execute_reply": "2024-07-31T09:19:39.926058Z"
    },
    "papermill": {
     "duration": 0.041625,
     "end_time": "2024-07-31T09:19:39.929882",
     "exception": false,
     "start_time": "2024-07-31T09:19:39.888257",
     "status": "completed"
    },
    "tags": []
   },
   "outputs": [
    {
     "data": {
      "text/plain": [
       "array([-1.29868025])"
      ]
     },
     "execution_count": 44,
     "metadata": {},
     "output_type": "execute_result"
    }
   ],
   "source": [
    "clf.intercept_"
   ]
  },
  {
   "cell_type": "markdown",
   "id": "18b42da6",
   "metadata": {
    "papermill": {
     "duration": 0.03018,
     "end_time": "2024-07-31T09:19:39.990075",
     "exception": false,
     "start_time": "2024-07-31T09:19:39.959895",
     "status": "completed"
    },
    "tags": []
   },
   "source": [
    "* **Plotting**"
   ]
  },
  {
   "cell_type": "code",
   "execution_count": 45,
   "id": "fb517f4a",
   "metadata": {
    "execution": {
     "iopub.execute_input": "2024-07-31T09:19:40.051062Z",
     "iopub.status.busy": "2024-07-31T09:19:40.050648Z",
     "iopub.status.idle": "2024-07-31T09:19:41.360223Z",
     "shell.execute_reply": "2024-07-31T09:19:41.358916Z"
    },
    "papermill": {
     "duration": 1.342886,
     "end_time": "2024-07-31T09:19:41.362795",
     "exception": false,
     "start_time": "2024-07-31T09:19:40.019909",
     "status": "completed"
    },
    "tags": []
   },
   "outputs": [
    {
     "data": {
      "text/plain": [
       "<Axes: xlabel='Checkin service', ylabel='satisfaction'>"
      ]
     },
     "execution_count": 45,
     "metadata": {},
     "output_type": "execute_result"
    },
    {
     "data": {
      "image/png": "[encoded data removed]",
      "text/plain": [
       "<Figure size 640x480 with 1 Axes>"
      ]
     },
     "metadata": {},
     "output_type": "display_data"
    }
   ],
   "source": [
    "sns.regplot(x=\"Checkin service\", y=\"satisfaction\", data=df1, logistic=True, ci=None)"
   ]
  },
  {
   "cell_type": "markdown",
   "id": "06af1e76",
   "metadata": {
    "papermill": {
     "duration": 0.030038,
     "end_time": "2024-07-31T09:19:41.423297",
     "exception": false,
     "start_time": "2024-07-31T09:19:41.393259",
     "status": "completed"
    },
    "tags": []
   },
   "source": [
    "* **Predicting the outcomme**"
   ]
  },
  {
   "cell_type": "code",
   "execution_count": 46,
   "id": "4ba89c33",
   "metadata": {
    "execution": {
     "iopub.execute_input": "2024-07-31T09:19:41.488122Z",
     "iopub.status.busy": "2024-07-31T09:19:41.487665Z",
     "iopub.status.idle": "2024-07-31T09:19:41.495689Z",
     "shell.execute_reply": "2024-07-31T09:19:41.494315Z"
    },
    "papermill": {
     "duration": 0.043972,
     "end_time": "2024-07-31T09:19:41.498220",
     "exception": false,
     "start_time": "2024-07-31T09:19:41.454248",
     "status": "completed"
    },
    "tags": []
   },
   "outputs": [],
   "source": [
    "y_pred = clf.predict(X_test)"
   ]
  },
  {
   "cell_type": "code",
   "execution_count": 47,
   "id": "034f16f7",
   "metadata": {
    "execution": {
     "iopub.execute_input": "2024-07-31T09:19:41.561473Z",
     "iopub.status.busy": "2024-07-31T09:19:41.561042Z",
     "iopub.status.idle": "2024-07-31T09:19:41.568034Z",
     "shell.execute_reply": "2024-07-31T09:19:41.566845Z"
    },
    "papermill": {
     "duration": 0.041475,
     "end_time": "2024-07-31T09:19:41.570833",
     "exception": false,
     "start_time": "2024-07-31T09:19:41.529358",
     "status": "completed"
    },
    "tags": []
   },
   "outputs": [
    {
     "name": "stdout",
     "output_type": "stream",
     "text": [
      "[1. 1. 0. ... 1. 1. 1.]\n"
     ]
    }
   ],
   "source": [
    "print(y_pred)"
   ]
  },
  {
   "cell_type": "code",
   "execution_count": 48,
   "id": "fcde470a",
   "metadata": {
    "execution": {
     "iopub.execute_input": "2024-07-31T09:19:41.632608Z",
     "iopub.status.busy": "2024-07-31T09:19:41.632143Z",
     "iopub.status.idle": "2024-07-31T09:19:41.642586Z",
     "shell.execute_reply": "2024-07-31T09:19:41.641447Z"
    },
    "papermill": {
     "duration": 0.044143,
     "end_time": "2024-07-31T09:19:41.645105",
     "exception": false,
     "start_time": "2024-07-31T09:19:41.600962",
     "status": "completed"
    },
    "tags": []
   },
   "outputs": [
    {
     "data": {
      "text/plain": [
       "array([[0.27929728, 0.72070272],\n",
       "       [0.3778641 , 0.6221359 ],\n",
       "       [0.70043165, 0.29956835],\n",
       "       ...,\n",
       "       [0.48767802, 0.51232198],\n",
       "       [0.48767802, 0.51232198],\n",
       "       [0.3778641 , 0.6221359 ]])"
      ]
     },
     "execution_count": 48,
     "metadata": {},
     "output_type": "execute_result"
    }
   ],
   "source": [
    "clf.predict_proba(X_test)"
   ]
  },
  {
   "cell_type": "code",
   "execution_count": 49,
   "id": "681b07dc",
   "metadata": {
    "execution": {
     "iopub.execute_input": "2024-07-31T09:19:41.710354Z",
     "iopub.status.busy": "2024-07-31T09:19:41.709025Z",
     "iopub.status.idle": "2024-07-31T09:19:41.719167Z",
     "shell.execute_reply": "2024-07-31T09:19:41.718061Z"
    },
    "papermill": {
     "duration": 0.046196,
     "end_time": "2024-07-31T09:19:41.721864",
     "exception": false,
     "start_time": "2024-07-31T09:19:41.675668",
     "status": "completed"
    },
    "tags": []
   },
   "outputs": [
    {
     "data": {
      "text/plain": [
       "array([1., 1., 0., ..., 1., 1., 1.])"
      ]
     },
     "execution_count": 49,
     "metadata": {},
     "output_type": "execute_result"
    }
   ],
   "source": [
    "clf.predict(X_test)"
   ]
  },
  {
   "cell_type": "markdown",
   "id": "a74bedca",
   "metadata": {
    "papermill": {
     "duration": 0.03054,
     "end_time": "2024-07-31T09:19:41.782645",
     "exception": false,
     "start_time": "2024-07-31T09:19:41.752105",
     "status": "completed"
    },
    "tags": []
   },
   "source": [
    "* **Analyse the results**"
   ]
  },
  {
   "cell_type": "code",
   "execution_count": 50,
   "id": "d03bf67d",
   "metadata": {
    "execution": {
     "iopub.execute_input": "2024-07-31T09:19:41.846179Z",
     "iopub.status.busy": "2024-07-31T09:19:41.845731Z",
     "iopub.status.idle": "2024-07-31T09:19:41.932658Z",
     "shell.execute_reply": "2024-07-31T09:19:41.931075Z"
    },
    "papermill": {
     "duration": 0.122538,
     "end_time": "2024-07-31T09:19:41.935435",
     "exception": false,
     "start_time": "2024-07-31T09:19:41.812897",
     "status": "completed"
    },
    "tags": []
   },
   "outputs": [
    {
     "name": "stdout",
     "output_type": "stream",
     "text": [
      "Accuracy: 0.627204\n",
      "Precision: 0.613561\n",
      "Recall: 0.856752\n",
      "F1 Score: 0.715045\n"
     ]
    }
   ],
   "source": [
    "print(\"Accuracy:\", \"%.6f\" % metrics.accuracy_score(y_test, y_pred))\n",
    "print(\"Precision:\", \"%.6f\" % metrics.precision_score(y_test, y_pred))\n",
    "print(\"Recall:\", \"%.6f\" % metrics.recall_score(y_test, y_pred))\n",
    "print(\"F1 Score:\", \"%.6f\" % metrics.f1_score(y_test, y_pred))"
   ]
  },
  {
   "cell_type": "markdown",
   "id": "7cb02fb1",
   "metadata": {
    "papermill": {
     "duration": 0.030195,
     "end_time": "2024-07-31T09:19:41.996984",
     "exception": false,
     "start_time": "2024-07-31T09:19:41.966789",
     "status": "completed"
    },
    "tags": []
   },
   "source": [
    "The model is 62.7 percent accurate"
   ]
  },
  {
   "cell_type": "markdown",
   "id": "43ed9192",
   "metadata": {
    "papermill": {
     "duration": 0.029993,
     "end_time": "2024-07-31T09:19:42.058009",
     "exception": false,
     "start_time": "2024-07-31T09:19:42.028016",
     "status": "completed"
    },
    "tags": []
   },
   "source": [
    "* **Confusion matrix**"
   ]
  },
  {
   "cell_type": "code",
   "execution_count": 51,
   "id": "8f758045",
   "metadata": {
    "execution": {
     "iopub.execute_input": "2024-07-31T09:19:42.121409Z",
     "iopub.status.busy": "2024-07-31T09:19:42.120120Z",
     "iopub.status.idle": "2024-07-31T09:19:42.401261Z",
     "shell.execute_reply": "2024-07-31T09:19:42.399344Z"
    },
    "papermill": {
     "duration": 0.316221,
     "end_time": "2024-07-31T09:19:42.404611",
     "exception": false,
     "start_time": "2024-07-31T09:19:42.088390",
     "status": "completed"
    },
    "tags": []
   },
   "outputs": [
    {
     "data": {
      "image/png": "[encoded data removed]",
      "text/plain": [
       "<Figure size 640x480 with 2 Axes>"
      ]
     },
     "metadata": {},
     "output_type": "display_data"
    }
   ],
   "source": [
    "cm = metrics.confusion_matrix(y_test, y_pred, labels = clf.classes_)\n",
    "disp = metrics.ConfusionMatrixDisplay(confusion_matrix = cm,display_labels = clf.classes_)\n",
    "disp.plot()\n",
    "plt.show()"
   ]
  }
 ],
 "metadata": {
  "kaggle": {
   "accelerator": "none",
   "dataSources": [
    {
     "datasetId": 4952797,
     "sourceId": 8339222,
     "sourceType": "datasetVersion"
    }
   ],
   "dockerImageVersionId": 30746,
   "isGpuEnabled": false,
   "isInternetEnabled": true,
   "language": "python",
   "sourceType": "notebook"
  },
  "kernelspec": {
   "display_name": "Python 3",
   "language": "python",
   "name": "python3"
  },
  "language_info": {
   "codemirror_mode": {
    "name": "ipython",
    "version": 3
   },
   "file_extension": ".py",
   "mimetype": "text/x-python",
   "name": "python",
   "nbconvert_exporter": "python",
   "pygments_lexer": "ipython3",
   "version": "3.10.13"
  },
  "papermill": {
   "default_parameters": {},
   "duration": 19.006064,
   "end_time": "2024-07-31T09:19:43.159826",
   "environment_variables": {},
   "exception": null,
   "input_path": "__notebook__.ipynb",
   "output_path": "__notebook__.ipynb",
   "parameters": {},
   "start_time": "2024-07-31T09:19:24.153762",
   "version": "2.5.0"
  }
 },
 "nbformat": 4,
 "nbformat_minor": 5
}
