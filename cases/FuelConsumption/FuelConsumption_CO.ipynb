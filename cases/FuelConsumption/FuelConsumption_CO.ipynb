{
 "cells": [
  {
   "cell_type": "markdown",
   "metadata": {},
   "source": [
    "Herman Steurs\n",
    "\n",
    "Dataset: https://www.kaggle.com/datasets/krupadharamshi/fuelconsumption\n",
    "\n",
    "Lineaire regressie \n",
    "\n",
    "Oefening: lineaire regressie uitvoeren op de dataset.\n",
    "Importeren modules\n",
    "Data bekijken met Sweetviz\n",
    "Data bewerken\n",
    "\n",
    "LabelEncoder toegepast om de score van de Kaggle gebruiker te verkrijgen\n",
    "Correlatie van de kolommen bekeken\n",
    "Skewness van de target variabele verbetert\n",
    "StandardScaler toegepast\n",
    "Feature enginering \n",
    "Lasso\n",
    "Ridge\n",
    "Outliers bekijken \n"
   ]
  },
  {
   "cell_type": "markdown",
   "metadata": {},
   "source": [
    "## Inlezen van de data"
   ]
  },
  {
   "cell_type": "code",
   "execution_count": 87,
   "metadata": {},
   "outputs": [],
   "source": [
    "# Importeren van modules:\n",
    "\n",
    "import pandas as pd\n",
    "import numpy as np\n",
    "\n",
    "# Inlezen van de dataset\n",
    "\n",
    "auto = pd.read_csv(\"data/FuelConsumption_dataset.csv\")"
   ]
  },
  {
   "cell_type": "markdown",
   "metadata": {},
   "source": [
    "## Data en structuur bekijken "
   ]
  },
  {
   "cell_type": "code",
   "execution_count": 88,
   "metadata": {},
   "outputs": [
    {
     "name": "stdout",
     "output_type": "stream",
     "text": [
      "<class 'pandas.core.frame.DataFrame'>\n",
      "RangeIndex: 639 entries, 0 to 638\n",
      "Data columns (total 10 columns):\n",
      " #   Column            Non-Null Count  Dtype  \n",
      "---  ------            --------------  -----  \n",
      " 0   Year              639 non-null    int64  \n",
      " 1   MAKE              639 non-null    object \n",
      " 2   MODEL             639 non-null    object \n",
      " 3   VEHICLE CLASS     639 non-null    object \n",
      " 4   ENGINE SIZE       639 non-null    float64\n",
      " 5   CYLINDERS         639 non-null    int64  \n",
      " 6   TRANSMISSION      639 non-null    object \n",
      " 7   FUEL              639 non-null    object \n",
      " 8   FUEL CONSUMPTION  639 non-null    float64\n",
      " 9   COEMISSIONS       639 non-null    int64  \n",
      "dtypes: float64(2), int64(3), object(5)\n",
      "memory usage: 50.1+ KB\n"
     ]
    },
    {
     "data": {
      "text/html": [
       "<div>\n",
       "<style scoped>\n",
       "    .dataframe tbody tr th:only-of-type {\n",
       "        vertical-align: middle;\n",
       "    }\n",
       "\n",
       "    .dataframe tbody tr th {\n",
       "        vertical-align: top;\n",
       "    }\n",
       "\n",
       "    .dataframe thead th {\n",
       "        text-align: right;\n",
       "    }\n",
       "</style>\n",
       "<table border=\"1\" class=\"dataframe\">\n",
       "  <thead>\n",
       "    <tr style=\"text-align: right;\">\n",
       "      <th></th>\n",
       "      <th>Year</th>\n",
       "      <th>ENGINE SIZE</th>\n",
       "      <th>CYLINDERS</th>\n",
       "      <th>FUEL CONSUMPTION</th>\n",
       "      <th>COEMISSIONS</th>\n",
       "    </tr>\n",
       "  </thead>\n",
       "  <tbody>\n",
       "    <tr>\n",
       "      <th>count</th>\n",
       "      <td>639.0</td>\n",
       "      <td>639.000000</td>\n",
       "      <td>639.000000</td>\n",
       "      <td>639.000000</td>\n",
       "      <td>639.000000</td>\n",
       "    </tr>\n",
       "    <tr>\n",
       "      <th>mean</th>\n",
       "      <td>2000.0</td>\n",
       "      <td>3.265728</td>\n",
       "      <td>5.805947</td>\n",
       "      <td>14.713615</td>\n",
       "      <td>296.809077</td>\n",
       "    </tr>\n",
       "    <tr>\n",
       "      <th>std</th>\n",
       "      <td>0.0</td>\n",
       "      <td>1.231012</td>\n",
       "      <td>1.625588</td>\n",
       "      <td>3.307044</td>\n",
       "      <td>65.504178</td>\n",
       "    </tr>\n",
       "    <tr>\n",
       "      <th>min</th>\n",
       "      <td>2000.0</td>\n",
       "      <td>1.000000</td>\n",
       "      <td>3.000000</td>\n",
       "      <td>4.900000</td>\n",
       "      <td>104.000000</td>\n",
       "    </tr>\n",
       "    <tr>\n",
       "      <th>25%</th>\n",
       "      <td>2000.0</td>\n",
       "      <td>2.200000</td>\n",
       "      <td>4.000000</td>\n",
       "      <td>12.500000</td>\n",
       "      <td>253.000000</td>\n",
       "    </tr>\n",
       "    <tr>\n",
       "      <th>50%</th>\n",
       "      <td>2000.0</td>\n",
       "      <td>3.000000</td>\n",
       "      <td>6.000000</td>\n",
       "      <td>14.400000</td>\n",
       "      <td>288.000000</td>\n",
       "    </tr>\n",
       "    <tr>\n",
       "      <th>75%</th>\n",
       "      <td>2000.0</td>\n",
       "      <td>4.300000</td>\n",
       "      <td>6.000000</td>\n",
       "      <td>16.600000</td>\n",
       "      <td>343.000000</td>\n",
       "    </tr>\n",
       "    <tr>\n",
       "      <th>max</th>\n",
       "      <td>2000.0</td>\n",
       "      <td>8.000000</td>\n",
       "      <td>12.000000</td>\n",
       "      <td>30.200000</td>\n",
       "      <td>582.000000</td>\n",
       "    </tr>\n",
       "  </tbody>\n",
       "</table>\n",
       "</div>"
      ],
      "text/plain": [
       "         Year  ENGINE SIZE   CYLINDERS  FUEL CONSUMPTION  COEMISSIONS \n",
       "count   639.0   639.000000  639.000000        639.000000    639.000000\n",
       "mean   2000.0     3.265728    5.805947         14.713615    296.809077\n",
       "std       0.0     1.231012    1.625588          3.307044     65.504178\n",
       "min    2000.0     1.000000    3.000000          4.900000    104.000000\n",
       "25%    2000.0     2.200000    4.000000         12.500000    253.000000\n",
       "50%    2000.0     3.000000    6.000000         14.400000    288.000000\n",
       "75%    2000.0     4.300000    6.000000         16.600000    343.000000\n",
       "max    2000.0     8.000000   12.000000         30.200000    582.000000"
      ]
     },
     "execution_count": 88,
     "metadata": {},
     "output_type": "execute_result"
    }
   ],
   "source": [
    "# Lege cellen en dataypes bekijken\n",
    "auto.info()\n",
    "\n",
    "# Samenvattingen van de numerische kolommen (minimum en maximum waarden,... )\n",
    "auto.describe()"
   ]
  },
  {
   "cell_type": "code",
   "execution_count": 89,
   "metadata": {},
   "outputs": [
    {
     "data": {
      "text/html": [
       "<div>\n",
       "<style scoped>\n",
       "    .dataframe tbody tr th:only-of-type {\n",
       "        vertical-align: middle;\n",
       "    }\n",
       "\n",
       "    .dataframe tbody tr th {\n",
       "        vertical-align: top;\n",
       "    }\n",
       "\n",
       "    .dataframe thead th {\n",
       "        text-align: right;\n",
       "    }\n",
       "</style>\n",
       "<table border=\"1\" class=\"dataframe\">\n",
       "  <thead>\n",
       "    <tr style=\"text-align: right;\">\n",
       "      <th></th>\n",
       "      <th>Year</th>\n",
       "      <th>MAKE</th>\n",
       "      <th>MODEL</th>\n",
       "      <th>VEHICLE CLASS</th>\n",
       "      <th>ENGINE SIZE</th>\n",
       "      <th>CYLINDERS</th>\n",
       "      <th>TRANSMISSION</th>\n",
       "      <th>FUEL</th>\n",
       "      <th>FUEL CONSUMPTION</th>\n",
       "      <th>COEMISSIONS</th>\n",
       "    </tr>\n",
       "  </thead>\n",
       "  <tbody>\n",
       "    <tr>\n",
       "      <th>0</th>\n",
       "      <td>2000</td>\n",
       "      <td>ACURA</td>\n",
       "      <td>1.6EL</td>\n",
       "      <td>COMPACT</td>\n",
       "      <td>1.6</td>\n",
       "      <td>4</td>\n",
       "      <td>A4</td>\n",
       "      <td>X</td>\n",
       "      <td>10.5</td>\n",
       "      <td>216</td>\n",
       "    </tr>\n",
       "    <tr>\n",
       "      <th>1</th>\n",
       "      <td>2000</td>\n",
       "      <td>ACURA</td>\n",
       "      <td>1.6EL</td>\n",
       "      <td>COMPACT</td>\n",
       "      <td>1.6</td>\n",
       "      <td>4</td>\n",
       "      <td>M5</td>\n",
       "      <td>X</td>\n",
       "      <td>9.8</td>\n",
       "      <td>205</td>\n",
       "    </tr>\n",
       "    <tr>\n",
       "      <th>2</th>\n",
       "      <td>2000</td>\n",
       "      <td>ACURA</td>\n",
       "      <td>3.2TL</td>\n",
       "      <td>MID-SIZE</td>\n",
       "      <td>3.2</td>\n",
       "      <td>6</td>\n",
       "      <td>AS5</td>\n",
       "      <td>Z</td>\n",
       "      <td>13.7</td>\n",
       "      <td>265</td>\n",
       "    </tr>\n",
       "    <tr>\n",
       "      <th>3</th>\n",
       "      <td>2000</td>\n",
       "      <td>ACURA</td>\n",
       "      <td>3.5RL</td>\n",
       "      <td>MID-SIZE</td>\n",
       "      <td>3.5</td>\n",
       "      <td>6</td>\n",
       "      <td>A4</td>\n",
       "      <td>Z</td>\n",
       "      <td>15.0</td>\n",
       "      <td>301</td>\n",
       "    </tr>\n",
       "    <tr>\n",
       "      <th>4</th>\n",
       "      <td>2000</td>\n",
       "      <td>ACURA</td>\n",
       "      <td>INTEGRA</td>\n",
       "      <td>SUBCOMPACT</td>\n",
       "      <td>1.8</td>\n",
       "      <td>4</td>\n",
       "      <td>A4</td>\n",
       "      <td>X</td>\n",
       "      <td>11.4</td>\n",
       "      <td>230</td>\n",
       "    </tr>\n",
       "  </tbody>\n",
       "</table>\n",
       "</div>"
      ],
      "text/plain": [
       "   Year   MAKE    MODEL VEHICLE CLASS  ENGINE SIZE  CYLINDERS TRANSMISSION  \\\n",
       "0  2000  ACURA    1.6EL       COMPACT          1.6          4           A4   \n",
       "1  2000  ACURA    1.6EL       COMPACT          1.6          4           M5   \n",
       "2  2000  ACURA    3.2TL      MID-SIZE          3.2          6          AS5   \n",
       "3  2000  ACURA    3.5RL      MID-SIZE          3.5          6           A4   \n",
       "4  2000  ACURA  INTEGRA    SUBCOMPACT          1.8          4           A4   \n",
       "\n",
       "  FUEL  FUEL CONSUMPTION  COEMISSIONS   \n",
       "0    X              10.5           216  \n",
       "1    X               9.8           205  \n",
       "2    Z              13.7           265  \n",
       "3    Z              15.0           301  \n",
       "4    X              11.4           230  "
      ]
     },
     "execution_count": 89,
     "metadata": {},
     "output_type": "execute_result"
    }
   ],
   "source": [
    "# Overzicht van de eerste 5 rijen. ()is standaard 5 rijen\n",
    "auto.head()\n"
   ]
  },
  {
   "cell_type": "code",
   "execution_count": 90,
   "metadata": {},
   "outputs": [
    {
     "data": {
      "application/vnd.jupyter.widget-view+json": {
       "model_id": "bfdcbe3588754e0593575fbbf2e8f879",
       "version_major": 2,
       "version_minor": 0
      },
      "text/plain": [
       "                                             |          | [  0%]   00:00 -> (? left)"
      ]
     },
     "metadata": {},
     "output_type": "display_data"
    },
    {
     "name": "stdout",
     "output_type": "stream",
     "text": [
      "Report Report.html was generated! NOTEBOOK/COLAB USERS: the web browser MAY not pop up, regardless, the report IS saved in your notebook/colab files.\n"
     ]
    }
   ],
   "source": [
    "# Inlezen data in Sweetviz\n",
    "\n",
    "import sweetviz as sv\n",
    "\n",
    "auto = pd.read_csv(\"data/FuelConsumption_dataset.csv\")\n",
    "\n",
    "# hack voor bug in de uitvoering\n",
    "if not hasattr(np, 'VisibleDeprecationWarning'):\n",
    "     np.VisibleDeprecationWarning = DeprecationWarning\n",
    "\n",
    "report = sv.analyze(auto)\n",
    "\n",
    "# Output het rapport als een HTML-bestand, dit opent ook automatisch in je webbrowser\n",
    "report.show_html('Report.html')"
   ]
  },
  {
   "cell_type": "markdown",
   "metadata": {},
   "source": [
    "## Data cleaning"
   ]
  },
  {
   "cell_type": "code",
   "execution_count": 91,
   "metadata": {},
   "outputs": [
    {
     "name": "stdout",
     "output_type": "stream",
     "text": [
      "Index(['Year', 'MAKE', 'MODEL', 'VEHICLE CLASS', 'ENGINE SIZE', 'CYLINDERS',\n",
      "       'TRANSMISSION', 'FUEL', 'FUEL CONSUMPTION', 'COEMISSIONS '],\n",
      "      dtype='object')\n"
     ]
    }
   ],
   "source": [
    "# Print de kolomnamen \n",
    "\n",
    "print(auto.columns)"
   ]
  },
  {
   "cell_type": "code",
   "execution_count": 92,
   "metadata": {},
   "outputs": [
    {
     "name": "stdout",
     "output_type": "stream",
     "text": [
      "Index(['MAKE', 'MODEL', 'VEHICLE CLASS', 'ENGINE SIZE', 'CYLINDERS',\n",
      "       'TRANSMISSION', 'FUEL', 'FUEL CONSUMPTION', 'COEMISSIONS'],\n",
      "      dtype='object')\n"
     ]
    }
   ],
   "source": [
    "# Aanpassen van de kolomnaam 'COEMISSIONS ' naar 'COEMISSIONS'\n",
    "\n",
    "auto.rename(columns={'COEMISSIONS ': 'COEMISSIONS'}, inplace=True)\n",
    "\n",
    "# Verwijderen van kolom 'Year' - overbodige kolom\n",
    "\n",
    "auto.drop('Year', axis=1, inplace=True)  \n",
    "\n",
    "# Print de kolomnamen \n",
    "\n",
    "print(auto.columns)"
   ]
  },
  {
   "cell_type": "markdown",
   "metadata": {},
   "source": [
    "## Reproductie resultaat Kaggle"
   ]
  },
  {
   "cell_type": "markdown",
   "metadata": {},
   "source": [
    "Kaggle user heeft alle categorische waarden omgezet in numerische waarden en een lineaire regressie toegepast en toont een modelscore van 98,57%"
   ]
  },
  {
   "cell_type": "code",
   "execution_count": 93,
   "metadata": {},
   "outputs": [
    {
     "name": "stdout",
     "output_type": "stream",
     "text": [
      "Model score is 98.57% vs 98,57% in de kaggle notebook.\n"
     ]
    }
   ],
   "source": [
    "\n",
    "auto_num = auto.copy()\n",
    "\n",
    "# Importeer LabelEncoder\n",
    "from sklearn.preprocessing import LabelEncoder\n",
    "\n",
    "# Maak een LabelEncoder aan\n",
    "le = LabelEncoder()\n",
    "\n",
    "# Selecteer de categorische kolommen\n",
    "obj_cols = auto_num.select_dtypes('object').columns\n",
    "\n",
    "# Pas LabelEncoder toe op elke categorische kolom\n",
    "for col in obj_cols:\n",
    "    auto_num[col] = le.fit_transform(auto_num[col])\n",
    "from sklearn.model_selection import train_test_split\n",
    "from sklearn.linear_model import LinearRegression\n",
    "\n",
    "\n",
    "# Features selecteren \n",
    "X = auto_num.drop(['COEMISSIONS'],axis=1)\n",
    "y = auto_num['COEMISSIONS']\n",
    "\n",
    "# Data splitsen\n",
    "X_train, X_test, y_train, y_test = train_test_split(X, y, test_size=0.2, random_state=42)\n",
    "\n",
    "# Model trainen\n",
    "model = LinearRegression()\n",
    "model.fit(X_train, y_train)\n",
    "\n",
    "# Voorspellingen\n",
    "y_pred = model.predict(X_test)\n",
    "\n",
    "# Printen score\n",
    "print(f'Model score is {model.score(X_test, y_test)*100:.2f}%' \" vs 98,57% in de kaggle notebook.\" )"
   ]
  },
  {
   "cell_type": "markdown",
   "metadata": {},
   "source": [
    "Model scores Kaggle methode"
   ]
  },
  {
   "cell_type": "code",
   "execution_count": 94,
   "metadata": {},
   "outputs": [
    {
     "name": "stdout",
     "output_type": "stream",
     "text": [
      "Train score: 96.60%\n",
      "Test score: 98.57%\n"
     ]
    }
   ],
   "source": [
    "train_score = model.score(X_train, y_train)\n",
    "test_score = model.score(X_test, y_test)\n",
    "print(f'Train score: {train_score*100:.2f}%')\n",
    "print(f'Test score: {test_score*100:.2f}%')"
   ]
  },
  {
   "cell_type": "code",
   "execution_count": 95,
   "metadata": {},
   "outputs": [
    {
     "name": "stdout",
     "output_type": "stream",
     "text": [
      "Kruisvalidatie scores: [0.9738215  0.90612424 0.98488673 0.98251414 0.94327516 0.92774743]\n",
      "Gemiddelde R²-score: 95.31%\n"
     ]
    }
   ],
   "source": [
    "from sklearn.model_selection import cross_val_score\n",
    "scores = cross_val_score(model, X, y, cv=6, scoring='r2')\n",
    "print(f'Kruisvalidatie scores: {scores}')\n",
    "print(f'Gemiddelde R²-score: {scores.mean()*100:.2f}%')"
   ]
  },
  {
   "cell_type": "markdown",
   "metadata": {},
   "source": [
    "## Model verbeteren"
   ]
  },
  {
   "cell_type": "markdown",
   "metadata": {},
   "source": [
    "### Skewness target variabele verbeteren"
   ]
  },
  {
   "cell_type": "code",
   "execution_count": 96,
   "metadata": {},
   "outputs": [
    {
     "data": {
      "image/png": "[encoded data removed]",
      "text/plain": [
       "<Figure size 1000x600 with 1 Axes>"
      ]
     },
     "metadata": {},
     "output_type": "display_data"
    }
   ],
   "source": [
    "import matplotlib.pyplot as plt\n",
    "\n",
    "auto_num['COEMISSIONS'].hist(bins = 15, figsize = (10, 6))\n",
    "plt.xlabel('CO² EMISSIONS')\n",
    "plt.ylabel('Frequency')\n",
    "plt.title('Histogram CO² EMISSIONS')\n",
    "plt.grid(True)\n",
    "plt.show()"
   ]
  },
  {
   "cell_type": "code",
   "execution_count": 97,
   "metadata": {},
   "outputs": [
    {
     "name": "stdout",
     "output_type": "stream",
     "text": [
      "Skewness na Box-Cox transformatie: 0.005227637946758231\n"
     ]
    }
   ],
   "source": [
    "from scipy.stats import boxcox,skew\n",
    "\n",
    "# Pas box-cox transformatie toe op de categorische kolommen\n",
    "auto_num['COEMISSIONS_boxcox'], _ = boxcox(auto_num['COEMISSIONS'] + 1)  # +1 om nulwaarden te vermijden\n",
    "\n",
    "# Bereken skewness na box-cox transformatie\n",
    "skewness_boxcox = skew(auto_num['COEMISSIONS_boxcox'])\n",
    "print(f'Skewness na Box-Cox transformatie: {skewness_boxcox}')"
   ]
  },
  {
   "cell_type": "code",
   "execution_count": 98,
   "metadata": {},
   "outputs": [],
   "source": [
    "# Verwijderen van de 'COEMISSIONS' kolom \n",
    "\n",
    "auto_num.drop('COEMISSIONS', axis=1, inplace=True) "
   ]
  },
  {
   "cell_type": "code",
   "execution_count": 99,
   "metadata": {},
   "outputs": [
    {
     "data": {
      "image/png": "[encoded data removed]",
      "text/plain": [
       "<Figure size 1000x600 with 1 Axes>"
      ]
     },
     "metadata": {},
     "output_type": "display_data"
    }
   ],
   "source": [
    "# nieuw histogram na box-cox transformatie\n",
    "# \n",
    "auto_num['COEMISSIONS_boxcox'].hist(bins = 15, figsize = (10, 6))\n",
    "plt.xlabel('CO² EMISSIONS')\n",
    "plt.ylabel('Frequency')\n",
    "plt.title('Histogram CO² EMISSIONS')\n",
    "plt.grid(True)\n",
    "plt.show()"
   ]
  },
  {
   "cell_type": "markdown",
   "metadata": {},
   "source": [
    "## Correlatie van numerische variablelen"
   ]
  },
  {
   "cell_type": "code",
   "execution_count": 100,
   "metadata": {},
   "outputs": [
    {
     "data": {
      "image/png": "[encoded data removed]",
      "text/plain": [
       "<Figure size 800x600 with 2 Axes>"
      ]
     },
     "metadata": {},
     "output_type": "display_data"
    }
   ],
   "source": [
    "import seaborn as sns\n",
    "\n",
    "# Correlatie berekenen van de numerische kolommen\n",
    "\n",
    "correlatie_matrix =auto_num.corr()\n",
    "\n",
    "# plot maken van de matrix\n",
    "plt.figure(figsize=(8, 6))\n",
    "sns.heatmap(correlatie_matrix, annot=True, cmap='coolwarm', fmt=\".2f\", linewidths=0.7)\n",
    "plt.title(\"Correlatiematrix van numerieke variabelen\")\n",
    "plt.show()"
   ]
  },
  {
   "cell_type": "markdown",
   "metadata": {},
   "source": [
    "## lineaire regressie met verbeterde skewness van de target variabele"
   ]
  },
  {
   "cell_type": "code",
   "execution_count": 101,
   "metadata": {},
   "outputs": [
    {
     "name": "stdout",
     "output_type": "stream",
     "text": [
      "Model score is 95.76% vs 98,57% in de kaggle notebook.\n"
     ]
    }
   ],
   "source": [
    "from sklearn.model_selection import train_test_split\n",
    "from sklearn.linear_model import LinearRegression\n",
    "\n",
    "X = auto_num.drop(['COEMISSIONS_boxcox'],axis=1)\n",
    "y = auto_num['COEMISSIONS_boxcox']\n",
    "\n",
    "# Data splitsen\n",
    "X_train, X_test, y_train, y_test = train_test_split(X, y, test_size=0.2, random_state=42)\n",
    "\n",
    "# Model trainen\n",
    "model = LinearRegression()\n",
    "model.fit(X_train, y_train)\n",
    "\n",
    "# Voorspellingen\n",
    "y_pred = model.predict(X_test)\n",
    "\n",
    "\n",
    "print(f'Model score is {model.score(X_test, y_test)*100:.2f}%' \" vs 98,57% in de kaggle notebook.\" )\n",
    "\n",
    "\n",
    "train_score = model.score(X_train, y_train)\n",
    "test_score = model.score(X_test, y_test)\n"
   ]
  },
  {
   "cell_type": "markdown",
   "metadata": {},
   "source": [
    "## StandardScaler toepassen op de features"
   ]
  },
  {
   "cell_type": "code",
   "execution_count": 102,
   "metadata": {},
   "outputs": [
    {
     "name": "stdout",
     "output_type": "stream",
     "text": [
      "Model score: 95.76%\n",
      "Geen verbetering, zoek verder\n",
      "Model score uit Cross-Validatie: 93.73%\n"
     ]
    }
   ],
   "source": [
    "# StandardScaler wordt toegepast op alle kolommen in X  \n",
    "\n",
    "from sklearn.model_selection import cross_val_score \n",
    "from sklearn.preprocessing import StandardScaler\n",
    "from sklearn.pipeline import Pipeline\n",
    "\n",
    "\n",
    " # Features selecteren (enkel numerieke) \n",
    "X = auto_num.drop(['COEMISSIONS_boxcox'],axis=1)\n",
    "y = auto_num['COEMISSIONS_boxcox']\n",
    "\n",
    "# Data splitsen\n",
    "X_train, X_test, y_train, y_test = train_test_split(X, y, test_size=0.2, random_state=42)\n",
    "\n",
    "# Pipeline aanmaken\n",
    "pipeline = Pipeline([\n",
    "        ('scaler', StandardScaler()),      \n",
    "        ('model', LinearRegression())       \n",
    "    ])\n",
    "\n",
    "# Model trainen\n",
    "pipeline.fit(X_train, y_train)\n",
    "\n",
    "# Voorspellingen\n",
    "y_pred = pipeline.predict(X_test)\n",
    "\n",
    "# model score berekenen\n",
    "model_score = pipeline.score(X_test, y_test)\n",
    "\n",
    "# Cross-validatie uitvoeren\n",
    "cv_scores = cross_val_score(pipeline, X, y, cv=6, scoring='r2')  # CV score is het hoogst bij 6\n",
    "\n",
    "# Resultaten weergeven (gemiddelde R²-score)\n",
    "gem_cv_score = cv_scores.mean()\n",
    "\n",
    "# Model score en cross-validatie scores weergeven\n",
    "print(f'Model score: {model_score*100:.2f}%')\n",
    "\n",
    "if model_score > 0.9857: \n",
    "    # Als een van de scores groter is dan 98,57, print het verschil\n",
    "    verbetering = model_score - 0.9857\n",
    "    print(f'Een verbetering van {verbetering*100:.4f}')\n",
    "else:\n",
    "    print('Geen verbetering, zoek verder')\n",
    "    \n",
    "print(f'Model score uit Cross-Validatie: {gem_cv_score*100:.2f}%')\n",
    "\n"
   ]
  },
  {
   "cell_type": "markdown",
   "metadata": {},
   "source": [
    "## Minder features? Features met een negatieve correlatie eruit halen"
   ]
  },
  {
   "cell_type": "code",
   "execution_count": 103,
   "metadata": {},
   "outputs": [
    {
     "name": "stdout",
     "output_type": "stream",
     "text": [
      "Model score: 95.42%\n",
      "Geen verbetering, zoek verder\n",
      "Model score uit Cross-Validatie: 94.02%\n"
     ]
    }
   ],
   "source": [
    "X = auto_num.drop(['MAKE', 'MODEL','TRANSMISSION','COEMISSIONS_boxcox'],axis=1)\n",
    "y = auto_num['COEMISSIONS_boxcox']\n",
    "\n",
    "\n",
    "X_train, X_test, y_train, y_test = train_test_split(X, y, test_size=0.2, random_state=42)\n",
    "\n",
    "\n",
    "pipeline = Pipeline([\n",
    "        ('scaler', StandardScaler()),       \n",
    "        ('model', LinearRegression())       \n",
    "    ])\n",
    "\n",
    "# Model trainen\n",
    "pipeline.fit(X_train, y_train)\n",
    "\n",
    "# Voorspellingen\n",
    "y_pred = pipeline.predict(X_test)\n",
    "\n",
    "# model score berekenen\n",
    "model_score = pipeline.score(X_test, y_test)\n",
    "\n",
    "# Cross-validatie uitvoeren\n",
    "cv_scores = cross_val_score(pipeline, X, y, cv=6, scoring='r2')  # score is het hoogst bij 6\n",
    "\n",
    "# Resultaten weergeven (gemiddelde R²-score)\n",
    "gem_cv_score = cv_scores.mean()\n",
    "\n",
    "# Model score en cross-validatie scores weergeven\n",
    "print(f'Model score: {model_score*100:.2f}%')\n",
    "\n",
    "\n",
    "if model_score >= 0.9857:\n",
    "    # Als een van de scores groter is dan 98,57, print het verschil\n",
    "    improvement = model_score - 0.9857\n",
    "    print(f'Een verbetering van {improvement:.2f}')\n",
    "else:\n",
    "    print('Geen verbetering, zoek verder')\n",
    "    \n",
    "print(f'Model score uit Cross-Validatie: {gem_cv_score*100:.2f}%')\n",
    "\n",
    "\n",
    "\n"
   ]
  },
  {
   "cell_type": "markdown",
   "metadata": {},
   "source": [
    "### Features samenvoegen?  "
   ]
  },
  {
   "cell_type": "code",
   "execution_count": 104,
   "metadata": {},
   "outputs": [
    {
     "name": "stdout",
     "output_type": "stream",
     "text": [
      "             CYLINDERS  ENGINE SIZE\n",
      "CYLINDERS     1.000000     0.893819\n",
      "ENGINE SIZE   0.893819     1.000000\n",
      "       Feature        VIF\n",
      "0        const  15.225907\n",
      "1    CYLINDERS   4.972942\n",
      "2  ENGINE SIZE   4.972942\n"
     ]
    },
    {
     "data": {
      "text/html": [
       "<div>\n",
       "<style scoped>\n",
       "    .dataframe tbody tr th:only-of-type {\n",
       "        vertical-align: middle;\n",
       "    }\n",
       "\n",
       "    .dataframe tbody tr th {\n",
       "        vertical-align: top;\n",
       "    }\n",
       "\n",
       "    .dataframe thead th {\n",
       "        text-align: right;\n",
       "    }\n",
       "</style>\n",
       "<table border=\"1\" class=\"dataframe\">\n",
       "  <thead>\n",
       "    <tr style=\"text-align: right;\">\n",
       "      <th></th>\n",
       "      <th>MAKE</th>\n",
       "      <th>MODEL</th>\n",
       "      <th>VEHICLE CLASS</th>\n",
       "      <th>TRANSMISSION</th>\n",
       "      <th>FUEL</th>\n",
       "      <th>FUEL CONSUMPTION</th>\n",
       "      <th>COEMISSIONS_boxcox</th>\n",
       "      <th>PowerFactor</th>\n",
       "    </tr>\n",
       "  </thead>\n",
       "  <tbody>\n",
       "    <tr>\n",
       "      <th>0</th>\n",
       "      <td>0</td>\n",
       "      <td>0</td>\n",
       "      <td>0</td>\n",
       "      <td>1</td>\n",
       "      <td>3</td>\n",
       "      <td>10.5</td>\n",
       "      <td>11.253426</td>\n",
       "      <td>6.4</td>\n",
       "    </tr>\n",
       "    <tr>\n",
       "      <th>1</th>\n",
       "      <td>0</td>\n",
       "      <td>0</td>\n",
       "      <td>0</td>\n",
       "      <td>6</td>\n",
       "      <td>3</td>\n",
       "      <td>9.8</td>\n",
       "      <td>11.057877</td>\n",
       "      <td>6.4</td>\n",
       "    </tr>\n",
       "    <tr>\n",
       "      <th>2</th>\n",
       "      <td>0</td>\n",
       "      <td>1</td>\n",
       "      <td>2</td>\n",
       "      <td>4</td>\n",
       "      <td>4</td>\n",
       "      <td>13.7</td>\n",
       "      <td>12.043417</td>\n",
       "      <td>19.2</td>\n",
       "    </tr>\n",
       "    <tr>\n",
       "      <th>3</th>\n",
       "      <td>0</td>\n",
       "      <td>2</td>\n",
       "      <td>2</td>\n",
       "      <td>1</td>\n",
       "      <td>4</td>\n",
       "      <td>15.0</td>\n",
       "      <td>12.556440</td>\n",
       "      <td>21.0</td>\n",
       "    </tr>\n",
       "    <tr>\n",
       "      <th>4</th>\n",
       "      <td>0</td>\n",
       "      <td>164</td>\n",
       "      <td>9</td>\n",
       "      <td>1</td>\n",
       "      <td>3</td>\n",
       "      <td>11.4</td>\n",
       "      <td>11.491795</td>\n",
       "      <td>7.2</td>\n",
       "    </tr>\n",
       "    <tr>\n",
       "      <th>...</th>\n",
       "      <td>...</td>\n",
       "      <td>...</td>\n",
       "      <td>...</td>\n",
       "      <td>...</td>\n",
       "      <td>...</td>\n",
       "      <td>...</td>\n",
       "      <td>...</td>\n",
       "      <td>...</td>\n",
       "    </tr>\n",
       "    <tr>\n",
       "      <th>634</th>\n",
       "      <td>35</td>\n",
       "      <td>303</td>\n",
       "      <td>7</td>\n",
       "      <td>1</td>\n",
       "      <td>4</td>\n",
       "      <td>14.4</td>\n",
       "      <td>12.376774</td>\n",
       "      <td>12.0</td>\n",
       "    </tr>\n",
       "    <tr>\n",
       "      <th>635</th>\n",
       "      <td>35</td>\n",
       "      <td>304</td>\n",
       "      <td>7</td>\n",
       "      <td>1</td>\n",
       "      <td>4</td>\n",
       "      <td>13.6</td>\n",
       "      <td>12.176352</td>\n",
       "      <td>12.0</td>\n",
       "    </tr>\n",
       "    <tr>\n",
       "      <th>636</th>\n",
       "      <td>35</td>\n",
       "      <td>305</td>\n",
       "      <td>7</td>\n",
       "      <td>1</td>\n",
       "      <td>4</td>\n",
       "      <td>13.9</td>\n",
       "      <td>12.176352</td>\n",
       "      <td>11.5</td>\n",
       "    </tr>\n",
       "    <tr>\n",
       "      <th>637</th>\n",
       "      <td>35</td>\n",
       "      <td>305</td>\n",
       "      <td>7</td>\n",
       "      <td>6</td>\n",
       "      <td>4</td>\n",
       "      <td>13.0</td>\n",
       "      <td>11.968095</td>\n",
       "      <td>11.5</td>\n",
       "    </tr>\n",
       "    <tr>\n",
       "      <th>638</th>\n",
       "      <td>35</td>\n",
       "      <td>306</td>\n",
       "      <td>7</td>\n",
       "      <td>2</td>\n",
       "      <td>4</td>\n",
       "      <td>14.7</td>\n",
       "      <td>12.529183</td>\n",
       "      <td>12.0</td>\n",
       "    </tr>\n",
       "  </tbody>\n",
       "</table>\n",
       "<p>639 rows × 8 columns</p>\n",
       "</div>"
      ],
      "text/plain": [
       "     MAKE  MODEL  VEHICLE CLASS  TRANSMISSION  FUEL  FUEL CONSUMPTION  \\\n",
       "0       0      0              0             1     3              10.5   \n",
       "1       0      0              0             6     3               9.8   \n",
       "2       0      1              2             4     4              13.7   \n",
       "3       0      2              2             1     4              15.0   \n",
       "4       0    164              9             1     3              11.4   \n",
       "..    ...    ...            ...           ...   ...               ...   \n",
       "634    35    303              7             1     4              14.4   \n",
       "635    35    304              7             1     4              13.6   \n",
       "636    35    305              7             1     4              13.9   \n",
       "637    35    305              7             6     4              13.0   \n",
       "638    35    306              7             2     4              14.7   \n",
       "\n",
       "     COEMISSIONS_boxcox  PowerFactor  \n",
       "0             11.253426          6.4  \n",
       "1             11.057877          6.4  \n",
       "2             12.043417         19.2  \n",
       "3             12.556440         21.0  \n",
       "4             11.491795          7.2  \n",
       "..                  ...          ...  \n",
       "634           12.376774         12.0  \n",
       "635           12.176352         12.0  \n",
       "636           12.176352         11.5  \n",
       "637           11.968095         11.5  \n",
       "638           12.529183         12.0  \n",
       "\n",
       "[639 rows x 8 columns]"
      ]
     },
     "execution_count": 104,
     "metadata": {},
     "output_type": "execute_result"
    }
   ],
   "source": [
    "\n",
    "from statsmodels.stats.outliers_influence import variance_inflation_factor\n",
    "import statsmodels.api as sm\n",
    "\n",
    "# Correlatie tussen aantal cylinders en motorinhoud\n",
    "correlation = auto_num[['CYLINDERS', 'ENGINE SIZE']].corr()\n",
    "\n",
    "print(correlation)\n",
    "\n",
    "\n",
    "# VIF berekenen \n",
    "X = auto_num[['CYLINDERS', 'ENGINE SIZE']]\n",
    "X = sm.add_constant(X)  # Intercept toevoegen\n",
    "\n",
    "vif_data = pd.DataFrame()\n",
    "vif_data[\"Feature\"] = X.columns\n",
    "vif_data[\"VIF\"] = [variance_inflation_factor(X.values, i) for i in range(X.shape[1])]\n",
    "\n",
    "print(vif_data)\n",
    "\n",
    "\n",
    "auto_merge = auto_num.copy()\n",
    "auto_merge['PowerFactor'] = auto_merge['CYLINDERS'] * auto_merge['ENGINE SIZE'] \n",
    "\n",
    "auto_merge.drop(columns=['CYLINDERS', 'ENGINE SIZE'], inplace=True)\n",
    "auto_merge\n",
    "\n",
    "# Variance Inflation Factor < 5 dus onwaarschijnlijk dat er een invloed is.\n"
   ]
  },
  {
   "cell_type": "code",
   "execution_count": 105,
   "metadata": {},
   "outputs": [
    {
     "name": "stdout",
     "output_type": "stream",
     "text": [
      "Model score: 95.02%\n",
      "Geen verbetering, zoek verder\n",
      "Model score uit Cross-Validatie: 93.99%\n"
     ]
    }
   ],
   "source": [
    "\n",
    "\n",
    "X = auto_merge.drop(['COEMISSIONS_boxcox'],axis=1)\n",
    "y = auto_merge['COEMISSIONS_boxcox']\n",
    "\n",
    "\n",
    "X_train, X_test, y_train, y_test = train_test_split(X, y, test_size=0.2, random_state=42)\n",
    "\n",
    "\n",
    "pipeline = Pipeline([\n",
    "        ('scaler', StandardScaler()),       \n",
    "        ('model', LinearRegression())       \n",
    "    ])\n",
    "\n",
    "# Model trainen\n",
    "pipeline.fit(X_train, y_train)\n",
    "\n",
    "# Voorspellingen\n",
    "y_pred = pipeline.predict(X_test)\n",
    "\n",
    "# model score berekenen\n",
    "model_score = pipeline.score(X_test, y_test)\n",
    "\n",
    "# Cross-validatie uitvoeren\n",
    "cv_scores = cross_val_score(pipeline, X, y, cv=6, scoring='r2')  # score is het hoogst bij 6\n",
    "\n",
    "# Resultaten weergeven (gemiddelde R²-score)\n",
    "gem_cv_score = cv_scores.mean()\n",
    "\n",
    "# Model score en cross-validatie scores weergeven\n",
    "print(f'Model score: {model_score*100:.2f}%')\n",
    "\n",
    "\n",
    "if model_score >= 0.9857:\n",
    "    # Als een van de scores groter is dan 98,57, print het verschil\n",
    "    improvement = model_score - 0.9857\n",
    "    print(f'Een verbetering van {improvement:.2f}')\n",
    "else:\n",
    "    print('Geen verbetering, zoek verder')\n",
    "    \n",
    "print(f'Model score uit Cross-Validatie: {gem_cv_score*100:.2f}%')\n",
    "\n",
    "\n",
    "\n"
   ]
  },
  {
   "cell_type": "markdown",
   "metadata": {},
   "source": [
    "### LASSO"
   ]
  },
  {
   "cell_type": "code",
   "execution_count": 106,
   "metadata": {},
   "outputs": [
    {
     "name": "stdout",
     "output_type": "stream",
     "text": [
      "Model score: 94.55%\n",
      "Geen verbetering, zoek verder\n",
      "Lasso coëfficiënten: [0.86198742]\n",
      "Model score uit Cross-Validatie: 93.47%\n"
     ]
    }
   ],
   "source": [
    "\n",
    "from sklearn.linear_model import Lasso\n",
    "from sklearn.feature_selection import SelectFromModel\n",
    "\n",
    "X = auto_merge.drop(['COEMISSIONS_boxcox'],axis=1)\n",
    "y = auto_merge['COEMISSIONS_boxcox']\n",
    "\n",
    "\n",
    "X_train, X_test, y_train, y_test = train_test_split(X, y, test_size=0.2, random_state=42)\n",
    "\n",
    "\n",
    "# Pipeline met Lasso-regressie (pas alpha aan voor optimalisatie)\n",
    "pipeline = Pipeline([\n",
    "    ('scaler', StandardScaler()), \n",
    "    ('feature_selection', SelectFromModel(Lasso(alpha=0.3))),  # Feature selectie met Lasso\n",
    "    ('model', LinearRegression())  # Lineaire regressie als eindmodel\n",
    "])\n",
    "\n",
    "# Model trainen\n",
    "pipeline.fit(X_train, y_train)\n",
    "\n",
    "# Modelscore berekenen\n",
    "model_score = pipeline.score(X_test, y_test)\n",
    "\n",
    "# Cross-validatie uitvoeren\n",
    "cv_scores = cross_val_score(pipeline, X, y, cv=5, scoring='r2')  # Meer folds voor stabielere score\n",
    "gem_cv_score = cv_scores.mean()\n",
    "\n",
    "# Resultaten weergeven\n",
    "print(f'Model score: {model_score*100:.2f}%')\n",
    "\n",
    "\n",
    "if model_score >= 0.9857:\n",
    "    verbetering = model_score - 0.9857\n",
    "    print(f'Een verbetering van {verbetering:.2f}')\n",
    "else:\n",
    "    print('Geen verbetering, zoek verder')\n",
    "\n",
    "# Coëfficiënten bekijken (sommige worden exact 0)\n",
    "lasso_model = pipeline.named_steps['model']\n",
    "print(\"Lasso coëfficiënten:\", lasso_model.coef_)\n",
    "print(f'Model score uit Cross-Validatie: {gem_cv_score*100:.2f}%')\n",
    "\n"
   ]
  },
  {
   "cell_type": "markdown",
   "metadata": {},
   "source": [
    "RIDGE"
   ]
  },
  {
   "cell_type": "code",
   "execution_count": 107,
   "metadata": {},
   "outputs": [
    {
     "name": "stdout",
     "output_type": "stream",
     "text": [
      "Model score: 94.55%\n",
      "Geen verbetering, zoek verder\n",
      "Ridge coëfficiënten: [ 0.01692405  0.01233161  0.02621671 -0.01783909  0.01908546  0.88417146\n",
      " -0.0359628 ]\n",
      "Model score uit Cross-Validatie: 93.47%\n"
     ]
    }
   ],
   "source": [
    "from sklearn.linear_model import Ridge\n",
    "\n",
    "X = auto_merge.drop(['COEMISSIONS_boxcox'], axis=1)\n",
    "y = auto_merge['COEMISSIONS_boxcox']\n",
    "\n",
    "X_train, X_test, y_train, y_test = train_test_split(X, y, test_size=0.2, random_state=42)\n",
    "\n",
    "# Pipeline met StandardScaler, Ridge voor feature selectie en LinearRegression\n",
    "pipeline = Pipeline([\n",
    "    ('scaler', StandardScaler()), \n",
    "    ('feature_selection', SelectFromModel(Ridge(alpha=0.001))),  # Feature selectie met Ridge\n",
    "    ('model', LinearRegression())  # Lineaire regressie als eindmodel\n",
    "])\n",
    "\n",
    "# Model trainen\n",
    "pipeline.fit(X_train, y_train)\n",
    "\n",
    "# Modelscore berekenen\n",
    "model_score = pipeline.score(X_test, y_test)\n",
    "\n",
    "# Cross-validatie uitvoeren\n",
    "cv_scores = cross_val_score(pipeline, X, y, cv=5, scoring='r2')  # 5-fold cross-validatie\n",
    "gem_cv_score = np.mean(cv_scores)  # Gemiddelde R²-score\n",
    "\n",
    "# Resultaten weergeven\n",
    "print(f'Model score: {model_score * 100:.2f}%')\n",
    "\n",
    "if model_score >= 0.9857:\n",
    "    verbetering = model_score - 0.9857\n",
    "    print(f'Een verbetering van {verbetering:.4f}')\n",
    "else:\n",
    "    print('Geen verbetering, zoek verder')\n",
    "\n",
    "# Coëfficiënten bekijken \n",
    "ridge_model = pipeline.named_steps['feature_selection'].estimator_\n",
    "print(\"Ridge coëfficiënten:\", ridge_model.coef_)\n",
    "print(f'Model score uit Cross-Validatie: {gem_cv_score * 100:.2f}%')\n",
    "\n"
   ]
  },
  {
   "cell_type": "code",
   "execution_count": 108,
   "metadata": {},
   "outputs": [
    {
     "name": "stdout",
     "output_type": "stream",
     "text": [
      "Beste alpha: 0.001\n",
      "Beste R²-score: 0.953786858845537\n"
     ]
    }
   ],
   "source": [
    "from sklearn.model_selection import GridSearchCV\n",
    "\n",
    "param_grid = {'feature_selection__estimator__alpha': [0.001, 0.01, 0.1, 1, 10, 100]}\n",
    "grid_search = GridSearchCV(pipeline, param_grid, cv=6, scoring='r2')\n",
    "grid_search.fit(X_train, y_train)\n",
    "\n",
    "print(\"Beste alpha:\", grid_search.best_params_['feature_selection__estimator__alpha'])\n",
    "print(\"Beste R²-score:\", grid_search.best_score_)"
   ]
  },
  {
   "cell_type": "markdown",
   "metadata": {},
   "source": [
    "### Verwijderen outliers"
   ]
  },
  {
   "cell_type": "code",
   "execution_count": 109,
   "metadata": {},
   "outputs": [
    {
     "name": "stdout",
     "output_type": "stream",
     "text": [
      "Aantal verwijderde outliers: 5\n",
      "Outliers:\n",
      "     MAKE  MODEL  VEHICLE CLASS  TRANSMISSION  FUEL  FUEL CONSUMPTION  \\\n",
      "211     9     10              9             1     4              26.7   \n",
      "212     9     10              9             7     4              26.3   \n",
      "213     9     11              9             1     4              26.7   \n",
      "214     9     11              9             7     4              26.3   \n",
      "215     9     17              9             7     4              30.2   \n",
      "\n",
      "     COEMISSIONS_boxcox  PowerFactor  \n",
      "211           14.889833         66.0  \n",
      "212           14.723643         66.0  \n",
      "213           14.889833         66.0  \n",
      "214           14.723643         66.0  \n",
      "215           15.488960         66.0  \n",
      "Oude datasetgrootte: 639\n",
      "Nieuwe datasetgrootte: 634\n"
     ]
    }
   ],
   "source": [
    "# Outliers bekijken\n",
    "\n",
    "def remove_outliers(df, column='FUEL CONSUMPTION'):\n",
    "    # Bereken de IQR voor de geselecteerde kolom \n",
    "    Q1 = df[column].quantile(0.25)\n",
    "    Q3 = df[column].quantile(0.75)\n",
    "    IQR = Q3 - Q1\n",
    "    \n",
    "    # Bereken de grenzen voor de outliers\n",
    "    lower_bound = Q1 - 2 * IQR\n",
    "    upper_bound = Q3 + 2 * IQR\n",
    "\n",
    "    # Verzamel de indices van outliers voor de 'FUEL CONSUMPTION' kolom\n",
    "    outliers_indices = df[(df[column] < lower_bound) | (df[column] > upper_bound)].index\n",
    "    \n",
    "    # Maakt een nieuw dataset aan met outliers\n",
    "    outliers_df = df.loc[outliers_indices].copy()\n",
    "\n",
    "    # Verwijdert de outliers uit de dataset\n",
    "    df_cleaned = df.drop(index=outliers_indices)\n",
    "    \n",
    "    print(f\"Aantal verwijderde outliers: {len(outliers_indices)}\")\n",
    "    print(\"Outliers:\")\n",
    "    print(outliers_df)  # Toon de outliers in een DataFrame\n",
    "    \n",
    "    return df_cleaned\n",
    "\n",
    "# Roep de functie aan voor de 'FUEL CONSUMPTION' kolom\n",
    "auto_cleaned = remove_outliers(auto_merge, column='FUEL CONSUMPTION')\n",
    "\n",
    "\n",
    "print(f\"Oude datasetgrootte: {auto_merge.shape[0]}\")\n",
    "print(f\"Nieuwe datasetgrootte: {auto_cleaned.shape[0]}\")\n",
    "\n",
    "\n",
    "\n"
   ]
  },
  {
   "cell_type": "code",
   "execution_count": 110,
   "metadata": {},
   "outputs": [
    {
     "data": {
      "text/html": [
       "<div>\n",
       "<style scoped>\n",
       "    .dataframe tbody tr th:only-of-type {\n",
       "        vertical-align: middle;\n",
       "    }\n",
       "\n",
       "    .dataframe tbody tr th {\n",
       "        vertical-align: top;\n",
       "    }\n",
       "\n",
       "    .dataframe thead th {\n",
       "        text-align: right;\n",
       "    }\n",
       "</style>\n",
       "<table border=\"1\" class=\"dataframe\">\n",
       "  <thead>\n",
       "    <tr style=\"text-align: right;\">\n",
       "      <th></th>\n",
       "      <th>MAKE</th>\n",
       "      <th>MODEL</th>\n",
       "      <th>VEHICLE CLASS</th>\n",
       "      <th>TRANSMISSION</th>\n",
       "      <th>FUEL</th>\n",
       "      <th>FUEL CONSUMPTION</th>\n",
       "      <th>COEMISSIONS_boxcox</th>\n",
       "      <th>PowerFactor</th>\n",
       "    </tr>\n",
       "  </thead>\n",
       "  <tbody>\n",
       "    <tr>\n",
       "      <th>0</th>\n",
       "      <td>0</td>\n",
       "      <td>0</td>\n",
       "      <td>0</td>\n",
       "      <td>1</td>\n",
       "      <td>3</td>\n",
       "      <td>10.5</td>\n",
       "      <td>11.253426</td>\n",
       "      <td>6.4</td>\n",
       "    </tr>\n",
       "    <tr>\n",
       "      <th>1</th>\n",
       "      <td>0</td>\n",
       "      <td>0</td>\n",
       "      <td>0</td>\n",
       "      <td>6</td>\n",
       "      <td>3</td>\n",
       "      <td>9.8</td>\n",
       "      <td>11.057877</td>\n",
       "      <td>6.4</td>\n",
       "    </tr>\n",
       "    <tr>\n",
       "      <th>2</th>\n",
       "      <td>0</td>\n",
       "      <td>1</td>\n",
       "      <td>2</td>\n",
       "      <td>4</td>\n",
       "      <td>4</td>\n",
       "      <td>13.7</td>\n",
       "      <td>12.043417</td>\n",
       "      <td>19.2</td>\n",
       "    </tr>\n",
       "    <tr>\n",
       "      <th>3</th>\n",
       "      <td>0</td>\n",
       "      <td>2</td>\n",
       "      <td>2</td>\n",
       "      <td>1</td>\n",
       "      <td>4</td>\n",
       "      <td>15.0</td>\n",
       "      <td>12.556440</td>\n",
       "      <td>21.0</td>\n",
       "    </tr>\n",
       "    <tr>\n",
       "      <th>4</th>\n",
       "      <td>0</td>\n",
       "      <td>164</td>\n",
       "      <td>9</td>\n",
       "      <td>1</td>\n",
       "      <td>3</td>\n",
       "      <td>11.4</td>\n",
       "      <td>11.491795</td>\n",
       "      <td>7.2</td>\n",
       "    </tr>\n",
       "    <tr>\n",
       "      <th>...</th>\n",
       "      <td>...</td>\n",
       "      <td>...</td>\n",
       "      <td>...</td>\n",
       "      <td>...</td>\n",
       "      <td>...</td>\n",
       "      <td>...</td>\n",
       "      <td>...</td>\n",
       "      <td>...</td>\n",
       "    </tr>\n",
       "    <tr>\n",
       "      <th>634</th>\n",
       "      <td>35</td>\n",
       "      <td>303</td>\n",
       "      <td>7</td>\n",
       "      <td>1</td>\n",
       "      <td>4</td>\n",
       "      <td>14.4</td>\n",
       "      <td>12.376774</td>\n",
       "      <td>12.0</td>\n",
       "    </tr>\n",
       "    <tr>\n",
       "      <th>635</th>\n",
       "      <td>35</td>\n",
       "      <td>304</td>\n",
       "      <td>7</td>\n",
       "      <td>1</td>\n",
       "      <td>4</td>\n",
       "      <td>13.6</td>\n",
       "      <td>12.176352</td>\n",
       "      <td>12.0</td>\n",
       "    </tr>\n",
       "    <tr>\n",
       "      <th>636</th>\n",
       "      <td>35</td>\n",
       "      <td>305</td>\n",
       "      <td>7</td>\n",
       "      <td>1</td>\n",
       "      <td>4</td>\n",
       "      <td>13.9</td>\n",
       "      <td>12.176352</td>\n",
       "      <td>11.5</td>\n",
       "    </tr>\n",
       "    <tr>\n",
       "      <th>637</th>\n",
       "      <td>35</td>\n",
       "      <td>305</td>\n",
       "      <td>7</td>\n",
       "      <td>6</td>\n",
       "      <td>4</td>\n",
       "      <td>13.0</td>\n",
       "      <td>11.968095</td>\n",
       "      <td>11.5</td>\n",
       "    </tr>\n",
       "    <tr>\n",
       "      <th>638</th>\n",
       "      <td>35</td>\n",
       "      <td>306</td>\n",
       "      <td>7</td>\n",
       "      <td>2</td>\n",
       "      <td>4</td>\n",
       "      <td>14.7</td>\n",
       "      <td>12.529183</td>\n",
       "      <td>12.0</td>\n",
       "    </tr>\n",
       "  </tbody>\n",
       "</table>\n",
       "<p>634 rows × 8 columns</p>\n",
       "</div>"
      ],
      "text/plain": [
       "     MAKE  MODEL  VEHICLE CLASS  TRANSMISSION  FUEL  FUEL CONSUMPTION  \\\n",
       "0       0      0              0             1     3              10.5   \n",
       "1       0      0              0             6     3               9.8   \n",
       "2       0      1              2             4     4              13.7   \n",
       "3       0      2              2             1     4              15.0   \n",
       "4       0    164              9             1     3              11.4   \n",
       "..    ...    ...            ...           ...   ...               ...   \n",
       "634    35    303              7             1     4              14.4   \n",
       "635    35    304              7             1     4              13.6   \n",
       "636    35    305              7             1     4              13.9   \n",
       "637    35    305              7             6     4              13.0   \n",
       "638    35    306              7             2     4              14.7   \n",
       "\n",
       "     COEMISSIONS_boxcox  PowerFactor  \n",
       "0             11.253426          6.4  \n",
       "1             11.057877          6.4  \n",
       "2             12.043417         19.2  \n",
       "3             12.556440         21.0  \n",
       "4             11.491795          7.2  \n",
       "..                  ...          ...  \n",
       "634           12.376774         12.0  \n",
       "635           12.176352         12.0  \n",
       "636           12.176352         11.5  \n",
       "637           11.968095         11.5  \n",
       "638           12.529183         12.0  \n",
       "\n",
       "[634 rows x 8 columns]"
      ]
     },
     "execution_count": 110,
     "metadata": {},
     "output_type": "execute_result"
    }
   ],
   "source": [
    "auto_cleaned"
   ]
  },
  {
   "cell_type": "code",
   "execution_count": 111,
   "metadata": {},
   "outputs": [
    {
     "name": "stdout",
     "output_type": "stream",
     "text": [
      "Model score: 97.97%\n",
      "Geen verbetering, zoek verder\n"
     ]
    }
   ],
   "source": [
    "X = auto_cleaned.drop(['COEMISSIONS_boxcox'],axis=1)\n",
    "y = auto_cleaned['COEMISSIONS_boxcox']\n",
    "\n",
    "\n",
    "X_train, X_test, y_train, y_test = train_test_split(X, y, test_size=0.2, random_state=42)\n",
    "\n",
    "pipeline = Pipeline([\n",
    "        ('scaler', StandardScaler()),       \n",
    "        ('model', LinearRegression())       \n",
    "    ])\n",
    "\n",
    "# Model trainen\n",
    "pipeline.fit(X_train, y_train)\n",
    "\n",
    "# Voorspellingen\n",
    "y_pred = pipeline.predict(X_test)\n",
    "\n",
    "# model score berekenen\n",
    "model_score = pipeline.score(X_test, y_test)\n",
    "\n",
    "# Model score en cross-validatie scores weergeven\n",
    "print(f'Model score: {model_score*100:.2f}%')\n",
    "\n",
    "if model_score >= 0.9857:\n",
    "    # Als een van de scores groter is dan 98,57, print het verschil\n",
    "    model_verschil = model_score - 0.9857\n",
    "    print(f'Eureka! Een verbetering van {model_verschil*100:.2f}%')  \n",
    "else:\n",
    "    print('Geen verbetering, zoek verder')\n",
    "\n"
   ]
  }
 ],
 "metadata": {
  "kernelspec": {
   "display_name": "Python 3",
   "language": "python",
   "name": "python3"
  },
  "language_info": {
   "codemirror_mode": {
    "name": "ipython",
    "version": 3
   },
   "file_extension": ".py",
   "mimetype": "text/x-python",
   "name": "python",
   "nbconvert_exporter": "python",
   "pygments_lexer": "ipython3",
   "version": "3.12.9"
  }
 },
 "nbformat": 4,
 "nbformat_minor": 2
}
