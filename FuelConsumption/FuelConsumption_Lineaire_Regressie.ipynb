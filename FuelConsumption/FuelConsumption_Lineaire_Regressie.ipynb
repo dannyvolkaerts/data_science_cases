{
 "cells": [
  {
   "cell_type": "markdown",
   "metadata": {},
   "source": [
    "Herman Steurs\n",
    "\n",
    "Dataset: https://www.kaggle.com/datasets/krupadharamshi/fuelconsumption\n",
    "\n",
    "Lineair regressie \n",
    "\n",
    "Oefening: lineire regressie uitvoeren op de dataset.\n",
    "Importeren modules\n",
    "Data bekijken met Sweetviz\n",
    "Outliers bekijken \n",
    "Omzetten van categorische waarden (type - transmissie) toevoegen."
   ]
  },
  {
   "cell_type": "code",
   "execution_count": 14,
   "metadata": {},
   "outputs": [
    {
     "name": "stdout",
     "output_type": "stream",
     "text": [
      "<class 'pandas.core.frame.DataFrame'>\n",
      "RangeIndex: 639 entries, 0 to 638\n",
      "Data columns (total 10 columns):\n",
      " #   Column            Non-Null Count  Dtype  \n",
      "---  ------            --------------  -----  \n",
      " 0   Year              639 non-null    int64  \n",
      " 1   MAKE              639 non-null    object \n",
      " 2   MODEL             639 non-null    object \n",
      " 3   VEHICLE CLASS     639 non-null    object \n",
      " 4   ENGINE SIZE       639 non-null    float64\n",
      " 5   CYLINDERS         639 non-null    int64  \n",
      " 6   TRANSMISSION      639 non-null    object \n",
      " 7   FUEL              639 non-null    object \n",
      " 8   FUEL CONSUMPTION  639 non-null    float64\n",
      " 9   COEMISSIONS       639 non-null    int64  \n",
      "dtypes: float64(2), int64(3), object(5)\n",
      "memory usage: 50.1+ KB\n"
     ]
    },
    {
     "data": {
      "text/html": [
       "<div>\n",
       "<style scoped>\n",
       "    .dataframe tbody tr th:only-of-type {\n",
       "        vertical-align: middle;\n",
       "    }\n",
       "\n",
       "    .dataframe tbody tr th {\n",
       "        vertical-align: top;\n",
       "    }\n",
       "\n",
       "    .dataframe thead th {\n",
       "        text-align: right;\n",
       "    }\n",
       "</style>\n",
       "<table border=\"1\" class=\"dataframe\">\n",
       "  <thead>\n",
       "    <tr style=\"text-align: right;\">\n",
       "      <th></th>\n",
       "      <th>Year</th>\n",
       "      <th>ENGINE SIZE</th>\n",
       "      <th>CYLINDERS</th>\n",
       "      <th>FUEL CONSUMPTION</th>\n",
       "      <th>COEMISSIONS</th>\n",
       "    </tr>\n",
       "  </thead>\n",
       "  <tbody>\n",
       "    <tr>\n",
       "      <th>count</th>\n",
       "      <td>639.0</td>\n",
       "      <td>639.000000</td>\n",
       "      <td>639.000000</td>\n",
       "      <td>639.000000</td>\n",
       "      <td>639.000000</td>\n",
       "    </tr>\n",
       "    <tr>\n",
       "      <th>mean</th>\n",
       "      <td>2000.0</td>\n",
       "      <td>3.265728</td>\n",
       "      <td>5.805947</td>\n",
       "      <td>14.713615</td>\n",
       "      <td>296.809077</td>\n",
       "    </tr>\n",
       "    <tr>\n",
       "      <th>std</th>\n",
       "      <td>0.0</td>\n",
       "      <td>1.231012</td>\n",
       "      <td>1.625588</td>\n",
       "      <td>3.307044</td>\n",
       "      <td>65.504178</td>\n",
       "    </tr>\n",
       "    <tr>\n",
       "      <th>min</th>\n",
       "      <td>2000.0</td>\n",
       "      <td>1.000000</td>\n",
       "      <td>3.000000</td>\n",
       "      <td>4.900000</td>\n",
       "      <td>104.000000</td>\n",
       "    </tr>\n",
       "    <tr>\n",
       "      <th>25%</th>\n",
       "      <td>2000.0</td>\n",
       "      <td>2.200000</td>\n",
       "      <td>4.000000</td>\n",
       "      <td>12.500000</td>\n",
       "      <td>253.000000</td>\n",
       "    </tr>\n",
       "    <tr>\n",
       "      <th>50%</th>\n",
       "      <td>2000.0</td>\n",
       "      <td>3.000000</td>\n",
       "      <td>6.000000</td>\n",
       "      <td>14.400000</td>\n",
       "      <td>288.000000</td>\n",
       "    </tr>\n",
       "    <tr>\n",
       "      <th>75%</th>\n",
       "      <td>2000.0</td>\n",
       "      <td>4.300000</td>\n",
       "      <td>6.000000</td>\n",
       "      <td>16.600000</td>\n",
       "      <td>343.000000</td>\n",
       "    </tr>\n",
       "    <tr>\n",
       "      <th>max</th>\n",
       "      <td>2000.0</td>\n",
       "      <td>8.000000</td>\n",
       "      <td>12.000000</td>\n",
       "      <td>30.200000</td>\n",
       "      <td>582.000000</td>\n",
       "    </tr>\n",
       "  </tbody>\n",
       "</table>\n",
       "</div>"
      ],
      "text/plain": [
       "         Year  ENGINE SIZE   CYLINDERS  FUEL CONSUMPTION  COEMISSIONS \n",
       "count   639.0   639.000000  639.000000        639.000000    639.000000\n",
       "mean   2000.0     3.265728    5.805947         14.713615    296.809077\n",
       "std       0.0     1.231012    1.625588          3.307044     65.504178\n",
       "min    2000.0     1.000000    3.000000          4.900000    104.000000\n",
       "25%    2000.0     2.200000    4.000000         12.500000    253.000000\n",
       "50%    2000.0     3.000000    6.000000         14.400000    288.000000\n",
       "75%    2000.0     4.300000    6.000000         16.600000    343.000000\n",
       "max    2000.0     8.000000   12.000000         30.200000    582.000000"
      ]
     },
     "execution_count": 14,
     "metadata": {},
     "output_type": "execute_result"
    }
   ],
   "source": [
    "# Importeren van modules:\n",
    "\n",
    "import os\n",
    "import pandas as pd\n",
    "import numpy as np\n",
    "import matplotlib.pyplot as plt\n",
    "import seaborn as sns\n",
    "from sklearn import linear_model\n",
    "\n",
    "df = pd.read_csv(\"data/FuelConsumption.csv\")\n",
    "\n",
    "df.info()\n",
    "df.describe()"
   ]
  },
  {
   "cell_type": "code",
   "execution_count": 15,
   "metadata": {},
   "outputs": [
    {
     "name": "stdout",
     "output_type": "stream",
     "text": [
      "   Year   MAKE    MODEL VEHICLE CLASS  ENGINE SIZE  CYLINDERS TRANSMISSION  \\\n",
      "0  2000  ACURA    1.6EL       COMPACT          1.6          4           A4   \n",
      "1  2000  ACURA    1.6EL       COMPACT          1.6          4           M5   \n",
      "2  2000  ACURA    3.2TL      MID-SIZE          3.2          6          AS5   \n",
      "3  2000  ACURA    3.5RL      MID-SIZE          3.5          6           A4   \n",
      "4  2000  ACURA  INTEGRA    SUBCOMPACT          1.8          4           A4   \n",
      "\n",
      "  FUEL  FUEL CONSUMPTION  COEMISSIONS   \n",
      "0    X              10.5           216  \n",
      "1    X               9.8           205  \n",
      "2    Z              13.7           265  \n",
      "3    Z              15.0           301  \n",
      "4    X              11.4           230  \n"
     ]
    },
    {
     "data": {
      "application/vnd.jupyter.widget-view+json": {
       "model_id": "f46e712730d247c99c20e2fe739ee69c",
       "version_major": 2,
       "version_minor": 0
      },
      "text/plain": [
       "                                             |          | [  0%]   00:00 -> (? left)"
      ]
     },
     "metadata": {},
     "output_type": "display_data"
    },
    {
     "name": "stdout",
     "output_type": "stream",
     "text": [
      "Report Report.html was generated! NOTEBOOK/COLAB USERS: the web browser MAY not pop up, regardless, the report IS saved in your notebook/colab files.\n"
     ]
    }
   ],
   "source": [
    "# Inlezen data in Sweetviz\n",
    "\n",
    "import sweetviz as sv\n",
    "\n",
    "# Gebruik meer specifieke opties\n",
    "df = pd.read_csv('data/FuelConsumption.csv')\n",
    "\n",
    "\n",
    "# hack voor bug in de uitvoering\n",
    "if not hasattr(np, 'VisibleDeprecationWarning'):\n",
    "    np.VisibleDeprecationWarning = DeprecationWarning\n",
    "\n",
    "# Laat de eerste paar rijen zien\n",
    "print(df.head())\n",
    "\n",
    "report = sv.analyze(df)\n",
    "\n",
    "# Output het rapport als een HTML-bestand, dit opent ook automatisch in je webbrowser\n",
    "report.show_html('Report.html')"
   ]
  },
  {
   "cell_type": "code",
   "execution_count": 17,
   "metadata": {},
   "outputs": [
    {
     "name": "stdout",
     "output_type": "stream",
     "text": [
      "Index(['Year', 'MAKE', 'MODEL', 'VEHICLE CLASS', 'ENGINE SIZE', 'CYLINDERS',\n",
      "       'TRANSMISSION', 'FUEL', 'FUEL CONSUMPTION', 'COEMISSIONS '],\n",
      "      dtype='object')\n"
     ]
    }
   ],
   "source": [
    "print(df.columns)"
   ]
  },
  {
   "cell_type": "code",
   "execution_count": 29,
   "metadata": {},
   "outputs": [
    {
     "data": {
      "image/png": "[encoded data removed]",
      "text/plain": [
       "<Figure size 800x600 with 1 Axes>"
      ]
     },
     "metadata": {},
     "output_type": "display_data"
    }
   ],
   "source": [
    "import matplotlib.pyplot as plt\n",
    "\n",
    "\n",
    "# Boxplot maken voor CO2-emissies\n",
    "plt.figure(figsize=(8, 6))\n",
    "plt.boxplot([df['ENGINE SIZE'], df['CYLINDERS'],df['FUEL CONSUMPTION']], vert=True, patch_artist=True)\n",
    "\n",
    "# Labels en titel\n",
    "plt.ylabel(\"\")\n",
    "plt.title(\"\")\n",
    "\n",
    "# Grafiek tonen\n",
    "plt.show()"
   ]
  },
  {
   "cell_type": "code",
   "execution_count": 30,
   "metadata": {},
   "outputs": [
    {
     "name": "stdout",
     "output_type": "stream",
     "text": [
      "Outliers in Year: []\n",
      "Outliers in ENGINE SIZE: [207, 208]\n",
      "Outliers in CYLINDERS: [50, 207, 208, 211, 212, 213, 214, 215, 433]\n",
      "Outliers in FUEL CONSUMPTION: [209, 210, 211, 212, 213, 214, 215, 328]\n",
      "Outliers in COEMISSIONS : [211, 212, 213, 214, 215, 328]\n"
     ]
    }
   ],
   "source": [
    "import pandas as pd\n",
    "import numpy as np\n",
    "\n",
    "# Laad je DataFrame (voorbeeld)\n",
    "# df = pd.read_csv(\"your_data.csv\")\n",
    "\n",
    "def detect_outliers_iqr(df):\n",
    "    numeric_cols = df.select_dtypes(include=[np.number]).columns  # Selecteer numerieke kolommen\n",
    "    outliers = {}\n",
    "    \n",
    "    for col in numeric_cols:\n",
    "        Q1 = df[col].quantile(0.25)\n",
    "        Q3 = df[col].quantile(0.75)\n",
    "        IQR = Q3 - Q1\n",
    "        lower_bound = Q1 - 1.5 * IQR\n",
    "        upper_bound = Q3 + 1.5 * IQR\n",
    "        \n",
    "        outlier_indices = df[(df[col] < lower_bound) | (df[col] > upper_bound)].index.tolist()\n",
    "        outliers[col] = outlier_indices\n",
    "    \n",
    "    return outliers\n",
    "\n",
    "# Outliers detecteren\n",
    "outlier_dict = detect_outliers_iqr(df)\n",
    "\n",
    "# Print de outlier indices per kolom\n",
    "for col, indices in outlier_dict.items():\n",
    "    print(f\"Outliers in {col}: {indices}\")"
   ]
  },
  {
   "cell_type": "code",
   "execution_count": null,
   "metadata": {},
   "outputs": [],
   "source": [
    "df"
   ]
  }
 ],
 "metadata": {
  "kernelspec": {
   "display_name": "Python 3",
   "language": "python",
   "name": "python3"
  },
  "language_info": {
   "codemirror_mode": {
    "name": "ipython",
    "version": 3
   },
   "file_extension": ".py",
   "mimetype": "text/x-python",
   "name": "python",
   "nbconvert_exporter": "python",
   "pygments_lexer": "ipython3",
   "version": "3.12.9"
  }
 },
 "nbformat": 4,
 "nbformat_minor": 2
}
